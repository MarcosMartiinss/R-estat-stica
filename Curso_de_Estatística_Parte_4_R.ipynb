{
  "cells": [
    {
      "cell_type": "markdown",
      "metadata": {
        "id": "WvMflodMjQKe"
      },
      "source": [
        "# <font color=green size=10>CURSO DE ESTATÍSTICA - PARTE 4</font>\n",
        "***"
      ]
    },
    {
      "cell_type": "markdown",
      "metadata": {
        "id": "cVgsZ_E3jQKg"
      },
      "source": [
        "# <font color=green>1 CONHECENDO OS DADOS</font>\n",
        "***"
      ]
    },
    {
      "cell_type": "markdown",
      "metadata": {
        "id": "TDjqYYNojQKh"
      },
      "source": [
        "## <font color=green>1.1 Dataset do projeto</font>\n",
        "***"
      ]
    },
    {
      "cell_type": "markdown",
      "metadata": {
        "id": "iN1gIbaKjQKh"
      },
      "source": [
        "### Pesquisa Nacional por Amostra de Domicílios - 2015\n",
        "\n",
        "A <b>Pesquisa Nacional por Amostra de Domicílios - PNAD</b> investiga anualmente, de forma permanente, características gerais da população, de educação, trabalho, rendimento e habitação e outras, com periodicidade variável, de acordo com as necessidades de informação para o país, como as características sobre migração, fecundidade, nupcialidade, saúde, segurança alimentar, entre outros temas. O levantamento dessas estatísticas constitui, ao longo dos 49 anos de realização da pesquisa, um importante instrumento para formulação, validação e avaliação de políticas orientadas para o desenvolvimento socioeconômico e a melhoria das condições de vida no Brasil."
      ]
    },
    {
      "cell_type": "markdown",
      "metadata": {
        "id": "U6V7br1RjQKi"
      },
      "source": [
        "### Fonte dos Dados\n",
        "\n",
        "https://ww2.ibge.gov.br/home/estatistica/populacao/trabalhoerendimento/pnad2015/microdados.shtm"
      ]
    },
    {
      "cell_type": "markdown",
      "metadata": {
        "id": "r0Fe_qnzjQKj"
      },
      "source": [
        "### Variáveis utilizadas\n",
        "\n",
        "> ### Renda\n",
        "> ***\n",
        "\n",
        "Rendimento mensal do trabalho principal para pessoas de 10 anos ou mais de idade.\n",
        "\n",
        "> ### Idade\n",
        "> ***\n",
        "\n",
        "Idade do morador na data de referência em anos.\n",
        "\n",
        "> ### Altura (elaboração própria)\n",
        "> ***\n",
        "\n",
        "Altura do morador em metros.\n",
        "\n",
        "> ### UF\n",
        "> ***\n",
        "\n",
        "|Código|Descrição|\n",
        "|---|---|\n",
        "|11|Rondônia|\n",
        "|12|Acre|\n",
        "|13|Amazonas|\n",
        "|14|Roraima|\n",
        "|15|Pará|\n",
        "|16|Amapá|\n",
        "|17|Tocantins|\n",
        "|21|Maranhão|\n",
        "|22|Piauí|\n",
        "|23|Ceará|\n",
        "|24|Rio Grande do Norte|\n",
        "|25|Paraíba|\n",
        "|26|Pernambuco|\n",
        "|27|Alagoas|\n",
        "|28|Sergipe|\n",
        "|29|Bahia|\n",
        "|31|Minas Gerais|\n",
        "|32|Espírito Santo|\n",
        "|33|Rio de Janeiro|\n",
        "|35|São Paulo|\n",
        "|41|Paraná|\n",
        "|42|Santa Catarina|\n",
        "|43|Rio Grande do Sul|\n",
        "|50|Mato Grosso do Sul|\n",
        "|51|Mato Grosso|\n",
        "|52|Goiás|\n",
        "|53|Distrito Federal|\n",
        "\n",
        "> ### Sexo\t\n",
        "> ***\n",
        "\n",
        "|Código|Descrição|\n",
        "|---|---|\n",
        "|0|Masculino|\n",
        "|1|Feminino|\n",
        "\n",
        "> ### Anos de Estudo\n",
        "> ***\n",
        "\n",
        "|Código|Descrição|\n",
        "|---|---|\n",
        "|1|Sem instrução e menos de 1 ano|\n",
        "|2|1 ano|\n",
        "|3|2 anos|\n",
        "|4|3 anos|\n",
        "|5|4 anos|\n",
        "|6|5 anos|\n",
        "|7|6 anos|\n",
        "|8|7 anos|\n",
        "|9|8 anos|\n",
        "|10|9 anos|\n",
        "|11|10 anos|\n",
        "|12|11 anos|\n",
        "|13|12 anos|\n",
        "|14|13 anos|\n",
        "|15|14 anos|\n",
        "|16|15 anos ou mais|\n",
        "|17|Não determinados| \n",
        "||Não aplicável|\n",
        "\n",
        "> ### Cor\n",
        "> ***\n",
        "\n",
        "|Código|Descrição|\n",
        "|---|---|\n",
        "|0|Indígena|\n",
        "|2|Branca|\n",
        "|4|Preta|\n",
        "|6|Amarela|\n",
        "|8|Parda|\n",
        "|9|Sem declaração|"
      ]
    },
    {
      "cell_type": "markdown",
      "metadata": {
        "id": "OK1IQH5cX7Gb"
      },
      "source": [
        "#### <font color='red'>Observação</font>\n",
        "***\n",
        "> Os seguintes tratamentos foram realizados nos dados originais:\n",
        "> 1. Foram eliminados os registros onde a <b>Renda</b> era inválida (999 999 999 999);\n",
        "> 2. Foram eliminados os registros onde a <b>Renda</b> era missing;\n",
        "> 3. Foram considerados somente os registros das <b>Pessoas de Referência</b> de cada domicílio (responsável pelo domicílio)."
      ]
    },
    {
      "cell_type": "markdown",
      "metadata": {
        "id": "MAO1aY6GcajB"
      },
      "source": [
        "### Configurações"
      ]
    },
    {
      "cell_type": "code",
      "execution_count": null,
      "metadata": {
        "id": "8QgOpE-wjQKl",
        "colab": {
          "base_uri": "https://localhost:8080/"
        },
        "outputId": "97118e80-d424-479b-c078-cc12ed058b79"
      },
      "outputs": [
        {
          "output_type": "stream",
          "name": "stderr",
          "text": [
            "\n",
            "Attaching package: ‘dplyr’\n",
            "\n",
            "\n",
            "The following objects are masked from ‘package:stats’:\n",
            "\n",
            "    filter, lag\n",
            "\n",
            "\n",
            "The following objects are masked from ‘package:base’:\n",
            "\n",
            "    intersect, setdiff, setequal, union\n",
            "\n",
            "\n"
          ]
        }
      ],
      "source": [
        "library(ggplot2)\n",
        "library(dplyr)"
      ]
    },
    {
      "cell_type": "code",
      "execution_count": null,
      "metadata": {
        "id": "aBkfYf1QEXbK"
      },
      "outputs": [],
      "source": [
        "options(repr.plot.width = 15, repr.plot.height = 7)"
      ]
    },
    {
      "cell_type": "markdown",
      "metadata": {
        "id": "8Rw70V6ojQKk"
      },
      "source": [
        "### Lendo o dataset do projeto"
      ]
    },
    {
      "cell_type": "code",
      "execution_count": null,
      "metadata": {
        "id": "ufRZ7TLwjQKo"
      },
      "outputs": [],
      "source": [
        "dados = read.csv('dados.csv', sep = ',')"
      ]
    },
    {
      "cell_type": "code",
      "execution_count": null,
      "metadata": {
        "colab": {
          "base_uri": "https://localhost:8080/",
          "height": 286
        },
        "id": "GsC_WhLFjQKq",
        "outputId": "2d5fdceb-ad4e-4c05-fc1b-facd01379a16",
        "scrolled": true
      },
      "outputs": [
        {
          "output_type": "display_data",
          "data": {
            "text/html": [
              "<table class=\"dataframe\">\n",
              "<caption>A data.frame: 6 × 7</caption>\n",
              "<thead>\n",
              "\t<tr><th></th><th scope=col>UF</th><th scope=col>Sexo</th><th scope=col>Idade</th><th scope=col>Cor</th><th scope=col>Anos.de.Estudo</th><th scope=col>Renda</th><th scope=col>Altura</th></tr>\n",
              "\t<tr><th></th><th scope=col>&lt;int&gt;</th><th scope=col>&lt;int&gt;</th><th scope=col>&lt;int&gt;</th><th scope=col>&lt;int&gt;</th><th scope=col>&lt;int&gt;</th><th scope=col>&lt;int&gt;</th><th scope=col>&lt;dbl&gt;</th></tr>\n",
              "</thead>\n",
              "<tbody>\n",
              "\t<tr><th scope=row>1</th><td>11</td><td>0</td><td>23</td><td>8</td><td>12</td><td> 800</td><td>1.603808</td></tr>\n",
              "\t<tr><th scope=row>2</th><td>11</td><td>1</td><td>23</td><td>2</td><td>12</td><td>1150</td><td>1.739790</td></tr>\n",
              "\t<tr><th scope=row>3</th><td>11</td><td>1</td><td>35</td><td>8</td><td>15</td><td> 880</td><td>1.760444</td></tr>\n",
              "\t<tr><th scope=row>4</th><td>11</td><td>0</td><td>46</td><td>2</td><td> 6</td><td>3500</td><td>1.783158</td></tr>\n",
              "\t<tr><th scope=row>5</th><td>11</td><td>1</td><td>47</td><td>8</td><td> 9</td><td> 150</td><td>1.690631</td></tr>\n",
              "\t<tr><th scope=row>6</th><td>11</td><td>1</td><td>34</td><td>8</td><td>12</td><td> 790</td><td>1.637906</td></tr>\n",
              "</tbody>\n",
              "</table>\n"
            ],
            "text/markdown": "\nA data.frame: 6 × 7\n\n| <!--/--> | UF &lt;int&gt; | Sexo &lt;int&gt; | Idade &lt;int&gt; | Cor &lt;int&gt; | Anos.de.Estudo &lt;int&gt; | Renda &lt;int&gt; | Altura &lt;dbl&gt; |\n|---|---|---|---|---|---|---|---|\n| 1 | 11 | 0 | 23 | 8 | 12 |  800 | 1.603808 |\n| 2 | 11 | 1 | 23 | 2 | 12 | 1150 | 1.739790 |\n| 3 | 11 | 1 | 35 | 8 | 15 |  880 | 1.760444 |\n| 4 | 11 | 0 | 46 | 2 |  6 | 3500 | 1.783158 |\n| 5 | 11 | 1 | 47 | 8 |  9 |  150 | 1.690631 |\n| 6 | 11 | 1 | 34 | 8 | 12 |  790 | 1.637906 |\n\n",
            "text/latex": "A data.frame: 6 × 7\n\\begin{tabular}{r|lllllll}\n  & UF & Sexo & Idade & Cor & Anos.de.Estudo & Renda & Altura\\\\\n  & <int> & <int> & <int> & <int> & <int> & <int> & <dbl>\\\\\n\\hline\n\t1 & 11 & 0 & 23 & 8 & 12 &  800 & 1.603808\\\\\n\t2 & 11 & 1 & 23 & 2 & 12 & 1150 & 1.739790\\\\\n\t3 & 11 & 1 & 35 & 8 & 15 &  880 & 1.760444\\\\\n\t4 & 11 & 0 & 46 & 2 &  6 & 3500 & 1.783158\\\\\n\t5 & 11 & 1 & 47 & 8 &  9 &  150 & 1.690631\\\\\n\t6 & 11 & 1 & 34 & 8 & 12 &  790 & 1.637906\\\\\n\\end{tabular}\n",
            "text/plain": [
              "  UF Sexo Idade Cor Anos.de.Estudo Renda Altura  \n",
              "1 11 0    23    8   12              800  1.603808\n",
              "2 11 1    23    2   12             1150  1.739790\n",
              "3 11 1    35    8   15              880  1.760444\n",
              "4 11 0    46    2    6             3500  1.783158\n",
              "5 11 1    47    8    9              150  1.690631\n",
              "6 11 1    34    8   12              790  1.637906"
            ]
          },
          "metadata": {}
        }
      ],
      "source": [
        "head(dados)"
      ]
    },
    {
      "cell_type": "markdown",
      "metadata": {
        "id": "I8SZvx_GcajO"
      },
      "source": [
        "---"
      ]
    },
    {
      "cell_type": "markdown",
      "metadata": {
        "id": "dPTT675fcajP"
      },
      "source": [
        "# <font color=green>2 RODANDO UMA REGRESSÃO LINEAR</font>\n",
        "***"
      ]
    },
    {
      "cell_type": "markdown",
      "metadata": {
        "id": "yRxm2BrFcajQ"
      },
      "source": [
        "## Dataset de exemplo\n",
        "> ### $Y$ = Gasto das famílias\n",
        "> ### $X$ = Renda das Famílias"
      ]
    },
    {
      "cell_type": "code",
      "execution_count": null,
      "metadata": {
        "id": "TvENegfwcajQ"
      },
      "outputs": [],
      "source": [
        "dataset = data.frame(\n",
        "    Y = c(3011, 1305, 1879, 2654, 2849, 1068, 2892, 2543, 3074, 849, 2184, 2943, 1357, 2755, 2163, 3099, 1600, 353, 1778, 740, 2129, 3302, 2412, 2683, 2515, 2395, 2292, 1000, 600, 1864, 3027, 1978, 2791, 1982, 900, 1964, 1247, 3067, 700, 1500, 3110, 2644, 1378, 2601, 501, 1292, 2125, 1431, 2260, 1770),\n",
        "    X = c(9714, 3728, 6062, 8845, 8378, 3338, 8507, 7947, 9915, 1632, 6825, 8918, 4100, 9184, 6180, 9997, 4500, 1069, 5925, 2466, 6083, 9712, 7780, 8383, 7185, 7483, 7640, 2100, 2000, 6012, 8902, 5345, 8210, 5662, 2700, 6546, 2900, 9894, 1500, 5000, 8885, 8813, 3446, 7881, 1164, 3401, 6641, 3329, 6648, 4800)\n",
        ")"
      ]
    },
    {
      "cell_type": "code",
      "execution_count": null,
      "metadata": {
        "colab": {
          "base_uri": "https://localhost:8080/",
          "height": 286
        },
        "id": "HfeWvtFWcajT",
        "outputId": "d020ea33-7010-4dde-fcdd-f9781968e892"
      },
      "outputs": [
        {
          "output_type": "display_data",
          "data": {
            "text/html": [
              "<table class=\"dataframe\">\n",
              "<caption>A data.frame: 6 × 2</caption>\n",
              "<thead>\n",
              "\t<tr><th></th><th scope=col>Y</th><th scope=col>X</th></tr>\n",
              "\t<tr><th></th><th scope=col>&lt;dbl&gt;</th><th scope=col>&lt;dbl&gt;</th></tr>\n",
              "</thead>\n",
              "<tbody>\n",
              "\t<tr><th scope=row>1</th><td>3011</td><td>9714</td></tr>\n",
              "\t<tr><th scope=row>2</th><td>1305</td><td>3728</td></tr>\n",
              "\t<tr><th scope=row>3</th><td>1879</td><td>6062</td></tr>\n",
              "\t<tr><th scope=row>4</th><td>2654</td><td>8845</td></tr>\n",
              "\t<tr><th scope=row>5</th><td>2849</td><td>8378</td></tr>\n",
              "\t<tr><th scope=row>6</th><td>1068</td><td>3338</td></tr>\n",
              "</tbody>\n",
              "</table>\n"
            ],
            "text/markdown": "\nA data.frame: 6 × 2\n\n| <!--/--> | Y &lt;dbl&gt; | X &lt;dbl&gt; |\n|---|---|---|\n| 1 | 3011 | 9714 |\n| 2 | 1305 | 3728 |\n| 3 | 1879 | 6062 |\n| 4 | 2654 | 8845 |\n| 5 | 2849 | 8378 |\n| 6 | 1068 | 3338 |\n\n",
            "text/latex": "A data.frame: 6 × 2\n\\begin{tabular}{r|ll}\n  & Y & X\\\\\n  & <dbl> & <dbl>\\\\\n\\hline\n\t1 & 3011 & 9714\\\\\n\t2 & 1305 & 3728\\\\\n\t3 & 1879 & 6062\\\\\n\t4 & 2654 & 8845\\\\\n\t5 & 2849 & 8378\\\\\n\t6 & 1068 & 3338\\\\\n\\end{tabular}\n",
            "text/plain": [
              "  Y    X   \n",
              "1 3011 9714\n",
              "2 1305 3728\n",
              "3 1879 6062\n",
              "4 2654 8845\n",
              "5 2849 8378\n",
              "6 1068 3338"
            ]
          },
          "metadata": {}
        }
      ],
      "source": [
        "head(dataset)"
      ]
    },
    {
      "cell_type": "code",
      "execution_count": null,
      "metadata": {
        "colab": {
          "base_uri": "https://localhost:8080/",
          "height": 34
        },
        "id": "NGPOPV1VcajX",
        "outputId": "e8f9a340-aec1-4cdc-e5f0-8105416cacec"
      },
      "outputs": [
        {
          "output_type": "display_data",
          "data": {
            "text/html": [
              "50"
            ],
            "text/markdown": "50",
            "text/latex": "50",
            "text/plain": [
              "[1] 50"
            ]
          },
          "metadata": {}
        }
      ],
      "source": [
        "nrow(dataset)"
      ]
    },
    {
      "cell_type": "markdown",
      "metadata": {
        "id": "y0Lt1C-Ccaja"
      },
      "source": [
        "### Estatísticas descritivas"
      ]
    },
    {
      "cell_type": "code",
      "execution_count": null,
      "metadata": {
        "colab": {
          "base_uri": "https://localhost:8080/",
          "height": 146
        },
        "id": "POZusgEccajb",
        "outputId": "5c5a19f8-7de3-494a-8755-3c26f20572cf"
      },
      "outputs": [
        {
          "output_type": "display_data",
          "data": {
            "text/plain": [
              "       Y              X       \n",
              " Min.   : 353   Min.   :1069  \n",
              " 1st Qu.:1362   1st Qu.:3516  \n",
              " Median :2127   Median :6363  \n",
              " Mean   :2011   Mean   :6066  \n",
              " 3rd Qu.:2676   3rd Qu.:8382  \n",
              " Max.   :3302   Max.   :9997  "
            ]
          },
          "metadata": {}
        }
      ],
      "source": [
        "summary(dataset)"
      ]
    },
    {
      "cell_type": "code",
      "execution_count": null,
      "metadata": {
        "colab": {
          "base_uri": "https://localhost:8080/",
          "height": 34
        },
        "id": "SzRq-G2CEXbP",
        "outputId": "43b99c00-d474-4f56-d9cb-f546acb00620"
      },
      "outputs": [
        {
          "output_type": "display_data",
          "data": {
            "text/html": [
              "<style>\n",
              ".dl-inline {width: auto; margin:0; padding: 0}\n",
              ".dl-inline>dt, .dl-inline>dd {float: none; width: auto; display: inline-block}\n",
              ".dl-inline>dt::after {content: \":\\0020\"; padding-right: .5ex}\n",
              ".dl-inline>dt:not(:first-of-type) {padding-left: .5ex}\n",
              "</style><dl class=dl-inline><dt>Y</dt><dd>817.214648195007</dd><dt>X</dt><dd>2707.18781153779</dd></dl>\n"
            ],
            "text/markdown": "Y\n:   817.214648195007X\n:   2707.18781153779\n\n",
            "text/latex": "\\begin{description*}\n\\item[Y] 817.214648195007\n\\item[X] 2707.18781153779\n\\end{description*}\n",
            "text/plain": [
              "        Y         X \n",
              " 817.2146 2707.1878 "
            ]
          },
          "metadata": {}
        }
      ],
      "source": [
        "# calculando o desvio padrão\n",
        "# o numero 1 é para linhas e o 2 é para colunas\n",
        "apply(dataset, 2, sd)"
      ]
    },
    {
      "cell_type": "markdown",
      "metadata": {
        "id": "tVozByhrcajd"
      },
      "source": [
        "### Análise gráfica\n",
        "\n",
        "#### <font color=red>Documentações:\n",
        "\n",
        "- [***package* ggplot2**](https://www.rdocumentation.org/packages/ggplot2)\n",
        "- [**stack**](https://www.rdocumentation.org/packages/utils/versions/3.6.1/topics/stack)"
      ]
    },
    {
      "cell_type": "code",
      "execution_count": null,
      "metadata": {
        "scrolled": true,
        "colab": {
          "base_uri": "https://localhost:8080/",
          "height": 1000
        },
        "id": "51IylE24EXbP",
        "outputId": "a56e7c8a-d98d-4be6-d4e4-399f8d425cc0"
      },
      "outputs": [
        {
          "output_type": "display_data",
          "data": {
            "text/html": [
              "<table class=\"dataframe\">\n",
              "<caption>A data.frame: 100 × 2</caption>\n",
              "<thead>\n",
              "\t<tr><th scope=col>values</th><th scope=col>ind</th></tr>\n",
              "\t<tr><th scope=col>&lt;dbl&gt;</th><th scope=col>&lt;fct&gt;</th></tr>\n",
              "</thead>\n",
              "<tbody>\n",
              "\t<tr><td>3011</td><td>Y</td></tr>\n",
              "\t<tr><td>1305</td><td>Y</td></tr>\n",
              "\t<tr><td>1879</td><td>Y</td></tr>\n",
              "\t<tr><td>2654</td><td>Y</td></tr>\n",
              "\t<tr><td>2849</td><td>Y</td></tr>\n",
              "\t<tr><td>1068</td><td>Y</td></tr>\n",
              "\t<tr><td>2892</td><td>Y</td></tr>\n",
              "\t<tr><td>2543</td><td>Y</td></tr>\n",
              "\t<tr><td>3074</td><td>Y</td></tr>\n",
              "\t<tr><td> 849</td><td>Y</td></tr>\n",
              "\t<tr><td>2184</td><td>Y</td></tr>\n",
              "\t<tr><td>2943</td><td>Y</td></tr>\n",
              "\t<tr><td>1357</td><td>Y</td></tr>\n",
              "\t<tr><td>2755</td><td>Y</td></tr>\n",
              "\t<tr><td>2163</td><td>Y</td></tr>\n",
              "\t<tr><td>3099</td><td>Y</td></tr>\n",
              "\t<tr><td>1600</td><td>Y</td></tr>\n",
              "\t<tr><td> 353</td><td>Y</td></tr>\n",
              "\t<tr><td>1778</td><td>Y</td></tr>\n",
              "\t<tr><td> 740</td><td>Y</td></tr>\n",
              "\t<tr><td>2129</td><td>Y</td></tr>\n",
              "\t<tr><td>3302</td><td>Y</td></tr>\n",
              "\t<tr><td>2412</td><td>Y</td></tr>\n",
              "\t<tr><td>2683</td><td>Y</td></tr>\n",
              "\t<tr><td>2515</td><td>Y</td></tr>\n",
              "\t<tr><td>2395</td><td>Y</td></tr>\n",
              "\t<tr><td>2292</td><td>Y</td></tr>\n",
              "\t<tr><td>1000</td><td>Y</td></tr>\n",
              "\t<tr><td> 600</td><td>Y</td></tr>\n",
              "\t<tr><td>1864</td><td>Y</td></tr>\n",
              "\t<tr><td>⋮</td><td>⋮</td></tr>\n",
              "\t<tr><td>6083</td><td>X</td></tr>\n",
              "\t<tr><td>9712</td><td>X</td></tr>\n",
              "\t<tr><td>7780</td><td>X</td></tr>\n",
              "\t<tr><td>8383</td><td>X</td></tr>\n",
              "\t<tr><td>7185</td><td>X</td></tr>\n",
              "\t<tr><td>7483</td><td>X</td></tr>\n",
              "\t<tr><td>7640</td><td>X</td></tr>\n",
              "\t<tr><td>2100</td><td>X</td></tr>\n",
              "\t<tr><td>2000</td><td>X</td></tr>\n",
              "\t<tr><td>6012</td><td>X</td></tr>\n",
              "\t<tr><td>8902</td><td>X</td></tr>\n",
              "\t<tr><td>5345</td><td>X</td></tr>\n",
              "\t<tr><td>8210</td><td>X</td></tr>\n",
              "\t<tr><td>5662</td><td>X</td></tr>\n",
              "\t<tr><td>2700</td><td>X</td></tr>\n",
              "\t<tr><td>6546</td><td>X</td></tr>\n",
              "\t<tr><td>2900</td><td>X</td></tr>\n",
              "\t<tr><td>9894</td><td>X</td></tr>\n",
              "\t<tr><td>1500</td><td>X</td></tr>\n",
              "\t<tr><td>5000</td><td>X</td></tr>\n",
              "\t<tr><td>8885</td><td>X</td></tr>\n",
              "\t<tr><td>8813</td><td>X</td></tr>\n",
              "\t<tr><td>3446</td><td>X</td></tr>\n",
              "\t<tr><td>7881</td><td>X</td></tr>\n",
              "\t<tr><td>1164</td><td>X</td></tr>\n",
              "\t<tr><td>3401</td><td>X</td></tr>\n",
              "\t<tr><td>6641</td><td>X</td></tr>\n",
              "\t<tr><td>3329</td><td>X</td></tr>\n",
              "\t<tr><td>6648</td><td>X</td></tr>\n",
              "\t<tr><td>4800</td><td>X</td></tr>\n",
              "</tbody>\n",
              "</table>\n"
            ],
            "text/markdown": "\nA data.frame: 100 × 2\n\n| values &lt;dbl&gt; | ind &lt;fct&gt; |\n|---|---|\n| 3011 | Y |\n| 1305 | Y |\n| 1879 | Y |\n| 2654 | Y |\n| 2849 | Y |\n| 1068 | Y |\n| 2892 | Y |\n| 2543 | Y |\n| 3074 | Y |\n|  849 | Y |\n| 2184 | Y |\n| 2943 | Y |\n| 1357 | Y |\n| 2755 | Y |\n| 2163 | Y |\n| 3099 | Y |\n| 1600 | Y |\n|  353 | Y |\n| 1778 | Y |\n|  740 | Y |\n| 2129 | Y |\n| 3302 | Y |\n| 2412 | Y |\n| 2683 | Y |\n| 2515 | Y |\n| 2395 | Y |\n| 2292 | Y |\n| 1000 | Y |\n|  600 | Y |\n| 1864 | Y |\n| ⋮ | ⋮ |\n| 6083 | X |\n| 9712 | X |\n| 7780 | X |\n| 8383 | X |\n| 7185 | X |\n| 7483 | X |\n| 7640 | X |\n| 2100 | X |\n| 2000 | X |\n| 6012 | X |\n| 8902 | X |\n| 5345 | X |\n| 8210 | X |\n| 5662 | X |\n| 2700 | X |\n| 6546 | X |\n| 2900 | X |\n| 9894 | X |\n| 1500 | X |\n| 5000 | X |\n| 8885 | X |\n| 8813 | X |\n| 3446 | X |\n| 7881 | X |\n| 1164 | X |\n| 3401 | X |\n| 6641 | X |\n| 3329 | X |\n| 6648 | X |\n| 4800 | X |\n\n",
            "text/latex": "A data.frame: 100 × 2\n\\begin{tabular}{ll}\n values & ind\\\\\n <dbl> & <fct>\\\\\n\\hline\n\t 3011 & Y\\\\\n\t 1305 & Y\\\\\n\t 1879 & Y\\\\\n\t 2654 & Y\\\\\n\t 2849 & Y\\\\\n\t 1068 & Y\\\\\n\t 2892 & Y\\\\\n\t 2543 & Y\\\\\n\t 3074 & Y\\\\\n\t  849 & Y\\\\\n\t 2184 & Y\\\\\n\t 2943 & Y\\\\\n\t 1357 & Y\\\\\n\t 2755 & Y\\\\\n\t 2163 & Y\\\\\n\t 3099 & Y\\\\\n\t 1600 & Y\\\\\n\t  353 & Y\\\\\n\t 1778 & Y\\\\\n\t  740 & Y\\\\\n\t 2129 & Y\\\\\n\t 3302 & Y\\\\\n\t 2412 & Y\\\\\n\t 2683 & Y\\\\\n\t 2515 & Y\\\\\n\t 2395 & Y\\\\\n\t 2292 & Y\\\\\n\t 1000 & Y\\\\\n\t  600 & Y\\\\\n\t 1864 & Y\\\\\n\t ⋮ & ⋮\\\\\n\t 6083 & X\\\\\n\t 9712 & X\\\\\n\t 7780 & X\\\\\n\t 8383 & X\\\\\n\t 7185 & X\\\\\n\t 7483 & X\\\\\n\t 7640 & X\\\\\n\t 2100 & X\\\\\n\t 2000 & X\\\\\n\t 6012 & X\\\\\n\t 8902 & X\\\\\n\t 5345 & X\\\\\n\t 8210 & X\\\\\n\t 5662 & X\\\\\n\t 2700 & X\\\\\n\t 6546 & X\\\\\n\t 2900 & X\\\\\n\t 9894 & X\\\\\n\t 1500 & X\\\\\n\t 5000 & X\\\\\n\t 8885 & X\\\\\n\t 8813 & X\\\\\n\t 3446 & X\\\\\n\t 7881 & X\\\\\n\t 1164 & X\\\\\n\t 3401 & X\\\\\n\t 6641 & X\\\\\n\t 3329 & X\\\\\n\t 6648 & X\\\\\n\t 4800 & X\\\\\n\\end{tabular}\n",
            "text/plain": [
              "    values ind\n",
              "1   3011   Y  \n",
              "2   1305   Y  \n",
              "3   1879   Y  \n",
              "4   2654   Y  \n",
              "5   2849   Y  \n",
              "6   1068   Y  \n",
              "7   2892   Y  \n",
              "8   2543   Y  \n",
              "9   3074   Y  \n",
              "10   849   Y  \n",
              "11  2184   Y  \n",
              "12  2943   Y  \n",
              "13  1357   Y  \n",
              "14  2755   Y  \n",
              "15  2163   Y  \n",
              "16  3099   Y  \n",
              "17  1600   Y  \n",
              "18   353   Y  \n",
              "19  1778   Y  \n",
              "20   740   Y  \n",
              "21  2129   Y  \n",
              "22  3302   Y  \n",
              "23  2412   Y  \n",
              "24  2683   Y  \n",
              "25  2515   Y  \n",
              "26  2395   Y  \n",
              "27  2292   Y  \n",
              "28  1000   Y  \n",
              "29   600   Y  \n",
              "30  1864   Y  \n",
              "⋮   ⋮      ⋮  \n",
              "71  6083   X  \n",
              "72  9712   X  \n",
              "73  7780   X  \n",
              "74  8383   X  \n",
              "75  7185   X  \n",
              "76  7483   X  \n",
              "77  7640   X  \n",
              "78  2100   X  \n",
              "79  2000   X  \n",
              "80  6012   X  \n",
              "81  8902   X  \n",
              "82  5345   X  \n",
              "83  8210   X  \n",
              "84  5662   X  \n",
              "85  2700   X  \n",
              "86  6546   X  \n",
              "87  2900   X  \n",
              "88  9894   X  \n",
              "89  1500   X  \n",
              "90  5000   X  \n",
              "91  8885   X  \n",
              "92  8813   X  \n",
              "93  3446   X  \n",
              "94  7881   X  \n",
              "95  1164   X  \n",
              "96  3401   X  \n",
              "97  6641   X  \n",
              "98  3329   X  \n",
              "99  6648   X  \n",
              "100 4800   X  "
            ]
          },
          "metadata": {}
        }
      ],
      "source": [
        "# criando boxplot\n",
        "stack(dataset) # ele empilha as variaveis "
      ]
    },
    {
      "cell_type": "code",
      "execution_count": null,
      "metadata": {
        "colab": {
          "base_uri": "https://localhost:8080/",
          "height": 437
        },
        "id": "xPtAowUacajf",
        "outputId": "246b90b1-cb75-433b-8df0-f7161d0f359c"
      },
      "outputs": [
        {
          "output_type": "display_data",
          "data": {
            "text/plain": [
              "plot without title"
            ],
            "image/png": "[encoded data removed]"
          },
          "metadata": {
            "image/png": {
              "width": 900,
              "height": 420
            }
          }
        }
      ],
      "source": [
        "ggplot(stack(dataset), aes(x = ind, y = values)) + \n",
        "    stat_boxplot(geom ='errorbar', width = 0.4) + \n",
        "    geom_boxplot(fill = c('#3274A1', \"orange\")) + \n",
        "    coord_flip() +\n",
        "    xlab(\"Variáveis\") + \n",
        "    ylab(\"Reais (R$)\") + \n",
        "    ggtitle('Box-plot') +\n",
        "    theme(\n",
        "        plot.title=element_text(size = 14, hjust = 0.5),\n",
        "        axis.title.y=element_text(size = 12, vjust = +0.2),\n",
        "        axis.title.x=element_text(size = 12, vjust = -0.2),\n",
        "        axis.text.y=element_text(size = 10),\n",
        "        axis.text.x=element_text(size = 10),\n",
        "    )"
      ]
    },
    {
      "cell_type": "code",
      "execution_count": null,
      "metadata": {
        "colab": {
          "base_uri": "https://localhost:8080/",
          "height": 474
        },
        "id": "LlJZLAXdEXbP",
        "outputId": "aa7731ed-e9d1-40b3-ac0e-c48f53cb1e65"
      },
      "outputs": [
        {
          "output_type": "stream",
          "name": "stderr",
          "text": [
            "`geom_smooth()` using formula 'y ~ x'\n",
            "\n"
          ]
        },
        {
          "output_type": "display_data",
          "data": {
            "text/plain": [
              "plot without title"
            ],
            "image/png": "[encoded data removed]"
          },
          "metadata": {
            "image/png": {
              "width": 900,
              "height": 420
            }
          }
        }
      ],
      "source": [
        "ggplot(data = dataset, aes(x = X, y = Y)) + \n",
        "    geom_point(size = 1.5, stroke = 0) + \n",
        "    geom_smooth(method = lm) +\n",
        "    xlab(\"Renda das Famílias\") + \n",
        "    ylab(\"Gasto das Famílias\") + \n",
        "    ggtitle('Reta de Regressão - Gasto X Renda') +\n",
        "    theme(\n",
        "        plot.title=element_text(size = 12, hjust = 0.5),\n",
        "        axis.title.y=element_text(size = 10, vjust = +0.2),\n",
        "        axis.title.x=element_text(size = 10, vjust = -0.2),\n",
        "        axis.text.y=element_text(size = 10),\n",
        "        axis.text.x=element_text(size = 10),\n",
        "    )"
      ]
    },
    {
      "cell_type": "markdown",
      "metadata": {
        "id": "c2OpdF85cajl"
      },
      "source": [
        "### Análise da correlação\n",
        "\n",
        "#### <font color=red>Documentações:\n",
        "\n",
        "- [**cor**](https://www.rdocumentation.org/packages/stats/versions/3.6.1/topics/cor)"
      ]
    },
    {
      "cell_type": "code",
      "execution_count": null,
      "metadata": {
        "colab": {
          "base_uri": "https://localhost:8080/",
          "height": 129
        },
        "id": "eQEiUOdccajm",
        "outputId": "b9f9465e-6741-43ec-9317-ed983808f9d5",
        "scrolled": true
      },
      "outputs": [
        {
          "output_type": "display_data",
          "data": {
            "text/html": [
              "<table class=\"dataframe\">\n",
              "<caption>A matrix: 2 × 2 of type dbl</caption>\n",
              "<thead>\n",
              "\t<tr><th></th><th scope=col>Y</th><th scope=col>X</th></tr>\n",
              "</thead>\n",
              "<tbody>\n",
              "\t<tr><th scope=row>Y</th><td>1.0000000</td><td>0.9848352</td></tr>\n",
              "\t<tr><th scope=row>X</th><td>0.9848352</td><td>1.0000000</td></tr>\n",
              "</tbody>\n",
              "</table>\n"
            ],
            "text/markdown": "\nA matrix: 2 × 2 of type dbl\n\n| <!--/--> | Y | X |\n|---|---|---|\n| Y | 1.0000000 | 0.9848352 |\n| X | 0.9848352 | 1.0000000 |\n\n",
            "text/latex": "A matrix: 2 × 2 of type dbl\n\\begin{tabular}{r|ll}\n  & Y & X\\\\\n\\hline\n\tY & 1.0000000 & 0.9848352\\\\\n\tX & 0.9848352 & 1.0000000\\\\\n\\end{tabular}\n",
            "text/plain": [
              "  Y         X        \n",
              "Y 1.0000000 0.9848352\n",
              "X 0.9848352 1.0000000"
            ]
          },
          "metadata": {}
        }
      ],
      "source": [
        "# buscando um número para medir a intensidade da relação entre as duas variáveis\n",
        "# vamos usar o coeficiente de correlação de person\n",
        "# esse número de correlação vai de -1 a 1, quanto mais proximo de 1\n",
        "# mais forte é a correlação, então vimos que Y e Y são 1, pois é uma relação\n",
        "# com a própria variável, mas a relação de Y e X é 0.98, é quase 1, então essas\n",
        "# duas variáveis, são bem forte juntas e quanto mais próximo de 0, menos intenso\n",
        "# são as variáveis e quanto mais próximo de -1, ela são práticamente contrárias\n",
        "cor(dataset)"
      ]
    },
    {
      "cell_type": "markdown",
      "metadata": {
        "id": "cPOlHTg2cajo"
      },
      "source": [
        "### Modelo de regressão linear simples\n",
        "\n",
        "#### <font color=red>Documentações:\n",
        "\n",
        "- [**lm**](https://www.rdocumentation.org/packages/stats/versions/3.6.1/topics/lm)"
      ]
    },
    {
      "cell_type": "markdown",
      "metadata": {
        "id": "Dkg9S5tWcajy"
      },
      "source": [
        "### Estimando o modelo"
      ]
    },
    {
      "cell_type": "code",
      "execution_count": null,
      "metadata": {
        "colab": {
          "base_uri": "https://localhost:8080/",
          "height": 146
        },
        "id": "9O0dhVTfcajz",
        "outputId": "4117d638-631e-4406-bb14-1428f04bf2cd"
      },
      "outputs": [
        {
          "output_type": "display_data",
          "data": {
            "text/plain": [
              "\n",
              "Call:\n",
              "lm(formula = Y ~ X, data = dataset)\n",
              "\n",
              "Coefficients:\n",
              "(Intercept)            X  \n",
              "   207.9033       0.2973  \n"
            ]
          },
          "metadata": {}
        }
      ],
      "source": [
        "resultado_regressao <- lm(formula = Y ~ X, data = dataset)\n",
        "resultado_regressao"
      ]
    },
    {
      "cell_type": "code",
      "execution_count": null,
      "metadata": {
        "colab": {
          "base_uri": "https://localhost:8080/",
          "height": 349
        },
        "id": "8W1oGgNecaj0",
        "outputId": "8abb5aa7-4d01-4950-a591-7dfb706c1689"
      },
      "outputs": [
        {
          "output_type": "display_data",
          "data": {
            "text/plain": [
              "\n",
              "Call:\n",
              "lm(formula = Y ~ X, data = dataset)\n",
              "\n",
              "Residuals:\n",
              "    Min      1Q  Median      3Q     Max \n",
              "-202.49 -125.96  -22.28  140.53  260.67 \n",
              "\n",
              "Coefficients:\n",
              "             Estimate Std. Error t value Pr(>|t|)    \n",
              "(Intercept) 2.079e+02  5.013e+01   4.148 0.000136 ***\n",
              "X           2.973e-01  7.559e-03  39.328  < 2e-16 ***\n",
              "---\n",
              "Signif. codes:  0 ‘***’ 0.001 ‘**’ 0.01 ‘*’ 0.05 ‘.’ 0.1 ‘ ’ 1\n",
              "\n",
              "Residual standard error: 143.2 on 48 degrees of freedom\n",
              "Multiple R-squared:  0.9699,\tAdjusted R-squared:  0.9693 \n",
              "F-statistic:  1547 on 1 and 48 DF,  p-value: < 2.2e-16\n"
            ]
          },
          "metadata": {}
        }
      ],
      "source": [
        "summary(resultado_regressao)"
      ]
    },
    {
      "cell_type": "markdown",
      "metadata": {
        "id": "eP2wm9fBcaj2"
      },
      "source": [
        "### Obtendo as previsões dentro da amostra"
      ]
    },
    {
      "cell_type": "code",
      "execution_count": null,
      "metadata": {
        "scrolled": true,
        "colab": {
          "base_uri": "https://localhost:8080/",
          "height": 1000
        },
        "id": "avZ9QEb6EXbR",
        "outputId": "23db201f-d0d6-4cd1-afc9-1c47db2f201c"
      },
      "outputs": [
        {
          "output_type": "display_data",
          "data": {
            "text/html": [
              "<table class=\"dataframe\">\n",
              "<caption>A data.frame: 50 × 3</caption>\n",
              "<thead>\n",
              "\t<tr><th scope=col>Y</th><th scope=col>X</th><th scope=col>Y_previsto</th></tr>\n",
              "\t<tr><th scope=col>&lt;dbl&gt;</th><th scope=col>&lt;dbl&gt;</th><th scope=col>&lt;dbl&gt;</th></tr>\n",
              "</thead>\n",
              "<tbody>\n",
              "\t<tr><td>3011</td><td>9714</td><td>3095.7851</td></tr>\n",
              "\t<tr><td>1305</td><td>3728</td><td>1316.2030</td></tr>\n",
              "\t<tr><td>1879</td><td>6062</td><td>2010.0795</td></tr>\n",
              "\t<tr><td>2654</td><td>8845</td><td>2837.4395</td></tr>\n",
              "\t<tr><td>2849</td><td>8378</td><td>2698.6047</td></tr>\n",
              "\t<tr><td>1068</td><td>3338</td><td>1200.2596</td></tr>\n",
              "\t<tr><td>2892</td><td>8507</td><td>2736.9552</td></tr>\n",
              "\t<tr><td>2543</td><td>7947</td><td>2570.4724</td></tr>\n",
              "\t<tr><td>3074</td><td>9915</td><td>3155.5405</td></tr>\n",
              "\t<tr><td> 849</td><td>1632</td><td> 693.0817</td></tr>\n",
              "\t<tr><td>2184</td><td>6825</td><td>2236.9123</td></tr>\n",
              "\t<tr><td>2943</td><td>8918</td><td>2859.1417</td></tr>\n",
              "\t<tr><td>1357</td><td>4100</td><td>1426.7951</td></tr>\n",
              "\t<tr><td>2755</td><td>9184</td><td>2938.2210</td></tr>\n",
              "\t<tr><td>2163</td><td>6180</td><td>2045.1598</td></tr>\n",
              "\t<tr><td>3099</td><td>9997</td><td>3179.9184</td></tr>\n",
              "\t<tr><td>1600</td><td>4500</td><td>1545.7114</td></tr>\n",
              "\t<tr><td> 353</td><td>1069</td><td> 525.7071</td></tr>\n",
              "\t<tr><td>1778</td><td>5925</td><td>1969.3507</td></tr>\n",
              "\t<tr><td> 740</td><td>2466</td><td> 941.0222</td></tr>\n",
              "\t<tr><td>2129</td><td>6083</td><td>2016.3226</td></tr>\n",
              "\t<tr><td>3302</td><td>9712</td><td>3095.1905</td></tr>\n",
              "\t<tr><td>2412</td><td>7780</td><td>2520.8249</td></tr>\n",
              "\t<tr><td>2683</td><td>8383</td><td>2700.0912</td></tr>\n",
              "\t<tr><td>2515</td><td>7185</td><td>2343.9369</td></tr>\n",
              "\t<tr><td>2395</td><td>7483</td><td>2432.5296</td></tr>\n",
              "\t<tr><td>2292</td><td>7640</td><td>2479.2042</td></tr>\n",
              "\t<tr><td>1000</td><td>2100</td><td> 832.2138</td></tr>\n",
              "\t<tr><td> 600</td><td>2000</td><td> 802.4847</td></tr>\n",
              "\t<tr><td>1864</td><td>6012</td><td>1995.2149</td></tr>\n",
              "\t<tr><td>3027</td><td>8902</td><td>2854.3850</td></tr>\n",
              "\t<tr><td>1978</td><td>5345</td><td>1796.9221</td></tr>\n",
              "\t<tr><td>2791</td><td>8210</td><td>2648.6599</td></tr>\n",
              "\t<tr><td>1982</td><td>5662</td><td>1891.1632</td></tr>\n",
              "\t<tr><td> 900</td><td>2700</td><td>1010.5882</td></tr>\n",
              "\t<tr><td>1964</td><td>6546</td><td>2153.9682</td></tr>\n",
              "\t<tr><td>1247</td><td>2900</td><td>1070.0463</td></tr>\n",
              "\t<tr><td>3067</td><td>9894</td><td>3149.2974</td></tr>\n",
              "\t<tr><td> 700</td><td>1500</td><td> 653.8394</td></tr>\n",
              "\t<tr><td>1500</td><td>5000</td><td>1694.3568</td></tr>\n",
              "\t<tr><td>3110</td><td>8885</td><td>2849.3311</td></tr>\n",
              "\t<tr><td>2644</td><td>8813</td><td>2827.9262</td></tr>\n",
              "\t<tr><td>1378</td><td>3446</td><td>1232.3670</td></tr>\n",
              "\t<tr><td>2601</td><td>7881</td><td>2550.8512</td></tr>\n",
              "\t<tr><td> 501</td><td>1164</td><td> 553.9497</td></tr>\n",
              "\t<tr><td>1292</td><td>3401</td><td>1218.9890</td></tr>\n",
              "\t<tr><td>2125</td><td>6641</td><td>2182.2108</td></tr>\n",
              "\t<tr><td>1431</td><td>3329</td><td>1197.5840</td></tr>\n",
              "\t<tr><td>2260</td><td>6648</td><td>2184.2918</td></tr>\n",
              "\t<tr><td>1770</td><td>4800</td><td>1634.8986</td></tr>\n",
              "</tbody>\n",
              "</table>\n"
            ],
            "text/markdown": "\nA data.frame: 50 × 3\n\n| Y &lt;dbl&gt; | X &lt;dbl&gt; | Y_previsto &lt;dbl&gt; |\n|---|---|---|\n| 3011 | 9714 | 3095.7851 |\n| 1305 | 3728 | 1316.2030 |\n| 1879 | 6062 | 2010.0795 |\n| 2654 | 8845 | 2837.4395 |\n| 2849 | 8378 | 2698.6047 |\n| 1068 | 3338 | 1200.2596 |\n| 2892 | 8507 | 2736.9552 |\n| 2543 | 7947 | 2570.4724 |\n| 3074 | 9915 | 3155.5405 |\n|  849 | 1632 |  693.0817 |\n| 2184 | 6825 | 2236.9123 |\n| 2943 | 8918 | 2859.1417 |\n| 1357 | 4100 | 1426.7951 |\n| 2755 | 9184 | 2938.2210 |\n| 2163 | 6180 | 2045.1598 |\n| 3099 | 9997 | 3179.9184 |\n| 1600 | 4500 | 1545.7114 |\n|  353 | 1069 |  525.7071 |\n| 1778 | 5925 | 1969.3507 |\n|  740 | 2466 |  941.0222 |\n| 2129 | 6083 | 2016.3226 |\n| 3302 | 9712 | 3095.1905 |\n| 2412 | 7780 | 2520.8249 |\n| 2683 | 8383 | 2700.0912 |\n| 2515 | 7185 | 2343.9369 |\n| 2395 | 7483 | 2432.5296 |\n| 2292 | 7640 | 2479.2042 |\n| 1000 | 2100 |  832.2138 |\n|  600 | 2000 |  802.4847 |\n| 1864 | 6012 | 1995.2149 |\n| 3027 | 8902 | 2854.3850 |\n| 1978 | 5345 | 1796.9221 |\n| 2791 | 8210 | 2648.6599 |\n| 1982 | 5662 | 1891.1632 |\n|  900 | 2700 | 1010.5882 |\n| 1964 | 6546 | 2153.9682 |\n| 1247 | 2900 | 1070.0463 |\n| 3067 | 9894 | 3149.2974 |\n|  700 | 1500 |  653.8394 |\n| 1500 | 5000 | 1694.3568 |\n| 3110 | 8885 | 2849.3311 |\n| 2644 | 8813 | 2827.9262 |\n| 1378 | 3446 | 1232.3670 |\n| 2601 | 7881 | 2550.8512 |\n|  501 | 1164 |  553.9497 |\n| 1292 | 3401 | 1218.9890 |\n| 2125 | 6641 | 2182.2108 |\n| 1431 | 3329 | 1197.5840 |\n| 2260 | 6648 | 2184.2918 |\n| 1770 | 4800 | 1634.8986 |\n\n",
            "text/latex": "A data.frame: 50 × 3\n\\begin{tabular}{lll}\n Y & X & Y\\_previsto\\\\\n <dbl> & <dbl> & <dbl>\\\\\n\\hline\n\t 3011 & 9714 & 3095.7851\\\\\n\t 1305 & 3728 & 1316.2030\\\\\n\t 1879 & 6062 & 2010.0795\\\\\n\t 2654 & 8845 & 2837.4395\\\\\n\t 2849 & 8378 & 2698.6047\\\\\n\t 1068 & 3338 & 1200.2596\\\\\n\t 2892 & 8507 & 2736.9552\\\\\n\t 2543 & 7947 & 2570.4724\\\\\n\t 3074 & 9915 & 3155.5405\\\\\n\t  849 & 1632 &  693.0817\\\\\n\t 2184 & 6825 & 2236.9123\\\\\n\t 2943 & 8918 & 2859.1417\\\\\n\t 1357 & 4100 & 1426.7951\\\\\n\t 2755 & 9184 & 2938.2210\\\\\n\t 2163 & 6180 & 2045.1598\\\\\n\t 3099 & 9997 & 3179.9184\\\\\n\t 1600 & 4500 & 1545.7114\\\\\n\t  353 & 1069 &  525.7071\\\\\n\t 1778 & 5925 & 1969.3507\\\\\n\t  740 & 2466 &  941.0222\\\\\n\t 2129 & 6083 & 2016.3226\\\\\n\t 3302 & 9712 & 3095.1905\\\\\n\t 2412 & 7780 & 2520.8249\\\\\n\t 2683 & 8383 & 2700.0912\\\\\n\t 2515 & 7185 & 2343.9369\\\\\n\t 2395 & 7483 & 2432.5296\\\\\n\t 2292 & 7640 & 2479.2042\\\\\n\t 1000 & 2100 &  832.2138\\\\\n\t  600 & 2000 &  802.4847\\\\\n\t 1864 & 6012 & 1995.2149\\\\\n\t 3027 & 8902 & 2854.3850\\\\\n\t 1978 & 5345 & 1796.9221\\\\\n\t 2791 & 8210 & 2648.6599\\\\\n\t 1982 & 5662 & 1891.1632\\\\\n\t  900 & 2700 & 1010.5882\\\\\n\t 1964 & 6546 & 2153.9682\\\\\n\t 1247 & 2900 & 1070.0463\\\\\n\t 3067 & 9894 & 3149.2974\\\\\n\t  700 & 1500 &  653.8394\\\\\n\t 1500 & 5000 & 1694.3568\\\\\n\t 3110 & 8885 & 2849.3311\\\\\n\t 2644 & 8813 & 2827.9262\\\\\n\t 1378 & 3446 & 1232.3670\\\\\n\t 2601 & 7881 & 2550.8512\\\\\n\t  501 & 1164 &  553.9497\\\\\n\t 1292 & 3401 & 1218.9890\\\\\n\t 2125 & 6641 & 2182.2108\\\\\n\t 1431 & 3329 & 1197.5840\\\\\n\t 2260 & 6648 & 2184.2918\\\\\n\t 1770 & 4800 & 1634.8986\\\\\n\\end{tabular}\n",
            "text/plain": [
              "   Y    X    Y_previsto\n",
              "1  3011 9714 3095.7851 \n",
              "2  1305 3728 1316.2030 \n",
              "3  1879 6062 2010.0795 \n",
              "4  2654 8845 2837.4395 \n",
              "5  2849 8378 2698.6047 \n",
              "6  1068 3338 1200.2596 \n",
              "7  2892 8507 2736.9552 \n",
              "8  2543 7947 2570.4724 \n",
              "9  3074 9915 3155.5405 \n",
              "10  849 1632  693.0817 \n",
              "11 2184 6825 2236.9123 \n",
              "12 2943 8918 2859.1417 \n",
              "13 1357 4100 1426.7951 \n",
              "14 2755 9184 2938.2210 \n",
              "15 2163 6180 2045.1598 \n",
              "16 3099 9997 3179.9184 \n",
              "17 1600 4500 1545.7114 \n",
              "18  353 1069  525.7071 \n",
              "19 1778 5925 1969.3507 \n",
              "20  740 2466  941.0222 \n",
              "21 2129 6083 2016.3226 \n",
              "22 3302 9712 3095.1905 \n",
              "23 2412 7780 2520.8249 \n",
              "24 2683 8383 2700.0912 \n",
              "25 2515 7185 2343.9369 \n",
              "26 2395 7483 2432.5296 \n",
              "27 2292 7640 2479.2042 \n",
              "28 1000 2100  832.2138 \n",
              "29  600 2000  802.4847 \n",
              "30 1864 6012 1995.2149 \n",
              "31 3027 8902 2854.3850 \n",
              "32 1978 5345 1796.9221 \n",
              "33 2791 8210 2648.6599 \n",
              "34 1982 5662 1891.1632 \n",
              "35  900 2700 1010.5882 \n",
              "36 1964 6546 2153.9682 \n",
              "37 1247 2900 1070.0463 \n",
              "38 3067 9894 3149.2974 \n",
              "39  700 1500  653.8394 \n",
              "40 1500 5000 1694.3568 \n",
              "41 3110 8885 2849.3311 \n",
              "42 2644 8813 2827.9262 \n",
              "43 1378 3446 1232.3670 \n",
              "44 2601 7881 2550.8512 \n",
              "45  501 1164  553.9497 \n",
              "46 1292 3401 1218.9890 \n",
              "47 2125 6641 2182.2108 \n",
              "48 1431 3329 1197.5840 \n",
              "49 2260 6648 2184.2918 \n",
              "50 1770 4800 1634.8986 "
            ]
          },
          "metadata": {}
        }
      ],
      "source": [
        "dataset['Y_previsto'] <- resultado_regressao$fitted.values\n",
        "dataset"
      ]
    },
    {
      "cell_type": "markdown",
      "metadata": {
        "id": "QTCRxEClcaj-"
      },
      "source": [
        "---"
      ]
    },
    {
      "cell_type": "markdown",
      "metadata": {
        "id": "DU3ADw3fdeS1"
      },
      "source": [
        "# <font color=green>3 CORRELAÇÃO</font>\n",
        "***"
      ]
    },
    {
      "cell_type": "markdown",
      "metadata": {
        "id": "_8zdNQvrcakA"
      },
      "source": [
        "## <font color=green>3.1 Covariância</font>\n",
        "***"
      ]
    },
    {
      "cell_type": "markdown",
      "metadata": {
        "id": "E5xyRLiYcakB"
      },
      "source": [
        "A covariância, ou variância conjunta, é a medida do grau de interdependência (ou inter-relação) numérica entre duas variáveis. É definida da seguinte maneira:"
      ]
    },
    {
      "cell_type": "markdown",
      "metadata": {
        "id": "z66qdhEPcakB"
      },
      "source": [
        "### Covariância populacional\n",
        "\n",
        "# $$\\sigma_{xy} = \\frac 1n\\sum_{i=1}^{n}(X_i-\\mu_x)(Y_i-\\mu_y)$$"
      ]
    },
    {
      "cell_type": "markdown",
      "metadata": {
        "id": "Q5Z7pL4ncakB"
      },
      "source": [
        "### Covariância amostral\n",
        "\n",
        "# $$S_{xy} = \\frac 1{n-1}\\sum_{i=1}^{n}(X_i-\\bar{X})(Y_i-\\bar{Y})$$"
      ]
    },
    {
      "cell_type": "markdown",
      "metadata": {
        "id": "jvkkTKbxEXbS"
      },
      "source": [
        "#### <font color=red>Documentações:\n",
        "\n",
        "- [**sample**](https://www.rdocumentation.org/packages/dplyr/versions/0.7.8/topics/sample)\n",
        "- [**cov**](https://www.rdocumentation.org/packages/stats/versions/3.6.1/topics/cor)"
      ]
    },
    {
      "cell_type": "markdown",
      "metadata": {
        "id": "jL1SrReTcakC"
      },
      "source": [
        "### Gerando uma amostra aleatória para facilitar o entendimento"
      ]
    },
    {
      "cell_type": "code",
      "execution_count": null,
      "metadata": {
        "id": "aZcU-SHcEXbS"
      },
      "outputs": [],
      "source": [
        "amostra <- data.frame(\n",
        "    Idade = c(39, 29, 21, 49, 29, 34, 32, 32, 24, 53, 28, 28, 46, 58, 41, 43, 31, 55, 52, 54),\n",
        "    Renda = c(1500, 1000, 3500, 1570, 600, 1200, 2000, 500, 1300, 600, 1500, 3000, 0, 550, 1500, 1600, 746, 1000, 0, 1400),\n",
        "    Anos.de.Estudo = c(6, 7, 12, 13, 9, 12, 12, 6, 7, 5, 7, 16, 12, 3, 12, 9, 1, 6, 1, 6),\n",
        "    Altura = c(1.6162, 1.7525, 1.6940, 1.8041, 1.7854, 1.7468, 1.6633, 1.6937, 1.6569, 1.6671, 1.6786, 1.6730, 1.7853, 1.6090, 1.7833, 1.6709, 1.6392, 1.6861, 1.7107, 1.7288)\n",
        ")"
      ]
    },
    {
      "cell_type": "markdown",
      "metadata": {
        "id": "ZssTPkXGcakD"
      },
      "source": [
        "### Obtendo a matriz de covariância"
      ]
    },
    {
      "cell_type": "code",
      "execution_count": null,
      "metadata": {
        "colab": {
          "base_uri": "https://localhost:8080/",
          "height": 192
        },
        "id": "9EEhBGqBEXbT",
        "outputId": "b9f9b6d6-313d-495b-bb11-fc903b81da5f"
      },
      "outputs": [
        {
          "output_type": "display_data",
          "data": {
            "text/html": [
              "<table class=\"dataframe\">\n",
              "<caption>A matrix: 4 × 4 of type dbl</caption>\n",
              "<thead>\n",
              "\t<tr><th></th><th scope=col>Idade</th><th scope=col>Renda</th><th scope=col>Anos.de.Estudo</th><th scope=col>Altura</th></tr>\n",
              "</thead>\n",
              "<tbody>\n",
              "\t<tr><th scope=row>Idade</th><td> 1.344105e+02</td><td> -4947.96842</td><td> -16.4105263</td><td> 0.016483684</td></tr>\n",
              "\t<tr><th scope=row>Renda</th><td>-4.947968e+03</td><td>764668.32632</td><td>2209.0210526</td><td>-7.139630000</td></tr>\n",
              "\t<tr><th scope=row>Anos.de.Estudo</th><td>-1.641053e+01</td><td>  2209.02105</td><td>  16.9368421</td><td> 0.111258421</td></tr>\n",
              "\t<tr><th scope=row>Altura</th><td> 1.648368e-02</td><td>    -7.13963</td><td>   0.1112584</td><td> 0.003353907</td></tr>\n",
              "</tbody>\n",
              "</table>\n"
            ],
            "text/markdown": "\nA matrix: 4 × 4 of type dbl\n\n| <!--/--> | Idade | Renda | Anos.de.Estudo | Altura |\n|---|---|---|---|---|\n| Idade |  1.344105e+02 |  -4947.96842 |  -16.4105263 |  0.016483684 |\n| Renda | -4.947968e+03 | 764668.32632 | 2209.0210526 | -7.139630000 |\n| Anos.de.Estudo | -1.641053e+01 |   2209.02105 |   16.9368421 |  0.111258421 |\n| Altura |  1.648368e-02 |     -7.13963 |    0.1112584 |  0.003353907 |\n\n",
            "text/latex": "A matrix: 4 × 4 of type dbl\n\\begin{tabular}{r|llll}\n  & Idade & Renda & Anos.de.Estudo & Altura\\\\\n\\hline\n\tIdade &  1.344105e+02 &  -4947.96842 &  -16.4105263 &  0.016483684\\\\\n\tRenda & -4.947968e+03 & 764668.32632 & 2209.0210526 & -7.139630000\\\\\n\tAnos.de.Estudo & -1.641053e+01 &   2209.02105 &   16.9368421 &  0.111258421\\\\\n\tAltura &  1.648368e-02 &     -7.13963 &    0.1112584 &  0.003353907\\\\\n\\end{tabular}\n",
            "text/plain": [
              "               Idade         Renda        Anos.de.Estudo Altura      \n",
              "Idade           1.344105e+02  -4947.96842  -16.4105263    0.016483684\n",
              "Renda          -4.947968e+03 764668.32632 2209.0210526   -7.139630000\n",
              "Anos.de.Estudo -1.641053e+01   2209.02105   16.9368421    0.111258421\n",
              "Altura          1.648368e-02     -7.13963    0.1112584    0.003353907"
            ]
          },
          "metadata": {}
        }
      ],
      "source": [
        "# a covariância não é uma medidade de causalidade\n",
        "# caso vc queria selecionar certas variáveis é só usar o código abaixo\n",
        "# cov(amostra[c('variável', 'variável', ...)])\n",
        "# a covariância não é uma boa medida de intersidade entre as variáveis\n",
        "# a interpretação da covariânvia, vai nos dar uma ideia da relação entre as \n",
        "# variáveis, é mais o tipo da relação do que a intensidade da relação\n",
        "# se queremos intensidade, nós iremos para correlação de person\n",
        "# a covariância é influênciada pelas unidades de medida da variável, então\n",
        "# quanto maior as medidas, maior a covariância e isso não é legal\n",
        "matriz_cov <- cov(amostra)\n",
        "matriz_cov"
      ]
    },
    {
      "cell_type": "markdown",
      "metadata": {
        "id": "dodkzGyBcakG"
      },
      "source": [
        "### Identificando as variâncias na diagonal principal da matriz"
      ]
    },
    {
      "cell_type": "code",
      "execution_count": null,
      "metadata": {
        "colab": {
          "base_uri": "https://localhost:8080/",
          "height": 34
        },
        "id": "iG3mpmBfcakH",
        "outputId": "89afd74d-c7e8-4a1f-a2cc-a4dd41d0563f"
      },
      "outputs": [
        {
          "output_type": "display_data",
          "data": {
            "text/html": [
              "134.410526315789"
            ],
            "text/markdown": "134.410526315789",
            "text/latex": "134.410526315789",
            "text/plain": [
              "[1] 134.4105"
            ]
          },
          "metadata": {}
        }
      ],
      "source": [
        "var(amostra$Idade)"
      ]
    },
    {
      "cell_type": "markdown",
      "metadata": {
        "id": "9I8MVJAscakK"
      },
      "source": [
        "## <font color=green>3.2 Interpretação da Covariância</font>\n",
        "***"
      ]
    },
    {
      "cell_type": "markdown",
      "metadata": {
        "id": "_H2Y3PVZcakK"
      },
      "source": [
        "Valor de $S_{xy}$ positivo indica uma associação linear positiva entre x e y, ou seja, à medida que o valor de x aumenta, o valor de y também aumenta. Neste caso, podemos ver na figura abaixo que os pontos que têm a maior influência sobre $S_{xy}$ devem estar nos quadrantes I e III.\n",
        "\n",
        "Se o valor de $S_{xy}$ for negativo temos um indicativo de associação linear negativa entre x e y, ou seja, à medida que x aumenta, o valor de y diminui. Neste caso, podemos ver na figura abaixo que os pontos que têm a maior influência sobre $S_{xy}$ devem estar nos quadrantes II e IV.\n",
        "\n",
        "Finalmente, se os pontos estiverem uniformemente distribuídos pelos quadrantes, o valor de $S_{xy}$ se aproximará de zero, indicando que não existe nenhuma associação linear entre x e y.\n",
        "\n",
        "<img src=\"https://caelum-online-public.s3.amazonaws.com/1273-estatistica-parte4/01/img026.png\" width=50%>"
      ]
    },
    {
      "cell_type": "markdown",
      "metadata": {
        "id": "frhw7Uc8cakL"
      },
      "source": [
        "### Verificando a existência de uma associação linear negativa"
      ]
    },
    {
      "cell_type": "code",
      "execution_count": null,
      "metadata": {
        "colab": {
          "base_uri": "https://localhost:8080/",
          "height": 437
        },
        "id": "tQIUj8zQEXbT",
        "outputId": "c89e3f36-53a7-41d5-df9e-601bfd04a927"
      },
      "outputs": [
        {
          "output_type": "display_data",
          "data": {
            "text/plain": [
              "plot without title"
            ],
            "image/png": "[encoded data removed]"
          },
          "metadata": {
            "image/png": {
              "width": 900,
              "height": 420
            }
          }
        }
      ],
      "source": [
        "grafico <- amostra[, c('Renda', 'Idade')]\n",
        "\n",
        "ggplot(data = grafico, aes(x = Renda, y = Idade)) + \n",
        "    geom_point(size = 1.5, stroke = 0) + \n",
        "    geom_hline(yintercept = mean(amostra$Idade), color = 'black') + \n",
        "    geom_vline(xintercept = mean(amostra$Renda), color = 'black')"
      ]
    },
    {
      "cell_type": "markdown",
      "metadata": {
        "id": "es2CobcCcakQ"
      },
      "source": [
        "### Verificando a existência de uma associação linear positiva"
      ]
    },
    {
      "cell_type": "code",
      "execution_count": null,
      "metadata": {
        "colab": {
          "base_uri": "https://localhost:8080/",
          "height": 437
        },
        "id": "eLc5JmYCcakQ",
        "outputId": "2eb8f39f-57ce-4974-aaa1-4e065a6f17ee"
      },
      "outputs": [
        {
          "output_type": "display_data",
          "data": {
            "text/plain": [
              "plot without title"
            ],
            "image/png": "[encoded data removed]"
          },
          "metadata": {
            "image/png": {
              "width": 900,
              "height": 420
            }
          }
        }
      ],
      "source": [
        "grafico <- amostra[, c('Renda', 'Anos.de.Estudo')]\n",
        "\n",
        "ggplot(data = grafico, aes(x = Renda, y = Anos.de.Estudo)) + \n",
        "    geom_point(size = 1.5, stroke = 0) + \n",
        "    geom_hline(yintercept = mean(amostra$'Anos.de.Estudo'), color = 'black') + \n",
        "    geom_vline(xintercept = mean(amostra$Renda), color = 'black')"
      ]
    },
    {
      "cell_type": "markdown",
      "metadata": {
        "id": "mYYlKQeHcakS"
      },
      "source": [
        "### Verificando a inexistência de uma associação linear entre as variáveis"
      ]
    },
    {
      "cell_type": "code",
      "execution_count": null,
      "metadata": {
        "colab": {
          "base_uri": "https://localhost:8080/",
          "height": 437
        },
        "id": "R0S1AiBlcakS",
        "outputId": "9a3c6641-8bbd-45b0-ab54-be65007c0670"
      },
      "outputs": [
        {
          "output_type": "display_data",
          "data": {
            "text/plain": [
              "plot without title"
            ],
            "image/png": "[encoded data removed]"
          },
          "metadata": {
            "image/png": {
              "width": 900,
              "height": 420
            }
          }
        }
      ],
      "source": [
        "grafico <- amostra[, c('Idade', 'Altura')]\n",
        "\n",
        "ggplot(data = grafico, aes(x = Idade, y = Altura)) + \n",
        "    geom_point(size = 1.5, stroke = 0) + \n",
        "    geom_hline(yintercept = mean(amostra$Altura), color = 'black') + \n",
        "    geom_vline(xintercept = mean(amostra$Idade), color = 'black')"
      ]
    },
    {
      "cell_type": "markdown",
      "metadata": {
        "id": "zgSmQYrHcakb"
      },
      "source": [
        "### <font color='red'>Observação Importante:</font>\n",
        "> Pelo que foi apresentado pode parecer que valores elevados, tanto positivos quanto negativos, para a covariância indicam relações lineares fortes entre as variáveis envolvidas. No entanto, um problema quando se usa a covariância como uma medida da intensidade da relação linear é que o valor da covariância depende das unidades de medida para x e y.\n",
        "> \n",
        "> Uma medida da relação entre duas variáveis que não é afetada pelas unidades de medida para x e y é o coeficiente de correlação que veremos no próximo tópico."
      ]
    },
    {
      "cell_type": "markdown",
      "metadata": {
        "id": "oPAxUkyQcakb"
      },
      "source": [
        "## <font color=green>3.3 Coeficiente de correlação de Pearson</font>\n",
        "***"
      ]
    },
    {
      "cell_type": "markdown",
      "metadata": {
        "id": "6TYCLh0Hcakf"
      },
      "source": [
        "O coeficiente de Pearson é uma medida de associação linear entre variáveis quantitativas. Com ele, consigo medir a intensidade da correlação linear entre duas variáveis sem aquele problema que identificamos na covariância. Essa medida é obtida dividindo-se a covariância da população ou amostra de duas variáveis pelo produto do desvio padrão populacional amostral da variável x e y.\n",
        "\n",
        "É obtido dividindo-se a covariância da população ou amostra pelo produto do desvio padrão populacional ou amostral de x pelo desvio padrão populacional ou amostral de y.\n",
        "\n",
        "O coeficiente de correlação varia de -1 a +1. Valores que se aproximam de -1 ou +1 indicam uma relação linear forte. Quanto mais próxima a correlação estiver de zero, mais fraca será a relação.\n",
        "\n",
        "Um ponto importante é que o coeficiente de correlação é uma medida de associação linear e não necessariamente de causação. Uma correlação alta entre duas variáveis não significa, necessariamente, que variações em uma delas provocará alterações na outra."
      ]
    },
    {
      "cell_type": "markdown",
      "metadata": {
        "id": "OgecrWGdcakf"
      },
      "source": [
        "### Coeficiente de correlação de Pearson - dados populacionais\n",
        "\n",
        "# $$\\rho_{xy} = \\frac{\\sigma_{xy}}{\\sigma_{x}\\sigma_{y}}$$\n",
        "\n",
        "### Coeficiente de correlação de Pearson - dados amostrais\n",
        "\n",
        "# $$r_{xy} = \\frac{s_{xy}}{s_{x}s_{y}}$$\n",
        "\n",
        "Onde\n",
        "\n",
        "$\\sigma_{xy}$ = covariância populacional entre x e y\n",
        "\n",
        "$s_{xy}$ = covariância amostral entre x e y\n",
        "\n",
        "$\\sigma_{x}$ e $\\sigma_{y}$ = desvios padrão populacionais de x e y, respectivamente\n",
        "\n",
        "$s_{x}$ e $s_{y}$ = desvios padrão amostrais de x e y, respectivamente"
      ]
    },
    {
      "cell_type": "markdown",
      "metadata": {
        "id": "jPk2i26acakg"
      },
      "source": [
        "### Obtendo $s_{xy}$"
      ]
    },
    {
      "cell_type": "code",
      "execution_count": null,
      "metadata": {
        "colab": {
          "base_uri": "https://localhost:8080/",
          "height": 129
        },
        "id": "lc6MNkgQcakg",
        "outputId": "e3a98a01-da05-4f33-c7b9-cbc8f0e94f6c"
      },
      "outputs": [
        {
          "output_type": "display_data",
          "data": {
            "text/html": [
              "<table class=\"dataframe\">\n",
              "<caption>A matrix: 2 × 2 of type dbl</caption>\n",
              "<thead>\n",
              "\t<tr><th></th><th scope=col>Altura</th><th scope=col>Renda</th></tr>\n",
              "</thead>\n",
              "<tbody>\n",
              "\t<tr><th scope=row>Altura</th><td> 0.003353907</td><td>    -7.13963</td></tr>\n",
              "\t<tr><th scope=row>Renda</th><td>-7.139630000</td><td>764668.32632</td></tr>\n",
              "</tbody>\n",
              "</table>\n"
            ],
            "text/markdown": "\nA matrix: 2 × 2 of type dbl\n\n| <!--/--> | Altura | Renda |\n|---|---|---|\n| Altura |  0.003353907 |     -7.13963 |\n| Renda | -7.139630000 | 764668.32632 |\n\n",
            "text/latex": "A matrix: 2 × 2 of type dbl\n\\begin{tabular}{r|ll}\n  & Altura & Renda\\\\\n\\hline\n\tAltura &  0.003353907 &     -7.13963\\\\\n\tRenda & -7.139630000 & 764668.32632\\\\\n\\end{tabular}\n",
            "text/plain": [
              "       Altura       Renda       \n",
              "Altura  0.003353907     -7.13963\n",
              "Renda  -7.139630000 764668.32632"
            ]
          },
          "metadata": {}
        }
      ],
      "source": [
        "s_xy <- cov(amostra[c('Altura', 'Renda')])\n",
        "s_xy"
      ]
    },
    {
      "cell_type": "code",
      "execution_count": null,
      "metadata": {
        "colab": {
          "base_uri": "https://localhost:8080/",
          "height": 34
        },
        "id": "_8KNoxdhcakj",
        "outputId": "7fe081ad-3f36-4624-9a0a-167416d100c4"
      },
      "outputs": [
        {
          "output_type": "display_data",
          "data": {
            "text/html": [
              "-7.13963000000001"
            ],
            "text/markdown": "-7.13963000000001",
            "text/latex": "-7.13963000000001",
            "text/plain": [
              "[1] -7.13963"
            ]
          },
          "metadata": {}
        }
      ],
      "source": [
        "# pegando só o valor da correlação \n",
        "s_xy = s_xy['Altura', 'Renda']\n",
        "s_xy"
      ]
    },
    {
      "cell_type": "markdown",
      "metadata": {
        "id": "sDybJtCMcakl"
      },
      "source": [
        "### Obtendo $s_x$ e $s_y$"
      ]
    },
    {
      "cell_type": "code",
      "execution_count": null,
      "metadata": {
        "id": "LTEEbMIzcakl"
      },
      "outputs": [],
      "source": [
        "# obtendo um desvio padrão para cada uma das variáveis\n",
        "s_x <- sd(amostra$Altura)\n",
        "s_y <- sd(amostra$Renda)"
      ]
    },
    {
      "cell_type": "markdown",
      "metadata": {
        "id": "VVpQ5QcCcakm"
      },
      "source": [
        "### Obtendo o coeficiente de correlação $r_{xy}$"
      ]
    },
    {
      "cell_type": "code",
      "execution_count": null,
      "metadata": {
        "colab": {
          "base_uri": "https://localhost:8080/",
          "height": 34
        },
        "id": "TuPWxVgccakq",
        "outputId": "ef4705d9-a4ee-4b6c-881e-76c193668504"
      },
      "outputs": [
        {
          "output_type": "display_data",
          "data": {
            "text/html": [
              "-0.140981997305062"
            ],
            "text/markdown": "-0.140981997305062",
            "text/latex": "-0.140981997305062",
            "text/plain": [
              "[1] -0.140982"
            ]
          },
          "metadata": {}
        }
      ],
      "source": [
        "# coeficiente negativo, então quando um sobe o outro desce, a relação não é forte\n",
        "# entre elas\n",
        "r_xy <- s_xy / (s_x * s_y)\n",
        "r_xy"
      ]
    },
    {
      "cell_type": "markdown",
      "metadata": {
        "id": "miyTUNqpcakr"
      },
      "source": [
        "### Obtendo uma matriz de correlação"
      ]
    },
    {
      "cell_type": "code",
      "execution_count": null,
      "metadata": {
        "colab": {
          "base_uri": "https://localhost:8080/",
          "height": 129
        },
        "id": "SjQUE6wVcakt",
        "outputId": "136e581a-142d-47ff-b95f-092ce8935686"
      },
      "outputs": [
        {
          "output_type": "display_data",
          "data": {
            "text/html": [
              "<table class=\"dataframe\">\n",
              "<caption>A matrix: 2 × 2 of type dbl</caption>\n",
              "<thead>\n",
              "\t<tr><th></th><th scope=col>Altura</th><th scope=col>Renda</th></tr>\n",
              "</thead>\n",
              "<tbody>\n",
              "\t<tr><th scope=row>Altura</th><td> 1.000000</td><td>-0.140982</td></tr>\n",
              "\t<tr><th scope=row>Renda</th><td>-0.140982</td><td> 1.000000</td></tr>\n",
              "</tbody>\n",
              "</table>\n"
            ],
            "text/markdown": "\nA matrix: 2 × 2 of type dbl\n\n| <!--/--> | Altura | Renda |\n|---|---|---|\n| Altura |  1.000000 | -0.140982 |\n| Renda | -0.140982 |  1.000000 |\n\n",
            "text/latex": "A matrix: 2 × 2 of type dbl\n\\begin{tabular}{r|ll}\n  & Altura & Renda\\\\\n\\hline\n\tAltura &  1.000000 & -0.140982\\\\\n\tRenda & -0.140982 &  1.000000\\\\\n\\end{tabular}\n",
            "text/plain": [
              "       Altura    Renda    \n",
              "Altura  1.000000 -0.140982\n",
              "Renda  -0.140982  1.000000"
            ]
          },
          "metadata": {}
        }
      ],
      "source": [
        "cor(amostra[c('Altura', 'Renda')])"
      ]
    },
    {
      "cell_type": "code",
      "execution_count": null,
      "metadata": {
        "colab": {
          "base_uri": "https://localhost:8080/",
          "height": 129
        },
        "id": "r-Iasce4cakv",
        "outputId": "300f1ce7-9f63-4593-ac46-6ec758d762ef"
      },
      "outputs": [
        {
          "output_type": "display_data",
          "data": {
            "text/html": [
              "<table class=\"dataframe\">\n",
              "<caption>A matrix: 2 × 2 of type dbl</caption>\n",
              "<thead>\n",
              "\t<tr><th></th><th scope=col>Y</th><th scope=col>X</th></tr>\n",
              "</thead>\n",
              "<tbody>\n",
              "\t<tr><th scope=row>Y</th><td>1.0000000</td><td>0.9848352</td></tr>\n",
              "\t<tr><th scope=row>X</th><td>0.9848352</td><td>1.0000000</td></tr>\n",
              "</tbody>\n",
              "</table>\n"
            ],
            "text/markdown": "\nA matrix: 2 × 2 of type dbl\n\n| <!--/--> | Y | X |\n|---|---|---|\n| Y | 1.0000000 | 0.9848352 |\n| X | 0.9848352 | 1.0000000 |\n\n",
            "text/latex": "A matrix: 2 × 2 of type dbl\n\\begin{tabular}{r|ll}\n  & Y & X\\\\\n\\hline\n\tY & 1.0000000 & 0.9848352\\\\\n\tX & 0.9848352 & 1.0000000\\\\\n\\end{tabular}\n",
            "text/plain": [
              "  Y         X        \n",
              "Y 1.0000000 0.9848352\n",
              "X 0.9848352 1.0000000"
            ]
          },
          "metadata": {}
        }
      ],
      "source": [
        "cor(dataset[c('Y', 'X')])"
      ]
    },
    {
      "cell_type": "code",
      "execution_count": null,
      "metadata": {
        "colab": {
          "base_uri": "https://localhost:8080/",
          "height": 437
        },
        "id": "cjk5Z_3MEXbW",
        "outputId": "399c9ee5-f337-4dd5-ad5d-92dc6e699af9"
      },
      "outputs": [
        {
          "output_type": "display_data",
          "data": {
            "text/plain": [
              "plot without title"
            ],
            "image/png": "[encoded data removed]"
          },
          "metadata": {
            "image/png": {
              "width": 900,
              "height": 420
            }
          }
        }
      ],
      "source": [
        "grafico <- amostra[, c('Renda', 'Altura')]\n",
        "\n",
        "ggplot(data = grafico, aes(x = Renda, y = Altura)) + \n",
        "    geom_point(size = 1.5, stroke = 0) + \n",
        "    geom_hline(yintercept = mean(amostra$Altura), color = 'black') + \n",
        "    geom_vline(xintercept = mean(amostra$Renda), color = 'black')"
      ]
    },
    {
      "cell_type": "code",
      "execution_count": null,
      "metadata": {
        "colab": {
          "base_uri": "https://localhost:8080/",
          "height": 437
        },
        "id": "JDLe4b1MEXbW",
        "outputId": "7c93db12-61d0-4600-91c8-03545b8bc105"
      },
      "outputs": [
        {
          "output_type": "display_data",
          "data": {
            "text/plain": [
              "plot without title"
            ],
            "image/png": "[encoded data removed]"
          },
          "metadata": {
            "image/png": {
              "width": 900,
              "height": 420
            }
          }
        }
      ],
      "source": [
        "ggplot(data = dataset, aes(x = X, y = Y)) + \n",
        "    geom_point(size = 1.5, stroke = 0) + \n",
        "    geom_hline(yintercept = mean(dataset$Y), color = 'black') + \n",
        "    geom_vline(xintercept = mean(dataset$X), color = 'black')"
      ]
    },
    {
      "cell_type": "markdown",
      "metadata": {
        "id": "HSF3lXxzcak3"
      },
      "source": [
        "---"
      ]
    },
    {
      "cell_type": "markdown",
      "source": [
        " O'que deu pra entender é, se não conseguimos interpretar o gráfico, buscando um número para nos informar a direção da correlação entre as variáveis."
      ],
      "metadata": {
        "id": "TsNC0OGdOirx"
      }
    },
    {
      "cell_type": "code",
      "source": [
        "# exercício 1\n",
        "# --------------\n",
        "\n",
        "# Temos o seguinte conjunto de informações sobre as variáveis X e Y:\n",
        "# s_xy = 2178803.59\n",
        "# s_x_2 = 7328865.85\n",
        "# s_y_2 = 667839.78\n",
        "# s_x = sqrt(s_x_2)\n",
        "# s_y = sqrt(s_y_2)\n",
        "# qual o valor do coeficiente de correlação de Pearson para as variáveis X e Y.\n",
        "# r_xy <- s_xy / (s_x * s_y)\n",
        "# r_xy"
      ],
      "metadata": {
        "id": "CDwRDh9UO0bo"
      },
      "execution_count": null,
      "outputs": []
    },
    {
      "cell_type": "markdown",
      "metadata": {
        "id": "glWc43l2hLnL"
      },
      "source": [
        "# <font color=green>4 REGRESSÃO LINEAR</font>\n",
        "***"
      ]
    },
    {
      "cell_type": "markdown",
      "metadata": {
        "id": "T0nLJKtLcak8"
      },
      "source": [
        "A análise de regressão diz respeito ao estudo da dependência de uma variável (a variável dependente) em relação a uma ou mais variáveis, as variáveis explicativas ou independentes, visando estimar e/ou prever o valor médio da primeira em termos dos valores conhecidos ou fixados das segundas.\n",
        "\n",
        "#### Terminologia\n",
        "\n",
        "> A variável que é prevista é conhecida como variável dependente (*Y*).\n",
        "\n",
        "> A variável utilizada para prever o valor da variável dependente é conhecida como variável independente (*X*).\n",
        "\n",
        "Em nosso treinamento vamos abordar o tipo mais simples de análise de regressão que considera uma variável dependente e apenas uma variável independente onde a relação entre as variáveis se aproxima de uma linha reta."
      ]
    },
    {
      "cell_type": "markdown",
      "metadata": {
        "id": "jIXc6LA7cak9"
      },
      "source": [
        "## <font color=green>4.1 Regressão linear simples</font>\n",
        "***"
      ]
    },
    {
      "cell_type": "markdown",
      "metadata": {
        "id": "bIhWKDuK75k2"
      },
      "source": [
        "### Função consumo\n",
        "\n",
        "Um economista famoso do passado concluiu em um de seus estudos que os indivíduos tendem a aumentar o seu consumo conforme sua renda aumenta. Logicamente esta teoria ganhou um pouco mais de complexidade, mas vamos utilizar sua forma mais simples para entender o procedimento de análise de regressão com a seguninte formulação:\n",
        "\n",
        "# $$Y_i = \\beta_1 + \\beta_2X_i$$\n",
        "\n",
        "Onde\n",
        "\n",
        "- $Y_i$ é o gasto das famílias ou consumo das famílias\n",
        "\n",
        "- $X_i$ é a renda disponível\n",
        "\n",
        "- $\\beta_1$ é conhecido como intercepto (no modelo teórico acima é conhecido como consumo autônomo, ou seja, o consumo quando o rendimento é zero)\n",
        "\n",
        "- $\\beta_2$ é o coefiente angular (no modelo teórico é a propensão marginal a consumir)\n",
        "\n",
        "Em uma análise de regressão linear simples, o interesse está em estimar a função de regressão populacional como a apresentada acima, ou seja, estimar os valores dos parâmetros $\\beta_1$ e $\\beta_2$ com base nas observações de $Y$ e $X$."
      ]
    },
    {
      "cell_type": "markdown",
      "metadata": {
        "id": "1kkZ2NxPcak-"
      },
      "source": [
        "### Carregando o dataset"
      ]
    },
    {
      "cell_type": "code",
      "execution_count": null,
      "metadata": {
        "id": "-um71iXqcak-"
      },
      "outputs": [],
      "source": [
        "dataset <- data.frame(\n",
        "    Y = c(3011, 1305, 1879, 2654, 2849, 1068, 2892, 2543, 3074, 849, 2184, 2943, 1357, 2755, 2163, 3099, 1600, 353, 1778, 740, 2129, 3302, 2412, 2683, 2515, 2395, 2292, 1000, 600, 1864, 3027, 1978, 2791, 1982, 900, 1964, 1247, 3067, 700, 1500, 3110, 2644, 1378, 2601, 501, 1292, 2125, 1431, 2260, 1770),\n",
        "    X = c(9714, 3728, 6062, 8845, 8378, 3338, 8507, 7947, 9915, 1632, 6825, 8918, 4100, 9184, 6180, 9997, 4500, 1069, 5925, 2466, 6083, 9712, 7780, 8383, 7185, 7483, 7640, 2100, 2000, 6012, 8902, 5345, 8210, 5662, 2700, 6546, 2900, 9894, 1500, 5000, 8885, 8813, 3446, 7881, 1164, 3401, 6641, 3329, 6648, 4800)\n",
        ")"
      ]
    },
    {
      "cell_type": "code",
      "execution_count": null,
      "metadata": {
        "id": "eVisdrGdcak_",
        "scrolled": true,
        "colab": {
          "base_uri": "https://localhost:8080/",
          "height": 286
        },
        "outputId": "233f4ff6-be27-4a0c-ea31-99d7d07f6ee9"
      },
      "outputs": [
        {
          "output_type": "display_data",
          "data": {
            "text/html": [
              "<table class=\"dataframe\">\n",
              "<caption>A data.frame: 6 × 2</caption>\n",
              "<thead>\n",
              "\t<tr><th></th><th scope=col>Y</th><th scope=col>X</th></tr>\n",
              "\t<tr><th></th><th scope=col>&lt;dbl&gt;</th><th scope=col>&lt;dbl&gt;</th></tr>\n",
              "</thead>\n",
              "<tbody>\n",
              "\t<tr><th scope=row>1</th><td>3011</td><td>9714</td></tr>\n",
              "\t<tr><th scope=row>2</th><td>1305</td><td>3728</td></tr>\n",
              "\t<tr><th scope=row>3</th><td>1879</td><td>6062</td></tr>\n",
              "\t<tr><th scope=row>4</th><td>2654</td><td>8845</td></tr>\n",
              "\t<tr><th scope=row>5</th><td>2849</td><td>8378</td></tr>\n",
              "\t<tr><th scope=row>6</th><td>1068</td><td>3338</td></tr>\n",
              "</tbody>\n",
              "</table>\n"
            ],
            "text/markdown": "\nA data.frame: 6 × 2\n\n| <!--/--> | Y &lt;dbl&gt; | X &lt;dbl&gt; |\n|---|---|---|\n| 1 | 3011 | 9714 |\n| 2 | 1305 | 3728 |\n| 3 | 1879 | 6062 |\n| 4 | 2654 | 8845 |\n| 5 | 2849 | 8378 |\n| 6 | 1068 | 3338 |\n\n",
            "text/latex": "A data.frame: 6 × 2\n\\begin{tabular}{r|ll}\n  & Y & X\\\\\n  & <dbl> & <dbl>\\\\\n\\hline\n\t1 & 3011 & 9714\\\\\n\t2 & 1305 & 3728\\\\\n\t3 & 1879 & 6062\\\\\n\t4 & 2654 & 8845\\\\\n\t5 & 2849 & 8378\\\\\n\t6 & 1068 & 3338\\\\\n\\end{tabular}\n",
            "text/plain": [
              "  Y    X   \n",
              "1 3011 9714\n",
              "2 1305 3728\n",
              "3 1879 6062\n",
              "4 2654 8845\n",
              "5 2849 8378\n",
              "6 1068 3338"
            ]
          },
          "metadata": {}
        }
      ],
      "source": [
        "head(dataset)"
      ]
    },
    {
      "cell_type": "markdown",
      "metadata": {
        "id": "FnwGB3f1calB"
      },
      "source": [
        "### Identificando a relação entre as variáveis\n",
        "\n",
        "Plota a reta de regressão entre duas variáveis juntamente com a dispersão entre elas."
      ]
    },
    {
      "cell_type": "code",
      "execution_count": null,
      "metadata": {
        "id": "DI16LyC7calB",
        "colab": {
          "base_uri": "https://localhost:8080/",
          "height": 474
        },
        "outputId": "e26eecc4-bf7e-4f63-c0d6-01073394c9b9"
      },
      "outputs": [
        {
          "output_type": "stream",
          "name": "stderr",
          "text": [
            "`geom_smooth()` using formula 'y ~ x'\n",
            "\n"
          ]
        },
        {
          "output_type": "display_data",
          "data": {
            "text/plain": [
              "plot without title"
            ],
            "image/png": "[encoded data removed]"
          },
          "metadata": {
            "image/png": {
              "width": 900,
              "height": 420
            }
          }
        }
      ],
      "source": [
        "# nesse gráfico foi feito uma reta de regressão sem levar em conta os resíduos \n",
        "# então foi feito o gráfico só pra estudo, mas está errado.\n",
        "ggplot(data = dataset, aes(x = X, y = Y)) + \n",
        "    geom_point(size = 1.5, stroke = 0) + \n",
        "    geom_smooth(method = lm) +\n",
        "    xlab(\"Renda das Famílias\") + \n",
        "    ylab(\"Gasto das Famílias\") + \n",
        "    ggtitle('Reta de Regressão - Gasto X Renda') +\n",
        "    theme(\n",
        "        plot.title=element_text(size = 12, hjust = 0.5),\n",
        "        axis.title.y=element_text(size = 10, vjust = +0.2),\n",
        "        axis.title.x=element_text(size = 10, vjust = -0.2),\n",
        "        axis.text.y=element_text(size = 10),\n",
        "        axis.text.x=element_text(size = 10),\n",
        "    )"
      ]
    },
    {
      "cell_type": "markdown",
      "metadata": {
        "id": "5_PIOCAv75k9"
      },
      "source": [
        "### Matriz de correlação"
      ]
    },
    {
      "cell_type": "code",
      "execution_count": null,
      "metadata": {
        "id": "R7Zr6nuy75k-",
        "colab": {
          "base_uri": "https://localhost:8080/",
          "height": 129
        },
        "outputId": "45ff950d-61c3-4555-f36c-7b8751bc8218"
      },
      "outputs": [
        {
          "output_type": "display_data",
          "data": {
            "text/html": [
              "<table class=\"dataframe\">\n",
              "<caption>A matrix: 2 × 2 of type dbl</caption>\n",
              "<thead>\n",
              "\t<tr><th></th><th scope=col>Y</th><th scope=col>X</th></tr>\n",
              "</thead>\n",
              "<tbody>\n",
              "\t<tr><th scope=row>Y</th><td>1.0000000</td><td>0.9848352</td></tr>\n",
              "\t<tr><th scope=row>X</th><td>0.9848352</td><td>1.0000000</td></tr>\n",
              "</tbody>\n",
              "</table>\n"
            ],
            "text/markdown": "\nA matrix: 2 × 2 of type dbl\n\n| <!--/--> | Y | X |\n|---|---|---|\n| Y | 1.0000000 | 0.9848352 |\n| X | 0.9848352 | 1.0000000 |\n\n",
            "text/latex": "A matrix: 2 × 2 of type dbl\n\\begin{tabular}{r|ll}\n  & Y & X\\\\\n\\hline\n\tY & 1.0000000 & 0.9848352\\\\\n\tX & 0.9848352 & 1.0000000\\\\\n\\end{tabular}\n",
            "text/plain": [
              "  Y         X        \n",
              "Y 1.0000000 0.9848352\n",
              "X 0.9848352 1.0000000"
            ]
          },
          "metadata": {}
        }
      ],
      "source": [
        "cor(dataset)"
      ]
    },
    {
      "cell_type": "markdown",
      "metadata": {
        "id": "lzD2VpXccak9"
      },
      "source": [
        "### Função de regressão populacional\n",
        "\n",
        "A equação formulada acima é conhecida como **função de regressão populacional (FRP)** e em alguns livros é também representada da seguinte forma:\n",
        "\n",
        "# $$E(Y|X_i) = \\beta_1 + \\beta_2X_i$$\n",
        "\n",
        "Ela afirma que o valor esperado da distribuição de $Y$, dado $X_i$, tem uma relação funcional com $X_i$, isto é, a resposta média de $Y$ varia com $X$. Os coeficientes $\\beta_1$ e $\\beta_2$ são conhecidos como coeficientes de regressão e também como intercepto e coeficiente angular, respectivamente.\n",
        "\n",
        "<img src=\"https://caelum-online-public.s3.amazonaws.com/1273-estatistica-parte4/01/img027.png\" width=50%>\n",
        "\n",
        "O gráfico de dispersão mais abaixo deixa claro que com o aumento da renda familiar, em média, as despesas de consumo das famílias aumentam, mas não no mesmo nível. O que podemos dizer é que para um nível de renda $X_i$ as despesas médias de consumo de uma\n",
        "família agrupam-se em torno do consumo médio de todas as famílias deste nível $X_i$, isto é, em torno de sua esperança condicional $E(Y|X_i)$. Portanto, podemos expressar o desvio individual de $Y_i$ em torno de seu valor esperado da seguinte forma:\n",
        "\n",
        "# $$u_i = Y_i - E(Y|X_i)$$\n",
        "\n",
        "ou\n",
        "\n",
        "# $$Y_i = E(Y|X_i) + u_i$$\n",
        "\n",
        "onde o desvio $u_i$ é uma variável aleatória não-observável que assume valores positivos ou negativos. Esta variável é também conhecida como termo de erro estocástico.\n",
        "\n",
        "Observe que a partir da elaboração acima podemos representar a FRP em sua forma estocástica da seguinte maneira:\n",
        "\n",
        "# $$Y_i = \\beta_1 + \\beta_2X_i + u_i$$"
      ]
    },
    {
      "cell_type": "markdown",
      "metadata": {
        "id": "yOR8pKHkcak9"
      },
      "source": [
        "## <font color=green>4.2 O método de mínimos quadrados</font>\n",
        "***"
      ]
    },
    {
      "cell_type": "markdown",
      "metadata": {
        "id": "M-iKUvPlcak-"
      },
      "source": [
        "Considere a seguinte **função de regressão da população (FRP)** para duas variáveis:\n",
        "\n",
        "# $$Y_i = \\beta_1 + \\beta_2X_i + u_i$$\n",
        "\n",
        "Como a **FRP** não pode ser obtida de forma direta, precisamos estimá-la através da **função de regressão amostral (FRA)** O chapéu encima do B, significa uma estimativa do verdadeiro parâmetro.\n",
        "\n",
        "# $$Y_i = \\hat{\\beta}_1 + \\hat{\\beta}_2X_i + \\hat{u}_i$$\n",
        "# $$Y_i = \\hat{Y}_i + \\hat{u}_i$$\n",
        "\n",
        "onde $\\hat{Y}_i$ é o valor estimado de $Y_i$.\n",
        "\n",
        "A partir da equação acima podemos expressar o erro da seguinte maneira:\n",
        "\n",
        "# $$\\hat{u}_i = Y_i - \\hat{Y}_i$$\n",
        "# $$\\hat{u}_i = Y_i - \\hat{\\beta}_1 - \\hat{\\beta}_2X_i$$\n",
        "\n",
        "A ideia é determinar **FRA** de forma que fique o mais próximo possível do valor observado de $Y$. Intuitivamente uma forma interessante de fazer isso seria determinar **FRA** de maneira que a soma dos resíduos seja a menor possível.\n",
        "\n",
        "# $$\\sum\\hat{u}_i = \\sum{(Y_i - \\hat{Y}_i)}$$\n",
        "\n",
        "Avaliando a figura abaixo se pode verificar que talvez o critério de minimizar a soma dos resíduos não seja a melhor abordagem para solucionar o problema.\n",
        "\n",
        "<img src=\"https://caelum-online-public.s3.amazonaws.com/1273-estatistica-parte4/01/img015.png\" width=50%>\n",
        "\n",
        "O critério de minimização da soma dos resíduos assume que todos os resíduos têm o mesmo peso no somatório, o que nem sempre se comprova. Em nosso exemplo os resíduos $\\hat{u}_1$ e $\\hat{u}_4$ encontram-se bem mais afastados da **FRA** que $\\hat{u}_2$ e $\\hat{u}_3$. Isso acarreta na possibilidade de que a soma dos $\\hat{u}_i$'s seja bastante pequena e até mesmo nula, mesmo que os resíduos estejam muito dispersos em relação a reta de regressão.\n",
        "\n",
        "Para evitar tal problema adotou-se o critério de minimização da soma dos quadrados dos resíduos que é conhecido como **Método de Mínimos Quadrados**.\n",
        "\n",
        "# $$\\sum\\hat{u}_i^2 = \\sum{(Y_i - \\hat{Y}_i)^2}$$\n",
        "# $$\\sum\\hat{u}_i^2 = \\sum{(Y_i - \\hat{\\beta}_1 - \\hat{\\beta}_2X_i)^2}$$\n",
        "\n",
        "Após um procedimento de diferenciação, algumas simplificações e manipulações algébricas obtemos os **estimadores de mínimos quadrados**.\n",
        "\n",
        "# $$\n",
        "\\begin{equation}\n",
        "\\boxed{\\hat{\\beta}_2 = \\frac{n\\sum{X_iY_i} - \\sum{X_i}\\sum{Y_i}}{n\\sum{X_i^2} - (\\sum{X_i})^2}}\n",
        "\\end{equation}\n",
        "$$\n",
        "\n",
        "# $$\n",
        "\\begin{equation}\n",
        "\\boxed{\n",
        "\\begin{eqnarray}\n",
        "\\hat{\\beta}_1 &=& \\frac{\\sum{X_i^2}\\sum{Y_i} - \\sum{X_i}\\sum{X_iY_i}}{n\\sum{X_i^2} - (\\sum{X_i})^2}\\\\\n",
        "&=& \\bar{Y} - \\hat{\\beta}_2\\bar{X}\n",
        "\\end{eqnarray}\n",
        "}\n",
        "\\end{equation}\n",
        "$$"
      ]
    },
    {
      "cell_type": "markdown",
      "metadata": {
        "id": "bIsppET0cak-"
      },
      "source": [
        "## <font color=green>4.3 Estimadores de mínimos quadrados ordinários</font>\n",
        "***"
      ]
    },
    {
      "cell_type": "markdown",
      "metadata": {
        "id": "HTFJyCNCcalE"
      },
      "source": [
        "### Obter $n$"
      ]
    },
    {
      "cell_type": "code",
      "execution_count": null,
      "metadata": {
        "id": "ZcHOhSNRcalE",
        "colab": {
          "base_uri": "https://localhost:8080/",
          "height": 34
        },
        "outputId": "8b62d870-be90-4f04-b6b5-235070c65558"
      },
      "outputs": [
        {
          "output_type": "display_data",
          "data": {
            "text/html": [
              "50"
            ],
            "text/markdown": "50",
            "text/latex": "50",
            "text/plain": [
              "[1] 50"
            ]
          },
          "metadata": {}
        }
      ],
      "source": [
        "n <- nrow(dataset)\n",
        "n"
      ]
    },
    {
      "cell_type": "markdown",
      "metadata": {
        "id": "2R8QzULvcalF"
      },
      "source": [
        "### Obter $\\sum{Y}$"
      ]
    },
    {
      "cell_type": "code",
      "execution_count": null,
      "metadata": {
        "id": "wfY4FHLgcalG",
        "colab": {
          "base_uri": "https://localhost:8080/",
          "height": 34
        },
        "outputId": "893001d2-0b32-4d80-91eb-a8bf09caf8c8"
      },
      "outputs": [
        {
          "output_type": "display_data",
          "data": {
            "text/html": [
              "100556"
            ],
            "text/markdown": "100556",
            "text/latex": "100556",
            "text/plain": [
              "[1] 100556"
            ]
          },
          "metadata": {}
        }
      ],
      "source": [
        "SOMA_Y <- sum(dataset$Y)\n",
        "SOMA_Y"
      ]
    },
    {
      "cell_type": "markdown",
      "metadata": {
        "id": "dpWo8F-fcalI"
      },
      "source": [
        "### Obter $\\sum{X}$"
      ]
    },
    {
      "cell_type": "code",
      "execution_count": null,
      "metadata": {
        "id": "vgRIhNl9calI",
        "colab": {
          "base_uri": "https://localhost:8080/",
          "height": 34
        },
        "outputId": "ab80f852-e2d3-4c3a-be92-50aede7d0a49"
      },
      "outputs": [
        {
          "output_type": "display_data",
          "data": {
            "text/html": [
              "303275"
            ],
            "text/markdown": "303275",
            "text/latex": "303275",
            "text/plain": [
              "[1] 303275"
            ]
          },
          "metadata": {}
        }
      ],
      "source": [
        "SOMA_X <- sum(dataset$X)\n",
        "SOMA_X"
      ]
    },
    {
      "cell_type": "markdown",
      "metadata": {
        "id": "ZOrXXyygcalJ"
      },
      "source": [
        "### Obter $\\sum{X^2}$"
      ]
    },
    {
      "cell_type": "code",
      "execution_count": null,
      "metadata": {
        "id": "boXBQUIJcalK",
        "scrolled": true
      },
      "outputs": [],
      "source": [
        "dataset$X2 <- dataset$X ** 2"
      ]
    },
    {
      "cell_type": "code",
      "execution_count": null,
      "metadata": {
        "id": "ce-I43picalL",
        "colab": {
          "base_uri": "https://localhost:8080/",
          "height": 34
        },
        "outputId": "14075822-004c-40d2-c5f9-37354a39b72e"
      },
      "outputs": [
        {
          "output_type": "display_data",
          "data": {
            "text/html": [
              "2198628939"
            ],
            "text/markdown": "2198628939",
            "text/latex": "2198628939",
            "text/plain": [
              "[1] 2198628939"
            ]
          },
          "metadata": {}
        }
      ],
      "source": [
        "SOMA_X2 <- sum(dataset$X2)\n",
        "SOMA_X2"
      ]
    },
    {
      "cell_type": "code",
      "execution_count": null,
      "metadata": {
        "id": "RGI7qT-jEXbc",
        "colab": {
          "base_uri": "https://localhost:8080/",
          "height": 34
        },
        "outputId": "1f3f934d-90cd-4fe5-f6b8-5e2538fff0ec"
      },
      "outputs": [
        {
          "output_type": "display_data",
          "data": {
            "text/html": [
              "2198628939"
            ],
            "text/markdown": "2198628939",
            "text/latex": "2198628939",
            "text/plain": [
              "[1] 2198628939"
            ]
          },
          "metadata": {}
        }
      ],
      "source": [
        "# apply ele cria uma variável temporaria, para que você só pegue o resultado do \n",
        "# calculo, o parâmetro 1, é 1 = linhas ou 2 = colunas, então eu quero fazer\n",
        "# conta somente em cada linha\n",
        "SOMA_X2 <- sum(apply(dataset, 1, function(x) x['X'] ** 2))\n",
        "SOMA_X2"
      ]
    },
    {
      "cell_type": "code",
      "execution_count": null,
      "metadata": {
        "scrolled": true,
        "id": "r7qtQlOuEXbd",
        "colab": {
          "base_uri": "https://localhost:8080/",
          "height": 1000
        },
        "outputId": "6c82c258-f065-4993-91f5-cc633d8f041a"
      },
      "outputs": [
        {
          "output_type": "display_data",
          "data": {
            "text/html": [
              "<table class=\"dataframe\">\n",
              "<caption>A data.frame: 50 × 2</caption>\n",
              "<thead>\n",
              "\t<tr><th scope=col>Y</th><th scope=col>X</th></tr>\n",
              "\t<tr><th scope=col>&lt;dbl&gt;</th><th scope=col>&lt;dbl&gt;</th></tr>\n",
              "</thead>\n",
              "<tbody>\n",
              "\t<tr><td>3011</td><td>9714</td></tr>\n",
              "\t<tr><td>1305</td><td>3728</td></tr>\n",
              "\t<tr><td>1879</td><td>6062</td></tr>\n",
              "\t<tr><td>2654</td><td>8845</td></tr>\n",
              "\t<tr><td>2849</td><td>8378</td></tr>\n",
              "\t<tr><td>1068</td><td>3338</td></tr>\n",
              "\t<tr><td>2892</td><td>8507</td></tr>\n",
              "\t<tr><td>2543</td><td>7947</td></tr>\n",
              "\t<tr><td>3074</td><td>9915</td></tr>\n",
              "\t<tr><td> 849</td><td>1632</td></tr>\n",
              "\t<tr><td>2184</td><td>6825</td></tr>\n",
              "\t<tr><td>2943</td><td>8918</td></tr>\n",
              "\t<tr><td>1357</td><td>4100</td></tr>\n",
              "\t<tr><td>2755</td><td>9184</td></tr>\n",
              "\t<tr><td>2163</td><td>6180</td></tr>\n",
              "\t<tr><td>3099</td><td>9997</td></tr>\n",
              "\t<tr><td>1600</td><td>4500</td></tr>\n",
              "\t<tr><td> 353</td><td>1069</td></tr>\n",
              "\t<tr><td>1778</td><td>5925</td></tr>\n",
              "\t<tr><td> 740</td><td>2466</td></tr>\n",
              "\t<tr><td>2129</td><td>6083</td></tr>\n",
              "\t<tr><td>3302</td><td>9712</td></tr>\n",
              "\t<tr><td>2412</td><td>7780</td></tr>\n",
              "\t<tr><td>2683</td><td>8383</td></tr>\n",
              "\t<tr><td>2515</td><td>7185</td></tr>\n",
              "\t<tr><td>2395</td><td>7483</td></tr>\n",
              "\t<tr><td>2292</td><td>7640</td></tr>\n",
              "\t<tr><td>1000</td><td>2100</td></tr>\n",
              "\t<tr><td> 600</td><td>2000</td></tr>\n",
              "\t<tr><td>1864</td><td>6012</td></tr>\n",
              "\t<tr><td>3027</td><td>8902</td></tr>\n",
              "\t<tr><td>1978</td><td>5345</td></tr>\n",
              "\t<tr><td>2791</td><td>8210</td></tr>\n",
              "\t<tr><td>1982</td><td>5662</td></tr>\n",
              "\t<tr><td> 900</td><td>2700</td></tr>\n",
              "\t<tr><td>1964</td><td>6546</td></tr>\n",
              "\t<tr><td>1247</td><td>2900</td></tr>\n",
              "\t<tr><td>3067</td><td>9894</td></tr>\n",
              "\t<tr><td> 700</td><td>1500</td></tr>\n",
              "\t<tr><td>1500</td><td>5000</td></tr>\n",
              "\t<tr><td>3110</td><td>8885</td></tr>\n",
              "\t<tr><td>2644</td><td>8813</td></tr>\n",
              "\t<tr><td>1378</td><td>3446</td></tr>\n",
              "\t<tr><td>2601</td><td>7881</td></tr>\n",
              "\t<tr><td> 501</td><td>1164</td></tr>\n",
              "\t<tr><td>1292</td><td>3401</td></tr>\n",
              "\t<tr><td>2125</td><td>6641</td></tr>\n",
              "\t<tr><td>1431</td><td>3329</td></tr>\n",
              "\t<tr><td>2260</td><td>6648</td></tr>\n",
              "\t<tr><td>1770</td><td>4800</td></tr>\n",
              "</tbody>\n",
              "</table>\n"
            ],
            "text/markdown": "\nA data.frame: 50 × 2\n\n| Y &lt;dbl&gt; | X &lt;dbl&gt; |\n|---|---|\n| 3011 | 9714 |\n| 1305 | 3728 |\n| 1879 | 6062 |\n| 2654 | 8845 |\n| 2849 | 8378 |\n| 1068 | 3338 |\n| 2892 | 8507 |\n| 2543 | 7947 |\n| 3074 | 9915 |\n|  849 | 1632 |\n| 2184 | 6825 |\n| 2943 | 8918 |\n| 1357 | 4100 |\n| 2755 | 9184 |\n| 2163 | 6180 |\n| 3099 | 9997 |\n| 1600 | 4500 |\n|  353 | 1069 |\n| 1778 | 5925 |\n|  740 | 2466 |\n| 2129 | 6083 |\n| 3302 | 9712 |\n| 2412 | 7780 |\n| 2683 | 8383 |\n| 2515 | 7185 |\n| 2395 | 7483 |\n| 2292 | 7640 |\n| 1000 | 2100 |\n|  600 | 2000 |\n| 1864 | 6012 |\n| 3027 | 8902 |\n| 1978 | 5345 |\n| 2791 | 8210 |\n| 1982 | 5662 |\n|  900 | 2700 |\n| 1964 | 6546 |\n| 1247 | 2900 |\n| 3067 | 9894 |\n|  700 | 1500 |\n| 1500 | 5000 |\n| 3110 | 8885 |\n| 2644 | 8813 |\n| 1378 | 3446 |\n| 2601 | 7881 |\n|  501 | 1164 |\n| 1292 | 3401 |\n| 2125 | 6641 |\n| 1431 | 3329 |\n| 2260 | 6648 |\n| 1770 | 4800 |\n\n",
            "text/latex": "A data.frame: 50 × 2\n\\begin{tabular}{ll}\n Y & X\\\\\n <dbl> & <dbl>\\\\\n\\hline\n\t 3011 & 9714\\\\\n\t 1305 & 3728\\\\\n\t 1879 & 6062\\\\\n\t 2654 & 8845\\\\\n\t 2849 & 8378\\\\\n\t 1068 & 3338\\\\\n\t 2892 & 8507\\\\\n\t 2543 & 7947\\\\\n\t 3074 & 9915\\\\\n\t  849 & 1632\\\\\n\t 2184 & 6825\\\\\n\t 2943 & 8918\\\\\n\t 1357 & 4100\\\\\n\t 2755 & 9184\\\\\n\t 2163 & 6180\\\\\n\t 3099 & 9997\\\\\n\t 1600 & 4500\\\\\n\t  353 & 1069\\\\\n\t 1778 & 5925\\\\\n\t  740 & 2466\\\\\n\t 2129 & 6083\\\\\n\t 3302 & 9712\\\\\n\t 2412 & 7780\\\\\n\t 2683 & 8383\\\\\n\t 2515 & 7185\\\\\n\t 2395 & 7483\\\\\n\t 2292 & 7640\\\\\n\t 1000 & 2100\\\\\n\t  600 & 2000\\\\\n\t 1864 & 6012\\\\\n\t 3027 & 8902\\\\\n\t 1978 & 5345\\\\\n\t 2791 & 8210\\\\\n\t 1982 & 5662\\\\\n\t  900 & 2700\\\\\n\t 1964 & 6546\\\\\n\t 1247 & 2900\\\\\n\t 3067 & 9894\\\\\n\t  700 & 1500\\\\\n\t 1500 & 5000\\\\\n\t 3110 & 8885\\\\\n\t 2644 & 8813\\\\\n\t 1378 & 3446\\\\\n\t 2601 & 7881\\\\\n\t  501 & 1164\\\\\n\t 1292 & 3401\\\\\n\t 2125 & 6641\\\\\n\t 1431 & 3329\\\\\n\t 2260 & 6648\\\\\n\t 1770 & 4800\\\\\n\\end{tabular}\n",
            "text/plain": [
              "   Y    X   \n",
              "1  3011 9714\n",
              "2  1305 3728\n",
              "3  1879 6062\n",
              "4  2654 8845\n",
              "5  2849 8378\n",
              "6  1068 3338\n",
              "7  2892 8507\n",
              "8  2543 7947\n",
              "9  3074 9915\n",
              "10  849 1632\n",
              "11 2184 6825\n",
              "12 2943 8918\n",
              "13 1357 4100\n",
              "14 2755 9184\n",
              "15 2163 6180\n",
              "16 3099 9997\n",
              "17 1600 4500\n",
              "18  353 1069\n",
              "19 1778 5925\n",
              "20  740 2466\n",
              "21 2129 6083\n",
              "22 3302 9712\n",
              "23 2412 7780\n",
              "24 2683 8383\n",
              "25 2515 7185\n",
              "26 2395 7483\n",
              "27 2292 7640\n",
              "28 1000 2100\n",
              "29  600 2000\n",
              "30 1864 6012\n",
              "31 3027 8902\n",
              "32 1978 5345\n",
              "33 2791 8210\n",
              "34 1982 5662\n",
              "35  900 2700\n",
              "36 1964 6546\n",
              "37 1247 2900\n",
              "38 3067 9894\n",
              "39  700 1500\n",
              "40 1500 5000\n",
              "41 3110 8885\n",
              "42 2644 8813\n",
              "43 1378 3446\n",
              "44 2601 7881\n",
              "45  501 1164\n",
              "46 1292 3401\n",
              "47 2125 6641\n",
              "48 1431 3329\n",
              "49 2260 6648\n",
              "50 1770 4800"
            ]
          },
          "metadata": {}
        }
      ],
      "source": [
        "dataset$X2 <- NULL\n",
        "dataset"
      ]
    },
    {
      "cell_type": "markdown",
      "metadata": {
        "id": "ls1COzpxcalN"
      },
      "source": [
        "### Obter $\\sum{Y^2}$"
      ]
    },
    {
      "cell_type": "code",
      "execution_count": null,
      "metadata": {
        "id": "gYc_poUmcalN",
        "colab": {
          "base_uri": "https://localhost:8080/",
          "height": 34
        },
        "outputId": "77baab6f-7e2b-40c5-b51d-d66a3a119b60"
      },
      "outputs": [
        {
          "output_type": "display_data",
          "data": {
            "text/html": [
              "234954332"
            ],
            "text/markdown": "234954332",
            "text/latex": "234954332",
            "text/plain": [
              "[1] 234954332"
            ]
          },
          "metadata": {}
        }
      ],
      "source": [
        "SOMA_Y2 <- sum(apply(dataset, 1, function(x) x['Y'] ** 2))\n",
        "SOMA_Y2"
      ]
    },
    {
      "cell_type": "markdown",
      "metadata": {
        "id": "UsCtTk3pcalP"
      },
      "source": [
        "### Obter $\\sum{XY}$"
      ]
    },
    {
      "cell_type": "code",
      "execution_count": null,
      "metadata": {
        "id": "s1NNuoM4calQ",
        "colab": {
          "base_uri": "https://localhost:8080/",
          "height": 34
        },
        "outputId": "aad085e2-e437-4cb2-a0fa-7ba726266017"
      },
      "outputs": [
        {
          "output_type": "display_data",
          "data": {
            "text/html": [
              "716683794"
            ],
            "text/markdown": "716683794",
            "text/latex": "716683794",
            "text/plain": [
              "[1] 716683794"
            ]
          },
          "metadata": {}
        }
      ],
      "source": [
        "SOMA_XY <- sum(apply(dataset, 1, function(x) x['Y'] * x['X']))\n",
        "SOMA_XY"
      ]
    },
    {
      "cell_type": "markdown",
      "metadata": {
        "id": "EX-oAn2rcalU"
      },
      "source": [
        "### Obter $\\hat{\\beta}_2$\n",
        "\n",
        "# $$\\hat{\\beta}_2 = \\frac{n\\sum{X_iY_i} - \\sum{X_i}\\sum{Y_i}}{n\\sum{X_i^2} - (\\sum{X_i})^2}$$"
      ]
    },
    {
      "cell_type": "code",
      "execution_count": null,
      "metadata": {
        "id": "UY-nWn7LcalU",
        "colab": {
          "base_uri": "https://localhost:8080/",
          "height": 34
        },
        "outputId": "bc6d572e-74fc-43e2-ed53-26dfb2c30557"
      },
      "outputs": [
        {
          "output_type": "display_data",
          "data": {
            "text/html": [
              "0.297290690993724"
            ],
            "text/markdown": "0.297290690993724",
            "text/latex": "0.297290690993724",
            "text/plain": [
              "[1] 0.2972907"
            ]
          },
          "metadata": {}
        }
      ],
      "source": [
        "numerador <- n * SOMA_XY - SOMA_X * SOMA_Y\n",
        "denominador <- n * SOMA_X2 - (SOMA_X) ** 2\n",
        "\n",
        "beta_2 <- numerador / denominador\n",
        "beta_2"
      ]
    },
    {
      "cell_type": "markdown",
      "metadata": {
        "id": "v4QCFagscalW"
      },
      "source": [
        "### Obter $\\hat{\\beta}_1$\n",
        "\n",
        "# $$\n",
        "\\begin{eqnarray}\n",
        "\\hat{\\beta}_1 &=& \\frac{\\sum{X_i^2}\\sum{Y_i} - \\sum{X_i}\\sum{X_iY_i}}{n\\sum{X_i^2} - (\\sum{X_i})^2}\\\\\n",
        "&=& \\bar{Y} - \\hat{\\beta}_2\\bar{X}\n",
        "\\end{eqnarray}\n",
        "$$ "
      ]
    },
    {
      "cell_type": "code",
      "execution_count": null,
      "metadata": {
        "id": "-Gjc1ra5calW",
        "colab": {
          "base_uri": "https://localhost:8080/",
          "height": 34
        },
        "outputId": "0f2dcf1b-adad-4a4b-cecd-90c94424cdf3"
      },
      "outputs": [
        {
          "output_type": "display_data",
          "data": {
            "text/html": [
              "207.903313777565"
            ],
            "text/markdown": "207.903313777565",
            "text/latex": "207.903313777565",
            "text/plain": [
              "[1] 207.9033"
            ]
          },
          "metadata": {}
        }
      ],
      "source": [
        "beta_1 <- mean(dataset$Y) - beta_2 * mean(dataset$X)\n",
        "beta_1"
      ]
    },
    {
      "cell_type": "code",
      "source": [
        "# exercicio\n",
        "\n",
        "# n = 200\n",
        "# SOMA_XY = 5372394\n",
        "# SOMA_X = 13422\n",
        "# SOMA_Y = 80831\n",
        "# SOMA_X2 = 1109828\n",
        "\n",
        "# numerador <- n * SOMA_XY - SOMA_X * SOMA_Y\n",
        "# denominador <- n * SOMA_X2 - (SOMA_X) ** 2\n",
        "\n",
        "# beta_2 <- numerador / denominador\n",
        "# beta_2"
      ],
      "metadata": {
        "id": "DjDSFmTpN40K"
      },
      "execution_count": null,
      "outputs": []
    },
    {
      "cell_type": "markdown",
      "metadata": {
        "id": "SjcncMd1calY"
      },
      "source": [
        "### Obtendo a estimativa dos parâmetros\n",
        "\n",
        "#### <font color=red>Documentações:\n",
        "\n",
        "- [**lm**](https://www.rdocumentation.org/packages/stats/versions/3.6.1/topics/lm)"
      ]
    },
    {
      "cell_type": "code",
      "execution_count": null,
      "metadata": {
        "id": "CGGritStcalh",
        "colab": {
          "base_uri": "https://localhost:8080/",
          "height": 146
        },
        "outputId": "b0b29d8e-36c1-49f9-84e0-c25cf5cd9471"
      },
      "outputs": [
        {
          "output_type": "display_data",
          "data": {
            "text/plain": [
              "\n",
              "Call:\n",
              "lm(formula = Y ~ X, data = dataset)\n",
              "\n",
              "Coefficients:\n",
              "(Intercept)            X  \n",
              "   207.9033       0.2973  \n"
            ]
          },
          "metadata": {}
        }
      ],
      "source": [
        "# obtendo os beta\n",
        "# intercept é o = Y\n",
        "# e o x = X\n",
        "resultado_regressao <- lm(formula = Y ~ X, data = dataset)\n",
        "resultado_regressao"
      ]
    },
    {
      "cell_type": "markdown",
      "metadata": {
        "id": "pyVnbv7vcali"
      },
      "source": [
        "### Visualizando os parâmetros estimados"
      ]
    },
    {
      "cell_type": "code",
      "execution_count": null,
      "metadata": {
        "id": "Ye2sF_ygcalj",
        "colab": {
          "base_uri": "https://localhost:8080/",
          "height": 34
        },
        "outputId": "800791c0-495d-442b-e0a5-527412a06699"
      },
      "outputs": [
        {
          "output_type": "display_data",
          "data": {
            "text/html": [
              "207.903313777565"
            ],
            "text/markdown": "207.903313777565",
            "text/latex": "207.903313777565",
            "text/plain": [
              "[1] 207.9033"
            ]
          },
          "metadata": {}
        }
      ],
      "source": [
        "beta_1"
      ]
    },
    {
      "cell_type": "code",
      "execution_count": null,
      "metadata": {
        "id": "5RGcqao9call",
        "colab": {
          "base_uri": "https://localhost:8080/",
          "height": 34
        },
        "outputId": "74de5ba5-9301-4b5b-ef66-36f3e5f44936"
      },
      "outputs": [
        {
          "output_type": "display_data",
          "data": {
            "text/html": [
              "0.297290690993724"
            ],
            "text/markdown": "0.297290690993724",
            "text/latex": "0.297290690993724",
            "text/plain": [
              "[1] 0.2972907"
            ]
          },
          "metadata": {}
        }
      ],
      "source": [
        "beta_2"
      ]
    },
    {
      "cell_type": "code",
      "execution_count": null,
      "metadata": {
        "id": "w8saX2bcEXbf",
        "colab": {
          "base_uri": "https://localhost:8080/",
          "height": 34
        },
        "outputId": "6401cf0b-4403-4e65-ea46-7bf474c06679"
      },
      "outputs": [
        {
          "output_type": "display_data",
          "data": {
            "text/html": [
              "<style>\n",
              ".dl-inline {width: auto; margin:0; padding: 0}\n",
              ".dl-inline>dt, .dl-inline>dd {float: none; width: auto; display: inline-block}\n",
              ".dl-inline>dt::after {content: \":\\0020\"; padding-right: .5ex}\n",
              ".dl-inline>dt:not(:first-of-type) {padding-left: .5ex}\n",
              "</style><dl class=dl-inline><dt>(Intercept)</dt><dd>207.903313777565</dd><dt>X</dt><dd>0.297290690993724</dd></dl>\n"
            ],
            "text/markdown": "(Intercept)\n:   207.903313777565X\n:   0.297290690993724\n\n",
            "text/latex": "\\begin{description*}\n\\item[(Intercept)] 207.903313777565\n\\item[X] 0.297290690993724\n\\end{description*}\n",
            "text/plain": [
              "(Intercept)           X \n",
              "207.9033138   0.2972907 "
            ]
          },
          "metadata": {}
        }
      ],
      "source": [
        "coefficients(resultado_regressao)"
      ]
    },
    {
      "cell_type": "code",
      "execution_count": null,
      "metadata": {
        "id": "qvYzgO8gEXbf",
        "colab": {
          "base_uri": "https://localhost:8080/",
          "height": 349
        },
        "outputId": "c25d3a0a-4140-4ee0-c88f-c471bc963351"
      },
      "outputs": [
        {
          "output_type": "display_data",
          "data": {
            "text/plain": [
              "\n",
              "Call:\n",
              "lm(formula = Y ~ X, data = dataset)\n",
              "\n",
              "Residuals:\n",
              "    Min      1Q  Median      3Q     Max \n",
              "-202.49 -125.96  -22.28  140.53  260.67 \n",
              "\n",
              "Coefficients:\n",
              "             Estimate Std. Error t value Pr(>|t|)    \n",
              "(Intercept) 2.079e+02  5.013e+01   4.148 0.000136 ***\n",
              "X           2.973e-01  7.559e-03  39.328  < 2e-16 ***\n",
              "---\n",
              "Signif. codes:  0 ‘***’ 0.001 ‘**’ 0.01 ‘*’ 0.05 ‘.’ 0.1 ‘ ’ 1\n",
              "\n",
              "Residual standard error: 143.2 on 48 degrees of freedom\n",
              "Multiple R-squared:  0.9699,\tAdjusted R-squared:  0.9693 \n",
              "F-statistic:  1547 on 1 and 48 DF,  p-value: < 2.2e-16\n"
            ]
          },
          "metadata": {}
        }
      ],
      "source": [
        "resumo <- summary(resultado_regressao)\n",
        "resumo"
      ]
    },
    {
      "cell_type": "code",
      "execution_count": null,
      "metadata": {
        "id": "CtILCtAuEXbg",
        "colab": {
          "base_uri": "https://localhost:8080/",
          "height": 129
        },
        "outputId": "3e295213-0baa-4b7b-b2c6-0ba7c531f2fe"
      },
      "outputs": [
        {
          "output_type": "display_data",
          "data": {
            "text/html": [
              "<table class=\"dataframe\">\n",
              "<caption>A matrix: 2 × 4 of type dbl</caption>\n",
              "<thead>\n",
              "\t<tr><th></th><th scope=col>Estimate</th><th scope=col>Std. Error</th><th scope=col>t value</th><th scope=col>Pr(&gt;|t|)</th></tr>\n",
              "</thead>\n",
              "<tbody>\n",
              "\t<tr><th scope=row>(Intercept)</th><td>207.9033138</td><td>50.126682183</td><td> 4.147558</td><td>1.362270e-04</td></tr>\n",
              "\t<tr><th scope=row>X</th><td>  0.2972907</td><td> 0.007559238</td><td>39.328132</td><td>3.555543e-38</td></tr>\n",
              "</tbody>\n",
              "</table>\n"
            ],
            "text/markdown": "\nA matrix: 2 × 4 of type dbl\n\n| <!--/--> | Estimate | Std. Error | t value | Pr(&gt;|t|) |\n|---|---|---|---|---|\n| (Intercept) | 207.9033138 | 50.126682183 |  4.147558 | 1.362270e-04 |\n| X |   0.2972907 |  0.007559238 | 39.328132 | 3.555543e-38 |\n\n",
            "text/latex": "A matrix: 2 × 4 of type dbl\n\\begin{tabular}{r|llll}\n  & Estimate & Std. Error & t value & Pr(>\\textbar{}t\\textbar{})\\\\\n\\hline\n\t(Intercept) & 207.9033138 & 50.126682183 &  4.147558 & 1.362270e-04\\\\\n\tX &   0.2972907 &  0.007559238 & 39.328132 & 3.555543e-38\\\\\n\\end{tabular}\n",
            "text/plain": [
              "            Estimate    Std. Error   t value   Pr(>|t|)    \n",
              "(Intercept) 207.9033138 50.126682183  4.147558 1.362270e-04\n",
              "X             0.2972907  0.007559238 39.328132 3.555543e-38"
            ]
          },
          "metadata": {}
        }
      ],
      "source": [
        "resumo$coefficients"
      ]
    },
    {
      "cell_type": "code",
      "source": [
        "# exercicio\n",
        "\n",
        "# Temos o número de domicílios que possuem computador (Y) e a renda total\n",
        "# recebida por pessoas de 10 anos ou mais (X) em cada um dos estados brasileiros.\n",
        "# Acredita-se que a posse de computadores tenha uma relação linear com a renda\n",
        "# das famílias e, para comprovar isso, podemos estimar uma regressão linear\n",
        "# com os dados acima e avaliar os resultados obtidos.\n",
        "# Neste problema, precisamos, inicialmente, obter as estimativas\n",
        "# dos parâmetros de regressão.\n",
        "\n",
        "#dataset <- data.frame(\n",
        "#    Y = c(670, 220, 1202, 188, 1869, 248, 477, 1294, 816, 2671, \n",
        "#            1403, 1586, 3468, 973, 701, 5310, 10950, 2008, 9574, \n",
        "#            28863, 6466, 4274, 6432, 1326, 1423, 3211, 2140),\n",
        "#    X = c(1.59, 0.56, 2.68, 0.47, 5.2, 0.58, 1.32, 3.88, 2.11, \n",
        "#            5.53, 2.6, 2.94, 6.62, 1.91, 1.48, 10.64, 22.39, 4.2, \n",
        "#            21.9, 59.66, 14.22, 9.57, 14.67, 3.28, 3.49, 6.94, 6.25)\n",
        "#)\n",
        "#resultado_regressao <- lm(formula = Y ~ X, data = dataset)\n",
        "#resultado_regressao"
      ],
      "metadata": {
        "id": "VVhqZYGmPXlR"
      },
      "execution_count": null,
      "outputs": []
    },
    {
      "cell_type": "markdown",
      "metadata": {
        "id": "Je8U449lcalq"
      },
      "source": [
        "## <font color=green>4.4 Obtendo previsões</font>\n",
        "***"
      ]
    },
    {
      "cell_type": "markdown",
      "metadata": {
        "id": "PNPQFFsrcalq"
      },
      "source": [
        "# $$\\hat{Y}_i = 207,9033 + 0,2973X_i$$"
      ]
    },
    {
      "cell_type": "markdown",
      "metadata": {
        "id": "qNpJclcrcalr"
      },
      "source": [
        "### Previsões dentro da amostra"
      ]
    },
    {
      "cell_type": "code",
      "execution_count": null,
      "metadata": {
        "id": "fqOX7ssAcalr",
        "scrolled": true,
        "colab": {
          "base_uri": "https://localhost:8080/",
          "height": 411
        },
        "outputId": "f32823c9-bd90-4442-f973-6cd4530581fe"
      },
      "outputs": [
        {
          "output_type": "display_data",
          "data": {
            "text/html": [
              "<table class=\"dataframe\">\n",
              "<caption>A data.frame: 10 × 3</caption>\n",
              "<thead>\n",
              "\t<tr><th></th><th scope=col>Y</th><th scope=col>X</th><th scope=col>Y_previsto</th></tr>\n",
              "\t<tr><th></th><th scope=col>&lt;dbl&gt;</th><th scope=col>&lt;dbl&gt;</th><th scope=col>&lt;dbl&gt;</th></tr>\n",
              "</thead>\n",
              "<tbody>\n",
              "\t<tr><th scope=row>1</th><td>3011</td><td>9714</td><td>3095.7851</td></tr>\n",
              "\t<tr><th scope=row>2</th><td>1305</td><td>3728</td><td>1316.2030</td></tr>\n",
              "\t<tr><th scope=row>3</th><td>1879</td><td>6062</td><td>2010.0795</td></tr>\n",
              "\t<tr><th scope=row>4</th><td>2654</td><td>8845</td><td>2837.4395</td></tr>\n",
              "\t<tr><th scope=row>5</th><td>2849</td><td>8378</td><td>2698.6047</td></tr>\n",
              "\t<tr><th scope=row>6</th><td>1068</td><td>3338</td><td>1200.2596</td></tr>\n",
              "\t<tr><th scope=row>7</th><td>2892</td><td>8507</td><td>2736.9552</td></tr>\n",
              "\t<tr><th scope=row>8</th><td>2543</td><td>7947</td><td>2570.4724</td></tr>\n",
              "\t<tr><th scope=row>9</th><td>3074</td><td>9915</td><td>3155.5405</td></tr>\n",
              "\t<tr><th scope=row>10</th><td> 849</td><td>1632</td><td> 693.0817</td></tr>\n",
              "</tbody>\n",
              "</table>\n"
            ],
            "text/markdown": "\nA data.frame: 10 × 3\n\n| <!--/--> | Y &lt;dbl&gt; | X &lt;dbl&gt; | Y_previsto &lt;dbl&gt; |\n|---|---|---|---|\n| 1 | 3011 | 9714 | 3095.7851 |\n| 2 | 1305 | 3728 | 1316.2030 |\n| 3 | 1879 | 6062 | 2010.0795 |\n| 4 | 2654 | 8845 | 2837.4395 |\n| 5 | 2849 | 8378 | 2698.6047 |\n| 6 | 1068 | 3338 | 1200.2596 |\n| 7 | 2892 | 8507 | 2736.9552 |\n| 8 | 2543 | 7947 | 2570.4724 |\n| 9 | 3074 | 9915 | 3155.5405 |\n| 10 |  849 | 1632 |  693.0817 |\n\n",
            "text/latex": "A data.frame: 10 × 3\n\\begin{tabular}{r|lll}\n  & Y & X & Y\\_previsto\\\\\n  & <dbl> & <dbl> & <dbl>\\\\\n\\hline\n\t1 & 3011 & 9714 & 3095.7851\\\\\n\t2 & 1305 & 3728 & 1316.2030\\\\\n\t3 & 1879 & 6062 & 2010.0795\\\\\n\t4 & 2654 & 8845 & 2837.4395\\\\\n\t5 & 2849 & 8378 & 2698.6047\\\\\n\t6 & 1068 & 3338 & 1200.2596\\\\\n\t7 & 2892 & 8507 & 2736.9552\\\\\n\t8 & 2543 & 7947 & 2570.4724\\\\\n\t9 & 3074 & 9915 & 3155.5405\\\\\n\t10 &  849 & 1632 &  693.0817\\\\\n\\end{tabular}\n",
            "text/plain": [
              "   Y    X    Y_previsto\n",
              "1  3011 9714 3095.7851 \n",
              "2  1305 3728 1316.2030 \n",
              "3  1879 6062 2010.0795 \n",
              "4  2654 8845 2837.4395 \n",
              "5  2849 8378 2698.6047 \n",
              "6  1068 3338 1200.2596 \n",
              "7  2892 8507 2736.9552 \n",
              "8  2543 7947 2570.4724 \n",
              "9  3074 9915 3155.5405 \n",
              "10  849 1632  693.0817 "
            ]
          },
          "metadata": {}
        }
      ],
      "source": [
        "# o y_previsto mostra valores próximos, não cai certinho com o Y observado\n",
        "dataset['Y_previsto'] <- beta_1 + beta_2 * dataset$X\n",
        "head(dataset, 10)"
      ]
    },
    {
      "cell_type": "markdown",
      "metadata": {
        "id": "hRRoxxAwcals"
      },
      "source": [
        "### Utilizando a função do R"
      ]
    },
    {
      "cell_type": "code",
      "execution_count": null,
      "metadata": {
        "id": "qLhv0yTgcals",
        "scrolled": true,
        "colab": {
          "base_uri": "https://localhost:8080/",
          "height": 411
        },
        "outputId": "cc52d4b8-e1a6-4d5e-97e9-c5b380eb8c6b"
      },
      "outputs": [
        {
          "output_type": "display_data",
          "data": {
            "text/html": [
              "<table class=\"dataframe\">\n",
              "<caption>A data.frame: 10 × 4</caption>\n",
              "<thead>\n",
              "\t<tr><th></th><th scope=col>Y</th><th scope=col>X</th><th scope=col>Y_previsto</th><th scope=col>Y_previsto_R</th></tr>\n",
              "\t<tr><th></th><th scope=col>&lt;dbl&gt;</th><th scope=col>&lt;dbl&gt;</th><th scope=col>&lt;dbl&gt;</th><th scope=col>&lt;dbl&gt;</th></tr>\n",
              "</thead>\n",
              "<tbody>\n",
              "\t<tr><th scope=row>1</th><td>3011</td><td>9714</td><td>3095.7851</td><td>3095.7851</td></tr>\n",
              "\t<tr><th scope=row>2</th><td>1305</td><td>3728</td><td>1316.2030</td><td>1316.2030</td></tr>\n",
              "\t<tr><th scope=row>3</th><td>1879</td><td>6062</td><td>2010.0795</td><td>2010.0795</td></tr>\n",
              "\t<tr><th scope=row>4</th><td>2654</td><td>8845</td><td>2837.4395</td><td>2837.4395</td></tr>\n",
              "\t<tr><th scope=row>5</th><td>2849</td><td>8378</td><td>2698.6047</td><td>2698.6047</td></tr>\n",
              "\t<tr><th scope=row>6</th><td>1068</td><td>3338</td><td>1200.2596</td><td>1200.2596</td></tr>\n",
              "\t<tr><th scope=row>7</th><td>2892</td><td>8507</td><td>2736.9552</td><td>2736.9552</td></tr>\n",
              "\t<tr><th scope=row>8</th><td>2543</td><td>7947</td><td>2570.4724</td><td>2570.4724</td></tr>\n",
              "\t<tr><th scope=row>9</th><td>3074</td><td>9915</td><td>3155.5405</td><td>3155.5405</td></tr>\n",
              "\t<tr><th scope=row>10</th><td> 849</td><td>1632</td><td> 693.0817</td><td> 693.0817</td></tr>\n",
              "</tbody>\n",
              "</table>\n"
            ],
            "text/markdown": "\nA data.frame: 10 × 4\n\n| <!--/--> | Y &lt;dbl&gt; | X &lt;dbl&gt; | Y_previsto &lt;dbl&gt; | Y_previsto_R &lt;dbl&gt; |\n|---|---|---|---|---|\n| 1 | 3011 | 9714 | 3095.7851 | 3095.7851 |\n| 2 | 1305 | 3728 | 1316.2030 | 1316.2030 |\n| 3 | 1879 | 6062 | 2010.0795 | 2010.0795 |\n| 4 | 2654 | 8845 | 2837.4395 | 2837.4395 |\n| 5 | 2849 | 8378 | 2698.6047 | 2698.6047 |\n| 6 | 1068 | 3338 | 1200.2596 | 1200.2596 |\n| 7 | 2892 | 8507 | 2736.9552 | 2736.9552 |\n| 8 | 2543 | 7947 | 2570.4724 | 2570.4724 |\n| 9 | 3074 | 9915 | 3155.5405 | 3155.5405 |\n| 10 |  849 | 1632 |  693.0817 |  693.0817 |\n\n",
            "text/latex": "A data.frame: 10 × 4\n\\begin{tabular}{r|llll}\n  & Y & X & Y\\_previsto & Y\\_previsto\\_R\\\\\n  & <dbl> & <dbl> & <dbl> & <dbl>\\\\\n\\hline\n\t1 & 3011 & 9714 & 3095.7851 & 3095.7851\\\\\n\t2 & 1305 & 3728 & 1316.2030 & 1316.2030\\\\\n\t3 & 1879 & 6062 & 2010.0795 & 2010.0795\\\\\n\t4 & 2654 & 8845 & 2837.4395 & 2837.4395\\\\\n\t5 & 2849 & 8378 & 2698.6047 & 2698.6047\\\\\n\t6 & 1068 & 3338 & 1200.2596 & 1200.2596\\\\\n\t7 & 2892 & 8507 & 2736.9552 & 2736.9552\\\\\n\t8 & 2543 & 7947 & 2570.4724 & 2570.4724\\\\\n\t9 & 3074 & 9915 & 3155.5405 & 3155.5405\\\\\n\t10 &  849 & 1632 &  693.0817 &  693.0817\\\\\n\\end{tabular}\n",
            "text/plain": [
              "   Y    X    Y_previsto Y_previsto_R\n",
              "1  3011 9714 3095.7851  3095.7851   \n",
              "2  1305 3728 1316.2030  1316.2030   \n",
              "3  1879 6062 2010.0795  2010.0795   \n",
              "4  2654 8845 2837.4395  2837.4395   \n",
              "5  2849 8378 2698.6047  2698.6047   \n",
              "6  1068 3338 1200.2596  1200.2596   \n",
              "7  2892 8507 2736.9552  2736.9552   \n",
              "8  2543 7947 2570.4724  2570.4724   \n",
              "9  3074 9915 3155.5405  3155.5405   \n",
              "10  849 1632  693.0817   693.0817   "
            ]
          },
          "metadata": {}
        }
      ],
      "source": [
        "# com essa função de fitted.values, eu consigo pegar todos os betas, caso tenha\n",
        "# mais de 2, pois não preciso ficar digitando cada um deles\n",
        "dataset['Y_previsto_R'] <- resultado_regressao$fitted.values\n",
        "head(dataset, 10)"
      ]
    },
    {
      "cell_type": "code",
      "execution_count": null,
      "metadata": {
        "id": "FctIV05Kcalu",
        "scrolled": true,
        "outputId": "0854f8e6-bc3c-4ab5-89a0-46620351333f",
        "colab": {
          "base_uri": "https://localhost:8080/",
          "height": 1000
        }
      },
      "outputs": [
        {
          "output_type": "display_data",
          "data": {
            "text/html": [
              "<table class=\"dataframe\">\n",
              "<caption>A data.frame: 50 × 3</caption>\n",
              "<thead>\n",
              "\t<tr><th scope=col>Y</th><th scope=col>X</th><th scope=col>Y_previsto</th></tr>\n",
              "\t<tr><th scope=col>&lt;dbl&gt;</th><th scope=col>&lt;dbl&gt;</th><th scope=col>&lt;dbl&gt;</th></tr>\n",
              "</thead>\n",
              "<tbody>\n",
              "\t<tr><td>3011</td><td>9714</td><td>3095.7851</td></tr>\n",
              "\t<tr><td>1305</td><td>3728</td><td>1316.2030</td></tr>\n",
              "\t<tr><td>1879</td><td>6062</td><td>2010.0795</td></tr>\n",
              "\t<tr><td>2654</td><td>8845</td><td>2837.4395</td></tr>\n",
              "\t<tr><td>2849</td><td>8378</td><td>2698.6047</td></tr>\n",
              "\t<tr><td>1068</td><td>3338</td><td>1200.2596</td></tr>\n",
              "\t<tr><td>2892</td><td>8507</td><td>2736.9552</td></tr>\n",
              "\t<tr><td>2543</td><td>7947</td><td>2570.4724</td></tr>\n",
              "\t<tr><td>3074</td><td>9915</td><td>3155.5405</td></tr>\n",
              "\t<tr><td> 849</td><td>1632</td><td> 693.0817</td></tr>\n",
              "\t<tr><td>2184</td><td>6825</td><td>2236.9123</td></tr>\n",
              "\t<tr><td>2943</td><td>8918</td><td>2859.1417</td></tr>\n",
              "\t<tr><td>1357</td><td>4100</td><td>1426.7951</td></tr>\n",
              "\t<tr><td>2755</td><td>9184</td><td>2938.2210</td></tr>\n",
              "\t<tr><td>2163</td><td>6180</td><td>2045.1598</td></tr>\n",
              "\t<tr><td>3099</td><td>9997</td><td>3179.9184</td></tr>\n",
              "\t<tr><td>1600</td><td>4500</td><td>1545.7114</td></tr>\n",
              "\t<tr><td> 353</td><td>1069</td><td> 525.7071</td></tr>\n",
              "\t<tr><td>1778</td><td>5925</td><td>1969.3507</td></tr>\n",
              "\t<tr><td> 740</td><td>2466</td><td> 941.0222</td></tr>\n",
              "\t<tr><td>2129</td><td>6083</td><td>2016.3226</td></tr>\n",
              "\t<tr><td>3302</td><td>9712</td><td>3095.1905</td></tr>\n",
              "\t<tr><td>2412</td><td>7780</td><td>2520.8249</td></tr>\n",
              "\t<tr><td>2683</td><td>8383</td><td>2700.0912</td></tr>\n",
              "\t<tr><td>2515</td><td>7185</td><td>2343.9369</td></tr>\n",
              "\t<tr><td>2395</td><td>7483</td><td>2432.5296</td></tr>\n",
              "\t<tr><td>2292</td><td>7640</td><td>2479.2042</td></tr>\n",
              "\t<tr><td>1000</td><td>2100</td><td> 832.2138</td></tr>\n",
              "\t<tr><td> 600</td><td>2000</td><td> 802.4847</td></tr>\n",
              "\t<tr><td>1864</td><td>6012</td><td>1995.2149</td></tr>\n",
              "\t<tr><td>3027</td><td>8902</td><td>2854.3850</td></tr>\n",
              "\t<tr><td>1978</td><td>5345</td><td>1796.9221</td></tr>\n",
              "\t<tr><td>2791</td><td>8210</td><td>2648.6599</td></tr>\n",
              "\t<tr><td>1982</td><td>5662</td><td>1891.1632</td></tr>\n",
              "\t<tr><td> 900</td><td>2700</td><td>1010.5882</td></tr>\n",
              "\t<tr><td>1964</td><td>6546</td><td>2153.9682</td></tr>\n",
              "\t<tr><td>1247</td><td>2900</td><td>1070.0463</td></tr>\n",
              "\t<tr><td>3067</td><td>9894</td><td>3149.2974</td></tr>\n",
              "\t<tr><td> 700</td><td>1500</td><td> 653.8394</td></tr>\n",
              "\t<tr><td>1500</td><td>5000</td><td>1694.3568</td></tr>\n",
              "\t<tr><td>3110</td><td>8885</td><td>2849.3311</td></tr>\n",
              "\t<tr><td>2644</td><td>8813</td><td>2827.9262</td></tr>\n",
              "\t<tr><td>1378</td><td>3446</td><td>1232.3670</td></tr>\n",
              "\t<tr><td>2601</td><td>7881</td><td>2550.8512</td></tr>\n",
              "\t<tr><td> 501</td><td>1164</td><td> 553.9497</td></tr>\n",
              "\t<tr><td>1292</td><td>3401</td><td>1218.9890</td></tr>\n",
              "\t<tr><td>2125</td><td>6641</td><td>2182.2108</td></tr>\n",
              "\t<tr><td>1431</td><td>3329</td><td>1197.5840</td></tr>\n",
              "\t<tr><td>2260</td><td>6648</td><td>2184.2918</td></tr>\n",
              "\t<tr><td>1770</td><td>4800</td><td>1634.8986</td></tr>\n",
              "</tbody>\n",
              "</table>\n"
            ],
            "text/markdown": "\nA data.frame: 50 × 3\n\n| Y &lt;dbl&gt; | X &lt;dbl&gt; | Y_previsto &lt;dbl&gt; |\n|---|---|---|\n| 3011 | 9714 | 3095.7851 |\n| 1305 | 3728 | 1316.2030 |\n| 1879 | 6062 | 2010.0795 |\n| 2654 | 8845 | 2837.4395 |\n| 2849 | 8378 | 2698.6047 |\n| 1068 | 3338 | 1200.2596 |\n| 2892 | 8507 | 2736.9552 |\n| 2543 | 7947 | 2570.4724 |\n| 3074 | 9915 | 3155.5405 |\n|  849 | 1632 |  693.0817 |\n| 2184 | 6825 | 2236.9123 |\n| 2943 | 8918 | 2859.1417 |\n| 1357 | 4100 | 1426.7951 |\n| 2755 | 9184 | 2938.2210 |\n| 2163 | 6180 | 2045.1598 |\n| 3099 | 9997 | 3179.9184 |\n| 1600 | 4500 | 1545.7114 |\n|  353 | 1069 |  525.7071 |\n| 1778 | 5925 | 1969.3507 |\n|  740 | 2466 |  941.0222 |\n| 2129 | 6083 | 2016.3226 |\n| 3302 | 9712 | 3095.1905 |\n| 2412 | 7780 | 2520.8249 |\n| 2683 | 8383 | 2700.0912 |\n| 2515 | 7185 | 2343.9369 |\n| 2395 | 7483 | 2432.5296 |\n| 2292 | 7640 | 2479.2042 |\n| 1000 | 2100 |  832.2138 |\n|  600 | 2000 |  802.4847 |\n| 1864 | 6012 | 1995.2149 |\n| 3027 | 8902 | 2854.3850 |\n| 1978 | 5345 | 1796.9221 |\n| 2791 | 8210 | 2648.6599 |\n| 1982 | 5662 | 1891.1632 |\n|  900 | 2700 | 1010.5882 |\n| 1964 | 6546 | 2153.9682 |\n| 1247 | 2900 | 1070.0463 |\n| 3067 | 9894 | 3149.2974 |\n|  700 | 1500 |  653.8394 |\n| 1500 | 5000 | 1694.3568 |\n| 3110 | 8885 | 2849.3311 |\n| 2644 | 8813 | 2827.9262 |\n| 1378 | 3446 | 1232.3670 |\n| 2601 | 7881 | 2550.8512 |\n|  501 | 1164 |  553.9497 |\n| 1292 | 3401 | 1218.9890 |\n| 2125 | 6641 | 2182.2108 |\n| 1431 | 3329 | 1197.5840 |\n| 2260 | 6648 | 2184.2918 |\n| 1770 | 4800 | 1634.8986 |\n\n",
            "text/latex": "A data.frame: 50 × 3\n\\begin{tabular}{lll}\n Y & X & Y\\_previsto\\\\\n <dbl> & <dbl> & <dbl>\\\\\n\\hline\n\t 3011 & 9714 & 3095.7851\\\\\n\t 1305 & 3728 & 1316.2030\\\\\n\t 1879 & 6062 & 2010.0795\\\\\n\t 2654 & 8845 & 2837.4395\\\\\n\t 2849 & 8378 & 2698.6047\\\\\n\t 1068 & 3338 & 1200.2596\\\\\n\t 2892 & 8507 & 2736.9552\\\\\n\t 2543 & 7947 & 2570.4724\\\\\n\t 3074 & 9915 & 3155.5405\\\\\n\t  849 & 1632 &  693.0817\\\\\n\t 2184 & 6825 & 2236.9123\\\\\n\t 2943 & 8918 & 2859.1417\\\\\n\t 1357 & 4100 & 1426.7951\\\\\n\t 2755 & 9184 & 2938.2210\\\\\n\t 2163 & 6180 & 2045.1598\\\\\n\t 3099 & 9997 & 3179.9184\\\\\n\t 1600 & 4500 & 1545.7114\\\\\n\t  353 & 1069 &  525.7071\\\\\n\t 1778 & 5925 & 1969.3507\\\\\n\t  740 & 2466 &  941.0222\\\\\n\t 2129 & 6083 & 2016.3226\\\\\n\t 3302 & 9712 & 3095.1905\\\\\n\t 2412 & 7780 & 2520.8249\\\\\n\t 2683 & 8383 & 2700.0912\\\\\n\t 2515 & 7185 & 2343.9369\\\\\n\t 2395 & 7483 & 2432.5296\\\\\n\t 2292 & 7640 & 2479.2042\\\\\n\t 1000 & 2100 &  832.2138\\\\\n\t  600 & 2000 &  802.4847\\\\\n\t 1864 & 6012 & 1995.2149\\\\\n\t 3027 & 8902 & 2854.3850\\\\\n\t 1978 & 5345 & 1796.9221\\\\\n\t 2791 & 8210 & 2648.6599\\\\\n\t 1982 & 5662 & 1891.1632\\\\\n\t  900 & 2700 & 1010.5882\\\\\n\t 1964 & 6546 & 2153.9682\\\\\n\t 1247 & 2900 & 1070.0463\\\\\n\t 3067 & 9894 & 3149.2974\\\\\n\t  700 & 1500 &  653.8394\\\\\n\t 1500 & 5000 & 1694.3568\\\\\n\t 3110 & 8885 & 2849.3311\\\\\n\t 2644 & 8813 & 2827.9262\\\\\n\t 1378 & 3446 & 1232.3670\\\\\n\t 2601 & 7881 & 2550.8512\\\\\n\t  501 & 1164 &  553.9497\\\\\n\t 1292 & 3401 & 1218.9890\\\\\n\t 2125 & 6641 & 2182.2108\\\\\n\t 1431 & 3329 & 1197.5840\\\\\n\t 2260 & 6648 & 2184.2918\\\\\n\t 1770 & 4800 & 1634.8986\\\\\n\\end{tabular}\n",
            "text/plain": [
              "   Y    X    Y_previsto\n",
              "1  3011 9714 3095.7851 \n",
              "2  1305 3728 1316.2030 \n",
              "3  1879 6062 2010.0795 \n",
              "4  2654 8845 2837.4395 \n",
              "5  2849 8378 2698.6047 \n",
              "6  1068 3338 1200.2596 \n",
              "7  2892 8507 2736.9552 \n",
              "8  2543 7947 2570.4724 \n",
              "9  3074 9915 3155.5405 \n",
              "10  849 1632  693.0817 \n",
              "11 2184 6825 2236.9123 \n",
              "12 2943 8918 2859.1417 \n",
              "13 1357 4100 1426.7951 \n",
              "14 2755 9184 2938.2210 \n",
              "15 2163 6180 2045.1598 \n",
              "16 3099 9997 3179.9184 \n",
              "17 1600 4500 1545.7114 \n",
              "18  353 1069  525.7071 \n",
              "19 1778 5925 1969.3507 \n",
              "20  740 2466  941.0222 \n",
              "21 2129 6083 2016.3226 \n",
              "22 3302 9712 3095.1905 \n",
              "23 2412 7780 2520.8249 \n",
              "24 2683 8383 2700.0912 \n",
              "25 2515 7185 2343.9369 \n",
              "26 2395 7483 2432.5296 \n",
              "27 2292 7640 2479.2042 \n",
              "28 1000 2100  832.2138 \n",
              "29  600 2000  802.4847 \n",
              "30 1864 6012 1995.2149 \n",
              "31 3027 8902 2854.3850 \n",
              "32 1978 5345 1796.9221 \n",
              "33 2791 8210 2648.6599 \n",
              "34 1982 5662 1891.1632 \n",
              "35  900 2700 1010.5882 \n",
              "36 1964 6546 2153.9682 \n",
              "37 1247 2900 1070.0463 \n",
              "38 3067 9894 3149.2974 \n",
              "39  700 1500  653.8394 \n",
              "40 1500 5000 1694.3568 \n",
              "41 3110 8885 2849.3311 \n",
              "42 2644 8813 2827.9262 \n",
              "43 1378 3446 1232.3670 \n",
              "44 2601 7881 2550.8512 \n",
              "45  501 1164  553.9497 \n",
              "46 1292 3401 1218.9890 \n",
              "47 2125 6641 2182.2108 \n",
              "48 1431 3329 1197.5840 \n",
              "49 2260 6648 2184.2918 \n",
              "50 1770 4800 1634.8986 "
            ]
          },
          "metadata": {}
        }
      ],
      "source": [
        "dataset$Y_previsto_R <- NULL\n",
        "dataset"
      ]
    },
    {
      "cell_type": "markdown",
      "metadata": {
        "id": "OZBs0luwcalv"
      },
      "source": [
        "### Estimando o 'Gasto das Famílias' fora da amostra"
      ]
    },
    {
      "cell_type": "code",
      "execution_count": null,
      "metadata": {
        "id": "4gXSqx41calv"
      },
      "outputs": [],
      "source": [
        "prever = function(x){\n",
        "  return(beta_1 + beta_2 * x)\n",
        "}"
      ]
    },
    {
      "cell_type": "code",
      "execution_count": null,
      "metadata": {
        "id": "RyBwrPlQcalx",
        "colab": {
          "base_uri": "https://localhost:8080/",
          "height": 34
        },
        "outputId": "e36a1d12-9c85-4ac2-fc20-1343252e6390"
      },
      "outputs": [
        {
          "output_type": "display_data",
          "data": {
            "text/html": [
              "2440.55640314043"
            ],
            "text/markdown": "2440.55640314043",
            "text/latex": "2440.55640314043",
            "text/plain": [
              "[1] 2440.556"
            ]
          },
          "metadata": {}
        }
      ],
      "source": [
        "prever(7510)"
      ]
    },
    {
      "cell_type": "markdown",
      "metadata": {
        "id": "3P0ZtB-Qcalz"
      },
      "source": [
        "### Estimando o 'Gasto das Famílias' fora da amostra com a função do R"
      ]
    },
    {
      "cell_type": "code",
      "execution_count": null,
      "metadata": {
        "id": "DpDu_yiecal0",
        "colab": {
          "base_uri": "https://localhost:8080/",
          "height": 34
        },
        "outputId": "03831e25-c180-46e4-ba3f-213ca632c43d"
      },
      "outputs": [
        {
          "output_type": "display_data",
          "data": {
            "text/html": [
              "<style>\n",
              ".dl-inline {width: auto; margin:0; padding: 0}\n",
              ".dl-inline>dt, .dl-inline>dd {float: none; width: auto; display: inline-block}\n",
              ".dl-inline>dt::after {content: \":\\0020\"; padding-right: .5ex}\n",
              ".dl-inline>dt:not(:first-of-type) {padding-left: .5ex}\n",
              "</style><dl class=dl-inline><dt>1</dt><dd>2440.55640314043</dd><dt>2</dt><dd>2452.44803078018</dd></dl>\n"
            ],
            "text/markdown": "1\n:   2440.556403140432\n:   2452.44803078018\n\n",
            "text/latex": "\\begin{description*}\n\\item[1] 2440.55640314043\n\\item[2] 2452.44803078018\n\\end{description*}\n",
            "text/plain": [
              "       1        2 \n",
              "2440.556 2452.448 "
            ]
          },
          "metadata": {}
        }
      ],
      "source": [
        "# usando função do r para fazer predição\n",
        "predict(resultado_regressao, data.frame(X = c(7510, 7550)))"
      ]
    },
    {
      "cell_type": "code",
      "source": [
        "# exercicio\n",
        "\n",
        "# Considerando os dados dos problemas anteriores, onde se acredita que a posse\n",
        "# de computadores tenha uma relação linear com a renda das famílias, após\n",
        "# estimarmos o modelo, suponha que seja criado um estado e que este apresente\n",
        "# uma renda total de R$ 4.350.000. Agora, queremos a previsão (valor arredondado)\n",
        "# para o número de domicílios que possuem computador neste novo estado da federação.\n",
        "\n",
        "# Y é o número de domicílios que possuem computador\n",
        "# X é a renda total recebida por pessoas de 10 anos ou mais, \n",
        "# em cada um dos estados brasileiros\n",
        "# Assinale a alternativa que apresenta a previsão (valor arredondado) para\n",
        "# o número de domicílios que possuem computador no novo estado da federação.\n",
        "#dataset <- data.frame(\n",
        "#    Y = c(670, 220, 1202, 188, 1869, 248, 477, 1294, 816, \n",
        "#        2671, 1403, 1586, 3468, 973, 701, 5310, 10950, 2008, \n",
        "#        9574, 28863, 6466, 4274, 6432, 1326, 1423, 3211, 2140),\n",
        "#    X = c(1.59, 0.56, 2.68, 0.47, 5.2, 0.58, 1.32, 3.88, 2.11, \n",
        "#        5.53, 2.6, 2.94, 6.62, 1.91, 1.48, 10.64, 22.39, 4.2, \n",
        "#        21.9, 59.66, 14.22, 9.57, 14.67, 3.28, 3.49, 6.94, 6.25)\n",
        "#)\n",
        "\n",
        "# resultado_regressao <- lm(formula = Y ~ X, data = dataset)\n",
        "# predict(resultado_regressao, data.frame(X = 4.35))"
      ],
      "metadata": {
        "id": "yRbiDu1ET4io"
      },
      "execution_count": null,
      "outputs": []
    },
    {
      "cell_type": "markdown",
      "metadata": {
        "id": "NfEjm65Gcal2"
      },
      "source": [
        "## <font color=green>4.5 Resíduos</font>\n",
        "***"
      ]
    },
    {
      "cell_type": "markdown",
      "metadata": {
        "id": "RVAQCkvH75mH"
      },
      "source": [
        "Como vimos anteriormente, o resíduo da i-ésima observação é a diferença entre o valor observado de nossa variável dependente ($Y_i$) e o valor estimado da variável dependente ($\\hat{Y}_i$)."
      ]
    },
    {
      "cell_type": "markdown",
      "metadata": {
        "id": "EAGrrY7xcal3"
      },
      "source": [
        "# $$\\hat{u}_i = Y_i - \\hat{Y}_i$$"
      ]
    },
    {
      "cell_type": "markdown",
      "metadata": {
        "id": "QVekZtNU75mH"
      },
      "source": [
        "Em outras palavras, $\\hat{u}_i$ é o erro obtido ao se utilizar a equação de regressão estimada para prever o valor da variável dependente."
      ]
    },
    {
      "cell_type": "code",
      "execution_count": null,
      "metadata": {
        "id": "oiB2JiOLcal3",
        "scrolled": true,
        "outputId": "4147020e-af6f-4809-968b-4d1730144eb4",
        "colab": {
          "base_uri": "https://localhost:8080/",
          "height": 286
        }
      },
      "outputs": [
        {
          "output_type": "display_data",
          "data": {
            "text/html": [
              "<table class=\"dataframe\">\n",
              "<caption>A data.frame: 6 × 4</caption>\n",
              "<thead>\n",
              "\t<tr><th></th><th scope=col>Y</th><th scope=col>X</th><th scope=col>Y_previsto</th><th scope=col>u</th></tr>\n",
              "\t<tr><th></th><th scope=col>&lt;dbl&gt;</th><th scope=col>&lt;dbl&gt;</th><th scope=col>&lt;dbl&gt;</th><th scope=col>&lt;dbl&gt;</th></tr>\n",
              "</thead>\n",
              "<tbody>\n",
              "\t<tr><th scope=row>1</th><td>3011</td><td>9714</td><td>3095.785</td><td> -84.78509</td></tr>\n",
              "\t<tr><th scope=row>2</th><td>1305</td><td>3728</td><td>1316.203</td><td> -11.20301</td></tr>\n",
              "\t<tr><th scope=row>3</th><td>1879</td><td>6062</td><td>2010.079</td><td>-131.07948</td></tr>\n",
              "\t<tr><th scope=row>4</th><td>2654</td><td>8845</td><td>2837.439</td><td>-183.43948</td></tr>\n",
              "\t<tr><th scope=row>5</th><td>2849</td><td>8378</td><td>2698.605</td><td> 150.39528</td></tr>\n",
              "\t<tr><th scope=row>6</th><td>1068</td><td>3338</td><td>1200.260</td><td>-132.25964</td></tr>\n",
              "</tbody>\n",
              "</table>\n"
            ],
            "text/markdown": "\nA data.frame: 6 × 4\n\n| <!--/--> | Y &lt;dbl&gt; | X &lt;dbl&gt; | Y_previsto &lt;dbl&gt; | u &lt;dbl&gt; |\n|---|---|---|---|---|\n| 1 | 3011 | 9714 | 3095.785 |  -84.78509 |\n| 2 | 1305 | 3728 | 1316.203 |  -11.20301 |\n| 3 | 1879 | 6062 | 2010.079 | -131.07948 |\n| 4 | 2654 | 8845 | 2837.439 | -183.43948 |\n| 5 | 2849 | 8378 | 2698.605 |  150.39528 |\n| 6 | 1068 | 3338 | 1200.260 | -132.25964 |\n\n",
            "text/latex": "A data.frame: 6 × 4\n\\begin{tabular}{r|llll}\n  & Y & X & Y\\_previsto & u\\\\\n  & <dbl> & <dbl> & <dbl> & <dbl>\\\\\n\\hline\n\t1 & 3011 & 9714 & 3095.785 &  -84.78509\\\\\n\t2 & 1305 & 3728 & 1316.203 &  -11.20301\\\\\n\t3 & 1879 & 6062 & 2010.079 & -131.07948\\\\\n\t4 & 2654 & 8845 & 2837.439 & -183.43948\\\\\n\t5 & 2849 & 8378 & 2698.605 &  150.39528\\\\\n\t6 & 1068 & 3338 & 1200.260 & -132.25964\\\\\n\\end{tabular}\n",
            "text/plain": [
              "  Y    X    Y_previsto u         \n",
              "1 3011 9714 3095.785    -84.78509\n",
              "2 1305 3728 1316.203    -11.20301\n",
              "3 1879 6062 2010.079   -131.07948\n",
              "4 2654 8845 2837.439   -183.43948\n",
              "5 2849 8378 2698.605    150.39528\n",
              "6 1068 3338 1200.260   -132.25964"
            ]
          },
          "metadata": {}
        }
      ],
      "source": [
        "# obtendo o resíduo manualmente\n",
        "dataset['u'] <- dataset$Y - dataset$Y_previsto\n",
        "head(dataset)"
      ]
    },
    {
      "cell_type": "code",
      "execution_count": null,
      "metadata": {
        "id": "_rtZhoU8cal5",
        "colab": {
          "base_uri": "https://localhost:8080/",
          "height": 286
        },
        "outputId": "5a1da675-e049-45c8-cb51-a802ea38ad31"
      },
      "outputs": [
        {
          "output_type": "display_data",
          "data": {
            "text/html": [
              "<table class=\"dataframe\">\n",
              "<caption>A data.frame: 6 × 5</caption>\n",
              "<thead>\n",
              "\t<tr><th></th><th scope=col>Y</th><th scope=col>X</th><th scope=col>Y_previsto</th><th scope=col>u</th><th scope=col>Residuos</th></tr>\n",
              "\t<tr><th></th><th scope=col>&lt;dbl&gt;</th><th scope=col>&lt;dbl&gt;</th><th scope=col>&lt;dbl&gt;</th><th scope=col>&lt;dbl&gt;</th><th scope=col>&lt;dbl&gt;</th></tr>\n",
              "</thead>\n",
              "<tbody>\n",
              "\t<tr><th scope=row>1</th><td>3011</td><td>9714</td><td>3095.785</td><td> -84.78509</td><td> -84.78509</td></tr>\n",
              "\t<tr><th scope=row>2</th><td>1305</td><td>3728</td><td>1316.203</td><td> -11.20301</td><td> -11.20301</td></tr>\n",
              "\t<tr><th scope=row>3</th><td>1879</td><td>6062</td><td>2010.079</td><td>-131.07948</td><td>-131.07948</td></tr>\n",
              "\t<tr><th scope=row>4</th><td>2654</td><td>8845</td><td>2837.439</td><td>-183.43948</td><td>-183.43948</td></tr>\n",
              "\t<tr><th scope=row>5</th><td>2849</td><td>8378</td><td>2698.605</td><td> 150.39528</td><td> 150.39528</td></tr>\n",
              "\t<tr><th scope=row>6</th><td>1068</td><td>3338</td><td>1200.260</td><td>-132.25964</td><td>-132.25964</td></tr>\n",
              "</tbody>\n",
              "</table>\n"
            ],
            "text/markdown": "\nA data.frame: 6 × 5\n\n| <!--/--> | Y &lt;dbl&gt; | X &lt;dbl&gt; | Y_previsto &lt;dbl&gt; | u &lt;dbl&gt; | Residuos &lt;dbl&gt; |\n|---|---|---|---|---|---|\n| 1 | 3011 | 9714 | 3095.785 |  -84.78509 |  -84.78509 |\n| 2 | 1305 | 3728 | 1316.203 |  -11.20301 |  -11.20301 |\n| 3 | 1879 | 6062 | 2010.079 | -131.07948 | -131.07948 |\n| 4 | 2654 | 8845 | 2837.439 | -183.43948 | -183.43948 |\n| 5 | 2849 | 8378 | 2698.605 |  150.39528 |  150.39528 |\n| 6 | 1068 | 3338 | 1200.260 | -132.25964 | -132.25964 |\n\n",
            "text/latex": "A data.frame: 6 × 5\n\\begin{tabular}{r|lllll}\n  & Y & X & Y\\_previsto & u & Residuos\\\\\n  & <dbl> & <dbl> & <dbl> & <dbl> & <dbl>\\\\\n\\hline\n\t1 & 3011 & 9714 & 3095.785 &  -84.78509 &  -84.78509\\\\\n\t2 & 1305 & 3728 & 1316.203 &  -11.20301 &  -11.20301\\\\\n\t3 & 1879 & 6062 & 2010.079 & -131.07948 & -131.07948\\\\\n\t4 & 2654 & 8845 & 2837.439 & -183.43948 & -183.43948\\\\\n\t5 & 2849 & 8378 & 2698.605 &  150.39528 &  150.39528\\\\\n\t6 & 1068 & 3338 & 1200.260 & -132.25964 & -132.25964\\\\\n\\end{tabular}\n",
            "text/plain": [
              "  Y    X    Y_previsto u          Residuos  \n",
              "1 3011 9714 3095.785    -84.78509  -84.78509\n",
              "2 1305 3728 1316.203    -11.20301  -11.20301\n",
              "3 1879 6062 2010.079   -131.07948 -131.07948\n",
              "4 2654 8845 2837.439   -183.43948 -183.43948\n",
              "5 2849 8378 2698.605    150.39528  150.39528\n",
              "6 1068 3338 1200.260   -132.25964 -132.25964"
            ]
          },
          "metadata": {}
        }
      ],
      "source": [
        "# Obtendo os resíduos de um jeito mais fácil\n",
        "dataset['Residuos'] <- resultado_regressao$residuals\n",
        "head(dataset)"
      ]
    },
    {
      "cell_type": "code",
      "execution_count": null,
      "metadata": {
        "id": "GbnSv-B-cal6",
        "scrolled": true,
        "colab": {
          "base_uri": "https://localhost:8080/",
          "height": 286
        },
        "outputId": "56e4d119-1ccc-4bd9-c985-8e7a73fa1a64"
      },
      "outputs": [
        {
          "output_type": "display_data",
          "data": {
            "text/html": [
              "<table class=\"dataframe\">\n",
              "<caption>A data.frame: 6 × 4</caption>\n",
              "<thead>\n",
              "\t<tr><th></th><th scope=col>Y</th><th scope=col>X</th><th scope=col>Y_previsto</th><th scope=col>Residuos</th></tr>\n",
              "\t<tr><th></th><th scope=col>&lt;dbl&gt;</th><th scope=col>&lt;dbl&gt;</th><th scope=col>&lt;dbl&gt;</th><th scope=col>&lt;dbl&gt;</th></tr>\n",
              "</thead>\n",
              "<tbody>\n",
              "\t<tr><th scope=row>1</th><td>3011</td><td>9714</td><td>3095.785</td><td> -84.78509</td></tr>\n",
              "\t<tr><th scope=row>2</th><td>1305</td><td>3728</td><td>1316.203</td><td> -11.20301</td></tr>\n",
              "\t<tr><th scope=row>3</th><td>1879</td><td>6062</td><td>2010.079</td><td>-131.07948</td></tr>\n",
              "\t<tr><th scope=row>4</th><td>2654</td><td>8845</td><td>2837.439</td><td>-183.43948</td></tr>\n",
              "\t<tr><th scope=row>5</th><td>2849</td><td>8378</td><td>2698.605</td><td> 150.39528</td></tr>\n",
              "\t<tr><th scope=row>6</th><td>1068</td><td>3338</td><td>1200.260</td><td>-132.25964</td></tr>\n",
              "</tbody>\n",
              "</table>\n"
            ],
            "text/markdown": "\nA data.frame: 6 × 4\n\n| <!--/--> | Y &lt;dbl&gt; | X &lt;dbl&gt; | Y_previsto &lt;dbl&gt; | Residuos &lt;dbl&gt; |\n|---|---|---|---|---|\n| 1 | 3011 | 9714 | 3095.785 |  -84.78509 |\n| 2 | 1305 | 3728 | 1316.203 |  -11.20301 |\n| 3 | 1879 | 6062 | 2010.079 | -131.07948 |\n| 4 | 2654 | 8845 | 2837.439 | -183.43948 |\n| 5 | 2849 | 8378 | 2698.605 |  150.39528 |\n| 6 | 1068 | 3338 | 1200.260 | -132.25964 |\n\n",
            "text/latex": "A data.frame: 6 × 4\n\\begin{tabular}{r|llll}\n  & Y & X & Y\\_previsto & Residuos\\\\\n  & <dbl> & <dbl> & <dbl> & <dbl>\\\\\n\\hline\n\t1 & 3011 & 9714 & 3095.785 &  -84.78509\\\\\n\t2 & 1305 & 3728 & 1316.203 &  -11.20301\\\\\n\t3 & 1879 & 6062 & 2010.079 & -131.07948\\\\\n\t4 & 2654 & 8845 & 2837.439 & -183.43948\\\\\n\t5 & 2849 & 8378 & 2698.605 &  150.39528\\\\\n\t6 & 1068 & 3338 & 1200.260 & -132.25964\\\\\n\\end{tabular}\n",
            "text/plain": [
              "  Y    X    Y_previsto Residuos  \n",
              "1 3011 9714 3095.785    -84.78509\n",
              "2 1305 3728 1316.203    -11.20301\n",
              "3 1879 6062 2010.079   -131.07948\n",
              "4 2654 8845 2837.439   -183.43948\n",
              "5 2849 8378 2698.605    150.39528\n",
              "6 1068 3338 1200.260   -132.25964"
            ]
          },
          "metadata": {}
        }
      ],
      "source": [
        "dataset$u <- NULL\n",
        "head(dataset)"
      ]
    },
    {
      "cell_type": "code",
      "source": [
        "mean(dataset$Residuos)"
      ],
      "metadata": {
        "colab": {
          "base_uri": "https://localhost:8080/",
          "height": 34
        },
        "id": "4ibq4o-Bw2m2",
        "outputId": "acb98430-ce8b-490c-aeb5-6d0605117274"
      },
      "execution_count": null,
      "outputs": [
        {
          "output_type": "display_data",
          "data": {
            "text/html": [
              "-2.51687559682523e-15"
            ],
            "text/markdown": "-2.51687559682523e-15",
            "text/latex": "-2.51687559682523e-15",
            "text/plain": [
              "[1] -2.516876e-15"
            ]
          },
          "metadata": {}
        }
      ]
    },
    {
      "cell_type": "markdown",
      "metadata": {
        "id": "2FUvXCAW75mL"
      },
      "source": [
        "## <font color=green>4.6 Suposições sobre o termo de erro $u$</font>\n",
        "***\n",
        "\n",
        "### 1. O termo de erro $u$ é uma variável aleatória com média igual a zero: $E(u) = 0$\n",
        "### 2. A variância de $u$ é a mesma para todos os valores de $X$\n",
        "### 3. Os valores de $u$ são independentes\n",
        "### 4. O termo de erro $u$ é uma variável aleatória normalmente distribuída."
      ]
    },
    {
      "cell_type": "markdown",
      "metadata": {
        "id": "7mFDWvhFcal7"
      },
      "source": [
        "### Plotando os resíduos do modelo\n",
        "\n",
        "#### <font color=red>Documentações:\n",
        "\n",
        "- [**scatterplot**](https://seaborn.pydata.org/generated/seaborn.scatterplot.html)"
      ]
    },
    {
      "cell_type": "code",
      "execution_count": null,
      "metadata": {
        "id": "r3RhXDBccal8",
        "colab": {
          "base_uri": "https://localhost:8080/",
          "height": 437
        },
        "outputId": "fac872cd-4243-481b-bbb2-705441a8e0a9"
      },
      "outputs": [
        {
          "output_type": "display_data",
          "data": {
            "text/plain": [
              "plot without title"
            ],
            "image/png": "[encoded data removed]"
          },
          "metadata": {
            "image/png": {
              "width": 900,
              "height": 420
            }
          }
        }
      ],
      "source": [
        "ggplot(data = dataset, aes(x = X, y = Residuos)) + \n",
        "    geom_hline(yintercept = 0, color = 'black') +\n",
        "    geom_point(size = 1.5, stroke = 0) + \n",
        "    xlab(\"X\") + \n",
        "    ylab(\"Resíduos\") + \n",
        "    ggtitle('Resíduos vs Variável Independente') +\n",
        "    theme(\n",
        "        plot.title=element_text(size = 20, hjust = 0.5),\n",
        "        axis.title.y=element_text(size = 20, vjust = +0.2),\n",
        "        axis.title.x=element_text(size = 20, vjust = -0.2),\n",
        "        axis.text.y=element_text(size = 20),\n",
        "        axis.text.x=element_text(size = 20)\n",
        "    )"
      ]
    },
    {
      "cell_type": "code",
      "execution_count": null,
      "metadata": {
        "id": "6An7Ir6275mN",
        "colab": {
          "base_uri": "https://localhost:8080/",
          "height": 437
        },
        "outputId": "b125dc5a-8eae-4675-8172-3821b833a7a1"
      },
      "outputs": [
        {
          "output_type": "display_data",
          "data": {
            "text/plain": [
              "plot without title"
            ],
            "image/png": "[encoded data removed]"
          },
          "metadata": {
            "image/png": {
              "width": 900,
              "height": 420
            }
          }
        }
      ],
      "source": [
        "# quando temos mais de uma variável explicativa, é recomendado usar esse gráfico\n",
        "# para comparar o y_previsto com os residuos\n",
        "ggplot(data = dataset, aes(x = Y_previsto, y = Residuos)) + \n",
        "    geom_hline(yintercept = 0, color = 'black') +\n",
        "    geom_point(size = 1.5, stroke = 0) + \n",
        "    xlab(\"Y_Previsto\") + \n",
        "    ylab(\"Resíduos\") + \n",
        "    ggtitle('Resíduos vs Y_Previsto') +\n",
        "    theme(\n",
        "        plot.title=element_text(size = 20, hjust = 0.5),\n",
        "        axis.title.y=element_text(size = 20, vjust = +0.2),\n",
        "        axis.title.x=element_text(size = 20, vjust = -0.2),\n",
        "        axis.text.y=element_text(size = 20),\n",
        "        axis.text.x=element_text(size = 20),\n",
        "    )"
      ]
    },
    {
      "cell_type": "markdown",
      "metadata": {
        "id": "72hPAKNKcamD"
      },
      "source": [
        "### Hipótese de variância constante\n",
        " quando a variância não é constante, então temos que especificar o modelo ou colocar mais variáveis, ver oque esta acontecendo, aumentar o nosso n etc. Se tivermos problemas com resíduos com amostras pequenas, os teste de hipóteses do nosso modelo não são válidos"
      ]
    },
    {
      "cell_type": "markdown",
      "metadata": {
        "id": "dm_pfD0jcamE"
      },
      "source": [
        "<img src=\"https://caelum-online-public.s3.amazonaws.com/1273-estatistica-parte4/01/img028.jpg\" width=80%>\n",
        "Fonte: Econometria Básica - 5ª edição - Gujarati e Porter"
      ]
    },
    {
      "cell_type": "code",
      "execution_count": null,
      "metadata": {
        "id": "lCys_bu_camE",
        "colab": {
          "base_uri": "https://localhost:8080/",
          "height": 437
        },
        "outputId": "a58a8e8b-a10c-4de4-9965-959ef0dde830"
      },
      "outputs": [
        {
          "output_type": "display_data",
          "data": {
            "text/plain": [
              "plot without title"
            ],
            "image/png": "[encoded data removed]"
          },
          "metadata": {
            "image/png": {
              "width": 900,
              "height": 420
            }
          }
        }
      ],
      "source": [
        "ggplot(data = dataset, aes(x = Y_previsto, y = Residuos^2)) + \n",
        "    geom_point(size = 1.5, stroke = 0) + \n",
        "    xlab(\"Y_Previsto\") + \n",
        "    ylab(\"Resíduos²\") + \n",
        "    ggtitle('Resíduos² vs Y_Previsto') +\n",
        "    theme(\n",
        "        plot.title=element_text(size = 20, hjust = 0.5),\n",
        "        axis.title.y=element_text(size = 20, vjust = +0.2),\n",
        "        axis.title.x=element_text(size = 20, vjust = -0.2),\n",
        "        axis.text.y=element_text(size = 20),\n",
        "        axis.text.x=element_text(size = 20),\n",
        "    )"
      ]
    },
    {
      "cell_type": "markdown",
      "metadata": {
        "id": "d3X2NkIicamv"
      },
      "source": [
        "## <font color=green>4.7 O coeficiente de determinação $R^2$</font>\n",
        "***"
      ]
    },
    {
      "cell_type": "markdown",
      "metadata": {
        "id": "02AXBeBrcamw"
      },
      "source": [
        "O **coeficiente de determinação R²** é uma medida resumida que diz quanto a linha de regressão amostral se ajusta aos dados. Pode ser obtido a partir da seguinte fórmula:\n",
        "\n",
        "# $$R^2 = \\frac{\\big[\\sum{(Y_i - \\bar{Y})(\\hat{Y}_i - \\bar{Y})}\\big]^2}{\\sum{(Y_i - \\bar{Y}})^2 \\sum{(\\hat{Y}_i - \\bar{Y}})^2}$$\n",
        "\n",
        "Sabemos que o i-ésimo resíduo representa o erro de usarmos $\\hat{Y}_i$ para estimar $Y_i$. A soma dos quadrados desses resíduos é o valor que é minimizado pelo método dos mínimos quadrados. Esse valor pode ser representado da seguinte forma:\n",
        "\n",
        "# $$SQE = \\sum{(Y_i - \\hat{Y}_i)^2}$$\n",
        "\n",
        "O valor da SQE é uma medida do erro de se usar a equação de regressão estimada para estimar os valores da variável dependente na amostra.\n",
        "\n",
        "Outro componente que podemos medir é a soma dos quadrados total (SQT) que representa a medida do erro envolvido no uso da média ($\\bar{Y}$) para fazer as estimativas. A SQT pode ser representada da forma abaixo:\n",
        "\n",
        "# $$SQT = \\sum{(Y_i - \\bar{Y})^2}$$\n",
        "\n",
        "Para quantificar o quanto os valores estimados ($\\hat{Y}_i$) se afastam da média ($\\bar{Y}$) podemos obter mais uma soma de quadrados. Essa soma é chamada de soma dos quadrados da regressão (SQR) e é representada pela seguinte fórmula:\n",
        "\n",
        "# $$SQR = \\sum{(\\hat{Y}_i - \\bar{Y})^2}$$\n"
      ]
    },
    {
      "cell_type": "markdown",
      "metadata": {
        "id": "R5QuIfRCoT_W"
      },
      "source": [
        "### Soma do quadrados do erros (SQE)"
      ]
    },
    {
      "cell_type": "code",
      "execution_count": null,
      "metadata": {
        "id": "mjDVczwGcamw",
        "colab": {
          "base_uri": "https://localhost:8080/",
          "height": 286
        },
        "outputId": "51af030f-c1f5-463d-90dd-cbd30a288471"
      },
      "outputs": [
        {
          "output_type": "display_data",
          "data": {
            "text/html": [
              "<table class=\"dataframe\">\n",
              "<caption>A data.frame: 6 × 4</caption>\n",
              "<thead>\n",
              "\t<tr><th></th><th scope=col>Y</th><th scope=col>X</th><th scope=col>Y_previsto</th><th scope=col>Residuos</th></tr>\n",
              "\t<tr><th></th><th scope=col>&lt;dbl&gt;</th><th scope=col>&lt;dbl&gt;</th><th scope=col>&lt;dbl&gt;</th><th scope=col>&lt;dbl&gt;</th></tr>\n",
              "</thead>\n",
              "<tbody>\n",
              "\t<tr><th scope=row>1</th><td>3011</td><td>9714</td><td>3095.785</td><td> -84.78509</td></tr>\n",
              "\t<tr><th scope=row>2</th><td>1305</td><td>3728</td><td>1316.203</td><td> -11.20301</td></tr>\n",
              "\t<tr><th scope=row>3</th><td>1879</td><td>6062</td><td>2010.079</td><td>-131.07948</td></tr>\n",
              "\t<tr><th scope=row>4</th><td>2654</td><td>8845</td><td>2837.439</td><td>-183.43948</td></tr>\n",
              "\t<tr><th scope=row>5</th><td>2849</td><td>8378</td><td>2698.605</td><td> 150.39528</td></tr>\n",
              "\t<tr><th scope=row>6</th><td>1068</td><td>3338</td><td>1200.260</td><td>-132.25964</td></tr>\n",
              "</tbody>\n",
              "</table>\n"
            ],
            "text/markdown": "\nA data.frame: 6 × 4\n\n| <!--/--> | Y &lt;dbl&gt; | X &lt;dbl&gt; | Y_previsto &lt;dbl&gt; | Residuos &lt;dbl&gt; |\n|---|---|---|---|---|\n| 1 | 3011 | 9714 | 3095.785 |  -84.78509 |\n| 2 | 1305 | 3728 | 1316.203 |  -11.20301 |\n| 3 | 1879 | 6062 | 2010.079 | -131.07948 |\n| 4 | 2654 | 8845 | 2837.439 | -183.43948 |\n| 5 | 2849 | 8378 | 2698.605 |  150.39528 |\n| 6 | 1068 | 3338 | 1200.260 | -132.25964 |\n\n",
            "text/latex": "A data.frame: 6 × 4\n\\begin{tabular}{r|llll}\n  & Y & X & Y\\_previsto & Residuos\\\\\n  & <dbl> & <dbl> & <dbl> & <dbl>\\\\\n\\hline\n\t1 & 3011 & 9714 & 3095.785 &  -84.78509\\\\\n\t2 & 1305 & 3728 & 1316.203 &  -11.20301\\\\\n\t3 & 1879 & 6062 & 2010.079 & -131.07948\\\\\n\t4 & 2654 & 8845 & 2837.439 & -183.43948\\\\\n\t5 & 2849 & 8378 & 2698.605 &  150.39528\\\\\n\t6 & 1068 & 3338 & 1200.260 & -132.25964\\\\\n\\end{tabular}\n",
            "text/plain": [
              "  Y    X    Y_previsto Residuos  \n",
              "1 3011 9714 3095.785    -84.78509\n",
              "2 1305 3728 1316.203    -11.20301\n",
              "3 1879 6062 2010.079   -131.07948\n",
              "4 2654 8845 2837.439   -183.43948\n",
              "5 2849 8378 2698.605    150.39528\n",
              "6 1068 3338 1200.260   -132.25964"
            ]
          },
          "metadata": {}
        }
      ],
      "source": [
        "head(dataset)"
      ]
    },
    {
      "cell_type": "code",
      "execution_count": null,
      "metadata": {
        "id": "fJ9ANPnIcamx",
        "colab": {
          "base_uri": "https://localhost:8080/",
          "height": 34
        },
        "outputId": "bd17d037-fe9f-42e5-8905-bcaf3029d9e5"
      },
      "outputs": [
        {
          "output_type": "display_data",
          "data": {
            "text/html": [
              "984986.037519192"
            ],
            "text/markdown": "984986.037519192",
            "text/latex": "984986.037519192",
            "text/plain": [
              "[1] 984986"
            ]
          },
          "metadata": {}
        }
      ],
      "source": [
        "SQE <- sum(apply(dataset, 1, function(x) x['Residuos'] ** 2))\n",
        "SQE"
      ]
    },
    {
      "cell_type": "markdown",
      "metadata": {
        "id": "ciYucebH75mU"
      },
      "source": [
        "### Soma do quadrados total (SQT)"
      ]
    },
    {
      "cell_type": "code",
      "execution_count": null,
      "metadata": {
        "id": "8nBBr4HE75mV",
        "colab": {
          "base_uri": "https://localhost:8080/",
          "height": 34
        },
        "outputId": "72cf42a0-1962-490a-c6df-e7690023a944"
      },
      "outputs": [
        {
          "output_type": "display_data",
          "data": {
            "text/html": [
              "32724149.28"
            ],
            "text/markdown": "32724149.28",
            "text/latex": "32724149.28",
            "text/plain": [
              "[1] 32724149"
            ]
          },
          "metadata": {}
        }
      ],
      "source": [
        "SQT <- sum(apply(dataset, 1, function(x) (x['Y'] - mean(dataset$Y)) ** 2))\n",
        "SQT"
      ]
    },
    {
      "cell_type": "markdown",
      "metadata": {
        "id": "2faHnARf75mW"
      },
      "source": [
        "### Soma do quadrados da regressão (SQR)"
      ]
    },
    {
      "cell_type": "code",
      "execution_count": null,
      "metadata": {
        "id": "sOIQrg2q75mW",
        "colab": {
          "base_uri": "https://localhost:8080/",
          "height": 34
        },
        "outputId": "ae0df5f4-ba4e-4bae-f5c7-7f2c527a911c"
      },
      "outputs": [
        {
          "output_type": "display_data",
          "data": {
            "text/html": [
              "31739163.2424808"
            ],
            "text/markdown": "31739163.2424808",
            "text/latex": "31739163.2424808",
            "text/plain": [
              "[1] 31739163"
            ]
          },
          "metadata": {}
        }
      ],
      "source": [
        "SQR <- sum(apply(dataset, 1, function(x) (x['Y_previsto'] - mean(dataset$Y)) ** 2))\n",
        "SQR"
      ]
    },
    {
      "cell_type": "markdown",
      "metadata": {
        "id": "IFmihJogEXbr"
      },
      "source": [
        "### ANOVA\n",
        "\n",
        "#### <font color=red>Documentações:\n",
        "\n",
        "- [**anova**](https://www.rdocumentation.org/packages/stats/versions/3.6.1/topics/anova)"
      ]
    },
    {
      "cell_type": "code",
      "execution_count": null,
      "metadata": {
        "id": "Q1PqtdrKEXbr",
        "colab": {
          "base_uri": "https://localhost:8080/",
          "height": 161
        },
        "outputId": "d51562c0-07fd-425c-e0ed-5647c1e738f0"
      },
      "outputs": [
        {
          "output_type": "display_data",
          "data": {
            "text/html": [
              "<table class=\"dataframe\">\n",
              "<caption>A anova: 2 × 5</caption>\n",
              "<thead>\n",
              "\t<tr><th></th><th scope=col>Df</th><th scope=col>Sum Sq</th><th scope=col>Mean Sq</th><th scope=col>F value</th><th scope=col>Pr(&gt;F)</th></tr>\n",
              "\t<tr><th></th><th scope=col>&lt;int&gt;</th><th scope=col>&lt;dbl&gt;</th><th scope=col>&lt;dbl&gt;</th><th scope=col>&lt;dbl&gt;</th><th scope=col>&lt;dbl&gt;</th></tr>\n",
              "</thead>\n",
              "<tbody>\n",
              "\t<tr><th scope=row>X</th><td> 1</td><td>31739163</td><td>31739163.24</td><td>1546.702</td><td>3.555543e-38</td></tr>\n",
              "\t<tr><th scope=row>Residuals</th><td>48</td><td>  984986</td><td>   20520.54</td><td>      NA</td><td>          NA</td></tr>\n",
              "</tbody>\n",
              "</table>\n"
            ],
            "text/markdown": "\nA anova: 2 × 5\n\n| <!--/--> | Df &lt;int&gt; | Sum Sq &lt;dbl&gt; | Mean Sq &lt;dbl&gt; | F value &lt;dbl&gt; | Pr(&gt;F) &lt;dbl&gt; |\n|---|---|---|---|---|---|\n| X |  1 | 31739163 | 31739163.24 | 1546.702 | 3.555543e-38 |\n| Residuals | 48 |   984986 |    20520.54 |       NA |           NA |\n\n",
            "text/latex": "A anova: 2 × 5\n\\begin{tabular}{r|lllll}\n  & Df & Sum Sq & Mean Sq & F value & Pr(>F)\\\\\n  & <int> & <dbl> & <dbl> & <dbl> & <dbl>\\\\\n\\hline\n\tX &  1 & 31739163 & 31739163.24 & 1546.702 & 3.555543e-38\\\\\n\tResiduals & 48 &   984986 &    20520.54 &       NA &           NA\\\\\n\\end{tabular}\n",
            "text/plain": [
              "          Df Sum Sq   Mean Sq     F value  Pr(>F)      \n",
              "X          1 31739163 31739163.24 1546.702 3.555543e-38\n",
              "Residuals 48   984986    20520.54       NA           NA"
            ]
          },
          "metadata": {}
        }
      ],
      "source": [
        "anova <- anova(resultado_regressao)\n",
        "anova"
      ]
    },
    {
      "cell_type": "code",
      "execution_count": null,
      "metadata": {
        "id": "r_en7MuQEXbr",
        "colab": {
          "base_uri": "https://localhost:8080/",
          "height": 34
        },
        "outputId": "169a97b5-8e37-4a24-90d8-47fcc9413f92"
      },
      "outputs": [
        {
          "output_type": "display_data",
          "data": {
            "text/html": [
              "31739163.2424808"
            ],
            "text/markdown": "31739163.2424808",
            "text/latex": "31739163.2424808",
            "text/plain": [
              "[1] 31739163"
            ]
          },
          "metadata": {}
        }
      ],
      "source": [
        "anova[1, 2]"
      ]
    },
    {
      "cell_type": "code",
      "execution_count": null,
      "metadata": {
        "id": "NE4pkGLjEXbr",
        "colab": {
          "base_uri": "https://localhost:8080/",
          "height": 34
        },
        "outputId": "bff22d5c-3a43-4715-80ed-1e621985df3e"
      },
      "outputs": [
        {
          "output_type": "display_data",
          "data": {
            "text/html": [
              "984986.037519192"
            ],
            "text/markdown": "984986.037519192",
            "text/latex": "984986.037519192",
            "text/plain": [
              "[1] 984986"
            ]
          },
          "metadata": {}
        }
      ],
      "source": [
        "anova[2, 2]"
      ]
    },
    {
      "cell_type": "code",
      "execution_count": null,
      "metadata": {
        "id": "GN0F1XJwEXbs",
        "colab": {
          "base_uri": "https://localhost:8080/",
          "height": 34
        },
        "outputId": "01e48bc7-8744-44ee-a54a-a9fd789e8dce"
      },
      "outputs": [
        {
          "output_type": "display_data",
          "data": {
            "text/html": [
              "32724149.28"
            ],
            "text/markdown": "32724149.28",
            "text/latex": "32724149.28",
            "text/plain": [
              "[1] 32724149"
            ]
          },
          "metadata": {}
        }
      ],
      "source": [
        "anova[1, 2] + anova[2, 2]"
      ]
    },
    {
      "cell_type": "markdown",
      "metadata": {
        "id": "qzIqboEg75mY"
      },
      "source": [
        "### Relação entre as somas de quadrados\n",
        "\n",
        "# $$SQT = SQR + SQE$$\n",
        "\n",
        "Onde,\n",
        "\n",
        "\n",
        "### $SQE = \\sum{(Y_i - \\hat{Y}_i)^2}$\n",
        "\n",
        "### $SQT = \\sum{(Y_i - \\bar{Y})^2}$\n",
        "\n",
        "### $SQR = \\sum{(\\hat{Y}_i - \\bar{Y})^2}$\n",
        "\n",
        "\n",
        "<img src=\"https://caelum-online-public.s3.amazonaws.com/1273-estatistica-parte4/01/img029.png\" width=50%>"
      ]
    },
    {
      "cell_type": "markdown",
      "metadata": {
        "id": "OMz_pGr375ma"
      },
      "source": [
        "### Coeficiente de determinação (R²)\n",
        "\n",
        "A regressão estimada teria um ajuste perfeito se todos os valores da variável dependente ($Y_i$) estiverem sobre a reta de regressão estimada. Quando isso ocorre temos $Y_i - \\hat{Y}_i = 0$ para todas as observações, o que resulta em uma $SQE = 0$. Como $SQT=SQR+SQE$, é possível deduzir que para termos um ajuste perfeito $SQT$ deve ser igual a $SQR$ e a razão entre estas medidas ($\\frac{SQR}{SQT}$) deve ser igual a 1.\n",
        "\n",
        "Quando o ajuste não é tão perfeito nota-se que a $SQE$ apresenta valores maiores o que faz a razão $\\frac{SQR}{SQT}$ diminuir, e em uma situação de total imperfeição do ajuste teríamos uma $SQR=0$ e $SQE=SQT$ levando a $\\frac{SQR}{SQT}=0$.\n",
        "\n",
        "A razão $\\frac{SQR}{SQT}$, que assume valores entre 0 e 1, é utilizada como medida de eficiência do ajuste da equação de regressão estimada. Essa medida é conhecida como coeficiente de determinação (R²).\n",
        "\n",
        "# $$R^2 = \\frac{SQR}{SQT}$$\n",
        "\n",
        "## <font color='red'>Observação</font>\n",
        "> Somente com a utilização do R² não é possível tirar conclusões sobre a relação entre $Y$ e $X$ ser ou não ser estatisticamente\n",
        "significativa. Este tipo de afirmação deve basear-se em considerações que envolvem o tamanho da amostra e as propriedades da distribuição amostral dos estimadores mínimos quadrados."
      ]
    },
    {
      "cell_type": "code",
      "execution_count": null,
      "metadata": {
        "id": "dKUngOqP75ma",
        "colab": {
          "base_uri": "https://localhost:8080/",
          "height": 34
        },
        "outputId": "d945dbd8-0c4d-48c2-8bc9-81493c1bd8d3"
      },
      "outputs": [
        {
          "output_type": "display_data",
          "data": {
            "text/html": [
              "0.96990033173693"
            ],
            "text/markdown": "0.96990033173693",
            "text/latex": "0.96990033173693",
            "text/plain": [
              "[1] 0.9699003"
            ]
          },
          "metadata": {}
        }
      ],
      "source": [
        "# quanto mais próximo de 1 melhor, eu consigo explicar com a minha regressão melhor\n",
        "# os meus dados\n",
        "R2 <- SQR / SQT\n",
        "R2"
      ]
    },
    {
      "cell_type": "code",
      "execution_count": null,
      "metadata": {
        "id": "oFowDxPB75mb",
        "colab": {
          "base_uri": "https://localhost:8080/",
          "height": 349
        },
        "outputId": "f95643f2-bd0c-40a4-e581-24d7b80c8e5d"
      },
      "outputs": [
        {
          "output_type": "display_data",
          "data": {
            "text/plain": [
              "\n",
              "Call:\n",
              "lm(formula = Y ~ X, data = dataset)\n",
              "\n",
              "Residuals:\n",
              "    Min      1Q  Median      3Q     Max \n",
              "-202.49 -125.96  -22.28  140.53  260.67 \n",
              "\n",
              "Coefficients:\n",
              "             Estimate Std. Error t value Pr(>|t|)    \n",
              "(Intercept) 2.079e+02  5.013e+01   4.148 0.000136 ***\n",
              "X           2.973e-01  7.559e-03  39.328  < 2e-16 ***\n",
              "---\n",
              "Signif. codes:  0 ‘***’ 0.001 ‘**’ 0.01 ‘*’ 0.05 ‘.’ 0.1 ‘ ’ 1\n",
              "\n",
              "Residual standard error: 143.2 on 48 degrees of freedom\n",
              "Multiple R-squared:  0.9699,\tAdjusted R-squared:  0.9693 \n",
              "F-statistic:  1547 on 1 and 48 DF,  p-value: < 2.2e-16\n"
            ]
          },
          "metadata": {}
        }
      ],
      "source": [
        "resumo <- summary(resultado_regressao)\n",
        "resumo"
      ]
    },
    {
      "cell_type": "code",
      "execution_count": null,
      "metadata": {
        "id": "h35_f5wXEXbs",
        "colab": {
          "base_uri": "https://localhost:8080/",
          "height": 34
        },
        "outputId": "ada2197b-1933-4299-b31c-e782c7604879"
      },
      "outputs": [
        {
          "output_type": "display_data",
          "data": {
            "text/html": [
              "0.96990033173693"
            ],
            "text/markdown": "0.96990033173693",
            "text/latex": "0.96990033173693",
            "text/plain": [
              "[1] 0.9699003"
            ]
          },
          "metadata": {}
        }
      ],
      "source": [
        "resumo$r.squared"
      ]
    },
    {
      "cell_type": "code",
      "source": [
        "# exercício \n",
        "\n",
        "# Considere os dados do problema proposto em exercícios anteriores, onde\n",
        "# se acredita que a posse de computadores tenha uma relação linear com a\n",
        "# renda das famílias.\n",
        "# descubra o R² do dataset a baixo\n",
        "\n",
        "#dataset <- data.frame(\n",
        "#    Y = c(670, 220, 1202, 188, 1869, 248, 477, 1294, 816, \n",
        "#        2671, 1403, 1586, 3468, 973, 701, 5310, 10950, 2008, \n",
        "#        9574, 28863, 6466, 4274, 6432, 1326, 1423, 3211, 2140),\n",
        "#    X = c(1.59, 0.56, 2.68, 0.47, 5.2, 0.58, 1.32, 3.88, 2.11, \n",
        "#        5.53, 2.6, 2.94, 6.62, 1.91, 1.48, 10.64, 22.39, 4.2, \n",
        "#        21.9, 59.66, 14.22, 9.57, 14.67, 3.28, 3.49, 6.94, 6.25)\n",
        "#)\n",
        "\n",
        "# resultado_regressao <- lm(formula = Y ~ X, data = dataset)\n",
        "# summary(resultado_regressao)\n",
        "\n",
        "# exercício 2\n",
        "\n",
        "# Considere as duas informações abaixo:\n",
        "# Assinale a alternativa que mostra o valor da soma dos quadrados dos erros (SQE).\n",
        "\n",
        "# R2 <- 0.96\n",
        "# SQR <- 1325485\n",
        "\n",
        "# SQE <- (SQR / R2) - SQR\n",
        "\n",
        "#anova <- anova(resultado_regressao)\n",
        "#EQM <- anova$'Mean Sq'[2]\n",
        "#EQM"
      ],
      "metadata": {
        "id": "1Q7-MMAK3i66"
      },
      "execution_count": null,
      "outputs": []
    },
    {
      "cell_type": "markdown",
      "metadata": {
        "id": "BwQR3YxTcam0"
      },
      "source": [
        "## <font color=green>4.8 Testes aplicados a modelos de regressão</font>\n",
        "***"
      ]
    },
    {
      "cell_type": "markdown",
      "metadata": {
        "id": "eGZZaMp4td9Y"
      },
      "source": [
        "Como vimos, em uma regressão linear simples, a média da variável dependente ($Y$) é uma função linear da variável independente ($X$):\n",
        "\n",
        "# $$Y_i = \\beta_1 + \\beta_2X_i$$\n",
        "\n",
        "Se o valor de $\\beta_2$ for zero podemos verificar que o valor médio de $Y$ não depende do valor de $X$ e, portanto, concluímos que $X$ e $Y$ não estão linearmente relacionados. De forma alternativa, se o valor de $\\beta_2$ não for igual a zero, concluímos que as duas variáveis estão relacionadas.\n",
        "\n",
        "Para testar se a relação de regressão é significativa, é preciso realizar um **teste de hipóteses** para determinar se o valor de $\\beta_2$ é zero. Antes de realizar este tipo de teste precisamos obter uma estimativa para $\\sigma^2$ (variância do erro)."
      ]
    },
    {
      "cell_type": "markdown",
      "metadata": {
        "id": "ePVflM9mtd9Z"
      },
      "source": [
        "### Output do modelo de regressão estimado"
      ]
    },
    {
      "cell_type": "code",
      "execution_count": null,
      "metadata": {
        "id": "xZu92Yaztd9Z",
        "colab": {
          "base_uri": "https://localhost:8080/",
          "height": 349
        },
        "outputId": "46cdc7bf-1496-4096-8846-a29c82d5e684"
      },
      "outputs": [
        {
          "output_type": "display_data",
          "data": {
            "text/plain": [
              "\n",
              "Call:\n",
              "lm(formula = Y ~ X, data = dataset)\n",
              "\n",
              "Residuals:\n",
              "    Min      1Q  Median      3Q     Max \n",
              "-202.49 -125.96  -22.28  140.53  260.67 \n",
              "\n",
              "Coefficients:\n",
              "             Estimate Std. Error t value Pr(>|t|)    \n",
              "(Intercept) 2.079e+02  5.013e+01   4.148 0.000136 ***\n",
              "X           2.973e-01  7.559e-03  39.328  < 2e-16 ***\n",
              "---\n",
              "Signif. codes:  0 ‘***’ 0.001 ‘**’ 0.01 ‘*’ 0.05 ‘.’ 0.1 ‘ ’ 1\n",
              "\n",
              "Residual standard error: 143.2 on 48 degrees of freedom\n",
              "Multiple R-squared:  0.9699,\tAdjusted R-squared:  0.9693 \n",
              "F-statistic:  1547 on 1 and 48 DF,  p-value: < 2.2e-16\n"
            ]
          },
          "metadata": {}
        }
      ],
      "source": [
        "resumo"
      ]
    },
    {
      "cell_type": "code",
      "execution_count": null,
      "metadata": {
        "id": "FzAt4r28EXbt",
        "colab": {
          "base_uri": "https://localhost:8080/",
          "height": 161
        },
        "outputId": "9eb65990-7a06-437e-ae44-d575be953909"
      },
      "outputs": [
        {
          "output_type": "display_data",
          "data": {
            "text/html": [
              "<table class=\"dataframe\">\n",
              "<caption>A anova: 2 × 5</caption>\n",
              "<thead>\n",
              "\t<tr><th></th><th scope=col>Df</th><th scope=col>Sum Sq</th><th scope=col>Mean Sq</th><th scope=col>F value</th><th scope=col>Pr(&gt;F)</th></tr>\n",
              "\t<tr><th></th><th scope=col>&lt;int&gt;</th><th scope=col>&lt;dbl&gt;</th><th scope=col>&lt;dbl&gt;</th><th scope=col>&lt;dbl&gt;</th><th scope=col>&lt;dbl&gt;</th></tr>\n",
              "</thead>\n",
              "<tbody>\n",
              "\t<tr><th scope=row>X</th><td> 1</td><td>31739163</td><td>31739163.24</td><td>1546.702</td><td>3.555543e-38</td></tr>\n",
              "\t<tr><th scope=row>Residuals</th><td>48</td><td>  984986</td><td>   20520.54</td><td>      NA</td><td>          NA</td></tr>\n",
              "</tbody>\n",
              "</table>\n"
            ],
            "text/markdown": "\nA anova: 2 × 5\n\n| <!--/--> | Df &lt;int&gt; | Sum Sq &lt;dbl&gt; | Mean Sq &lt;dbl&gt; | F value &lt;dbl&gt; | Pr(&gt;F) &lt;dbl&gt; |\n|---|---|---|---|---|---|\n| X |  1 | 31739163 | 31739163.24 | 1546.702 | 3.555543e-38 |\n| Residuals | 48 |   984986 |    20520.54 |       NA |           NA |\n\n",
            "text/latex": "A anova: 2 × 5\n\\begin{tabular}{r|lllll}\n  & Df & Sum Sq & Mean Sq & F value & Pr(>F)\\\\\n  & <int> & <dbl> & <dbl> & <dbl> & <dbl>\\\\\n\\hline\n\tX &  1 & 31739163 & 31739163.24 & 1546.702 & 3.555543e-38\\\\\n\tResiduals & 48 &   984986 &    20520.54 &       NA &           NA\\\\\n\\end{tabular}\n",
            "text/plain": [
              "          Df Sum Sq   Mean Sq     F value  Pr(>F)      \n",
              "X          1 31739163 31739163.24 1546.702 3.555543e-38\n",
              "Residuals 48   984986    20520.54       NA           NA"
            ]
          },
          "metadata": {}
        }
      ],
      "source": [
        "anova"
      ]
    },
    {
      "cell_type": "markdown",
      "metadata": {
        "id": "imBNBULStd9a"
      },
      "source": [
        "### Erro quadrático médio - estimativa de $\\sigma^2$\n",
        "\n",
        "Lembre-se que a **soma dos quadrados do erros (SQE)** é uma medida numérica da variabilidade dos dados observados em torno da reta de regressão estimada. Todas as somas de quadrados, estudadas anteriormente, estão associadas a um determinado número de graus de liberdade. No caso da SQE, como devem ser estimados dois parâmetros, temos $n-2$ graus de liberdade.\n",
        "\n",
        "O **erro quadrático médio**, representado pela equação abaixo, pode ser obtido dividindo-se a SQE por $n-2$ graus de liberdade.\n",
        "\n",
        "# $$EQM = \\frac{SQE}{n-2}$$"
      ]
    },
    {
      "cell_type": "code",
      "execution_count": null,
      "metadata": {
        "id": "aDxRwFWJtd9a",
        "colab": {
          "base_uri": "https://localhost:8080/",
          "height": 34
        },
        "outputId": "1edf5f7f-1a0f-4f93-d934-335acb1a59db"
      },
      "outputs": [
        {
          "output_type": "display_data",
          "data": {
            "text/html": [
              "984986.037519192"
            ],
            "text/markdown": "984986.037519192",
            "text/latex": "984986.037519192",
            "text/plain": [
              "[1] 984986"
            ]
          },
          "metadata": {}
        }
      ],
      "source": [
        "SQE"
      ]
    },
    {
      "cell_type": "code",
      "execution_count": null,
      "metadata": {
        "id": "qg5nZub3CEFx",
        "colab": {
          "base_uri": "https://localhost:8080/",
          "height": 34
        },
        "outputId": "38585fcc-f4f5-45dd-97c4-c63abb3a4a90"
      },
      "outputs": [
        {
          "output_type": "display_data",
          "data": {
            "text/html": [
              "50"
            ],
            "text/markdown": "50",
            "text/latex": "50",
            "text/plain": [
              "[1] 50"
            ]
          },
          "metadata": {}
        }
      ],
      "source": [
        "n"
      ]
    },
    {
      "cell_type": "code",
      "execution_count": null,
      "metadata": {
        "id": "TXfeyZwvtd9b",
        "colab": {
          "base_uri": "https://localhost:8080/",
          "height": 34
        },
        "outputId": "9663e7f2-7393-4973-bfc7-88610348fe18"
      },
      "outputs": [
        {
          "output_type": "display_data",
          "data": {
            "text/html": [
              "20520.5424483165"
            ],
            "text/markdown": "20520.5424483165",
            "text/latex": "20520.5424483165",
            "text/plain": [
              "[1] 20520.54"
            ]
          },
          "metadata": {}
        }
      ],
      "source": [
        "EQM <- SQE / (n - 2)\n",
        "EQM"
      ]
    },
    {
      "cell_type": "code",
      "execution_count": null,
      "metadata": {
        "id": "CF28rNuKtd9d",
        "colab": {
          "base_uri": "https://localhost:8080/",
          "height": 34
        },
        "outputId": "50ab1e90-4f8e-46e3-e6fe-3f868fa30ba1"
      },
      "outputs": [
        {
          "output_type": "display_data",
          "data": {
            "text/html": [
              "20520.5424483165"
            ],
            "text/markdown": "20520.5424483165",
            "text/latex": "20520.5424483165",
            "text/plain": [
              "[1] 20520.54"
            ]
          },
          "metadata": {}
        }
      ],
      "source": [
        "EQM <- anova$`Mean Sq`[2]\n",
        "EQM"
      ]
    },
    {
      "cell_type": "code",
      "execution_count": null,
      "metadata": {
        "id": "AYED-CENEXbu",
        "colab": {
          "base_uri": "https://localhost:8080/",
          "height": 34
        },
        "outputId": "08c20de9-4442-4f08-85b5-72f79ddc17b0"
      },
      "outputs": [
        {
          "output_type": "display_data",
          "data": {
            "text/html": [
              "20520.5424483165"
            ],
            "text/markdown": "20520.5424483165",
            "text/latex": "20520.5424483165",
            "text/plain": [
              "[1] 20520.54"
            ]
          },
          "metadata": {}
        }
      ],
      "source": [
        "EQM <- anova['Residuals', 'Mean Sq']\n",
        "EQM"
      ]
    },
    {
      "cell_type": "markdown",
      "metadata": {
        "id": "3xHqA9Gicam0"
      },
      "source": [
        "### Teste de hipótese para nulidade do coeficiente angular"
      ]
    },
    {
      "cell_type": "markdown",
      "metadata": {
        "id": "QpUUlnKw9Ac_"
      },
      "source": [
        "Considere o seguinte modelo de regressão linear simples:\n",
        "\n",
        "# $$Y_i = \\beta_1 + \\beta_2X_i + u_i$$\n",
        "\n",
        "Se as variáveis $Y$ e $X$ são linearmente relacionadas, espera-se que $\\beta_2$ seja diferente de zero. Para testar esta hipótese formulamos um teste de hipótese com a seguinte especificação de hipóteses nula e alternativa:\n",
        "\n",
        "## $H_0: \\beta_2 = 0$\n",
        "## $H_1: \\beta_2 \\neq 0$\n",
        "\n",
        "Caso $H_0$ seja rejeitada, concluiremos que existe uma relação linear estatisticamente significativa entre as duas variáveis.\n",
        "\n",
        "Considere agora que $b_1$ e $b_2$ são nossos estimadores de mínimos quadrados. Considere que a distribuição amostral de $b_2$ segue uma normal e também as seguintes propriedades:\n",
        "\n",
        "# $$E(b_2) = \\beta_2$$\n",
        "# $$\\sigma_{b_2} = \\frac{\\sigma}{\\sqrt{\\sum{(X_i - \\bar{X})^2}}}$$\n",
        "\n",
        "Como não conhecemos o valor de $\\sigma$, utilizamos $s$ como estimativa:\n",
        "\n",
        "# $$s_{b_2} = \\frac{s}{\\sqrt{\\sum{(X_i - \\bar{X})^2}}}$$\n",
        "\n",
        "Note que o valor esperado de $b_2$ é $\\beta_2$, logo, $b_2$ é um estimador não viesado de $\\beta_2$. Abaixo temos a estatística de teste (t) que segue uma distribuição t de Student com $n-2$ graus de liberdade.\n",
        "\n",
        "# $$t = \\frac{b_2 - \\beta_2}{s_{b_2}}$$"
      ]
    },
    {
      "cell_type": "markdown",
      "metadata": {
        "id": "hupnxGgFtd9g"
      },
      "source": [
        "### Calculando $s$"
      ]
    },
    {
      "cell_type": "code",
      "execution_count": null,
      "metadata": {
        "id": "9r87ZchPcam2",
        "colab": {
          "base_uri": "https://localhost:8080/",
          "height": 34
        },
        "outputId": "1548621c-29e0-4ed1-efb6-0ef2cd27c03c"
      },
      "outputs": [
        {
          "output_type": "display_data",
          "data": {
            "text/html": [
              "143.249930011559"
            ],
            "text/markdown": "143.249930011559",
            "text/latex": "143.249930011559",
            "text/plain": [
              "[1] 143.2499"
            ]
          },
          "metadata": {}
        }
      ],
      "source": [
        "s <- sqrt(EQM)\n",
        "s"
      ]
    },
    {
      "cell_type": "markdown",
      "metadata": {
        "id": "mr85iUdatd9q"
      },
      "source": [
        "### Calculando $\\sum{(X_i - \\bar{X})^2}$"
      ]
    },
    {
      "cell_type": "code",
      "execution_count": null,
      "metadata": {
        "id": "exNBEriWtd9q",
        "colab": {
          "base_uri": "https://localhost:8080/",
          "height": 34
        },
        "outputId": "9d026142-6708-48c7-e65b-9789912ab2dd"
      },
      "outputs": [
        {
          "output_type": "display_data",
          "data": {
            "text/html": [
              "359114426.5"
            ],
            "text/markdown": "359114426.5",
            "text/latex": "359114426.5",
            "text/plain": [
              "[1] 359114426"
            ]
          },
          "metadata": {}
        }
      ],
      "source": [
        "SOMA_DESVIO2 <- sum(apply(dataset, 1, function(x) (x['X'] - mean(dataset$X)) ** 2))\n",
        "SOMA_DESVIO2"
      ]
    },
    {
      "cell_type": "markdown",
      "metadata": {
        "id": "mEuMAudxtd9u"
      },
      "source": [
        "### Calculando $s_{b_2}$"
      ]
    },
    {
      "cell_type": "code",
      "execution_count": null,
      "metadata": {
        "id": "uwr9JWN_td9u",
        "colab": {
          "base_uri": "https://localhost:8080/",
          "height": 34
        },
        "outputId": "145d939f-8d55-4a25-e58e-f728dde4dc10"
      },
      "outputs": [
        {
          "output_type": "display_data",
          "data": {
            "text/html": [
              "0.00755923753376846"
            ],
            "text/markdown": "0.00755923753376846",
            "text/latex": "0.00755923753376846",
            "text/plain": [
              "[1] 0.007559238"
            ]
          },
          "metadata": {}
        }
      ],
      "source": [
        "s_beta_2 <- s / sqrt(SOMA_DESVIO2)\n",
        "s_beta_2"
      ]
    },
    {
      "cell_type": "markdown",
      "metadata": {
        "id": "ZXe59tB-td9w"
      },
      "source": [
        "### Determinando as áreas de aceitação e rejeição de $H_0$"
      ]
    },
    {
      "cell_type": "markdown",
      "metadata": {
        "id": "cuvV9yC-td9x"
      },
      "source": [
        "![Região de Aceitação](https://caelum-online-public.s3.amazonaws.com/1273-estatistica-parte4/01/img031.png)"
      ]
    },
    {
      "cell_type": "markdown",
      "metadata": {
        "id": "z9tmldlUtd9y"
      },
      "source": [
        "### Níveis de confiança e significância"
      ]
    },
    {
      "cell_type": "code",
      "execution_count": null,
      "metadata": {
        "id": "x6imEPp0td9y"
      },
      "outputs": [],
      "source": [
        "confianca <- 0.95\n",
        "significancia <- 1 - confianca"
      ]
    },
    {
      "cell_type": "code",
      "execution_count": null,
      "metadata": {
        "id": "VFJGcIRGD-ai",
        "colab": {
          "base_uri": "https://localhost:8080/",
          "height": 34
        },
        "outputId": "d1aa24c4-173a-4fdf-db2c-6f49a5e59a7e"
      },
      "outputs": [
        {
          "output_type": "display_data",
          "data": {
            "text/html": [
              "48"
            ],
            "text/markdown": "48",
            "text/latex": "48",
            "text/plain": [
              "[1] 48"
            ]
          },
          "metadata": {}
        }
      ],
      "source": [
        "graus_de_liberdade <- resultado_regressao$df.residual\n",
        "graus_de_liberdade"
      ]
    },
    {
      "cell_type": "markdown",
      "metadata": {
        "id": "Xb6DWLiTtd9z"
      },
      "source": [
        "### Obtendo $t_{\\alpha/2}$"
      ]
    },
    {
      "cell_type": "code",
      "execution_count": null,
      "metadata": {
        "id": "yVEsPYPitd9z",
        "colab": {
          "base_uri": "https://localhost:8080/",
          "height": 34
        },
        "outputId": "ee094f4c-dd52-48b3-cdf9-34974cf073c3"
      },
      "outputs": [
        {
          "output_type": "display_data",
          "data": {
            "text/html": [
              "0.975"
            ],
            "text/markdown": "0.975",
            "text/latex": "0.975",
            "text/plain": [
              "[1] 0.975"
            ]
          },
          "metadata": {}
        }
      ],
      "source": [
        "probabilidade <- (0.5 + (confianca / 2))\n",
        "probabilidade"
      ]
    },
    {
      "cell_type": "code",
      "execution_count": null,
      "metadata": {
        "id": "_Cfvwj7Ktd91",
        "colab": {
          "base_uri": "https://localhost:8080/",
          "height": 34
        },
        "outputId": "0205e69d-c13c-4dfb-e186-e8acaa78deff"
      },
      "outputs": [
        {
          "output_type": "display_data",
          "data": {
            "text/html": [
              "2.01063475762423"
            ],
            "text/markdown": "2.01063475762423",
            "text/latex": "2.01063475762423",
            "text/plain": [
              "[1] 2.010635"
            ]
          },
          "metadata": {}
        }
      ],
      "source": [
        "t_alpha_2 <- qt(probabilidade, graus_de_liberdade)\n",
        "t_alpha_2"
      ]
    },
    {
      "cell_type": "markdown",
      "metadata": {
        "id": "oW11PFl4td94"
      },
      "source": [
        "![Região de Aceitação](https://caelum-online-public.s3.amazonaws.com/1273-estatistica-parte4/01/img032.png)"
      ]
    },
    {
      "cell_type": "markdown",
      "metadata": {
        "id": "Sjj0cgC7td94"
      },
      "source": [
        "### Obtendo $t = \\frac{b_2 - \\beta_2}{s_{b_2}}$"
      ]
    },
    {
      "cell_type": "code",
      "execution_count": null,
      "metadata": {
        "id": "Db8oVrEWtd94",
        "colab": {
          "base_uri": "https://localhost:8080/",
          "height": 34
        },
        "outputId": "17cf41f8-4921-46b2-99d3-678c7a8ce5a0"
      },
      "outputs": [
        {
          "output_type": "display_data",
          "data": {
            "text/html": [
              "39.328131926755"
            ],
            "text/markdown": "39.328131926755",
            "text/latex": "39.328131926755",
            "text/plain": [
              "[1] 39.32813"
            ]
          },
          "metadata": {}
        }
      ],
      "source": [
        "t <- (beta_2 - 0) / s_beta_2\n",
        "t"
      ]
    },
    {
      "cell_type": "code",
      "execution_count": null,
      "metadata": {
        "id": "h-Tm7-Qstd95",
        "colab": {
          "base_uri": "https://localhost:8080/",
          "height": 129
        },
        "outputId": "c97acc77-bd71-495e-c39e-a1ab74ef45ba"
      },
      "outputs": [
        {
          "output_type": "display_data",
          "data": {
            "text/html": [
              "<table class=\"dataframe\">\n",
              "<caption>A matrix: 2 × 4 of type dbl</caption>\n",
              "<thead>\n",
              "\t<tr><th></th><th scope=col>Estimate</th><th scope=col>Std. Error</th><th scope=col>t value</th><th scope=col>Pr(&gt;|t|)</th></tr>\n",
              "</thead>\n",
              "<tbody>\n",
              "\t<tr><th scope=row>(Intercept)</th><td>207.9033138</td><td>50.126682183</td><td> 4.147558</td><td>1.362270e-04</td></tr>\n",
              "\t<tr><th scope=row>X</th><td>  0.2972907</td><td> 0.007559238</td><td>39.328132</td><td>3.555543e-38</td></tr>\n",
              "</tbody>\n",
              "</table>\n"
            ],
            "text/markdown": "\nA matrix: 2 × 4 of type dbl\n\n| <!--/--> | Estimate | Std. Error | t value | Pr(&gt;|t|) |\n|---|---|---|---|---|\n| (Intercept) | 207.9033138 | 50.126682183 |  4.147558 | 1.362270e-04 |\n| X |   0.2972907 |  0.007559238 | 39.328132 | 3.555543e-38 |\n\n",
            "text/latex": "A matrix: 2 × 4 of type dbl\n\\begin{tabular}{r|llll}\n  & Estimate & Std. Error & t value & Pr(>\\textbar{}t\\textbar{})\\\\\n\\hline\n\t(Intercept) & 207.9033138 & 50.126682183 &  4.147558 & 1.362270e-04\\\\\n\tX &   0.2972907 &  0.007559238 & 39.328132 & 3.555543e-38\\\\\n\\end{tabular}\n",
            "text/plain": [
              "            Estimate    Std. Error   t value   Pr(>|t|)    \n",
              "(Intercept) 207.9033138 50.126682183  4.147558 1.362270e-04\n",
              "X             0.2972907  0.007559238 39.328132 3.555543e-38"
            ]
          },
          "metadata": {}
        }
      ],
      "source": [
        "# ja tem o t_value, então não precisa calcular tudo aquilo\n",
        "coeficientes <- resumo$coefficients\n",
        "coeficientes"
      ]
    },
    {
      "cell_type": "code",
      "execution_count": null,
      "metadata": {
        "id": "6wpeEOQDEXbw",
        "colab": {
          "base_uri": "https://localhost:8080/",
          "height": 34
        },
        "outputId": "594403ce-edf1-438d-b3eb-5e07b1351ec7"
      },
      "outputs": [
        {
          "output_type": "display_data",
          "data": {
            "text/html": [
              "39.328131926755"
            ],
            "text/markdown": "39.328131926755",
            "text/latex": "39.328131926755",
            "text/plain": [
              "[1] 39.32813"
            ]
          },
          "metadata": {}
        }
      ],
      "source": [
        "coeficientes['X', 't value']"
      ]
    },
    {
      "cell_type": "markdown",
      "metadata": {
        "id": "jOvLKfvitd97"
      },
      "source": [
        "![Região de Aceitação](https://caelum-online-public.s3.amazonaws.com/1273-estatistica-parte4/01/img033.png)"
      ]
    },
    {
      "cell_type": "markdown",
      "metadata": {
        "id": "lU747h33td97"
      },
      "source": [
        "### Etapas e regras de decisão do teste t de significância dos parâmetros"
      ]
    },
    {
      "cell_type": "markdown",
      "metadata": {
        "id": "kDHBbSAitd97"
      },
      "source": [
        "<img src=\"https://caelum-online-public.s3.amazonaws.com/1273-estatistica-parte4/01/img030.png\" width=90%>"
      ]
    },
    {
      "cell_type": "markdown",
      "metadata": {
        "id": "-Il6O2H6td98"
      },
      "source": [
        "### <font color='red'>Critério do valor crítico</font>\n",
        "\n",
        "> ### Teste Bicaudal\n",
        "> ### Rejeitar $H_0$ se $t \\leq -t_{\\alpha / 2}$ ou se $t \\geq t_{\\alpha / 2}$"
      ]
    },
    {
      "cell_type": "code",
      "execution_count": null,
      "metadata": {
        "id": "24_4-073td99",
        "colab": {
          "base_uri": "https://localhost:8080/",
          "height": 34
        },
        "outputId": "1b177435-29d1-42ef-8abf-7da7ad067d20"
      },
      "outputs": [
        {
          "output_type": "display_data",
          "data": {
            "text/html": [
              "FALSE"
            ],
            "text/markdown": "FALSE",
            "text/latex": "FALSE",
            "text/plain": [
              "[1] FALSE"
            ]
          },
          "metadata": {}
        }
      ],
      "source": [
        "t <= -t_alpha_2"
      ]
    },
    {
      "cell_type": "code",
      "execution_count": null,
      "metadata": {
        "id": "jya2Bqvktd9-",
        "colab": {
          "base_uri": "https://localhost:8080/",
          "height": 34
        },
        "outputId": "8fd6c6ab-035b-491e-d622-aed6e763f42c"
      },
      "outputs": [
        {
          "output_type": "display_data",
          "data": {
            "text/html": [
              "TRUE"
            ],
            "text/markdown": "TRUE",
            "text/latex": "TRUE",
            "text/plain": [
              "[1] TRUE"
            ]
          },
          "metadata": {}
        }
      ],
      "source": [
        "t >= t_alpha_2"
      ]
    },
    {
      "cell_type": "markdown",
      "metadata": {
        "id": "dW7cJcnQtd9_"
      },
      "source": [
        "### <font color='red'>Critério do $p-valor$</font>\n",
        "\n",
        "> ### Teste Bicaudal\n",
        "> ### Rejeitar $H_0$ se o valor $p\\leq\\alpha$"
      ]
    },
    {
      "cell_type": "code",
      "execution_count": null,
      "metadata": {
        "id": "LJQ3BBpBtd9_",
        "colab": {
          "base_uri": "https://localhost:8080/",
          "height": 34
        },
        "outputId": "99f429f3-4c18-4be0-db97-37dc3855ddd6"
      },
      "outputs": [
        {
          "output_type": "display_data",
          "data": {
            "text/html": [
              "3.55554322858604e-38"
            ],
            "text/markdown": "3.55554322858604e-38",
            "text/latex": "3.55554322858604e-38",
            "text/plain": [
              "[1] 3.555543e-38"
            ]
          },
          "metadata": {}
        }
      ],
      "source": [
        "# ja que é bicaudal, mutiplicamos por 2\n",
        "p_valor <- 2 * (pt(t, graus_de_liberdade, lower.tail = F))\n",
        "p_valor"
      ]
    },
    {
      "cell_type": "code",
      "execution_count": null,
      "metadata": {
        "id": "gpVuM3Gvtd-B",
        "colab": {
          "base_uri": "https://localhost:8080/",
          "height": 34
        },
        "outputId": "76adabb3-50c4-4cb5-c4ee-d526019221b0"
      },
      "outputs": [
        {
          "output_type": "display_data",
          "data": {
            "text/html": [
              "3.55554322858599e-38"
            ],
            "text/markdown": "3.55554322858599e-38",
            "text/latex": "3.55554322858599e-38",
            "text/plain": [
              "[1] 3.555543e-38"
            ]
          },
          "metadata": {}
        }
      ],
      "source": [
        "p_valor <- coeficientes['X', 'Pr(>|t|)']\n",
        "p_valor"
      ]
    },
    {
      "cell_type": "code",
      "execution_count": null,
      "metadata": {
        "id": "Qtmjl1oBtd-C",
        "colab": {
          "base_uri": "https://localhost:8080/",
          "height": 34
        },
        "outputId": "159d8743-3e75-426a-a12b-1a2f84b2a87d"
      },
      "outputs": [
        {
          "output_type": "display_data",
          "data": {
            "text/html": [
              "TRUE"
            ],
            "text/markdown": "TRUE",
            "text/latex": "TRUE",
            "text/plain": [
              "[1] TRUE"
            ]
          },
          "metadata": {}
        }
      ],
      "source": [
        "p_valor <= significancia"
      ]
    },
    {
      "cell_type": "markdown",
      "metadata": {
        "id": "EP5tgnmttd-D"
      },
      "source": [
        "### <font color='green'>Conclusão: Rejeitamos $H_0$ e concluímos que existe uma relação significativa entre as duas variáveis.</font>"
      ]
    },
    {
      "cell_type": "code",
      "execution_count": null,
      "metadata": {
        "id": "HMaewwFXtd-D",
        "colab": {
          "base_uri": "https://localhost:8080/",
          "height": 349
        },
        "outputId": "b3ec1843-f038-4551-880f-f25b27ee2532"
      },
      "outputs": [
        {
          "output_type": "display_data",
          "data": {
            "text/plain": [
              "\n",
              "Call:\n",
              "lm(formula = Y ~ X, data = dataset)\n",
              "\n",
              "Residuals:\n",
              "    Min      1Q  Median      3Q     Max \n",
              "-202.49 -125.96  -22.28  140.53  260.67 \n",
              "\n",
              "Coefficients:\n",
              "             Estimate Std. Error t value Pr(>|t|)    \n",
              "(Intercept) 2.079e+02  5.013e+01   4.148 0.000136 ***\n",
              "X           2.973e-01  7.559e-03  39.328  < 2e-16 ***\n",
              "---\n",
              "Signif. codes:  0 ‘***’ 0.001 ‘**’ 0.01 ‘*’ 0.05 ‘.’ 0.1 ‘ ’ 1\n",
              "\n",
              "Residual standard error: 143.2 on 48 degrees of freedom\n",
              "Multiple R-squared:  0.9699,\tAdjusted R-squared:  0.9693 \n",
              "F-statistic:  1547 on 1 and 48 DF,  p-value: < 2.2e-16\n"
            ]
          },
          "metadata": {}
        }
      ],
      "source": [
        "# novamente, com o summary, você obtêm toda estatística que precisa.\n",
        "# a variável resumo, tem armazenado o metodo summary\n",
        "resumo"
      ]
    },
    {
      "cell_type": "code",
      "execution_count": null,
      "metadata": {
        "id": "ux2euZolEXby",
        "colab": {
          "base_uri": "https://localhost:8080/",
          "height": 161
        },
        "outputId": "29e5a2af-2205-4958-f130-5c7474c96cce"
      },
      "outputs": [
        {
          "output_type": "display_data",
          "data": {
            "text/html": [
              "<table class=\"dataframe\">\n",
              "<caption>A anova: 2 × 5</caption>\n",
              "<thead>\n",
              "\t<tr><th></th><th scope=col>Df</th><th scope=col>Sum Sq</th><th scope=col>Mean Sq</th><th scope=col>F value</th><th scope=col>Pr(&gt;F)</th></tr>\n",
              "\t<tr><th></th><th scope=col>&lt;int&gt;</th><th scope=col>&lt;dbl&gt;</th><th scope=col>&lt;dbl&gt;</th><th scope=col>&lt;dbl&gt;</th><th scope=col>&lt;dbl&gt;</th></tr>\n",
              "</thead>\n",
              "<tbody>\n",
              "\t<tr><th scope=row>X</th><td> 1</td><td>31739163</td><td>31739163.24</td><td>1546.702</td><td>3.555543e-38</td></tr>\n",
              "\t<tr><th scope=row>Residuals</th><td>48</td><td>  984986</td><td>   20520.54</td><td>      NA</td><td>          NA</td></tr>\n",
              "</tbody>\n",
              "</table>\n"
            ],
            "text/markdown": "\nA anova: 2 × 5\n\n| <!--/--> | Df &lt;int&gt; | Sum Sq &lt;dbl&gt; | Mean Sq &lt;dbl&gt; | F value &lt;dbl&gt; | Pr(&gt;F) &lt;dbl&gt; |\n|---|---|---|---|---|---|\n| X |  1 | 31739163 | 31739163.24 | 1546.702 | 3.555543e-38 |\n| Residuals | 48 |   984986 |    20520.54 |       NA |           NA |\n\n",
            "text/latex": "A anova: 2 × 5\n\\begin{tabular}{r|lllll}\n  & Df & Sum Sq & Mean Sq & F value & Pr(>F)\\\\\n  & <int> & <dbl> & <dbl> & <dbl> & <dbl>\\\\\n\\hline\n\tX &  1 & 31739163 & 31739163.24 & 1546.702 & 3.555543e-38\\\\\n\tResiduals & 48 &   984986 &    20520.54 &       NA &           NA\\\\\n\\end{tabular}\n",
            "text/plain": [
              "          Df Sum Sq   Mean Sq     F value  Pr(>F)      \n",
              "X          1 31739163 31739163.24 1546.702 3.555543e-38\n",
              "Residuals 48   984986    20520.54       NA           NA"
            ]
          },
          "metadata": {}
        }
      ],
      "source": [
        "anova"
      ]
    },
    {
      "cell_type": "markdown",
      "metadata": {
        "id": "HTW4vH03td-E"
      },
      "source": [
        "---"
      ]
    },
    {
      "cell_type": "markdown",
      "metadata": {
        "id": "fEAeu55gtd-E"
      },
      "source": [
        "### Teste F"
      ]
    },
    {
      "cell_type": "markdown",
      "metadata": {
        "id": "boZIhWUmtd-E"
      },
      "source": [
        "O teste F também é uma ferramenta para testar a significância na regressão. Baseado na distribuição F de probabilidade, o teste F é utilizado para verificar a significância global na regressão, isto é, em uma regressão múltipla, onde existe mais de uma variável independente, o teste F verifica a nulidade de todos os parâmetros do modelo conjuntamente.\n",
        "\n",
        "Em nosso caso (regressão linear simples) ele fornece a mesma conclusão obtida com o teste t.\n",
        "\n",
        "**Hipóteses:**\n",
        "\n",
        "## $H_0: \\beta_2 = 0$\n",
        "## $H_0: \\beta_2 \\neq 0$\n",
        "\n",
        "**Estatística de teste:**\n",
        "\n",
        "# $$F = \\frac{\\frac{SQR}{k}}{\\frac{SQE}{n-k-1}}$$\n",
        "\n",
        "Onde,\n",
        "\n",
        "$SQR$ - soma dos quadrados da regressão\n",
        "\n",
        "$SQE$ - soma dos quadrados dos erros\n",
        "\n",
        "$k$ - total de variáveis independentes ($X$)\n",
        "\n",
        "**Regras de rejeição de $H_0$:**\n",
        "\n",
        "**Critério do valor crítico** $\\rightarrow$ Rejeitar se $F \\geq F_{\\alpha}$\n",
        "\n",
        "Onde,\n",
        "\n",
        "$F_{\\alpha}$ - baseia-se na distribuição F com $k$ graus de liberdade no numerador e $n-k-1$ no denominador.\n",
        "\n",
        "**Critério do p-valor** $\\rightarrow$ Rejeitar se $p-valor \\leq \\alpha$"
      ]
    },
    {
      "cell_type": "markdown",
      "metadata": {
        "id": "gT3WGPkNtd-E"
      },
      "source": [
        "### Calculando a estatística de teste ($F$)"
      ]
    },
    {
      "cell_type": "code",
      "source": [
        "anova"
      ],
      "metadata": {
        "colab": {
          "base_uri": "https://localhost:8080/",
          "height": 161
        },
        "id": "62oLD2yz3duK",
        "outputId": "555a43fd-0925-45d3-828f-7a829fecf230"
      },
      "execution_count": null,
      "outputs": [
        {
          "output_type": "display_data",
          "data": {
            "text/html": [
              "<table class=\"dataframe\">\n",
              "<caption>A anova: 2 × 5</caption>\n",
              "<thead>\n",
              "\t<tr><th></th><th scope=col>Df</th><th scope=col>Sum Sq</th><th scope=col>Mean Sq</th><th scope=col>F value</th><th scope=col>Pr(&gt;F)</th></tr>\n",
              "\t<tr><th></th><th scope=col>&lt;int&gt;</th><th scope=col>&lt;dbl&gt;</th><th scope=col>&lt;dbl&gt;</th><th scope=col>&lt;dbl&gt;</th><th scope=col>&lt;dbl&gt;</th></tr>\n",
              "</thead>\n",
              "<tbody>\n",
              "\t<tr><th scope=row>X</th><td> 1</td><td>31739163</td><td>31739163.24</td><td>1546.702</td><td>3.555543e-38</td></tr>\n",
              "\t<tr><th scope=row>Residuals</th><td>48</td><td>  984986</td><td>   20520.54</td><td>      NA</td><td>          NA</td></tr>\n",
              "</tbody>\n",
              "</table>\n"
            ],
            "text/markdown": "\nA anova: 2 × 5\n\n| <!--/--> | Df &lt;int&gt; | Sum Sq &lt;dbl&gt; | Mean Sq &lt;dbl&gt; | F value &lt;dbl&gt; | Pr(&gt;F) &lt;dbl&gt; |\n|---|---|---|---|---|---|\n| X |  1 | 31739163 | 31739163.24 | 1546.702 | 3.555543e-38 |\n| Residuals | 48 |   984986 |    20520.54 |       NA |           NA |\n\n",
            "text/latex": "A anova: 2 × 5\n\\begin{tabular}{r|lllll}\n  & Df & Sum Sq & Mean Sq & F value & Pr(>F)\\\\\n  & <int> & <dbl> & <dbl> & <dbl> & <dbl>\\\\\n\\hline\n\tX &  1 & 31739163 & 31739163.24 & 1546.702 & 3.555543e-38\\\\\n\tResiduals & 48 &   984986 &    20520.54 &       NA &           NA\\\\\n\\end{tabular}\n",
            "text/plain": [
              "          Df Sum Sq   Mean Sq     F value  Pr(>F)      \n",
              "X          1 31739163 31739163.24 1546.702 3.555543e-38\n",
              "Residuals 48   984986    20520.54       NA           NA"
            ]
          },
          "metadata": {}
        }
      ]
    },
    {
      "cell_type": "code",
      "execution_count": null,
      "metadata": {
        "id": "9vtS-VQ2td-I",
        "colab": {
          "base_uri": "https://localhost:8080/",
          "height": 34
        },
        "outputId": "f7aac9a9-da08-49e0-cb78-2fd40f87bd59"
      },
      "outputs": [
        {
          "output_type": "display_data",
          "data": {
            "text/html": [
              "1546.70196084825"
            ],
            "text/markdown": "1546.70196084825",
            "text/latex": "1546.70196084825",
            "text/plain": [
              "[1] 1546.702"
            ]
          },
          "metadata": {}
        }
      ],
      "source": [
        "F <- anova['X', 'Mean Sq'] / anova['Residuals', 'Mean Sq']\n",
        "F"
      ]
    },
    {
      "cell_type": "code",
      "execution_count": null,
      "metadata": {
        "id": "w8yfK5k1td-K",
        "colab": {
          "base_uri": "https://localhost:8080/",
          "height": 34
        },
        "outputId": "d9664f1c-406c-4960-a008-36a6e6d338e4"
      },
      "outputs": [
        {
          "output_type": "display_data",
          "data": {
            "text/html": [
              "1546.70196084825"
            ],
            "text/markdown": "1546.70196084825",
            "text/latex": "1546.70196084825",
            "text/plain": [
              "[1] 1546.702"
            ]
          },
          "metadata": {}
        }
      ],
      "source": [
        "anova['X', 'F value']"
      ]
    },
    {
      "cell_type": "markdown",
      "metadata": {
        "id": "OEzKwQYztd-K"
      },
      "source": [
        "### Obtendo o p-valor"
      ]
    },
    {
      "cell_type": "code",
      "execution_count": null,
      "metadata": {
        "id": "XTl2Y4u5td-K",
        "colab": {
          "base_uri": "https://localhost:8080/",
          "height": 34
        },
        "outputId": "d20f93f1-f8f4-489f-d8df-717f7aaa7211"
      },
      "outputs": [
        {
          "output_type": "display_data",
          "data": {
            "text/html": [
              "3.55554322858604e-38"
            ],
            "text/markdown": "3.55554322858604e-38",
            "text/latex": "3.55554322858604e-38",
            "text/plain": [
              "[1] 3.555543e-38"
            ]
          },
          "metadata": {}
        }
      ],
      "source": [
        "p_valor <- anova['X', 'Pr(>F)']\n",
        "p_valor"
      ]
    },
    {
      "cell_type": "code",
      "execution_count": null,
      "metadata": {
        "id": "TmkXMaKktd-P",
        "colab": {
          "base_uri": "https://localhost:8080/",
          "height": 34
        },
        "outputId": "11a234d6-d19c-4be8-fbfc-d73195b57506"
      },
      "outputs": [
        {
          "output_type": "display_data",
          "data": {
            "text/html": [
              "TRUE"
            ],
            "text/markdown": "TRUE",
            "text/latex": "TRUE",
            "text/plain": [
              "[1] TRUE"
            ]
          },
          "metadata": {}
        }
      ],
      "source": [
        "p_valor <= significancia"
      ]
    },
    {
      "cell_type": "code",
      "execution_count": null,
      "metadata": {
        "id": "oijlJJsPEXb1"
      },
      "outputs": [],
      "source": [
        ""
      ]
    }
  ],
  "metadata": {
    "colab": {
      "name": "Curso_de_Estatística_Parte_4_R.ipynb",
      "provenance": []
    },
    "kernelspec": {
      "display_name": "R",
      "language": "R",
      "name": "ir"
    },
    "language_info": {
      "codemirror_mode": "r",
      "file_extension": ".r",
      "mimetype": "text/x-r-source",
      "name": "R",
      "pygments_lexer": "r",
      "version": "3.6.1"
    }
  },
  "nbformat": 4,
  "nbformat_minor": 0
}