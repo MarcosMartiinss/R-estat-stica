{
  "cells": [
    {
      "cell_type": "markdown",
      "metadata": {
        "id": "WvMflodMjQKe"
      },
      "source": [
        "***\n",
        "# <font color=green size=10>CURSO DE ESTATÍSTICA - PARTE 1</font>\n",
        "***"
      ]
    },
    {
      "cell_type": "markdown",
      "metadata": {
        "id": "cVgsZ_E3jQKg"
      },
      "source": [
        "# <font color=green>1 CONHECENDO OS DADOS</font>\n",
        "***"
      ]
    },
    {
      "cell_type": "markdown",
      "metadata": {
        "id": "TDjqYYNojQKh"
      },
      "source": [
        "## <font color=green>1.1 Dataset do projeto</font>\n",
        "***"
      ]
    },
    {
      "cell_type": "markdown",
      "metadata": {
        "id": "iN1gIbaKjQKh"
      },
      "source": [
        "### Pesquisa Nacional por Amostra de Domicílios - 2015\n",
        "\n",
        "A <b>Pesquisa Nacional por Amostra de Domicílios - PNAD</b> investiga anualmente, de forma permanente, características gerais da população, de educação, trabalho, rendimento e habitação e outras, com periodicidade variável, de acordo com as necessidades de informação para o país, como as características sobre migração, fecundidade, nupcialidade, saúde, segurança alimentar, entre outros temas. O levantamento dessas estatísticas constitui, ao longo dos 49 anos de realização da pesquisa, um importante instrumento para formulação, validação e avaliação de políticas orientadas para o desenvolvimento socioeconômico e a melhoria das condições de vida no Brasil."
      ]
    },
    {
      "cell_type": "markdown",
      "metadata": {
        "id": "U6V7br1RjQKi"
      },
      "source": [
        "### Fonte dos Dados\n",
        "\n",
        "https://ww2.ibge.gov.br/home/estatistica/populacao/trabalhoerendimento/pnad2015/microdados.shtm"
      ]
    },
    {
      "cell_type": "markdown",
      "metadata": {
        "id": "r0Fe_qnzjQKj"
      },
      "source": [
        "### Variáveis utilizadas\n",
        "\n",
        "> ### Renda\n",
        "> ***\n",
        "\n",
        "Rendimento mensal do trabalho principal para pessoas de 10 anos ou mais de idade.\n",
        "\n",
        "> ### Idade\n",
        "> ***\n",
        "\n",
        "Idade do morador na data de referência em anos.\n",
        "\n",
        "> ### Altura (elaboração própria)\n",
        "> ***\n",
        "\n",
        "Altura do morador em metros.\n",
        "\n",
        "> ### UF\n",
        "> ***\n",
        "\n",
        "|Código|Descrição|\n",
        "|---|---|\n",
        "|11|Rondônia|\n",
        "|12|Acre|\n",
        "|13|Amazonas|\n",
        "|14|Roraima|\n",
        "|15|Pará|\n",
        "|16|Amapá|\n",
        "|17|Tocantins|\n",
        "|21|Maranhão|\n",
        "|22|Piauí|\n",
        "|23|Ceará|\n",
        "|24|Rio Grande do Norte|\n",
        "|25|Paraíba|\n",
        "|26|Pernambuco|\n",
        "|27|Alagoas|\n",
        "|28|Sergipe|\n",
        "|29|Bahia|\n",
        "|31|Minas Gerais|\n",
        "|32|Espírito Santo|\n",
        "|33|Rio de Janeiro|\n",
        "|35|São Paulo|\n",
        "|41|Paraná|\n",
        "|42|Santa Catarina|\n",
        "|43|Rio Grande do Sul|\n",
        "|50|Mato Grosso do Sul|\n",
        "|51|Mato Grosso|\n",
        "|52|Goiás|\n",
        "|53|Distrito Federal|\n",
        "\n",
        "> ### Sexo\t\n",
        "> ***\n",
        "\n",
        "|Código|Descrição|\n",
        "|---|---|\n",
        "|0|Masculino|\n",
        "|1|Feminino|\n",
        "\n",
        "> ### Anos de Estudo\n",
        "> ***\n",
        "\n",
        "|Código|Descrição|\n",
        "|---|---|\n",
        "|1|Sem instrução e menos de 1 ano|\n",
        "|2|1 ano|\n",
        "|3|2 anos|\n",
        "|4|3 anos|\n",
        "|5|4 anos|\n",
        "|6|5 anos|\n",
        "|7|6 anos|\n",
        "|8|7 anos|\n",
        "|9|8 anos|\n",
        "|10|9 anos|\n",
        "|11|10 anos|\n",
        "|12|11 anos|\n",
        "|13|12 anos|\n",
        "|14|13 anos|\n",
        "|15|14 anos|\n",
        "|16|15 anos ou mais|\n",
        "|17|Não determinados| \n",
        "||Não aplicável|\n",
        "\n",
        "> ### Cor\n",
        "> ***\n",
        "\n",
        "|Código|Descrição|\n",
        "|---|---|\n",
        "|0|Indígena|\n",
        "|2|Branca|\n",
        "|4|Preta|\n",
        "|6|Amarela|\n",
        "|8|Parda|\n",
        "|9|Sem declaração|"
      ]
    },
    {
      "cell_type": "markdown",
      "metadata": {
        "id": "OK1IQH5cX7Gb"
      },
      "source": [
        "#### <font color='red'>Observação</font>\n",
        "***\n",
        "> Os seguintes tratamentos foram realizados nos dados originais:\n",
        "> 1. Foram eliminados os registros onde a <b>Renda</b> era inválida (999 999 999 999);\n",
        "> 2. Foram eliminados os registros onde a <b>Renda</b> era missing;\n",
        "> 3. Foram considerados somente os registros das <b>Pessoas de Referência</b> de cada domicílio (responsável pelo domicílio)."
      ]
    },
    {
      "cell_type": "markdown",
      "metadata": {
        "id": "5bQCLy34qN6T"
      },
      "source": [
        "### R (informações básicas)"
      ]
    },
    {
      "cell_type": "code",
      "execution_count": null,
      "metadata": {
        "colab": {
          "base_uri": "https://localhost:8080/",
          "height": 626
        },
        "id": "ofCntqnTqN6U",
        "outputId": "9c2640f0-3bd4-444c-af78-a3481d420444"
      },
      "outputs": [
        {
          "output_type": "display_data",
          "data": {
            "text/plain": [
              "R version 4.2.0 (2022-04-22)\n",
              "Platform: x86_64-pc-linux-gnu (64-bit)\n",
              "Running under: Ubuntu 18.04.5 LTS\n",
              "\n",
              "Matrix products: default\n",
              "BLAS:   /usr/lib/x86_64-linux-gnu/openblas/libblas.so.3\n",
              "LAPACK: /usr/lib/x86_64-linux-gnu/libopenblasp-r0.2.20.so\n",
              "\n",
              "locale:\n",
              " [1] LC_CTYPE=en_US.UTF-8       LC_NUMERIC=C              \n",
              " [3] LC_TIME=en_US.UTF-8        LC_COLLATE=en_US.UTF-8    \n",
              " [5] LC_MONETARY=en_US.UTF-8    LC_MESSAGES=en_US.UTF-8   \n",
              " [7] LC_PAPER=en_US.UTF-8       LC_NAME=C                 \n",
              " [9] LC_ADDRESS=C               LC_TELEPHONE=C            \n",
              "[11] LC_MEASUREMENT=en_US.UTF-8 LC_IDENTIFICATION=C       \n",
              "\n",
              "attached base packages:\n",
              "[1] stats     graphics  grDevices utils     datasets  methods   base     \n",
              "\n",
              "other attached packages:\n",
              "[1] ggplot2_3.3.6 glue_1.6.2    dplyr_1.0.9  \n",
              "\n",
              "loaded via a namespace (and not attached):\n",
              " [1] pillar_1.7.0     compiler_4.2.0   base64enc_0.1-3  tools_4.2.0     \n",
              " [5] digest_0.6.29    uuid_1.1-0       jsonlite_1.8.0   evaluate_0.15   \n",
              " [9] lifecycle_1.0.1  tibble_3.1.7     gtable_0.3.0     pkgconfig_2.0.3 \n",
              "[13] rlang_1.0.3      IRdisplay_1.1    cli_3.3.0        DBI_1.1.3       \n",
              "[17] IRkernel_1.3     fastmap_1.1.0    withr_2.5.0      repr_1.1.4      \n",
              "[21] generics_0.1.3   vctrs_0.4.1      grid_4.2.0       tidyselect_1.1.2\n",
              "[25] R6_2.5.1         fansi_1.0.3      pbdZMQ_0.3-7     farver_2.1.1    \n",
              "[29] purrr_0.3.4      magrittr_2.0.3   scales_1.2.0     ellipsis_0.3.2  \n",
              "[33] htmltools_0.5.2  assertthat_0.2.1 colorspace_2.0-3 labeling_0.4.2  \n",
              "[37] utf8_1.2.2       munsell_0.5.0    crayon_1.5.1    "
            ]
          },
          "metadata": {}
        }
      ],
      "source": [
        "sessionInfo()"
      ]
    },
    {
      "cell_type": "markdown",
      "metadata": {
        "id": "erT_dTq7qN6V"
      },
      "source": [
        "### Importando bibliotecas \n",
        "#### A bilioteca dplyr\n",
        "https://www.rdocumentation.org/packages/dplyr"
      ]
    },
    {
      "cell_type": "code",
      "execution_count": null,
      "metadata": {
        "scrolled": false,
        "id": "VBy6qHsVqN6W"
      },
      "outputs": [],
      "source": [
        "library(dplyr)"
      ]
    },
    {
      "cell_type": "markdown",
      "metadata": {
        "id": "tiMHmh3tqN6W"
      },
      "source": [
        "### <font color=red>Documentações:\n",
        "\n",
        "- [**select**](https://www.rdocumentation.org/packages/dplyr/versions/0.7.8/topics/select)\n",
        "- [**arrange**](https://www.rdocumentation.org/packages/dplyr/versions/0.7.8/topics/arrange)\n",
        "- [**read.csv**](https://www.rdocumentation.org/packages/utils/versions/3.6.1/topics/read.table)\n",
        "- [**head**](https://www.rdocumentation.org/packages/utils/versions/3.6.1/topics/head)"
      ]
    },
    {
      "cell_type": "markdown",
      "metadata": {
        "id": "JtkTDbRfqN6W"
      },
      "source": [
        "### Acessando a ajuda"
      ]
    },
    {
      "cell_type": "code",
      "execution_count": null,
      "metadata": {
        "id": "z57w17cKqN6X"
      },
      "outputs": [],
      "source": [
        "?select"
      ]
    },
    {
      "cell_type": "code",
      "execution_count": null,
      "metadata": {
        "id": "1c2pbY59qN6X"
      },
      "outputs": [],
      "source": [
        "?arrange"
      ]
    },
    {
      "cell_type": "markdown",
      "metadata": {
        "id": "8Rw70V6ojQKk"
      },
      "source": [
        "---\n",
        "### Importando o dataset do projeto"
      ]
    },
    {
      "cell_type": "code",
      "execution_count": null,
      "metadata": {
        "id": "8QgOpE-wjQKl"
      },
      "outputs": [],
      "source": [
        "dados <- read.csv(\"dados.csv\")"
      ]
    },
    {
      "cell_type": "code",
      "execution_count": null,
      "metadata": {
        "colab": {
          "base_uri": "https://localhost:8080/",
          "height": 1000
        },
        "id": "ufRZ7TLwjQKo",
        "scrolled": true,
        "outputId": "7564989d-6996-474e-8ca8-7d5488a5c623"
      },
      "outputs": [
        {
          "output_type": "display_data",
          "data": {
            "text/html": [
              "<table class=\"dataframe\">\n",
              "<caption>A data.frame: 118383 × 7</caption>\n",
              "<thead>\n",
              "\t<tr><th scope=col>UF</th><th scope=col>Sexo</th><th scope=col>Idade</th><th scope=col>Cor</th><th scope=col>Anos.de.Estudo</th><th scope=col>Renda</th><th scope=col>Altura</th></tr>\n",
              "\t<tr><th scope=col>&lt;int&gt;</th><th scope=col>&lt;int&gt;</th><th scope=col>&lt;int&gt;</th><th scope=col>&lt;int&gt;</th><th scope=col>&lt;int&gt;</th><th scope=col>&lt;int&gt;</th><th scope=col>&lt;dbl&gt;</th></tr>\n",
              "</thead>\n",
              "<tbody>\n",
              "\t<tr><td>11</td><td>0</td><td>23</td><td>8</td><td>12</td><td> 800</td><td>1.603808</td></tr>\n",
              "\t<tr><td>11</td><td>1</td><td>23</td><td>2</td><td>12</td><td>1150</td><td>1.739790</td></tr>\n",
              "\t<tr><td>11</td><td>1</td><td>35</td><td>8</td><td>15</td><td> 880</td><td>1.760444</td></tr>\n",
              "\t<tr><td>11</td><td>0</td><td>46</td><td>2</td><td> 6</td><td>3500</td><td>1.783158</td></tr>\n",
              "\t<tr><td>11</td><td>1</td><td>47</td><td>8</td><td> 9</td><td> 150</td><td>1.690631</td></tr>\n",
              "\t<tr><td>11</td><td>1</td><td>34</td><td>8</td><td>12</td><td> 790</td><td>1.637906</td></tr>\n",
              "\t<tr><td>11</td><td>0</td><td>57</td><td>8</td><td>12</td><td>3150</td><td>1.570078</td></tr>\n",
              "\t<tr><td>11</td><td>1</td><td>60</td><td>8</td><td>12</td><td>1700</td><td>1.608495</td></tr>\n",
              "\t<tr><td>11</td><td>1</td><td>50</td><td>4</td><td>14</td><td>1800</td><td>1.780329</td></tr>\n",
              "\t<tr><td>11</td><td>0</td><td>26</td><td>8</td><td>12</td><td>1150</td><td>1.793203</td></tr>\n",
              "\t<tr><td>11</td><td>1</td><td>46</td><td>8</td><td>12</td><td>3000</td><td>1.787003</td></tr>\n",
              "\t<tr><td>11</td><td>1</td><td>49</td><td>8</td><td> 6</td><td>2500</td><td>1.712912</td></tr>\n",
              "\t<tr><td>11</td><td>1</td><td>52</td><td>2</td><td> 6</td><td>1200</td><td>1.736442</td></tr>\n",
              "\t<tr><td>11</td><td>0</td><td>38</td><td>8</td><td>12</td><td>2000</td><td>1.750827</td></tr>\n",
              "\t<tr><td>11</td><td>0</td><td>45</td><td>2</td><td>12</td><td>2000</td><td>1.780450</td></tr>\n",
              "\t<tr><td>11</td><td>0</td><td>34</td><td>2</td><td>16</td><td>6000</td><td>1.711825</td></tr>\n",
              "\t<tr><td>11</td><td>1</td><td>43</td><td>8</td><td>10</td><td>1050</td><td>1.789012</td></tr>\n",
              "\t<tr><td>11</td><td>0</td><td>53</td><td>8</td><td>16</td><td>7000</td><td>1.673665</td></tr>\n",
              "\t<tr><td>11</td><td>0</td><td>57</td><td>2</td><td>12</td><td>2000</td><td>1.715138</td></tr>\n",
              "\t<tr><td>11</td><td>1</td><td>62</td><td>8</td><td>12</td><td>1150</td><td>1.765973</td></tr>\n",
              "\t<tr><td>11</td><td>0</td><td>69</td><td>8</td><td> 1</td><td>3030</td><td>1.746351</td></tr>\n",
              "\t<tr><td>11</td><td>1</td><td>41</td><td>8</td><td>16</td><td>4000</td><td>1.660873</td></tr>\n",
              "\t<tr><td>11</td><td>0</td><td>34</td><td>8</td><td> 5</td><td> 788</td><td>1.746048</td></tr>\n",
              "\t<tr><td>11</td><td>0</td><td>25</td><td>8</td><td>12</td><td>1000</td><td>1.726496</td></tr>\n",
              "\t<tr><td>11</td><td>0</td><td>33</td><td>8</td><td> 9</td><td> 800</td><td>1.778914</td></tr>\n",
              "\t<tr><td>11</td><td>1</td><td>44</td><td>8</td><td> 5</td><td> 788</td><td>1.668638</td></tr>\n",
              "\t<tr><td>11</td><td>0</td><td>33</td><td>2</td><td>16</td><td>1600</td><td>1.783771</td></tr>\n",
              "\t<tr><td>11</td><td>0</td><td>65</td><td>2</td><td>12</td><td>1700</td><td>1.873445</td></tr>\n",
              "\t<tr><td>11</td><td>0</td><td>33</td><td>8</td><td>14</td><td>2000</td><td>1.890250</td></tr>\n",
              "\t<tr><td>11</td><td>0</td><td>32</td><td>8</td><td>12</td><td>2400</td><td>1.660204</td></tr>\n",
              "\t<tr><td>⋮</td><td>⋮</td><td>⋮</td><td>⋮</td><td>⋮</td><td>⋮</td><td>⋮</td></tr>\n",
              "\t<tr><td>53</td><td>0</td><td>34</td><td>4</td><td>12</td><td> 2500</td><td>1.802241</td></tr>\n",
              "\t<tr><td>53</td><td>1</td><td>57</td><td>2</td><td>11</td><td> 1000</td><td>1.823047</td></tr>\n",
              "\t<tr><td>53</td><td>1</td><td>32</td><td>4</td><td>12</td><td>  788</td><td>1.681405</td></tr>\n",
              "\t<tr><td>53</td><td>0</td><td>35</td><td>4</td><td> 9</td><td> 2100</td><td>1.671112</td></tr>\n",
              "\t<tr><td>53</td><td>1</td><td>49</td><td>8</td><td>12</td><td> 5260</td><td>1.799319</td></tr>\n",
              "\t<tr><td>53</td><td>0</td><td>51</td><td>8</td><td> 1</td><td> 5000</td><td>1.599400</td></tr>\n",
              "\t<tr><td>53</td><td>0</td><td>37</td><td>8</td><td>12</td><td>  950</td><td>1.620497</td></tr>\n",
              "\t<tr><td>53</td><td>0</td><td>47</td><td>8</td><td>12</td><td> 1109</td><td>1.920274</td></tr>\n",
              "\t<tr><td>53</td><td>0</td><td>27</td><td>8</td><td>10</td><td>  850</td><td>1.793074</td></tr>\n",
              "\t<tr><td>53</td><td>1</td><td>49</td><td>8</td><td> 9</td><td>  788</td><td>1.695710</td></tr>\n",
              "\t<tr><td>53</td><td>1</td><td>27</td><td>8</td><td>12</td><td>  866</td><td>1.729035</td></tr>\n",
              "\t<tr><td>53</td><td>0</td><td>20</td><td>2</td><td> 8</td><td> 1300</td><td>1.660409</td></tr>\n",
              "\t<tr><td>53</td><td>0</td><td>49</td><td>8</td><td>12</td><td> 8700</td><td>1.775182</td></tr>\n",
              "\t<tr><td>53</td><td>0</td><td>43</td><td>8</td><td>10</td><td> 5000</td><td>1.584493</td></tr>\n",
              "\t<tr><td>53</td><td>0</td><td>64</td><td>2</td><td>12</td><td> 5000</td><td>1.717452</td></tr>\n",
              "\t<tr><td>53</td><td>0</td><td>55</td><td>2</td><td>16</td><td>13000</td><td>1.729995</td></tr>\n",
              "\t<tr><td>53</td><td>0</td><td>39</td><td>2</td><td>12</td><td> 6000</td><td>1.739046</td></tr>\n",
              "\t<tr><td>53</td><td>1</td><td>41</td><td>2</td><td>16</td><td>10000</td><td>1.696208</td></tr>\n",
              "\t<tr><td>53</td><td>0</td><td>62</td><td>2</td><td>16</td><td>10000</td><td>1.817097</td></tr>\n",
              "\t<tr><td>53</td><td>0</td><td>42</td><td>8</td><td>12</td><td>32000</td><td>1.788923</td></tr>\n",
              "\t<tr><td>53</td><td>0</td><td>62</td><td>2</td><td>16</td><td> 3500</td><td>1.725379</td></tr>\n",
              "\t<tr><td>53</td><td>1</td><td>44</td><td>2</td><td>16</td><td>30000</td><td>1.783962</td></tr>\n",
              "\t<tr><td>53</td><td>1</td><td>49</td><td>2</td><td>12</td><td> 5000</td><td>1.757146</td></tr>\n",
              "\t<tr><td>53</td><td>0</td><td>30</td><td>4</td><td> 6</td><td> 1900</td><td>1.662560</td></tr>\n",
              "\t<tr><td>53</td><td>1</td><td>35</td><td>4</td><td> 1</td><td> 1100</td><td>1.741089</td></tr>\n",
              "\t<tr><td>53</td><td>1</td><td>46</td><td>2</td><td>11</td><td>  812</td><td>1.687030</td></tr>\n",
              "\t<tr><td>53</td><td>0</td><td>30</td><td>4</td><td> 7</td><td> 1500</td><td>1.792934</td></tr>\n",
              "\t<tr><td>53</td><td>0</td><td>32</td><td>8</td><td>12</td><td> 1300</td><td>1.830587</td></tr>\n",
              "\t<tr><td>53</td><td>0</td><td>57</td><td>8</td><td> 4</td><td> 1500</td><td>1.726344</td></tr>\n",
              "\t<tr><td>53</td><td>0</td><td>38</td><td>8</td><td> 4</td><td>  900</td><td>1.658305</td></tr>\n",
              "</tbody>\n",
              "</table>\n"
            ],
            "text/markdown": "\nA data.frame: 118383 × 7\n\n| UF &lt;int&gt; | Sexo &lt;int&gt; | Idade &lt;int&gt; | Cor &lt;int&gt; | Anos.de.Estudo &lt;int&gt; | Renda &lt;int&gt; | Altura &lt;dbl&gt; |\n|---|---|---|---|---|---|---|\n| 11 | 0 | 23 | 8 | 12 |  800 | 1.603808 |\n| 11 | 1 | 23 | 2 | 12 | 1150 | 1.739790 |\n| 11 | 1 | 35 | 8 | 15 |  880 | 1.760444 |\n| 11 | 0 | 46 | 2 |  6 | 3500 | 1.783158 |\n| 11 | 1 | 47 | 8 |  9 |  150 | 1.690631 |\n| 11 | 1 | 34 | 8 | 12 |  790 | 1.637906 |\n| 11 | 0 | 57 | 8 | 12 | 3150 | 1.570078 |\n| 11 | 1 | 60 | 8 | 12 | 1700 | 1.608495 |\n| 11 | 1 | 50 | 4 | 14 | 1800 | 1.780329 |\n| 11 | 0 | 26 | 8 | 12 | 1150 | 1.793203 |\n| 11 | 1 | 46 | 8 | 12 | 3000 | 1.787003 |\n| 11 | 1 | 49 | 8 |  6 | 2500 | 1.712912 |\n| 11 | 1 | 52 | 2 |  6 | 1200 | 1.736442 |\n| 11 | 0 | 38 | 8 | 12 | 2000 | 1.750827 |\n| 11 | 0 | 45 | 2 | 12 | 2000 | 1.780450 |\n| 11 | 0 | 34 | 2 | 16 | 6000 | 1.711825 |\n| 11 | 1 | 43 | 8 | 10 | 1050 | 1.789012 |\n| 11 | 0 | 53 | 8 | 16 | 7000 | 1.673665 |\n| 11 | 0 | 57 | 2 | 12 | 2000 | 1.715138 |\n| 11 | 1 | 62 | 8 | 12 | 1150 | 1.765973 |\n| 11 | 0 | 69 | 8 |  1 | 3030 | 1.746351 |\n| 11 | 1 | 41 | 8 | 16 | 4000 | 1.660873 |\n| 11 | 0 | 34 | 8 |  5 |  788 | 1.746048 |\n| 11 | 0 | 25 | 8 | 12 | 1000 | 1.726496 |\n| 11 | 0 | 33 | 8 |  9 |  800 | 1.778914 |\n| 11 | 1 | 44 | 8 |  5 |  788 | 1.668638 |\n| 11 | 0 | 33 | 2 | 16 | 1600 | 1.783771 |\n| 11 | 0 | 65 | 2 | 12 | 1700 | 1.873445 |\n| 11 | 0 | 33 | 8 | 14 | 2000 | 1.890250 |\n| 11 | 0 | 32 | 8 | 12 | 2400 | 1.660204 |\n| ⋮ | ⋮ | ⋮ | ⋮ | ⋮ | ⋮ | ⋮ |\n| 53 | 0 | 34 | 4 | 12 |  2500 | 1.802241 |\n| 53 | 1 | 57 | 2 | 11 |  1000 | 1.823047 |\n| 53 | 1 | 32 | 4 | 12 |   788 | 1.681405 |\n| 53 | 0 | 35 | 4 |  9 |  2100 | 1.671112 |\n| 53 | 1 | 49 | 8 | 12 |  5260 | 1.799319 |\n| 53 | 0 | 51 | 8 |  1 |  5000 | 1.599400 |\n| 53 | 0 | 37 | 8 | 12 |   950 | 1.620497 |\n| 53 | 0 | 47 | 8 | 12 |  1109 | 1.920274 |\n| 53 | 0 | 27 | 8 | 10 |   850 | 1.793074 |\n| 53 | 1 | 49 | 8 |  9 |   788 | 1.695710 |\n| 53 | 1 | 27 | 8 | 12 |   866 | 1.729035 |\n| 53 | 0 | 20 | 2 |  8 |  1300 | 1.660409 |\n| 53 | 0 | 49 | 8 | 12 |  8700 | 1.775182 |\n| 53 | 0 | 43 | 8 | 10 |  5000 | 1.584493 |\n| 53 | 0 | 64 | 2 | 12 |  5000 | 1.717452 |\n| 53 | 0 | 55 | 2 | 16 | 13000 | 1.729995 |\n| 53 | 0 | 39 | 2 | 12 |  6000 | 1.739046 |\n| 53 | 1 | 41 | 2 | 16 | 10000 | 1.696208 |\n| 53 | 0 | 62 | 2 | 16 | 10000 | 1.817097 |\n| 53 | 0 | 42 | 8 | 12 | 32000 | 1.788923 |\n| 53 | 0 | 62 | 2 | 16 |  3500 | 1.725379 |\n| 53 | 1 | 44 | 2 | 16 | 30000 | 1.783962 |\n| 53 | 1 | 49 | 2 | 12 |  5000 | 1.757146 |\n| 53 | 0 | 30 | 4 |  6 |  1900 | 1.662560 |\n| 53 | 1 | 35 | 4 |  1 |  1100 | 1.741089 |\n| 53 | 1 | 46 | 2 | 11 |   812 | 1.687030 |\n| 53 | 0 | 30 | 4 |  7 |  1500 | 1.792934 |\n| 53 | 0 | 32 | 8 | 12 |  1300 | 1.830587 |\n| 53 | 0 | 57 | 8 |  4 |  1500 | 1.726344 |\n| 53 | 0 | 38 | 8 |  4 |   900 | 1.658305 |\n\n",
            "text/latex": "A data.frame: 118383 × 7\n\\begin{tabular}{lllllll}\n UF & Sexo & Idade & Cor & Anos.de.Estudo & Renda & Altura\\\\\n <int> & <int> & <int> & <int> & <int> & <int> & <dbl>\\\\\n\\hline\n\t 11 & 0 & 23 & 8 & 12 &  800 & 1.603808\\\\\n\t 11 & 1 & 23 & 2 & 12 & 1150 & 1.739790\\\\\n\t 11 & 1 & 35 & 8 & 15 &  880 & 1.760444\\\\\n\t 11 & 0 & 46 & 2 &  6 & 3500 & 1.783158\\\\\n\t 11 & 1 & 47 & 8 &  9 &  150 & 1.690631\\\\\n\t 11 & 1 & 34 & 8 & 12 &  790 & 1.637906\\\\\n\t 11 & 0 & 57 & 8 & 12 & 3150 & 1.570078\\\\\n\t 11 & 1 & 60 & 8 & 12 & 1700 & 1.608495\\\\\n\t 11 & 1 & 50 & 4 & 14 & 1800 & 1.780329\\\\\n\t 11 & 0 & 26 & 8 & 12 & 1150 & 1.793203\\\\\n\t 11 & 1 & 46 & 8 & 12 & 3000 & 1.787003\\\\\n\t 11 & 1 & 49 & 8 &  6 & 2500 & 1.712912\\\\\n\t 11 & 1 & 52 & 2 &  6 & 1200 & 1.736442\\\\\n\t 11 & 0 & 38 & 8 & 12 & 2000 & 1.750827\\\\\n\t 11 & 0 & 45 & 2 & 12 & 2000 & 1.780450\\\\\n\t 11 & 0 & 34 & 2 & 16 & 6000 & 1.711825\\\\\n\t 11 & 1 & 43 & 8 & 10 & 1050 & 1.789012\\\\\n\t 11 & 0 & 53 & 8 & 16 & 7000 & 1.673665\\\\\n\t 11 & 0 & 57 & 2 & 12 & 2000 & 1.715138\\\\\n\t 11 & 1 & 62 & 8 & 12 & 1150 & 1.765973\\\\\n\t 11 & 0 & 69 & 8 &  1 & 3030 & 1.746351\\\\\n\t 11 & 1 & 41 & 8 & 16 & 4000 & 1.660873\\\\\n\t 11 & 0 & 34 & 8 &  5 &  788 & 1.746048\\\\\n\t 11 & 0 & 25 & 8 & 12 & 1000 & 1.726496\\\\\n\t 11 & 0 & 33 & 8 &  9 &  800 & 1.778914\\\\\n\t 11 & 1 & 44 & 8 &  5 &  788 & 1.668638\\\\\n\t 11 & 0 & 33 & 2 & 16 & 1600 & 1.783771\\\\\n\t 11 & 0 & 65 & 2 & 12 & 1700 & 1.873445\\\\\n\t 11 & 0 & 33 & 8 & 14 & 2000 & 1.890250\\\\\n\t 11 & 0 & 32 & 8 & 12 & 2400 & 1.660204\\\\\n\t ⋮ & ⋮ & ⋮ & ⋮ & ⋮ & ⋮ & ⋮\\\\\n\t 53 & 0 & 34 & 4 & 12 &  2500 & 1.802241\\\\\n\t 53 & 1 & 57 & 2 & 11 &  1000 & 1.823047\\\\\n\t 53 & 1 & 32 & 4 & 12 &   788 & 1.681405\\\\\n\t 53 & 0 & 35 & 4 &  9 &  2100 & 1.671112\\\\\n\t 53 & 1 & 49 & 8 & 12 &  5260 & 1.799319\\\\\n\t 53 & 0 & 51 & 8 &  1 &  5000 & 1.599400\\\\\n\t 53 & 0 & 37 & 8 & 12 &   950 & 1.620497\\\\\n\t 53 & 0 & 47 & 8 & 12 &  1109 & 1.920274\\\\\n\t 53 & 0 & 27 & 8 & 10 &   850 & 1.793074\\\\\n\t 53 & 1 & 49 & 8 &  9 &   788 & 1.695710\\\\\n\t 53 & 1 & 27 & 8 & 12 &   866 & 1.729035\\\\\n\t 53 & 0 & 20 & 2 &  8 &  1300 & 1.660409\\\\\n\t 53 & 0 & 49 & 8 & 12 &  8700 & 1.775182\\\\\n\t 53 & 0 & 43 & 8 & 10 &  5000 & 1.584493\\\\\n\t 53 & 0 & 64 & 2 & 12 &  5000 & 1.717452\\\\\n\t 53 & 0 & 55 & 2 & 16 & 13000 & 1.729995\\\\\n\t 53 & 0 & 39 & 2 & 12 &  6000 & 1.739046\\\\\n\t 53 & 1 & 41 & 2 & 16 & 10000 & 1.696208\\\\\n\t 53 & 0 & 62 & 2 & 16 & 10000 & 1.817097\\\\\n\t 53 & 0 & 42 & 8 & 12 & 32000 & 1.788923\\\\\n\t 53 & 0 & 62 & 2 & 16 &  3500 & 1.725379\\\\\n\t 53 & 1 & 44 & 2 & 16 & 30000 & 1.783962\\\\\n\t 53 & 1 & 49 & 2 & 12 &  5000 & 1.757146\\\\\n\t 53 & 0 & 30 & 4 &  6 &  1900 & 1.662560\\\\\n\t 53 & 1 & 35 & 4 &  1 &  1100 & 1.741089\\\\\n\t 53 & 1 & 46 & 2 & 11 &   812 & 1.687030\\\\\n\t 53 & 0 & 30 & 4 &  7 &  1500 & 1.792934\\\\\n\t 53 & 0 & 32 & 8 & 12 &  1300 & 1.830587\\\\\n\t 53 & 0 & 57 & 8 &  4 &  1500 & 1.726344\\\\\n\t 53 & 0 & 38 & 8 &  4 &   900 & 1.658305\\\\\n\\end{tabular}\n",
            "text/plain": [
              "       UF Sexo Idade Cor Anos.de.Estudo Renda Altura  \n",
              "1      11 0    23    8   12              800  1.603808\n",
              "2      11 1    23    2   12             1150  1.739790\n",
              "3      11 1    35    8   15              880  1.760444\n",
              "4      11 0    46    2    6             3500  1.783158\n",
              "5      11 1    47    8    9              150  1.690631\n",
              "6      11 1    34    8   12              790  1.637906\n",
              "7      11 0    57    8   12             3150  1.570078\n",
              "8      11 1    60    8   12             1700  1.608495\n",
              "9      11 1    50    4   14             1800  1.780329\n",
              "10     11 0    26    8   12             1150  1.793203\n",
              "11     11 1    46    8   12             3000  1.787003\n",
              "12     11 1    49    8    6             2500  1.712912\n",
              "13     11 1    52    2    6             1200  1.736442\n",
              "14     11 0    38    8   12             2000  1.750827\n",
              "15     11 0    45    2   12             2000  1.780450\n",
              "16     11 0    34    2   16             6000  1.711825\n",
              "17     11 1    43    8   10             1050  1.789012\n",
              "18     11 0    53    8   16             7000  1.673665\n",
              "19     11 0    57    2   12             2000  1.715138\n",
              "20     11 1    62    8   12             1150  1.765973\n",
              "21     11 0    69    8    1             3030  1.746351\n",
              "22     11 1    41    8   16             4000  1.660873\n",
              "23     11 0    34    8    5              788  1.746048\n",
              "24     11 0    25    8   12             1000  1.726496\n",
              "25     11 0    33    8    9              800  1.778914\n",
              "26     11 1    44    8    5              788  1.668638\n",
              "27     11 0    33    2   16             1600  1.783771\n",
              "28     11 0    65    2   12             1700  1.873445\n",
              "29     11 0    33    8   14             2000  1.890250\n",
              "30     11 0    32    8   12             2400  1.660204\n",
              "⋮      ⋮  ⋮    ⋮     ⋮   ⋮              ⋮     ⋮       \n",
              "118354 53 0    34    4   12              2500 1.802241\n",
              "118355 53 1    57    2   11              1000 1.823047\n",
              "118356 53 1    32    4   12               788 1.681405\n",
              "118357 53 0    35    4    9              2100 1.671112\n",
              "118358 53 1    49    8   12              5260 1.799319\n",
              "118359 53 0    51    8    1              5000 1.599400\n",
              "118360 53 0    37    8   12               950 1.620497\n",
              "118361 53 0    47    8   12              1109 1.920274\n",
              "118362 53 0    27    8   10               850 1.793074\n",
              "118363 53 1    49    8    9               788 1.695710\n",
              "118364 53 1    27    8   12               866 1.729035\n",
              "118365 53 0    20    2    8              1300 1.660409\n",
              "118366 53 0    49    8   12              8700 1.775182\n",
              "118367 53 0    43    8   10              5000 1.584493\n",
              "118368 53 0    64    2   12              5000 1.717452\n",
              "118369 53 0    55    2   16             13000 1.729995\n",
              "118370 53 0    39    2   12              6000 1.739046\n",
              "118371 53 1    41    2   16             10000 1.696208\n",
              "118372 53 0    62    2   16             10000 1.817097\n",
              "118373 53 0    42    8   12             32000 1.788923\n",
              "118374 53 0    62    2   16              3500 1.725379\n",
              "118375 53 1    44    2   16             30000 1.783962\n",
              "118376 53 1    49    2   12              5000 1.757146\n",
              "118377 53 0    30    4    6              1900 1.662560\n",
              "118378 53 1    35    4    1              1100 1.741089\n",
              "118379 53 1    46    2   11               812 1.687030\n",
              "118380 53 0    30    4    7              1500 1.792934\n",
              "118381 53 0    32    8   12              1300 1.830587\n",
              "118382 53 0    57    8    4              1500 1.726344\n",
              "118383 53 0    38    8    4               900 1.658305"
            ]
          },
          "metadata": {}
        }
      ],
      "source": [
        "dados"
      ]
    },
    {
      "cell_type": "code",
      "execution_count": null,
      "metadata": {
        "colab": {
          "base_uri": "https://localhost:8080/",
          "height": 255
        },
        "id": "GsC_WhLFjQKq",
        "outputId": "7ebeb6f1-9691-4589-c4fb-e220dcf0c689",
        "scrolled": false
      },
      "outputs": [
        {
          "output_type": "display_data",
          "data": {
            "text/html": [
              "<table class=\"dataframe\">\n",
              "<caption>A data.frame: 5 × 7</caption>\n",
              "<thead>\n",
              "\t<tr><th></th><th scope=col>UF</th><th scope=col>Sexo</th><th scope=col>Idade</th><th scope=col>Cor</th><th scope=col>Anos.de.Estudo</th><th scope=col>Renda</th><th scope=col>Altura</th></tr>\n",
              "\t<tr><th></th><th scope=col>&lt;int&gt;</th><th scope=col>&lt;int&gt;</th><th scope=col>&lt;int&gt;</th><th scope=col>&lt;int&gt;</th><th scope=col>&lt;int&gt;</th><th scope=col>&lt;int&gt;</th><th scope=col>&lt;dbl&gt;</th></tr>\n",
              "</thead>\n",
              "<tbody>\n",
              "\t<tr><th scope=row>1</th><td>11</td><td>0</td><td>23</td><td>8</td><td>12</td><td> 800</td><td>1.603808</td></tr>\n",
              "\t<tr><th scope=row>2</th><td>11</td><td>1</td><td>23</td><td>2</td><td>12</td><td>1150</td><td>1.739790</td></tr>\n",
              "\t<tr><th scope=row>3</th><td>11</td><td>1</td><td>35</td><td>8</td><td>15</td><td> 880</td><td>1.760444</td></tr>\n",
              "\t<tr><th scope=row>4</th><td>11</td><td>0</td><td>46</td><td>2</td><td> 6</td><td>3500</td><td>1.783158</td></tr>\n",
              "\t<tr><th scope=row>5</th><td>11</td><td>1</td><td>47</td><td>8</td><td> 9</td><td> 150</td><td>1.690631</td></tr>\n",
              "</tbody>\n",
              "</table>\n"
            ],
            "text/markdown": "\nA data.frame: 5 × 7\n\n| <!--/--> | UF &lt;int&gt; | Sexo &lt;int&gt; | Idade &lt;int&gt; | Cor &lt;int&gt; | Anos.de.Estudo &lt;int&gt; | Renda &lt;int&gt; | Altura &lt;dbl&gt; |\n|---|---|---|---|---|---|---|---|\n| 1 | 11 | 0 | 23 | 8 | 12 |  800 | 1.603808 |\n| 2 | 11 | 1 | 23 | 2 | 12 | 1150 | 1.739790 |\n| 3 | 11 | 1 | 35 | 8 | 15 |  880 | 1.760444 |\n| 4 | 11 | 0 | 46 | 2 |  6 | 3500 | 1.783158 |\n| 5 | 11 | 1 | 47 | 8 |  9 |  150 | 1.690631 |\n\n",
            "text/latex": "A data.frame: 5 × 7\n\\begin{tabular}{r|lllllll}\n  & UF & Sexo & Idade & Cor & Anos.de.Estudo & Renda & Altura\\\\\n  & <int> & <int> & <int> & <int> & <int> & <int> & <dbl>\\\\\n\\hline\n\t1 & 11 & 0 & 23 & 8 & 12 &  800 & 1.603808\\\\\n\t2 & 11 & 1 & 23 & 2 & 12 & 1150 & 1.739790\\\\\n\t3 & 11 & 1 & 35 & 8 & 15 &  880 & 1.760444\\\\\n\t4 & 11 & 0 & 46 & 2 &  6 & 3500 & 1.783158\\\\\n\t5 & 11 & 1 & 47 & 8 &  9 &  150 & 1.690631\\\\\n\\end{tabular}\n",
            "text/plain": [
              "  UF Sexo Idade Cor Anos.de.Estudo Renda Altura  \n",
              "1 11 0    23    8   12              800  1.603808\n",
              "2 11 1    23    2   12             1150  1.739790\n",
              "3 11 1    35    8   15              880  1.760444\n",
              "4 11 0    46    2    6             3500  1.783158\n",
              "5 11 1    47    8    9              150  1.690631"
            ]
          },
          "metadata": {}
        }
      ],
      "source": [
        "head(dados, 5)"
      ]
    },
    {
      "cell_type": "markdown",
      "metadata": {
        "id": "E3Mx0tVqjQKs"
      },
      "source": [
        "## <font color=green>1.2 Tipos de dados</font>\n",
        "***"
      ]
    },
    {
      "cell_type": "markdown",
      "metadata": {
        "id": "oB4TCBFojQKt"
      },
      "source": [
        "### Variáveis qualitativas ordinais\n",
        "\n",
        "► Variáveis que podem ser ordenadas ou hierarquizardas"
      ]
    },
    {
      "cell_type": "markdown",
      "metadata": {
        "id": "aXiFy0I3qN6Z"
      },
      "source": [
        "### <font color=red>Documentações:\n",
        "\n",
        "- [**select**](https://www.rdocumentation.org/packages/dplyr/versions/0.7.8/topics/select)\n",
        "- [**unique**](https://www.rdocumentation.org/packages/base/versions/3.6.1/topics/unique)\n",
        "- [**arrange**](https://www.rdocumentation.org/packages/dplyr/versions/0.7.8/topics/arrange)\n",
        "- [**c**](https://www.rdocumentation.org/packages/base/versions/3.6.1/topics/c)\n",
        "- [**sprintf**](https://www.rdocumentation.org/packages/base/versions/3.6.1/topics/sprintf)\n",
        "- [**glue**](https://www.rdocumentation.org/packages/glue/versions/1.3.1/topics/glue)\n",
        "- [**min e max**](https://www.rdocumentation.org/packages/base/versions/3.6.1/topics/Extremes)"
      ]
    },
    {
      "cell_type": "code",
      "execution_count": null,
      "metadata": {
        "scrolled": true,
        "colab": {
          "base_uri": "https://localhost:8080/",
          "height": 255
        },
        "id": "gMrbEbWoqN6Z",
        "outputId": "34b332ef-05b4-4d6b-c7e4-90bfc933be90"
      },
      "outputs": [
        {
          "output_type": "display_data",
          "data": {
            "text/html": [
              "<table class=\"dataframe\">\n",
              "<caption>A data.frame: 5 × 7</caption>\n",
              "<thead>\n",
              "\t<tr><th></th><th scope=col>UF</th><th scope=col>Sexo</th><th scope=col>Idade</th><th scope=col>Cor</th><th scope=col>Anos.de.Estudo</th><th scope=col>Renda</th><th scope=col>Altura</th></tr>\n",
              "\t<tr><th></th><th scope=col>&lt;int&gt;</th><th scope=col>&lt;int&gt;</th><th scope=col>&lt;int&gt;</th><th scope=col>&lt;int&gt;</th><th scope=col>&lt;int&gt;</th><th scope=col>&lt;int&gt;</th><th scope=col>&lt;dbl&gt;</th></tr>\n",
              "</thead>\n",
              "<tbody>\n",
              "\t<tr><th scope=row>1</th><td>11</td><td>0</td><td>23</td><td>8</td><td>12</td><td> 800</td><td>1.603808</td></tr>\n",
              "\t<tr><th scope=row>2</th><td>11</td><td>1</td><td>23</td><td>2</td><td>12</td><td>1150</td><td>1.739790</td></tr>\n",
              "\t<tr><th scope=row>3</th><td>11</td><td>1</td><td>35</td><td>8</td><td>15</td><td> 880</td><td>1.760444</td></tr>\n",
              "\t<tr><th scope=row>4</th><td>11</td><td>0</td><td>46</td><td>2</td><td> 6</td><td>3500</td><td>1.783158</td></tr>\n",
              "\t<tr><th scope=row>5</th><td>11</td><td>1</td><td>47</td><td>8</td><td> 9</td><td> 150</td><td>1.690631</td></tr>\n",
              "</tbody>\n",
              "</table>\n"
            ],
            "text/markdown": "\nA data.frame: 5 × 7\n\n| <!--/--> | UF &lt;int&gt; | Sexo &lt;int&gt; | Idade &lt;int&gt; | Cor &lt;int&gt; | Anos.de.Estudo &lt;int&gt; | Renda &lt;int&gt; | Altura &lt;dbl&gt; |\n|---|---|---|---|---|---|---|---|\n| 1 | 11 | 0 | 23 | 8 | 12 |  800 | 1.603808 |\n| 2 | 11 | 1 | 23 | 2 | 12 | 1150 | 1.739790 |\n| 3 | 11 | 1 | 35 | 8 | 15 |  880 | 1.760444 |\n| 4 | 11 | 0 | 46 | 2 |  6 | 3500 | 1.783158 |\n| 5 | 11 | 1 | 47 | 8 |  9 |  150 | 1.690631 |\n\n",
            "text/latex": "A data.frame: 5 × 7\n\\begin{tabular}{r|lllllll}\n  & UF & Sexo & Idade & Cor & Anos.de.Estudo & Renda & Altura\\\\\n  & <int> & <int> & <int> & <int> & <int> & <int> & <dbl>\\\\\n\\hline\n\t1 & 11 & 0 & 23 & 8 & 12 &  800 & 1.603808\\\\\n\t2 & 11 & 1 & 23 & 2 & 12 & 1150 & 1.739790\\\\\n\t3 & 11 & 1 & 35 & 8 & 15 &  880 & 1.760444\\\\\n\t4 & 11 & 0 & 46 & 2 &  6 & 3500 & 1.783158\\\\\n\t5 & 11 & 1 & 47 & 8 &  9 &  150 & 1.690631\\\\\n\\end{tabular}\n",
            "text/plain": [
              "  UF Sexo Idade Cor Anos.de.Estudo Renda Altura  \n",
              "1 11 0    23    8   12              800  1.603808\n",
              "2 11 1    23    2   12             1150  1.739790\n",
              "3 11 1    35    8   15              880  1.760444\n",
              "4 11 0    46    2    6             3500  1.783158\n",
              "5 11 1    47    8    9              150  1.690631"
            ]
          },
          "metadata": {}
        }
      ],
      "source": [
        "head(dados, 5)"
      ]
    },
    {
      "cell_type": "code",
      "execution_count": null,
      "metadata": {
        "scrolled": true,
        "colab": {
          "base_uri": "https://localhost:8080/",
          "height": 255
        },
        "id": "fhXuht56qN6Z",
        "outputId": "b8eaea10-b77c-40b1-b2fa-b06f97b78865"
      },
      "outputs": [
        {
          "output_type": "display_data",
          "data": {
            "text/html": [
              "<table class=\"dataframe\">\n",
              "<caption>A data.frame: 5 × 1</caption>\n",
              "<thead>\n",
              "\t<tr><th></th><th scope=col>Anos.de.Estudo</th></tr>\n",
              "\t<tr><th></th><th scope=col>&lt;int&gt;</th></tr>\n",
              "</thead>\n",
              "<tbody>\n",
              "\t<tr><th scope=row>1</th><td>12</td></tr>\n",
              "\t<tr><th scope=row>2</th><td>12</td></tr>\n",
              "\t<tr><th scope=row>3</th><td>15</td></tr>\n",
              "\t<tr><th scope=row>4</th><td> 6</td></tr>\n",
              "\t<tr><th scope=row>5</th><td> 9</td></tr>\n",
              "</tbody>\n",
              "</table>\n"
            ],
            "text/markdown": "\nA data.frame: 5 × 1\n\n| <!--/--> | Anos.de.Estudo &lt;int&gt; |\n|---|---|\n| 1 | 12 |\n| 2 | 12 |\n| 3 | 15 |\n| 4 |  6 |\n| 5 |  9 |\n\n",
            "text/latex": "A data.frame: 5 × 1\n\\begin{tabular}{r|l}\n  & Anos.de.Estudo\\\\\n  & <int>\\\\\n\\hline\n\t1 & 12\\\\\n\t2 & 12\\\\\n\t3 & 15\\\\\n\t4 &  6\\\\\n\t5 &  9\\\\\n\\end{tabular}\n",
            "text/plain": [
              "  Anos.de.Estudo\n",
              "1 12            \n",
              "2 12            \n",
              "3 15            \n",
              "4  6            \n",
              "5  9            "
            ]
          },
          "metadata": {}
        }
      ],
      "source": [
        "# selecionando categorias qualitativa\n",
        "head(select(dados, Anos.de.Estudo), 5)"
      ]
    },
    {
      "cell_type": "code",
      "execution_count": null,
      "metadata": {
        "scrolled": true,
        "colab": {
          "base_uri": "https://localhost:8080/",
          "height": 662
        },
        "id": "Z0PnAtxvqN6Z",
        "outputId": "46c891fa-9f89-4b84-fd37-ff976796b31e"
      },
      "outputs": [
        {
          "output_type": "display_data",
          "data": {
            "text/html": [
              "<table class=\"dataframe\">\n",
              "<caption>A data.frame: 18 × 1</caption>\n",
              "<thead>\n",
              "\t<tr><th></th><th scope=col>Anos.de.Estudo</th></tr>\n",
              "\t<tr><th></th><th scope=col>&lt;int&gt;</th></tr>\n",
              "</thead>\n",
              "<tbody>\n",
              "\t<tr><th scope=row>1</th><td>12</td></tr>\n",
              "\t<tr><th scope=row>3</th><td>15</td></tr>\n",
              "\t<tr><th scope=row>4</th><td> 6</td></tr>\n",
              "\t<tr><th scope=row>5</th><td> 9</td></tr>\n",
              "\t<tr><th scope=row>9</th><td>14</td></tr>\n",
              "\t<tr><th scope=row>16</th><td>16</td></tr>\n",
              "\t<tr><th scope=row>17</th><td>10</td></tr>\n",
              "\t<tr><th scope=row>21</th><td> 1</td></tr>\n",
              "\t<tr><th scope=row>23</th><td> 5</td></tr>\n",
              "\t<tr><th scope=row>37</th><td> 7</td></tr>\n",
              "\t<tr><th scope=row>38</th><td> 3</td></tr>\n",
              "\t<tr><th scope=row>44</th><td> 2</td></tr>\n",
              "\t<tr><th scope=row>50</th><td> 4</td></tr>\n",
              "\t<tr><th scope=row>51</th><td> 8</td></tr>\n",
              "\t<tr><th scope=row>63</th><td>11</td></tr>\n",
              "\t<tr><th scope=row>75</th><td>17</td></tr>\n",
              "\t<tr><th scope=row>161</th><td>13</td></tr>\n",
              "\t<tr><th scope=row>76841</th><td>NA</td></tr>\n",
              "</tbody>\n",
              "</table>\n"
            ],
            "text/markdown": "\nA data.frame: 18 × 1\n\n| <!--/--> | Anos.de.Estudo &lt;int&gt; |\n|---|---|\n| 1 | 12 |\n| 3 | 15 |\n| 4 |  6 |\n| 5 |  9 |\n| 9 | 14 |\n| 16 | 16 |\n| 17 | 10 |\n| 21 |  1 |\n| 23 |  5 |\n| 37 |  7 |\n| 38 |  3 |\n| 44 |  2 |\n| 50 |  4 |\n| 51 |  8 |\n| 63 | 11 |\n| 75 | 17 |\n| 161 | 13 |\n| 76841 | NA |\n\n",
            "text/latex": "A data.frame: 18 × 1\n\\begin{tabular}{r|l}\n  & Anos.de.Estudo\\\\\n  & <int>\\\\\n\\hline\n\t1 & 12\\\\\n\t3 & 15\\\\\n\t4 &  6\\\\\n\t5 &  9\\\\\n\t9 & 14\\\\\n\t16 & 16\\\\\n\t17 & 10\\\\\n\t21 &  1\\\\\n\t23 &  5\\\\\n\t37 &  7\\\\\n\t38 &  3\\\\\n\t44 &  2\\\\\n\t50 &  4\\\\\n\t51 &  8\\\\\n\t63 & 11\\\\\n\t75 & 17\\\\\n\t161 & 13\\\\\n\t76841 & NA\\\\\n\\end{tabular}\n",
            "text/plain": [
              "      Anos.de.Estudo\n",
              "1     12            \n",
              "3     15            \n",
              "4      6            \n",
              "5      9            \n",
              "9     14            \n",
              "16    16            \n",
              "17    10            \n",
              "21     1            \n",
              "23     5            \n",
              "37     7            \n",
              "38     3            \n",
              "44     2            \n",
              "50     4            \n",
              "51     8            \n",
              "63    11            \n",
              "75    17            \n",
              "161   13            \n",
              "76841 NA            "
            ]
          },
          "metadata": {}
        }
      ],
      "source": [
        "# selecionando valores únicos\n",
        "unique(select(dados, Anos.de.Estudo))"
      ]
    },
    {
      "cell_type": "code",
      "execution_count": null,
      "metadata": {
        "scrolled": true,
        "colab": {
          "base_uri": "https://localhost:8080/",
          "height": 680
        },
        "id": "6DsKH5dTqN6Z",
        "outputId": "857294ac-ef03-459a-c5e5-bd79c628dc0a"
      },
      "outputs": [
        {
          "output_type": "display_data",
          "data": {
            "text/html": [
              "<table class=\"dataframe\">\n",
              "<caption>A data.frame: 18 × 1</caption>\n",
              "<thead>\n",
              "\t<tr><th scope=col>Anos.de.Estudo</th></tr>\n",
              "\t<tr><th scope=col>&lt;int&gt;</th></tr>\n",
              "</thead>\n",
              "<tbody>\n",
              "\t<tr><td> 1</td></tr>\n",
              "\t<tr><td> 2</td></tr>\n",
              "\t<tr><td> 3</td></tr>\n",
              "\t<tr><td> 4</td></tr>\n",
              "\t<tr><td> 5</td></tr>\n",
              "\t<tr><td> 6</td></tr>\n",
              "\t<tr><td> 7</td></tr>\n",
              "\t<tr><td> 8</td></tr>\n",
              "\t<tr><td> 9</td></tr>\n",
              "\t<tr><td>10</td></tr>\n",
              "\t<tr><td>11</td></tr>\n",
              "\t<tr><td>12</td></tr>\n",
              "\t<tr><td>13</td></tr>\n",
              "\t<tr><td>14</td></tr>\n",
              "\t<tr><td>15</td></tr>\n",
              "\t<tr><td>16</td></tr>\n",
              "\t<tr><td>17</td></tr>\n",
              "\t<tr><td>NA</td></tr>\n",
              "</tbody>\n",
              "</table>\n"
            ],
            "text/markdown": "\nA data.frame: 18 × 1\n\n| Anos.de.Estudo &lt;int&gt; |\n|---|\n|  1 |\n|  2 |\n|  3 |\n|  4 |\n|  5 |\n|  6 |\n|  7 |\n|  8 |\n|  9 |\n| 10 |\n| 11 |\n| 12 |\n| 13 |\n| 14 |\n| 15 |\n| 16 |\n| 17 |\n| NA |\n\n",
            "text/latex": "A data.frame: 18 × 1\n\\begin{tabular}{l}\n Anos.de.Estudo\\\\\n <int>\\\\\n\\hline\n\t  1\\\\\n\t  2\\\\\n\t  3\\\\\n\t  4\\\\\n\t  5\\\\\n\t  6\\\\\n\t  7\\\\\n\t  8\\\\\n\t  9\\\\\n\t 10\\\\\n\t 11\\\\\n\t 12\\\\\n\t 13\\\\\n\t 14\\\\\n\t 15\\\\\n\t 16\\\\\n\t 17\\\\\n\t NA\\\\\n\\end{tabular}\n",
            "text/plain": [
              "   Anos.de.Estudo\n",
              "1   1            \n",
              "2   2            \n",
              "3   3            \n",
              "4   4            \n",
              "5   5            \n",
              "6   6            \n",
              "7   7            \n",
              "8   8            \n",
              "9   9            \n",
              "10 10            \n",
              "11 11            \n",
              "12 12            \n",
              "13 13            \n",
              "14 14            \n",
              "15 15            \n",
              "16 16            \n",
              "17 17            \n",
              "18 NA            "
            ]
          },
          "metadata": {}
        }
      ],
      "source": [
        "# ordenando as categorias únicas\n",
        "# voce pode ordenar todo o data frame, segundo a variável que você declarar\n",
        "# então eu poderia ao inves de ordenar só a variável anos de estudo\n",
        "# eu posso ordenar toda a base de dados pelo anos de estudo\n",
        "arrange(unique(select(dados, Anos.de.Estudo)), Anos.de.Estudo)"
      ]
    },
    {
      "cell_type": "code",
      "execution_count": null,
      "metadata": {
        "colab": {
          "base_uri": "https://localhost:8080/",
          "height": 52
        },
        "id": "LQmXMUppqN6Z",
        "outputId": "4f4e5880-7f39-4152-ae83-995c873fa569"
      },
      "outputs": [
        {
          "output_type": "display_data",
          "data": {
            "text/html": [
              "<strong>$Anos.de.Estudo</strong> = <style>\n",
              ".list-inline {list-style: none; margin:0; padding: 0}\n",
              ".list-inline>li {display: inline-block}\n",
              ".list-inline>li:not(:last-child)::after {content: \"\\00b7\"; padding: 0 .5ex}\n",
              "</style>\n",
              "<ol class=list-inline><li>1</li><li>2</li><li>3</li><li>4</li><li>5</li><li>6</li><li>7</li><li>8</li><li>9</li><li>10</li><li>11</li><li>12</li><li>13</li><li>14</li><li>15</li><li>16</li><li>17</li><li>&lt;NA&gt;</li></ol>\n"
            ],
            "text/markdown": "**$Anos.de.Estudo** = 1. 1\n2. 2\n3. 3\n4. 4\n5. 5\n6. 6\n7. 7\n8. 8\n9. 9\n10. 10\n11. 11\n12. 12\n13. 13\n14. 14\n15. 15\n16. 16\n17. 17\n18. &lt;NA&gt;\n\n\n",
            "text/latex": "\\textbf{\\$Anos.de.Estudo} = \\begin{enumerate*}\n\\item 1\n\\item 2\n\\item 3\n\\item 4\n\\item 5\n\\item 6\n\\item 7\n\\item 8\n\\item 9\n\\item 10\n\\item 11\n\\item 12\n\\item 13\n\\item 14\n\\item 15\n\\item 16\n\\item 17\n\\item <NA>\n\\end{enumerate*}\n",
            "text/plain": [
              "$Anos.de.Estudo\n",
              " [1]  1  2  3  4  5  6  7  8  9 10 11 12 13 14 15 16 17 NA\n"
            ]
          },
          "metadata": {}
        }
      ],
      "source": [
        "# o c cria um vetor de tipo único.\n",
        "c(arrange(unique(select(dados, Anos.de.Estudo)), Anos.de.Estudo))"
      ]
    },
    {
      "cell_type": "markdown",
      "metadata": {
        "id": "i2mCIMyojQKv"
      },
      "source": [
        "### Variáveis qualitativas nominais\n",
        "\n",
        "► Variáveis que não podem ser ordenadas ou hierarquizardas"
      ]
    },
    {
      "cell_type": "code",
      "execution_count": null,
      "metadata": {
        "scrolled": true,
        "colab": {
          "base_uri": "https://localhost:8080/",
          "height": 52
        },
        "id": "UAjIEbMwqN6a",
        "outputId": "8230bc81-bfc2-468f-9b9d-e7a5edb31a43"
      },
      "outputs": [
        {
          "output_type": "display_data",
          "data": {
            "text/html": [
              "<strong>$UF</strong> = <style>\n",
              ".list-inline {list-style: none; margin:0; padding: 0}\n",
              ".list-inline>li {display: inline-block}\n",
              ".list-inline>li:not(:last-child)::after {content: \"\\00b7\"; padding: 0 .5ex}\n",
              "</style>\n",
              "<ol class=list-inline><li>11</li><li>12</li><li>13</li><li>14</li><li>15</li><li>16</li><li>17</li><li>21</li><li>22</li><li>23</li><li>24</li><li>25</li><li>26</li><li>27</li><li>28</li><li>29</li><li>31</li><li>32</li><li>33</li><li>35</li><li>41</li><li>42</li><li>43</li><li>50</li><li>51</li><li>52</li><li>53</li><li>67746</li></ol>\n"
            ],
            "text/markdown": "**$UF** = 1. 11\n2. 12\n3. 13\n4. 14\n5. 15\n6. 16\n7. 17\n8. 21\n9. 22\n10. 23\n11. 24\n12. 25\n13. 26\n14. 27\n15. 28\n16. 29\n17. 31\n18. 32\n19. 33\n20. 35\n21. 41\n22. 42\n23. 43\n24. 50\n25. 51\n26. 52\n27. 53\n28. 67746\n\n\n",
            "text/latex": "\\textbf{\\$UF} = \\begin{enumerate*}\n\\item 11\n\\item 12\n\\item 13\n\\item 14\n\\item 15\n\\item 16\n\\item 17\n\\item 21\n\\item 22\n\\item 23\n\\item 24\n\\item 25\n\\item 26\n\\item 27\n\\item 28\n\\item 29\n\\item 31\n\\item 32\n\\item 33\n\\item 35\n\\item 41\n\\item 42\n\\item 43\n\\item 50\n\\item 51\n\\item 52\n\\item 53\n\\item 67746\n\\end{enumerate*}\n",
            "text/plain": [
              "$UF\n",
              " [1]    11    12    13    14    15    16    17    21    22    23    24    25\n",
              "[13]    26    27    28    29    31    32    33    35    41    42    43    50\n",
              "[25]    51    52    53 67746\n"
            ]
          },
          "metadata": {}
        }
      ],
      "source": [
        "c(arrange(unique(select(dados, UF)), UF))"
      ]
    },
    {
      "cell_type": "code",
      "execution_count": null,
      "metadata": {
        "colab": {
          "base_uri": "https://localhost:8080/",
          "height": 52
        },
        "id": "XpzHXu3RqN6a",
        "outputId": "c7c246f8-50cf-4d88-c3fe-21fb1d20d038"
      },
      "outputs": [
        {
          "output_type": "display_data",
          "data": {
            "text/html": [
              "<strong>$Sexo</strong> = <style>\n",
              ".list-inline {list-style: none; margin:0; padding: 0}\n",
              ".list-inline>li {display: inline-block}\n",
              ".list-inline>li:not(:last-child)::after {content: \"\\00b7\"; padding: 0 .5ex}\n",
              "</style>\n",
              "<ol class=list-inline><li>0</li><li>1</li><li>&lt;NA&gt;</li></ol>\n"
            ],
            "text/markdown": "**$Sexo** = 1. 0\n2. 1\n3. &lt;NA&gt;\n\n\n",
            "text/latex": "\\textbf{\\$Sexo} = \\begin{enumerate*}\n\\item 0\n\\item 1\n\\item <NA>\n\\end{enumerate*}\n",
            "text/plain": [
              "$Sexo\n",
              "[1]  0  1 NA\n"
            ]
          },
          "metadata": {}
        }
      ],
      "source": [
        "c(arrange(unique(select(dados, Sexo)), Sexo))\n"
      ]
    },
    {
      "cell_type": "code",
      "execution_count": null,
      "metadata": {
        "colab": {
          "base_uri": "https://localhost:8080/",
          "height": 52
        },
        "id": "ft3Ii1D6qN6a",
        "outputId": "e650876c-385e-42c9-cddc-b19e340223a6"
      },
      "outputs": [
        {
          "output_type": "display_data",
          "data": {
            "text/html": [
              "<strong>$Cor</strong> = <style>\n",
              ".list-inline {list-style: none; margin:0; padding: 0}\n",
              ".list-inline>li {display: inline-block}\n",
              ".list-inline>li:not(:last-child)::after {content: \"\\00b7\"; padding: 0 .5ex}\n",
              "</style>\n",
              "<ol class=list-inline><li>0</li><li>2</li><li>4</li><li>6</li><li>8</li><li>&lt;NA&gt;</li></ol>\n"
            ],
            "text/markdown": "**$Cor** = 1. 0\n2. 2\n3. 4\n4. 6\n5. 8\n6. &lt;NA&gt;\n\n\n",
            "text/latex": "\\textbf{\\$Cor} = \\begin{enumerate*}\n\\item 0\n\\item 2\n\\item 4\n\\item 6\n\\item 8\n\\item <NA>\n\\end{enumerate*}\n",
            "text/plain": [
              "$Cor\n",
              "[1]  0  2  4  6  8 NA\n"
            ]
          },
          "metadata": {}
        }
      ],
      "source": [
        "c(arrange(unique(select(dados, Cor)), Cor))\n"
      ]
    },
    {
      "cell_type": "markdown",
      "metadata": {
        "id": "FQhi81LsjQK5"
      },
      "source": [
        "### Variáveis quantitativas discretas\n",
        "\n",
        "► Variáveis que representam uma contagem onde os valores possíveis formam um conjunto finito ou enumerável."
      ]
    },
    {
      "cell_type": "code",
      "execution_count": null,
      "metadata": {
        "colab": {
          "base_uri": "https://localhost:8080/",
          "height": 34
        },
        "id": "58GuaP_QqN6a",
        "outputId": "1e652c6c-09fb-4866-bfcd-8bda94ab6594"
      },
      "outputs": [
        {
          "output_type": "display_data",
          "data": {
            "text/html": [
              "'De NA até NA anos'"
            ],
            "text/markdown": "'De NA até NA anos'",
            "text/latex": "'De NA até NA anos'",
            "text/plain": [
              "[1] \"De NA até NA anos\""
            ]
          },
          "metadata": {}
        }
      ],
      "source": [
        "sprintf('De %s até %s anos', min(dados$Idade), max(dados$Idade))"
      ]
    },
    {
      "cell_type": "code",
      "execution_count": null,
      "metadata": {
        "id": "Nbtd703SqN6a"
      },
      "outputs": [],
      "source": [
        "library(glue)"
      ]
    },
    {
      "cell_type": "code",
      "execution_count": null,
      "metadata": {
        "colab": {
          "base_uri": "https://localhost:8080/",
          "height": 34
        },
        "id": "tsVs5-blqN6a",
        "outputId": "c083ba97-fc51-4c0a-e3c0-4e46c21cfcf9"
      },
      "outputs": [
        {
          "output_type": "display_data",
          "data": {
            "text/html": [
              "'De NA até NA anos'"
            ],
            "text/markdown": "'De NA até NA anos'",
            "text/latex": "'De NA até NA anos'",
            "text/plain": [
              "De NA até NA anos"
            ]
          },
          "metadata": {}
        }
      ],
      "source": [
        "glue('De {min(dados$Idade)} até {max(dados$Idade)} anos')"
      ]
    },
    {
      "cell_type": "markdown",
      "metadata": {
        "id": "7mMXLTukjQK-"
      },
      "source": [
        "#### <font color='red'>Observação</font>\n",
        "***\n",
        "> A variável idade pode ser classificada de três formas distintas:\n",
        "> 1. <b>QUANTITATIVA DISCRETA</b> - quando representa anos completos (números inteiros);\n",
        "> 2. <b>QUANTITATIVA CONTÍNUA</b> - quando representa a idade exata, sendo representado por frações de anos; e\n",
        "> 3. <b>QUALITATIVA ORDINAL</b> - quando representa faixas de idade."
      ]
    },
    {
      "cell_type": "markdown",
      "metadata": {
        "id": "J0L2OkaQjQK7"
      },
      "source": [
        "### Variáveis quantitativas contínuas\n",
        "\n",
        "► Variáveis que representam uma contagem ou mensuração que assumem valores em uma escala contínua (números reais)."
      ]
    },
    {
      "cell_type": "code",
      "execution_count": null,
      "metadata": {
        "colab": {
          "base_uri": "https://localhost:8080/",
          "height": 34
        },
        "id": "8PfsiqFaqN6b",
        "outputId": "4ef775e4-eb16-41a0-f533-daf47933656c"
      },
      "outputs": [
        {
          "output_type": "display_data",
          "data": {
            "text/html": [
              "'De NA até NA metros'"
            ],
            "text/markdown": "'De NA até NA metros'",
            "text/latex": "'De NA até NA metros'",
            "text/plain": [
              "De NA até NA metros"
            ]
          },
          "metadata": {}
        }
      ],
      "source": [
        "glue('De {min(dados$Altura)} até {max(dados$Altura)} metros')"
      ]
    },
    {
      "cell_type": "markdown",
      "metadata": {
        "id": "d_LW5gMIjQK_"
      },
      "source": [
        "### Classificação de uma variável\n",
        "<img src='https://caelum-online-public.s3.amazonaws.com/1177-estatistica-parte1/01/img001.png' width='70%'>"
      ]
    },
    {
      "cell_type": "markdown",
      "metadata": {
        "id": "PNIg_4VEjQK_"
      },
      "source": [
        "# <font color=green>2 DISTRIBUIÇÃO DE FREQUÊNCIAS</font>\n",
        "***\n",
        "\n",
        "O primeiro passo em um trabalho de análise é o conhecimento do comportamento das variáveis envolvidas no estudo. Utilizando técnicas estatísticas como as análises das <b>DISTRIBUIÇÕES DE FREQUÊNCIAS</b> e <b>HISTOGRAMAS</b> podemos avaliar melhor a forma como os fenômenos em estudo se distribuem."
      ]
    },
    {
      "cell_type": "markdown",
      "metadata": {
        "id": "JhpyjkEFjQLA"
      },
      "source": [
        "## <font color=green>2.1 Distribuição de frequências para variáveis qualitativas</font>\n",
        "***"
      ]
    },
    {
      "cell_type": "markdown",
      "metadata": {
        "id": "SsN3ikjqjQLB"
      },
      "source": [
        "### Método 1"
      ]
    },
    {
      "cell_type": "markdown",
      "metadata": {
        "id": "G-wfqzNCqN6c"
      },
      "source": [
        "### <font color=red>Documentações:\n",
        "\n",
        "- [**table**](https://www.rdocumentation.org/packages/base/versions/3.6.1/topics/table)\n",
        "- [**prop.table**](https://www.rdocumentation.org/packages/base/versions/3.6.1/topics/prop.table)\n",
        "- [**cbind**](https://www.rdocumentation.org/packages/base/versions/3.6.1/topics/cbind)\n",
        "- [**row+colnames**](https://www.rdocumentation.org/packages/base/versions/3.6.1/topics/row%2Bcolnames)"
      ]
    },
    {
      "cell_type": "code",
      "execution_count": null,
      "metadata": {
        "colab": {
          "base_uri": "https://localhost:8080/",
          "height": 72
        },
        "id": "nc5l3XMRqN6c",
        "outputId": "bc09156e-359c-4dc0-8103-1d82522ed169"
      },
      "outputs": [
        {
          "output_type": "display_data",
          "data": {
            "text/plain": [
              "\n",
              "    0     1 \n",
              "82124 36258 "
            ]
          },
          "metadata": {}
        }
      ],
      "source": [
        "#frequência\n",
        "table(dados$Sexo)"
      ]
    },
    {
      "cell_type": "code",
      "execution_count": null,
      "metadata": {
        "colab": {
          "base_uri": "https://localhost:8080/",
          "height": 147
        },
        "id": "R1javaeLqN6d",
        "outputId": "7c3cb445-f0dd-4698-e8f7-0411b2677b3a"
      },
      "outputs": [
        {
          "output_type": "display_data",
          "data": {
            "text/html": [
              "<table class=\"dataframe\">\n",
              "<caption>A matrix: 2 × 2 of type dbl</caption>\n",
              "<thead>\n",
              "\t<tr><th></th><th scope=col>freq</th><th scope=col>percent</th></tr>\n",
              "</thead>\n",
              "<tbody>\n",
              "\t<tr><th scope=row>0</th><td>82124</td><td>69.37203</td></tr>\n",
              "\t<tr><th scope=row>1</th><td>36258</td><td>30.62797</td></tr>\n",
              "</tbody>\n",
              "</table>\n"
            ],
            "text/markdown": "\nA matrix: 2 × 2 of type dbl\n\n| <!--/--> | freq | percent |\n|---|---|---|\n| 0 | 82124 | 69.37203 |\n| 1 | 36258 | 30.62797 |\n\n",
            "text/latex": "A matrix: 2 × 2 of type dbl\n\\begin{tabular}{r|ll}\n  & freq & percent\\\\\n\\hline\n\t0 & 82124 & 69.37203\\\\\n\t1 & 36258 & 30.62797\\\\\n\\end{tabular}\n",
            "text/plain": [
              "  freq  percent \n",
              "0 82124 69.37203\n",
              "1 36258 30.62797"
            ]
          },
          "metadata": {}
        }
      ],
      "source": [
        "# em porcentagem\n",
        "# cbind retorna uma matrix, e deixa mais bonito\n",
        "dist_freq_qualitativas = cbind(freq = table(dados$Sexo), percent = prop.table(table(dados$Sexo)) * 100)\n",
        "dist_freq_qualitativas"
      ]
    },
    {
      "cell_type": "code",
      "execution_count": null,
      "metadata": {
        "colab": {
          "base_uri": "https://localhost:8080/",
          "height": 129
        },
        "id": "Y0cvG01CqN6d",
        "outputId": "027c8c56-d6eb-4d4e-97f9-8bdade070098"
      },
      "outputs": [
        {
          "output_type": "display_data",
          "data": {
            "text/html": [
              "<table class=\"dataframe\">\n",
              "<caption>A matrix: 2 × 2 of type dbl</caption>\n",
              "<thead>\n",
              "\t<tr><th></th><th scope=col>Frequência</th><th scope=col>Porcentagem (%)</th></tr>\n",
              "</thead>\n",
              "<tbody>\n",
              "\t<tr><th scope=row>0</th><td>82124</td><td>69.37203</td></tr>\n",
              "\t<tr><th scope=row>1</th><td>36258</td><td>30.62797</td></tr>\n",
              "</tbody>\n",
              "</table>\n"
            ],
            "text/markdown": "\nA matrix: 2 × 2 of type dbl\n\n| <!--/--> | Frequência | Porcentagem (%) |\n|---|---|---|\n| 0 | 82124 | 69.37203 |\n| 1 | 36258 | 30.62797 |\n\n",
            "text/latex": "A matrix: 2 × 2 of type dbl\n\\begin{tabular}{r|ll}\n  & Frequência & Porcentagem (\\%)\\\\\n\\hline\n\t0 & 82124 & 69.37203\\\\\n\t1 & 36258 & 30.62797\\\\\n\\end{tabular}\n",
            "text/plain": [
              "  Frequência Porcentagem (%)\n",
              "0 82124      69.37203       \n",
              "1 36258      30.62797       "
            ]
          },
          "metadata": {}
        }
      ],
      "source": [
        "# colunas\n",
        "\n",
        "colnames(dist_freq_qualitativas) = c('Frequência', 'Porcentagem (%)')\n",
        "dist_freq_qualitativas"
      ]
    },
    {
      "cell_type": "code",
      "execution_count": null,
      "metadata": {
        "colab": {
          "base_uri": "https://localhost:8080/",
          "height": 129
        },
        "id": "lJLn1lNrqN6d",
        "outputId": "a6858aa5-dce9-4240-c5c0-d8a48095862f"
      },
      "outputs": [
        {
          "output_type": "display_data",
          "data": {
            "text/html": [
              "<table class=\"dataframe\">\n",
              "<caption>A matrix: 2 × 2 of type dbl</caption>\n",
              "<thead>\n",
              "\t<tr><th></th><th scope=col>Frequência</th><th scope=col>Porcentagem (%)</th></tr>\n",
              "</thead>\n",
              "<tbody>\n",
              "\t<tr><th scope=row>Masculino</th><td>82124</td><td>69.37203</td></tr>\n",
              "\t<tr><th scope=row>Feminino</th><td>36258</td><td>30.62797</td></tr>\n",
              "</tbody>\n",
              "</table>\n"
            ],
            "text/markdown": "\nA matrix: 2 × 2 of type dbl\n\n| <!--/--> | Frequência | Porcentagem (%) |\n|---|---|---|\n| Masculino | 82124 | 69.37203 |\n| Feminino | 36258 | 30.62797 |\n\n",
            "text/latex": "A matrix: 2 × 2 of type dbl\n\\begin{tabular}{r|ll}\n  & Frequência & Porcentagem (\\%)\\\\\n\\hline\n\tMasculino & 82124 & 69.37203\\\\\n\tFeminino & 36258 & 30.62797\\\\\n\\end{tabular}\n",
            "text/plain": [
              "          Frequência Porcentagem (%)\n",
              "Masculino 82124      69.37203       \n",
              "Feminino  36258      30.62797       "
            ]
          },
          "metadata": {}
        }
      ],
      "source": [
        "# index\n",
        "\n",
        "rownames(dist_freq_qualitativas) = c('Masculino', 'Feminino')\n",
        "dist_freq_qualitativas"
      ]
    },
    {
      "cell_type": "markdown",
      "metadata": {
        "id": "D82ocp_djQLR"
      },
      "source": [
        "### Método 2"
      ]
    },
    {
      "cell_type": "markdown",
      "metadata": {
        "id": "ulWjYZL8qN6d"
      },
      "source": [
        "### <font color=red>Documentações:\n",
        "\n",
        "- [**tapply**](https://www.rdocumentation.org/packages/base/versions/3.6.1/topics/tapply)"
      ]
    },
    {
      "cell_type": "code",
      "execution_count": null,
      "metadata": {
        "colab": {
          "base_uri": "https://localhost:8080/",
          "height": 91
        },
        "id": "PH0RiUnxqN6e",
        "outputId": "44e9d9ee-6934-40b8-f6c4-cc3297177ac8"
      },
      "outputs": [
        {
          "output_type": "display_data",
          "data": {
            "text/plain": [
              "   \n",
              "        0     2     4     6     8\n",
              "  0   325 38349  7996   429 35025\n",
              "  1   141 16640  4212   196 15069"
            ]
          },
          "metadata": {}
        }
      ],
      "source": [
        "# fazendo uma distribuição de frequência com duas variável\n",
        "\n",
        "frequencia = table(dados$Sexo, dados$Cor)\n",
        "frequencia"
      ]
    },
    {
      "cell_type": "code",
      "execution_count": null,
      "metadata": {
        "colab": {
          "base_uri": "https://localhost:8080/",
          "height": 129
        },
        "id": "d8XMZiEfjQLS",
        "outputId": "3d1a2fa6-35dd-4423-b6eb-0c0aeb69d09d"
      },
      "outputs": [
        {
          "output_type": "display_data",
          "data": {
            "text/html": [
              "<table class=\"dataframe\">\n",
              "<caption>A matrix: 2 × 5 of type int</caption>\n",
              "<thead>\n",
              "\t<tr><th></th><th scope=col>Indígena</th><th scope=col>Branca</th><th scope=col>Preta</th><th scope=col>Amarela</th><th scope=col>Parda</th></tr>\n",
              "</thead>\n",
              "<tbody>\n",
              "\t<tr><th scope=row>Masculino</th><td>325</td><td>38349</td><td>7996</td><td>429</td><td>35025</td></tr>\n",
              "\t<tr><th scope=row>Feminino</th><td>141</td><td>16640</td><td>4212</td><td>196</td><td>15069</td></tr>\n",
              "</tbody>\n",
              "</table>\n"
            ],
            "text/markdown": "\nA matrix: 2 × 5 of type int\n\n| <!--/--> | Indígena | Branca | Preta | Amarela | Parda |\n|---|---|---|---|---|---|\n| Masculino | 325 | 38349 | 7996 | 429 | 35025 |\n| Feminino | 141 | 16640 | 4212 | 196 | 15069 |\n\n",
            "text/latex": "A matrix: 2 × 5 of type int\n\\begin{tabular}{r|lllll}\n  & Indígena & Branca & Preta & Amarela & Parda\\\\\n\\hline\n\tMasculino & 325 & 38349 & 7996 & 429 & 35025\\\\\n\tFeminino & 141 & 16640 & 4212 & 196 & 15069\\\\\n\\end{tabular}\n",
            "text/plain": [
              "          Indígena Branca Preta Amarela Parda\n",
              "Masculino 325      38349  7996  429     35025\n",
              "Feminino  141      16640  4212  196     15069"
            ]
          },
          "metadata": {}
        }
      ],
      "source": [
        "rownames(frequencia) = c('Masculino', 'Feminino')\n",
        "colnames(frequencia) = c('Indígena', 'Branca', 'Preta', 'Amarela', 'Parda')\n",
        "frequencia = cbind(frequencia)\n",
        "frequencia"
      ]
    },
    {
      "cell_type": "code",
      "execution_count": null,
      "metadata": {
        "colab": {
          "base_uri": "https://localhost:8080/",
          "height": 129
        },
        "id": "YLCyOKYcjQLU",
        "outputId": "50c4a127-7c79-4d19-deb5-ab67250806bd"
      },
      "outputs": [
        {
          "output_type": "display_data",
          "data": {
            "text/html": [
              "<table class=\"dataframe\">\n",
              "<caption>A matrix: 2 × 5 of type dbl</caption>\n",
              "<thead>\n",
              "\t<tr><th></th><th scope=col>Indígena</th><th scope=col>Branca</th><th scope=col>Preta</th><th scope=col>Amarela</th><th scope=col>Parda</th></tr>\n",
              "</thead>\n",
              "<tbody>\n",
              "\t<tr><th scope=row>Masculino</th><td>0.2745350</td><td>32.39428</td><td>6.754405</td><td>0.3623862</td><td>29.58642</td></tr>\n",
              "\t<tr><th scope=row>Feminino</th><td>0.1191059</td><td>14.05619</td><td>3.557973</td><td>0.1655657</td><td>12.72913</td></tr>\n",
              "</tbody>\n",
              "</table>\n"
            ],
            "text/markdown": "\nA matrix: 2 × 5 of type dbl\n\n| <!--/--> | Indígena | Branca | Preta | Amarela | Parda |\n|---|---|---|---|---|---|\n| Masculino | 0.2745350 | 32.39428 | 6.754405 | 0.3623862 | 29.58642 |\n| Feminino | 0.1191059 | 14.05619 | 3.557973 | 0.1655657 | 12.72913 |\n\n",
            "text/latex": "A matrix: 2 × 5 of type dbl\n\\begin{tabular}{r|lllll}\n  & Indígena & Branca & Preta & Amarela & Parda\\\\\n\\hline\n\tMasculino & 0.2745350 & 32.39428 & 6.754405 & 0.3623862 & 29.58642\\\\\n\tFeminino & 0.1191059 & 14.05619 & 3.557973 & 0.1655657 & 12.72913\\\\\n\\end{tabular}\n",
            "text/plain": [
              "          Indígena  Branca   Preta    Amarela   Parda   \n",
              "Masculino 0.2745350 32.39428 6.754405 0.3623862 29.58642\n",
              "Feminino  0.1191059 14.05619 3.557973 0.1655657 12.72913"
            ]
          },
          "metadata": {}
        }
      ],
      "source": [
        "percentual = prop.table(frequencia) * 100\n",
        "percentual"
      ]
    },
    {
      "cell_type": "code",
      "execution_count": null,
      "metadata": {
        "colab": {
          "base_uri": "https://localhost:8080/",
          "height": 129
        },
        "id": "ssQK8vRNqN6e",
        "outputId": "945afbb4-02c4-4d50-9e44-83ff85f8d573"
      },
      "outputs": [
        {
          "output_type": "display_data",
          "data": {
            "text/html": [
              "<table class=\"dataframe\">\n",
              "<caption>A matrix: 2 × 5 of type dbl</caption>\n",
              "<thead>\n",
              "\t<tr><th></th><th scope=col>Indígena</th><th scope=col>Branca</th><th scope=col>Preta</th><th scope=col>Amarela</th><th scope=col>Parda</th></tr>\n",
              "</thead>\n",
              "<tbody>\n",
              "\t<tr><th scope=row>Masculino</th><td>1191.138</td><td>3032.732</td><td>1704.096</td><td>4801.669</td><td>1766.989</td></tr>\n",
              "\t<tr><th scope=row>Feminino</th><td>3173.582</td><td>2163.838</td><td>1197.080</td><td>3356.990</td><td>1230.092</td></tr>\n",
              "</tbody>\n",
              "</table>\n"
            ],
            "text/markdown": "\nA matrix: 2 × 5 of type dbl\n\n| <!--/--> | Indígena | Branca | Preta | Amarela | Parda |\n|---|---|---|---|---|---|\n| Masculino | 1191.138 | 3032.732 | 1704.096 | 4801.669 | 1766.989 |\n| Feminino | 3173.582 | 2163.838 | 1197.080 | 3356.990 | 1230.092 |\n\n",
            "text/latex": "A matrix: 2 × 5 of type dbl\n\\begin{tabular}{r|lllll}\n  & Indígena & Branca & Preta & Amarela & Parda\\\\\n\\hline\n\tMasculino & 1191.138 & 3032.732 & 1704.096 & 4801.669 & 1766.989\\\\\n\tFeminino & 3173.582 & 2163.838 & 1197.080 & 3356.990 & 1230.092\\\\\n\\end{tabular}\n",
            "text/plain": [
              "          Indígena Branca   Preta    Amarela  Parda   \n",
              "Masculino 1191.138 3032.732 1704.096 4801.669 1766.989\n",
              "Feminino  3173.582 2163.838 1197.080 3356.990 1230.092"
            ]
          },
          "metadata": {}
        }
      ],
      "source": [
        "# estatística descritiva com 3 variável\n",
        "# a renda média de cada cor por sexo\n",
        "\n",
        "medias = tapply(dados$Renda, list(dados$Sexo, dados$Cor), mean)\n",
        "rownames(medias) = c('Masculino', 'Feminino')\n",
        "colnames(medias) = c('Indígena', 'Branca', 'Preta', 'Amarela', 'Parda')\n",
        "medias"
      ]
    },
    {
      "cell_type": "markdown",
      "metadata": {
        "id": "eaXQUxnXjQLa"
      },
      "source": [
        "## <font color=green>2.2 Distribuição de frequências para variáveis quantitativas (classes personalizadas)</font>\n",
        "***"
      ]
    },
    {
      "cell_type": "markdown",
      "metadata": {
        "id": "2FABOACDqN6e"
      },
      "source": [
        "### <font color=red>Documentações:\n",
        "\n",
        "- [**cut**](https://www.rdocumentation.org/packages/base/versions/3.6.1/topics/cut)\n",
        "- [**order**](https://www.rdocumentation.org/packages/base/versions/3.6.1/topics/order)\n",
        "- [**row.names**](https://www.rdocumentation.org/packages/base/versions/3.6.1/topics/row.names)"
      ]
    },
    {
      "cell_type": "markdown",
      "metadata": {
        "id": "wxsSD-VVjQLb"
      },
      "source": [
        "### Passo 1 - Especificar os limites de cada classe\n",
        "\n",
        "Utilizar a seguinte classificação:\n",
        "\n",
        "<b>A</b> ► Acima de 20 SM\n",
        "\n",
        "<b>B</b> ► De 10 a 20 SM\n",
        "\n",
        "<b>C</b> ► De 4 a 10 SM\n",
        "\n",
        "<b>D</b> ► De 2 a 4 SM\n",
        "\n",
        "<b>E</b> ► Até 2 SM\n",
        "\n",
        "onde <b>SM</b> é o valor do salário mínimo na época. Em nosso caso <b>R$ 788,00</b> (2015):\n",
        "\n",
        "<b>A</b> ► Acima de 15.760\n",
        "\n",
        "<b>B</b> ► De 7.880 a 15.760\n",
        "\n",
        "<b>C</b> ► De 3.152 a 7.880\n",
        "\n",
        "<b>D</b> ► De 1.576 a 3.152\n",
        "\n",
        "<b>E</b> ► Até 1.576\n"
      ]
    },
    {
      "cell_type": "code",
      "execution_count": null,
      "metadata": {
        "colab": {
          "base_uri": "https://localhost:8080/",
          "height": 34
        },
        "id": "Z08790GUjQLc",
        "outputId": "0aa70172-8203-4f6c-991b-bd3241446a29"
      },
      "outputs": [
        {
          "output_type": "display_data",
          "data": {
            "text/html": [
              "&lt;NA&gt;"
            ],
            "text/markdown": "&lt;NA&gt;",
            "text/latex": "<NA>",
            "text/plain": [
              "[1] NA"
            ]
          },
          "metadata": {}
        }
      ],
      "source": [
        "min(dados$Renda)"
      ]
    },
    {
      "cell_type": "code",
      "execution_count": null,
      "metadata": {
        "colab": {
          "base_uri": "https://localhost:8080/",
          "height": 34
        },
        "id": "5q2V5-0FjQLe",
        "outputId": "54ce0b9e-e692-427a-cfc3-3b7d13fa639d"
      },
      "outputs": [
        {
          "output_type": "display_data",
          "data": {
            "text/html": [
              "&lt;NA&gt;"
            ],
            "text/markdown": "&lt;NA&gt;",
            "text/latex": "<NA>",
            "text/plain": [
              "[1] NA"
            ]
          },
          "metadata": {}
        }
      ],
      "source": [
        "max(dados$Renda)"
      ]
    },
    {
      "cell_type": "code",
      "execution_count": null,
      "metadata": {
        "id": "Qt5F5w2UjQLg"
      },
      "outputs": [],
      "source": [
        "classes <- c(0, 1576, 3152, 7880, 15760, 200000)"
      ]
    },
    {
      "cell_type": "code",
      "execution_count": null,
      "metadata": {
        "id": "DKPIGOLLjQLi"
      },
      "outputs": [],
      "source": [
        "labels <- c('E', 'D', 'C', 'B', 'A')"
      ]
    },
    {
      "cell_type": "markdown",
      "metadata": {
        "id": "IQhlvrQUjQLk"
      },
      "source": [
        "### Passo 2 - Criar a tabela de frequências"
      ]
    },
    {
      "cell_type": "code",
      "execution_count": null,
      "metadata": {
        "colab": {
          "base_uri": "https://localhost:8080/",
          "height": 72
        },
        "id": "R04m0L_QqN6f",
        "outputId": "393a02ec-dbd7-4551-8277-10dc1c46efb4"
      },
      "outputs": [
        {
          "output_type": "display_data",
          "data": {
            "text/plain": [
              "\n",
              "    E     D     C     B     A \n",
              "72470 28304 12765  3762  1081 "
            ]
          },
          "metadata": {}
        }
      ],
      "source": [
        "# o metodo cut, pega cada linha da base de dados\n",
        "# verifica a renda da linha e comparava com a variável classe\n",
        "# e depois joga na categoria correspondente no labels\n",
        "# e com o table eu faço uma distribuição de frequêcia\n",
        "frequencia = table(\n",
        "  cut(\n",
        "  x = dados$Renda,\n",
        "  breaks = classes,\n",
        "  labels = labels,\n",
        "  include.lowest = TRUE\n",
        "  )\n",
        ")\n",
        "frequencia"
      ]
    },
    {
      "cell_type": "code",
      "execution_count": null,
      "metadata": {
        "colab": {
          "base_uri": "https://localhost:8080/",
          "height": 72
        },
        "id": "WrZ2m2GajQLo",
        "outputId": "6635a31c-57af-44c7-e04e-0aa57248c9c8"
      },
      "outputs": [
        {
          "output_type": "display_data",
          "data": {
            "text/plain": [
              "\n",
              "         E          D          C          B          A \n",
              "61.2170769 23.9090402 10.7828893  3.1778480  0.9131456 "
            ]
          },
          "metadata": {}
        }
      ],
      "source": [
        "percentual = prop.table(frequencia) * 100\n",
        "percentual"
      ]
    },
    {
      "cell_type": "code",
      "execution_count": null,
      "metadata": {
        "colab": {
          "base_uri": "https://localhost:8080/",
          "height": 223
        },
        "id": "btKoxJDujQLp",
        "outputId": "6ee65cac-4c5d-43a3-9ea7-4abbe5d497a6"
      },
      "outputs": [
        {
          "output_type": "display_data",
          "data": {
            "text/html": [
              "<table class=\"dataframe\">\n",
              "<caption>A matrix: 5 × 2 of type dbl</caption>\n",
              "<thead>\n",
              "\t<tr><th></th><th scope=col>Frequência</th><th scope=col>Porcentagem(%)</th></tr>\n",
              "</thead>\n",
              "<tbody>\n",
              "\t<tr><th scope=row>E</th><td>72470</td><td>61.2170769</td></tr>\n",
              "\t<tr><th scope=row>D</th><td>28304</td><td>23.9090402</td></tr>\n",
              "\t<tr><th scope=row>C</th><td>12765</td><td>10.7828893</td></tr>\n",
              "\t<tr><th scope=row>B</th><td> 3762</td><td> 3.1778480</td></tr>\n",
              "\t<tr><th scope=row>A</th><td> 1081</td><td> 0.9131456</td></tr>\n",
              "</tbody>\n",
              "</table>\n"
            ],
            "text/markdown": "\nA matrix: 5 × 2 of type dbl\n\n| <!--/--> | Frequência | Porcentagem(%) |\n|---|---|---|\n| E | 72470 | 61.2170769 |\n| D | 28304 | 23.9090402 |\n| C | 12765 | 10.7828893 |\n| B |  3762 |  3.1778480 |\n| A |  1081 |  0.9131456 |\n\n",
            "text/latex": "A matrix: 5 × 2 of type dbl\n\\begin{tabular}{r|ll}\n  & Frequência & Porcentagem(\\%)\\\\\n\\hline\n\tE & 72470 & 61.2170769\\\\\n\tD & 28304 & 23.9090402\\\\\n\tC & 12765 & 10.7828893\\\\\n\tB &  3762 &  3.1778480\\\\\n\tA &  1081 &  0.9131456\\\\\n\\end{tabular}\n",
            "text/plain": [
              "  Frequência Porcentagem(%)\n",
              "E 72470      61.2170769    \n",
              "D 28304      23.9090402    \n",
              "C 12765      10.7828893    \n",
              "B  3762       3.1778480    \n",
              "A  1081       0.9131456    "
            ]
          },
          "metadata": {}
        }
      ],
      "source": [
        "disti_freq_quantitativas_personalizadas = cbind('Frequência' = frequencia, 'Porcentagem(%)'= percentual)\n",
        "disti_freq_quantitativas_personalizadas"
      ]
    },
    {
      "cell_type": "code",
      "execution_count": null,
      "metadata": {
        "colab": {
          "base_uri": "https://localhost:8080/",
          "height": 223
        },
        "id": "uTMEJXUHjQLs",
        "outputId": "b022ad9e-8772-4e24-c079-237e32ef33a8"
      },
      "outputs": [
        {
          "output_type": "display_data",
          "data": {
            "text/html": [
              "<table class=\"dataframe\">\n",
              "<caption>A matrix: 5 × 2 of type dbl</caption>\n",
              "<thead>\n",
              "\t<tr><th></th><th scope=col>Frequência</th><th scope=col>Porcentagem(%)</th></tr>\n",
              "</thead>\n",
              "<tbody>\n",
              "\t<tr><th scope=row>A</th><td> 1081</td><td> 0.9131456</td></tr>\n",
              "\t<tr><th scope=row>B</th><td> 3762</td><td> 3.1778480</td></tr>\n",
              "\t<tr><th scope=row>C</th><td>12765</td><td>10.7828893</td></tr>\n",
              "\t<tr><th scope=row>D</th><td>28304</td><td>23.9090402</td></tr>\n",
              "\t<tr><th scope=row>E</th><td>72470</td><td>61.2170769</td></tr>\n",
              "</tbody>\n",
              "</table>\n"
            ],
            "text/markdown": "\nA matrix: 5 × 2 of type dbl\n\n| <!--/--> | Frequência | Porcentagem(%) |\n|---|---|---|\n| A |  1081 |  0.9131456 |\n| B |  3762 |  3.1778480 |\n| C | 12765 | 10.7828893 |\n| D | 28304 | 23.9090402 |\n| E | 72470 | 61.2170769 |\n\n",
            "text/latex": "A matrix: 5 × 2 of type dbl\n\\begin{tabular}{r|ll}\n  & Frequência & Porcentagem(\\%)\\\\\n\\hline\n\tA &  1081 &  0.9131456\\\\\n\tB &  3762 &  3.1778480\\\\\n\tC & 12765 & 10.7828893\\\\\n\tD & 28304 & 23.9090402\\\\\n\tE & 72470 & 61.2170769\\\\\n\\end{tabular}\n",
            "text/plain": [
              "  Frequência Porcentagem(%)\n",
              "A  1081       0.9131456    \n",
              "B  3762       3.1778480    \n",
              "C 12765      10.7828893    \n",
              "D 28304      23.9090402    \n",
              "E 72470      61.2170769    "
            ]
          },
          "metadata": {}
        }
      ],
      "source": [
        "# ordenando\n",
        "# importante colocar a virgula no final, mesmo n tendo parâmetros\n",
        "disti_freq_quantitativas_personalizadas[\n",
        "  order(row.names(disti_freq_quantitativas_personalizadas)),\n",
        "]"
      ]
    },
    {
      "cell_type": "markdown",
      "metadata": {
        "id": "ViJYvvjujQLu"
      },
      "source": [
        "## <font color=green>2.3 Distribuição de frequências para variáveis quantitativas (classes de amplitude fixa)</font>\n",
        "***"
      ]
    },
    {
      "cell_type": "markdown",
      "metadata": {
        "id": "5lA2SGksqN6g"
      },
      "source": [
        "### <font color=red>Documentações:\n",
        "\n",
        "- [**nrow**](https://www.rdocumentation.org/packages/base/versions/3.6.1/topics/nrow)\n",
        "- [**log**](https://www.rdocumentation.org/packages/base/versions/3.6.1/topics/log)\n",
        "- [**round**](https://www.rdocumentation.org/packages/base/versions/3.6.1/topics/Round)"
      ]
    },
    {
      "cell_type": "markdown",
      "metadata": {
        "id": "s9UGNaMzjQLy"
      },
      "source": [
        "### Passo 1 - Definindo o número de classes"
      ]
    },
    {
      "cell_type": "markdown",
      "metadata": {
        "id": "p268tvNHjQLy"
      },
      "source": [
        "#### Regra de Sturges\n",
        "\n",
        "# $$k = 1 + \\frac {10}{3}\\log_{10}n$$"
      ]
    },
    {
      "cell_type": "code",
      "execution_count": null,
      "metadata": {
        "colab": {
          "base_uri": "https://localhost:8080/",
          "height": 34
        },
        "id": "wgLH6gGqjQLz",
        "outputId": "4d4379b4-e497-422c-8d3a-42e77113c18a"
      },
      "outputs": [
        {
          "output_type": "display_data",
          "data": {
            "text/html": [
              "118383"
            ],
            "text/markdown": "118383",
            "text/latex": "118383",
            "text/plain": [
              "[1] 118383"
            ]
          },
          "metadata": {}
        }
      ],
      "source": [
        "# a equação ali em cima é para saber o tanto de classes que deve ser criada para \n",
        "# distribuição de frequência\n",
        "n = nrow(dados)\n",
        "n"
      ]
    },
    {
      "cell_type": "code",
      "execution_count": null,
      "metadata": {
        "colab": {
          "base_uri": "https://localhost:8080/",
          "height": 34
        },
        "id": "uTuVep-8jQL0",
        "outputId": "8fc6b6e7-a1c5-42cb-9e53-ed2982bf1062"
      },
      "outputs": [
        {
          "output_type": "display_data",
          "data": {
            "text/html": [
              "17.9109644714622"
            ],
            "text/markdown": "17.9109644714622",
            "text/latex": "17.9109644714622",
            "text/plain": [
              "[1] 17.91096"
            ]
          },
          "metadata": {}
        }
      ],
      "source": [
        "k = 1 + (10 / 3) * log10(n)\n",
        "k"
      ]
    },
    {
      "cell_type": "code",
      "execution_count": null,
      "metadata": {
        "colab": {
          "base_uri": "https://localhost:8080/",
          "height": 34
        },
        "id": "B_Y66_KFjQL4",
        "outputId": "a074f7f8-8512-42af-9590-1d0988c6eb7b"
      },
      "outputs": [
        {
          "output_type": "display_data",
          "data": {
            "text/html": [
              "17"
            ],
            "text/markdown": "17",
            "text/latex": "17",
            "text/plain": [
              "[1] 17"
            ]
          },
          "metadata": {}
        }
      ],
      "source": [
        "# arrendondamento\n",
        "k = 17\n",
        "k"
      ]
    },
    {
      "cell_type": "markdown",
      "metadata": {
        "id": "5eO-RhaljQL6"
      },
      "source": [
        "### Passo 2 - Criar a tabela de frequências"
      ]
    },
    {
      "cell_type": "code",
      "execution_count": null,
      "metadata": {
        "id": "THnBu3LFqN6g"
      },
      "outputs": [],
      "source": [
        "labels <- c(\n",
        "    '      0.00 |—|  11,764.70', \n",
        "    ' 11,764.70  —|  23,529.40', \n",
        "    ' 23,529.40  —|  35,294.10', \n",
        "    ' 35,294.10  —|  47,058.80', \n",
        "    ' 47,058.80  —|  58,823.50', \n",
        "    ' 58,823.50  —|  70,588.20', \n",
        "    ' 70,588.20  —|  82,352.90', \n",
        "    ' 82,352.90  —|  94,117.60', \n",
        "    ' 94,117.60  —| 105,882.00', \n",
        "    '105,882.00  —| 117,647.00', \n",
        "    '117,647.00  —| 129,412.00', \n",
        "    '129,412.00  —| 141,176.00', \n",
        "    '141,176.00  —| 152,941.00', \n",
        "    '152,941.00  —| 164,706.00', \n",
        "    '164,706.00  —| 176,471.00', \n",
        "    '176,471.00  —| 188,235.00', \n",
        "    '188,235.00  —| 200,000.00'\n",
        ")"
      ]
    },
    {
      "cell_type": "code",
      "execution_count": null,
      "metadata": {
        "colab": {
          "base_uri": "https://localhost:8080/",
          "height": 257
        },
        "id": "sVVA-jvDjQL7",
        "outputId": "4224d590-8414-4436-c57a-ae89a989939f"
      },
      "outputs": [
        {
          "output_type": "display_data",
          "data": {
            "text/plain": [
              "\n",
              "      0.00 |—|  11,764.70  11,764.70  —|  23,529.40  23,529.40  —|  35,294.10 \n",
              "                   116179                      1816                       289 \n",
              " 35,294.10  —|  47,058.80  47,058.80  —|  58,823.50  58,823.50  —|  70,588.20 \n",
              "                       33                        28                         9 \n",
              " 70,588.20  —|  82,352.90  82,352.90  —|  94,117.60  94,117.60  —| 105,882.00 \n",
              "                        8                         2                        11 \n",
              "105,882.00  —| 117,647.00 117,647.00  —| 129,412.00 129,412.00  —| 141,176.00 \n",
              "                        0                         2                         0 \n",
              "141,176.00  —| 152,941.00 152,941.00  —| 164,706.00 164,706.00  —| 176,471.00 \n",
              "                        0                         0                         0 \n",
              "176,471.00  —| 188,235.00 188,235.00  —| 200,000.00 \n",
              "                        0                         5 "
            ]
          },
          "metadata": {}
        }
      ],
      "source": [
        "frequencia = table(\n",
        "  cut(\n",
        "  x = dados$Renda,\n",
        "  breaks = k,\n",
        "  labels = labels,\n",
        "  include.lowest = TRUE\n",
        "  )\n",
        ")\n",
        "frequencia"
      ]
    },
    {
      "cell_type": "code",
      "execution_count": null,
      "metadata": {
        "colab": {
          "base_uri": "https://localhost:8080/",
          "height": 257
        },
        "id": "-ylxSip1jQL9",
        "outputId": "28173777-34d2-4bfc-fbc0-7f46f82e6e21"
      },
      "outputs": [
        {
          "output_type": "display_data",
          "data": {
            "text/plain": [
              "\n",
              "      0.00 |—|  11,764.70  11,764.70  —|  23,529.40  23,529.40  —|  35,294.10 \n",
              "             98.139075197               1.534016996               0.244124951 \n",
              " 35,294.10  —|  47,058.80  47,058.80  —|  58,823.50  58,823.50  —|  70,588.20 \n",
              "              0.027875860               0.023652244               0.007602507 \n",
              " 70,588.20  —|  82,352.90  82,352.90  —|  94,117.60  94,117.60  —| 105,882.00 \n",
              "              0.006757784               0.001689446               0.009291953 \n",
              "105,882.00  —| 117,647.00 117,647.00  —| 129,412.00 129,412.00  —| 141,176.00 \n",
              "              0.000000000               0.001689446               0.000000000 \n",
              "141,176.00  —| 152,941.00 152,941.00  —| 164,706.00 164,706.00  —| 176,471.00 \n",
              "              0.000000000               0.000000000               0.000000000 \n",
              "176,471.00  —| 188,235.00 188,235.00  —| 200,000.00 \n",
              "              0.000000000               0.004223615 "
            ]
          },
          "metadata": {}
        }
      ],
      "source": [
        "percentual = prop.table(frequencia) * 100\n",
        "percentual"
      ]
    },
    {
      "cell_type": "code",
      "execution_count": null,
      "metadata": {
        "colab": {
          "base_uri": "https://localhost:8080/",
          "height": 600
        },
        "id": "n9kkJ0WTjQL_",
        "outputId": "8232d5f1-1d0d-40ed-ed4e-717a4556b090"
      },
      "outputs": [
        {
          "output_type": "display_data",
          "data": {
            "text/html": [
              "<table class=\"dataframe\">\n",
              "<caption>A matrix: 17 × 2 of type dbl</caption>\n",
              "<thead>\n",
              "\t<tr><th></th><th scope=col>Frequência</th><th scope=col>Porcentagem(%)</th></tr>\n",
              "</thead>\n",
              "<tbody>\n",
              "\t<tr><th scope=row>      0.00 |—|  11,764.70</th><td>116179</td><td>98.139075197</td></tr>\n",
              "\t<tr><th scope=row> 11,764.70  —|  23,529.40</th><td>  1816</td><td> 1.534016996</td></tr>\n",
              "\t<tr><th scope=row> 23,529.40  —|  35,294.10</th><td>   289</td><td> 0.244124951</td></tr>\n",
              "\t<tr><th scope=row> 35,294.10  —|  47,058.80</th><td>    33</td><td> 0.027875860</td></tr>\n",
              "\t<tr><th scope=row> 47,058.80  —|  58,823.50</th><td>    28</td><td> 0.023652244</td></tr>\n",
              "\t<tr><th scope=row> 58,823.50  —|  70,588.20</th><td>     9</td><td> 0.007602507</td></tr>\n",
              "\t<tr><th scope=row> 70,588.20  —|  82,352.90</th><td>     8</td><td> 0.006757784</td></tr>\n",
              "\t<tr><th scope=row> 82,352.90  —|  94,117.60</th><td>     2</td><td> 0.001689446</td></tr>\n",
              "\t<tr><th scope=row> 94,117.60  —| 105,882.00</th><td>    11</td><td> 0.009291953</td></tr>\n",
              "\t<tr><th scope=row>105,882.00  —| 117,647.00</th><td>     0</td><td> 0.000000000</td></tr>\n",
              "\t<tr><th scope=row>117,647.00  —| 129,412.00</th><td>     2</td><td> 0.001689446</td></tr>\n",
              "\t<tr><th scope=row>129,412.00  —| 141,176.00</th><td>     0</td><td> 0.000000000</td></tr>\n",
              "\t<tr><th scope=row>141,176.00  —| 152,941.00</th><td>     0</td><td> 0.000000000</td></tr>\n",
              "\t<tr><th scope=row>152,941.00  —| 164,706.00</th><td>     0</td><td> 0.000000000</td></tr>\n",
              "\t<tr><th scope=row>164,706.00  —| 176,471.00</th><td>     0</td><td> 0.000000000</td></tr>\n",
              "\t<tr><th scope=row>176,471.00  —| 188,235.00</th><td>     0</td><td> 0.000000000</td></tr>\n",
              "\t<tr><th scope=row>188,235.00  —| 200,000.00</th><td>     5</td><td> 0.004223615</td></tr>\n",
              "</tbody>\n",
              "</table>\n"
            ],
            "text/markdown": "\nA matrix: 17 × 2 of type dbl\n\n| <!--/--> | Frequência | Porcentagem(%) |\n|---|---|---|\n|       0.00 |—|  11,764.70 | 116179 | 98.139075197 |\n|  11,764.70  —|  23,529.40 |   1816 |  1.534016996 |\n|  23,529.40  —|  35,294.10 |    289 |  0.244124951 |\n|  35,294.10  —|  47,058.80 |     33 |  0.027875860 |\n|  47,058.80  —|  58,823.50 |     28 |  0.023652244 |\n|  58,823.50  —|  70,588.20 |      9 |  0.007602507 |\n|  70,588.20  —|  82,352.90 |      8 |  0.006757784 |\n|  82,352.90  —|  94,117.60 |      2 |  0.001689446 |\n|  94,117.60  —| 105,882.00 |     11 |  0.009291953 |\n| 105,882.00  —| 117,647.00 |      0 |  0.000000000 |\n| 117,647.00  —| 129,412.00 |      2 |  0.001689446 |\n| 129,412.00  —| 141,176.00 |      0 |  0.000000000 |\n| 141,176.00  —| 152,941.00 |      0 |  0.000000000 |\n| 152,941.00  —| 164,706.00 |      0 |  0.000000000 |\n| 164,706.00  —| 176,471.00 |      0 |  0.000000000 |\n| 176,471.00  —| 188,235.00 |      0 |  0.000000000 |\n| 188,235.00  —| 200,000.00 |      5 |  0.004223615 |\n\n",
            "text/latex": "A matrix: 17 × 2 of type dbl\n\\begin{tabular}{r|ll}\n  & Frequência & Porcentagem(\\%)\\\\\n\\hline\n\t      0.00 \\textbar{}—\\textbar{}  11,764.70 & 116179 & 98.139075197\\\\\n\t 11,764.70  —\\textbar{}  23,529.40 &   1816 &  1.534016996\\\\\n\t 23,529.40  —\\textbar{}  35,294.10 &    289 &  0.244124951\\\\\n\t 35,294.10  —\\textbar{}  47,058.80 &     33 &  0.027875860\\\\\n\t 47,058.80  —\\textbar{}  58,823.50 &     28 &  0.023652244\\\\\n\t 58,823.50  —\\textbar{}  70,588.20 &      9 &  0.007602507\\\\\n\t 70,588.20  —\\textbar{}  82,352.90 &      8 &  0.006757784\\\\\n\t 82,352.90  —\\textbar{}  94,117.60 &      2 &  0.001689446\\\\\n\t 94,117.60  —\\textbar{} 105,882.00 &     11 &  0.009291953\\\\\n\t105,882.00  —\\textbar{} 117,647.00 &      0 &  0.000000000\\\\\n\t117,647.00  —\\textbar{} 129,412.00 &      2 &  0.001689446\\\\\n\t129,412.00  —\\textbar{} 141,176.00 &      0 &  0.000000000\\\\\n\t141,176.00  —\\textbar{} 152,941.00 &      0 &  0.000000000\\\\\n\t152,941.00  —\\textbar{} 164,706.00 &      0 &  0.000000000\\\\\n\t164,706.00  —\\textbar{} 176,471.00 &      0 &  0.000000000\\\\\n\t176,471.00  —\\textbar{} 188,235.00 &      0 &  0.000000000\\\\\n\t188,235.00  —\\textbar{} 200,000.00 &      5 &  0.004223615\\\\\n\\end{tabular}\n",
            "text/plain": [
              "                          Frequência Porcentagem(%)\n",
              "      0.00 |—|  11,764.70 116179     98.139075197  \n",
              " 11,764.70  —|  23,529.40   1816      1.534016996  \n",
              " 23,529.40  —|  35,294.10    289      0.244124951  \n",
              " 35,294.10  —|  47,058.80     33      0.027875860  \n",
              " 47,058.80  —|  58,823.50     28      0.023652244  \n",
              " 58,823.50  —|  70,588.20      9      0.007602507  \n",
              " 70,588.20  —|  82,352.90      8      0.006757784  \n",
              " 82,352.90  —|  94,117.60      2      0.001689446  \n",
              " 94,117.60  —| 105,882.00     11      0.009291953  \n",
              "105,882.00  —| 117,647.00      0      0.000000000  \n",
              "117,647.00  —| 129,412.00      2      0.001689446  \n",
              "129,412.00  —| 141,176.00      0      0.000000000  \n",
              "141,176.00  —| 152,941.00      0      0.000000000  \n",
              "152,941.00  —| 164,706.00      0      0.000000000  \n",
              "164,706.00  —| 176,471.00      0      0.000000000  \n",
              "176,471.00  —| 188,235.00      0      0.000000000  \n",
              "188,235.00  —| 200,000.00      5      0.004223615  "
            ]
          },
          "metadata": {}
        }
      ],
      "source": [
        "disti_freq_quantitativas_amplitude_fixa = cbind('Frequência' = frequencia, 'Porcentagem(%)'= percentual)\n",
        "disti_freq_quantitativas_amplitude_fixa"
      ]
    },
    {
      "cell_type": "markdown",
      "metadata": {
        "id": "Js9iLwNkjQME"
      },
      "source": [
        "## <font color=green>2.4 Histograma</font>\n",
        "***\n",
        "\n",
        "O <b>HISTOGRAMA</b> é a representação gráfica de uma distribuição de frequências. É um gráfico formado por um conjunto de retângulos colocados lado a lado, onde a área de cada retângulo é proporcional à frequência da classe que ele representa."
      ]
    },
    {
      "cell_type": "markdown",
      "metadata": {
        "id": "noKtR5qYqN6h"
      },
      "source": [
        "### <font color=red>Documentações:\n",
        "\n",
        "- [***package* graphics**](https://www.rdocumentation.org/packages/graphics)\n",
        "- [**hist**](https://www.rdocumentation.org/packages/graphics/versions/3.6.1/topics/hist)\n",
        "- [***package* ggplot2**](https://www.rdocumentation.org/packages/ggplot2)\n",
        "- [**data.frame**](https://www.rdocumentation.org/packages/base/versions/3.6.1/topics/data.frame)"
      ]
    },
    {
      "cell_type": "code",
      "execution_count": null,
      "metadata": {
        "id": "nvRkF8MqqN6h"
      },
      "outputs": [],
      "source": [
        "options(repr.plot.width = 15, repr.plot.height = 6)"
      ]
    },
    {
      "cell_type": "code",
      "execution_count": null,
      "metadata": {
        "colab": {
          "base_uri": "https://localhost:8080/",
          "height": 377
        },
        "id": "PYRaBCnxjQME",
        "outputId": "766490c1-0dea-42e9-c61e-1bcfb57aec5a"
      },
      "outputs": [
        {
          "output_type": "display_data",
          "data": {
            "text/plain": [
              "Plot with title “Histogram of dados$Altura”"
            ],
            "image/png": "[encoded data removed]"
          },
          "metadata": {
            "image/png": {
              "width": 900,
              "height": 360
            }
          }
        }
      ],
      "source": [
        "hist(dados$Altura)"
      ]
    },
    {
      "cell_type": "code",
      "execution_count": null,
      "metadata": {
        "colab": {
          "base_uri": "https://localhost:8080/",
          "height": 377
        },
        "id": "La6VOYtfqN6h",
        "outputId": "71ac247b-09fe-4bea-94b2-df3a706a48b4"
      },
      "outputs": [
        {
          "output_type": "display_data",
          "data": {
            "text/plain": [
              "Plot with title “Histograma das Alturas”"
            ],
            "image/png": "[encoded data removed]"
          },
          "metadata": {
            "image/png": {
              "width": 900,
              "height": 360
            }
          }
        }
      ],
      "source": [
        "hist(\n",
        "    x = dados$Altura,\n",
        "    breaks = 'Sturges',\n",
        "    col = 'lightblue',\n",
        "    main = 'Histograma das Alturas',\n",
        "    xlab = 'Altura',\n",
        "    ylab = 'Frequências',\n",
        "    prob = TRUE,\n",
        "    las = 1\n",
        ")"
      ]
    },
    {
      "cell_type": "code",
      "execution_count": null,
      "metadata": {
        "id": "N3N25TWfqN6h"
      },
      "outputs": [],
      "source": [
        "library(ggplot2)"
      ]
    },
    {
      "cell_type": "code",
      "execution_count": null,
      "metadata": {
        "colab": {
          "base_uri": "https://localhost:8080/",
          "height": 474
        },
        "id": "oZ5j9A-3qN6i",
        "outputId": "b78a3b68-a830-4a9f-edfc-d7c20dc5445e"
      },
      "outputs": [
        {
          "output_type": "stream",
          "name": "stderr",
          "text": [
            "Warning message:\n",
            "“Removed 1 rows containing non-finite values (stat_bin).”\n"
          ]
        },
        {
          "output_type": "display_data",
          "data": {
            "text/plain": [
              "plot without title"
            ],
            "image/png": "[encoded data removed]"
          },
          "metadata": {
            "image/png": {
              "width": 1200,
              "height": 420
            }
          }
        }
      ],
      "source": [
        "options(repr.plot.width = 20, repr.plot.height = 7)\n",
        "ggplot(dados, aes(x = Altura)) + \n",
        "    geom_histogram(binwidth = 0.02, color = \"black\", alpha = 0.9) + \n",
        "    ylab(\"Frequência\") + \n",
        "    xlab(\"Alturas\") + \n",
        "    ggtitle('Histograma das Alturas') +\n",
        "    theme(\n",
        "        plot.title = element_text(size = 25, hjust = 0.5),\n",
        "        axis.title.y = element_text(size = 20, vjust = +0.2),\n",
        "        axis.title.x = element_text(size = 20, vjust = -0.2),\n",
        "        axis.text.y = element_text(size = 20),\n",
        "        axis.text.x = element_text(size = 20)\n",
        "    )"
      ]
    },
    {
      "cell_type": "code",
      "execution_count": null,
      "metadata": {
        "id": "tvh_1w_mqN6i"
      },
      "outputs": [],
      "source": [
        "formatos = theme(\n",
        "        plot.title = element_text(size = 25, hjust = 0.5),\n",
        "        axis.title.y = element_text(size = 20, vjust = +0.2),\n",
        "        axis.title.x = element_text(size = 20, vjust = -0.2),\n",
        "        axis.text.y = element_text(size = 20),\n",
        "        axis.text.x = element_text(size = 20)\n",
        "    )"
      ]
    },
    {
      "cell_type": "code",
      "execution_count": null,
      "metadata": {
        "colab": {
          "base_uri": "https://localhost:8080/",
          "height": 511
        },
        "id": "UpalyMlQqN6i",
        "outputId": "58b4e87a-7bdf-4cad-9182-4f24b0cfcab4"
      },
      "outputs": [
        {
          "output_type": "stream",
          "name": "stderr",
          "text": [
            "Warning message:\n",
            "“Removed 1 rows containing non-finite values (stat_bin).”\n",
            "Warning message:\n",
            "“Removed 1 rows containing non-finite values (stat_density).”\n"
          ]
        },
        {
          "output_type": "display_data",
          "data": {
            "text/plain": [
              "plot without title"
            ],
            "image/png": "[encoded data removed]"
          },
          "metadata": {
            "image/png": {
              "width": 1200,
              "height": 420
            }
          }
        }
      ],
      "source": [
        "# ..density.. ele coloca a linha no gráfico\n",
        "ggplot(dados, aes(x = Altura, y = ..density..)) + \n",
        "    geom_histogram(binwidth = 0.02, color = \"black\", alpha = 0.9) + \n",
        "    geom_density(color = 'black') +\n",
        "    ylab(\"Frequência\") + \n",
        "    xlab(\"Alturas\") + \n",
        "    ggtitle('Histograma das Alturas') +\n",
        "    formatos"
      ]
    },
    {
      "cell_type": "code",
      "execution_count": null,
      "metadata": {
        "colab": {
          "base_uri": "https://localhost:8080/",
          "height": 255
        },
        "id": "0HcLhLYtjQMM",
        "outputId": "f1935a7a-5750-4a71-9101-18c6f49843ba"
      },
      "outputs": [
        {
          "output_type": "display_data",
          "data": {
            "text/html": [
              "<table class=\"dataframe\">\n",
              "<caption>A data.frame: 5 × 2</caption>\n",
              "<thead>\n",
              "\t<tr><th></th><th scope=col>Frequência</th><th scope=col>Porcentagem...</th></tr>\n",
              "\t<tr><th></th><th scope=col>&lt;dbl&gt;</th><th scope=col>&lt;dbl&gt;</th></tr>\n",
              "</thead>\n",
              "<tbody>\n",
              "\t<tr><th scope=row>E</th><td>72470</td><td>61.2170769</td></tr>\n",
              "\t<tr><th scope=row>D</th><td>28304</td><td>23.9090402</td></tr>\n",
              "\t<tr><th scope=row>C</th><td>12765</td><td>10.7828893</td></tr>\n",
              "\t<tr><th scope=row>B</th><td> 3762</td><td> 3.1778480</td></tr>\n",
              "\t<tr><th scope=row>A</th><td> 1081</td><td> 0.9131456</td></tr>\n",
              "</tbody>\n",
              "</table>\n"
            ],
            "text/markdown": "\nA data.frame: 5 × 2\n\n| <!--/--> | Frequência &lt;dbl&gt; | Porcentagem... &lt;dbl&gt; |\n|---|---|---|\n| E | 72470 | 61.2170769 |\n| D | 28304 | 23.9090402 |\n| C | 12765 | 10.7828893 |\n| B |  3762 |  3.1778480 |\n| A |  1081 |  0.9131456 |\n\n",
            "text/latex": "A data.frame: 5 × 2\n\\begin{tabular}{r|ll}\n  & Frequência & Porcentagem...\\\\\n  & <dbl> & <dbl>\\\\\n\\hline\n\tE & 72470 & 61.2170769\\\\\n\tD & 28304 & 23.9090402\\\\\n\tC & 12765 & 10.7828893\\\\\n\tB &  3762 &  3.1778480\\\\\n\tA &  1081 &  0.9131456\\\\\n\\end{tabular}\n",
            "text/plain": [
              "  Frequência Porcentagem...\n",
              "E 72470      61.2170769    \n",
              "D 28304      23.9090402    \n",
              "C 12765      10.7828893    \n",
              "B  3762       3.1778480    \n",
              "A  1081       0.9131456    "
            ]
          },
          "metadata": {}
        }
      ],
      "source": [
        "bar_chart = data.frame(disti_freq_quantitativas_personalizadas)\n",
        "bar_chart"
      ]
    },
    {
      "cell_type": "code",
      "execution_count": null,
      "metadata": {
        "colab": {
          "base_uri": "https://localhost:8080/",
          "height": 474
        },
        "id": "GywF5fElqN6i",
        "outputId": "6d19a4e8-4d7b-4f89-efdc-8ee49bc2aea0"
      },
      "outputs": [
        {
          "output_type": "stream",
          "name": "stderr",
          "text": [
            "Warning message:\n",
            "“Use of `bar_chart$Frequência` is discouraged. Use `Frequência` instead.”\n"
          ]
        },
        {
          "output_type": "display_data",
          "data": {
            "text/plain": [
              "plot without title"
            ],
            "image/png": "[encoded data removed]"
          },
          "metadata": {
            "image/png": {
              "width": 1200,
              "height": 420
            }
          }
        }
      ],
      "source": [
        "# o ggplot pede um dataframe, entao converta teus dados antes para dataframe\n",
        "\n",
        "ggplot(bar_chart, aes(x = row.names(bar_chart), y = bar_chart$Frequência)) + \n",
        "    geom_bar(stat = \"identity\") + \n",
        "    ylab(\"Frequência\") + \n",
        "    xlab(\"Classes de Renda\") + \n",
        "    ggtitle('Gráfico Classes de Renda') +\n",
        "    formatos"
      ]
    },
    {
      "cell_type": "markdown",
      "metadata": {
        "id": "uIb17Es3jQMP"
      },
      "source": [
        "# <font color=green>3 MEDIDAS DE TENDÊNCIA CENTRAL</font>\n",
        "***"
      ]
    },
    {
      "cell_type": "markdown",
      "metadata": {
        "id": "Wrya4suEX7H-"
      },
      "source": [
        "## DataFrame de exemplo"
      ]
    },
    {
      "cell_type": "code",
      "execution_count": null,
      "metadata": {
        "id": "T2G5M9ODqN6j"
      },
      "outputs": [],
      "source": [
        "materias <- c('Matemática', 'Português', 'Inglês', 'Geografia', 'História', 'Física', 'Química')\n",
        "Fulano <- c(8, 10, 4, 8, 6, 10, 8)\n",
        "Beltrano <- c(10, 2, 0.5, 1, 3, 9.5, 10)\n",
        "Sicrano <- c(7.5, 8, 7, 8, 8, 8.5, 7)"
      ]
    },
    {
      "cell_type": "code",
      "execution_count": null,
      "metadata": {
        "id": "asihGQjpqN6j",
        "colab": {
          "base_uri": "https://localhost:8080/",
          "height": 317
        },
        "outputId": "0cc72d6d-8f2b-4427-95cd-ca1bd2cc0ba1"
      },
      "outputs": [
        {
          "output_type": "display_data",
          "data": {
            "text/html": [
              "<table class=\"dataframe\">\n",
              "<caption>A data.frame: 7 × 3</caption>\n",
              "<thead>\n",
              "\t<tr><th></th><th scope=col>Fulano</th><th scope=col>Beltrano</th><th scope=col>Sicrano</th></tr>\n",
              "\t<tr><th></th><th scope=col>&lt;dbl&gt;</th><th scope=col>&lt;dbl&gt;</th><th scope=col>&lt;dbl&gt;</th></tr>\n",
              "</thead>\n",
              "<tbody>\n",
              "\t<tr><th scope=row>Matemática</th><td> 8</td><td>10.0</td><td>7.5</td></tr>\n",
              "\t<tr><th scope=row>Português</th><td>10</td><td> 2.0</td><td>8.0</td></tr>\n",
              "\t<tr><th scope=row>Inglês</th><td> 4</td><td> 0.5</td><td>7.0</td></tr>\n",
              "\t<tr><th scope=row>Geografia</th><td> 8</td><td> 1.0</td><td>8.0</td></tr>\n",
              "\t<tr><th scope=row>História</th><td> 6</td><td> 3.0</td><td>8.0</td></tr>\n",
              "\t<tr><th scope=row>Física</th><td>10</td><td> 9.5</td><td>8.5</td></tr>\n",
              "\t<tr><th scope=row>Química</th><td> 8</td><td>10.0</td><td>7.0</td></tr>\n",
              "</tbody>\n",
              "</table>\n"
            ],
            "text/markdown": "\nA data.frame: 7 × 3\n\n| <!--/--> | Fulano &lt;dbl&gt; | Beltrano &lt;dbl&gt; | Sicrano &lt;dbl&gt; |\n|---|---|---|---|\n| Matemática |  8 | 10.0 | 7.5 |\n| Português | 10 |  2.0 | 8.0 |\n| Inglês |  4 |  0.5 | 7.0 |\n| Geografia |  8 |  1.0 | 8.0 |\n| História |  6 |  3.0 | 8.0 |\n| Física | 10 |  9.5 | 8.5 |\n| Química |  8 | 10.0 | 7.0 |\n\n",
            "text/latex": "A data.frame: 7 × 3\n\\begin{tabular}{r|lll}\n  & Fulano & Beltrano & Sicrano\\\\\n  & <dbl> & <dbl> & <dbl>\\\\\n\\hline\n\tMatemática &  8 & 10.0 & 7.5\\\\\n\tPortuguês & 10 &  2.0 & 8.0\\\\\n\tInglês &  4 &  0.5 & 7.0\\\\\n\tGeografia &  8 &  1.0 & 8.0\\\\\n\tHistória &  6 &  3.0 & 8.0\\\\\n\tFísica & 10 &  9.5 & 8.5\\\\\n\tQuímica &  8 & 10.0 & 7.0\\\\\n\\end{tabular}\n",
            "text/plain": [
              "           Fulano Beltrano Sicrano\n",
              "Matemática  8     10.0     7.5    \n",
              "Português  10      2.0     8.0    \n",
              "Inglês      4      0.5     7.0    \n",
              "Geografia   8      1.0     8.0    \n",
              "História    6      3.0     8.0    \n",
              "Física     10      9.5     8.5    \n",
              "Química     8     10.0     7.0    "
            ]
          },
          "metadata": {}
        }
      ],
      "source": [
        "df = data.frame(Fulano, Beltrano, Sicrano, row.names = materias)\n",
        "df"
      ]
    },
    {
      "cell_type": "markdown",
      "metadata": {
        "id": "kcHJFW-YjQMP"
      },
      "source": [
        "## <font color=green>3.1 Média aritmética</font>\n",
        "***\n",
        "\n",
        "É representada por $\\mu$ quando se refere à população e por $\\bar{X}$ quando se refere à amostra\n",
        "\n",
        "# $$\\mu = \\frac 1n\\sum_{i=1}^{n}X_i$$\n",
        "\n",
        "onde \n",
        "\n",
        "$n$ = número de observações (registros)\n",
        "\n",
        "$X_i$ = valor da i-ésima observação (registro)"
      ]
    },
    {
      "cell_type": "markdown",
      "metadata": {
        "id": "QV9XTHcLqN6j"
      },
      "source": [
        "### <font color=red>Documentações:\n",
        "\n",
        "- [**mean**](https://www.rdocumentation.org/packages/base/versions/3.6.1/topics/mean)\n",
        "- [**aggregate**](https://www.rdocumentation.org/packages/stats/versions/3.6.1/topics/aggregate)\n",
        "- [**list**](https://www.rdocumentation.org/packages/base/versions/3.6.1/topics/list)"
      ]
    },
    {
      "cell_type": "code",
      "execution_count": null,
      "metadata": {
        "id": "QW4JPcBmX7IA",
        "colab": {
          "base_uri": "https://localhost:8080/",
          "height": 34
        },
        "outputId": "73ca3974-d671-4fc3-d874-041d2d44973b"
      },
      "outputs": [
        {
          "output_type": "display_data",
          "data": {
            "text/html": [
              "7.71428571428571"
            ],
            "text/markdown": "7.71428571428571",
            "text/latex": "7.71428571428571",
            "text/plain": [
              "[1] 7.714286"
            ]
          },
          "metadata": {}
        }
      ],
      "source": [
        "(8 + 10 + 4 + 8 + 6 + 10 + 8) / 7"
      ]
    },
    {
      "cell_type": "code",
      "execution_count": null,
      "metadata": {
        "id": "LuT8WNy5X7IB",
        "colab": {
          "base_uri": "https://localhost:8080/",
          "height": 34
        },
        "outputId": "5537bcb5-1628-44b4-fc7b-fbb825bcc4e3"
      },
      "outputs": [
        {
          "output_type": "display_data",
          "data": {
            "text/html": [
              "7.71428571428571"
            ],
            "text/markdown": "7.71428571428571",
            "text/latex": "7.71428571428571",
            "text/plain": [
              "[1] 7.714286"
            ]
          },
          "metadata": {}
        }
      ],
      "source": [
        "mean(df$Fulano)"
      ]
    },
    {
      "cell_type": "code",
      "execution_count": null,
      "metadata": {
        "id": "E81-0hzyqN6j",
        "colab": {
          "base_uri": "https://localhost:8080/",
          "height": 34
        },
        "outputId": "bb1be5fc-f339-4669-8abc-034064de30c4"
      },
      "outputs": [
        {
          "output_type": "display_data",
          "data": {
            "text/html": [
              "&lt;NA&gt;"
            ],
            "text/markdown": "&lt;NA&gt;",
            "text/latex": "<NA>",
            "text/plain": [
              "[1] NA"
            ]
          },
          "metadata": {}
        }
      ],
      "source": [
        "mean(dados$Renda)"
      ]
    },
    {
      "cell_type": "code",
      "execution_count": null,
      "metadata": {
        "id": "4SONps-lqN6j",
        "colab": {
          "base_uri": "https://localhost:8080/",
          "height": 161
        },
        "outputId": "862c8f19-999c-476b-b49b-3818f5ad19d5"
      },
      "outputs": [
        {
          "output_type": "display_data",
          "data": {
            "text/html": [
              "<table class=\"dataframe\">\n",
              "<caption>A data.frame: 2 × 2</caption>\n",
              "<thead>\n",
              "\t<tr><th scope=col>Sexo</th><th scope=col>Renda</th></tr>\n",
              "\t<tr><th scope=col>&lt;int&gt;</th><th scope=col>&lt;dbl&gt;</th></tr>\n",
              "</thead>\n",
              "<tbody>\n",
              "\t<tr><td>0</td><td>2365.496</td></tr>\n",
              "\t<tr><td>1</td><td>1673.839</td></tr>\n",
              "</tbody>\n",
              "</table>\n"
            ],
            "text/markdown": "\nA data.frame: 2 × 2\n\n| Sexo &lt;int&gt; | Renda &lt;dbl&gt; |\n|---|---|\n| 0 | 2365.496 |\n| 1 | 1673.839 |\n\n",
            "text/latex": "A data.frame: 2 × 2\n\\begin{tabular}{ll}\n Sexo & Renda\\\\\n <int> & <dbl>\\\\\n\\hline\n\t 0 & 2365.496\\\\\n\t 1 & 1673.839\\\\\n\\end{tabular}\n",
            "text/plain": [
              "  Sexo Renda   \n",
              "1 0    2365.496\n",
              "2 1    1673.839"
            ]
          },
          "metadata": {}
        }
      ],
      "source": [
        "aggregate(list(Renda = dados$Renda), list(Sexo = dados$Sexo), mean)"
      ]
    },
    {
      "cell_type": "markdown",
      "metadata": {
        "id": "9geu3UcKjQMS"
      },
      "source": [
        "## <font color=green>3.2 Mediana</font>\n",
        "***\n",
        "\n",
        "Para obtermos a mediana de uma conjunto de dados devemos proceder da seguinte maneira:\n",
        "1. Ordenar o conjunto de dados;\n",
        "2. Identificar o número de observações (registros) do conjunto de dados ($n$);\n",
        "3. Identicar o elemento mediano:\n",
        "\n",
        "> Quando $n$ for ímpar, a posição do elemento mediano será obtida da seguinte forma:\n",
        "\n",
        "\n",
        "# $$Elemento_{Md} = \\frac{n+1}2$$\n",
        "\n",
        "> Quando $n$ for par, a posição do elemento mediano será obtida da seguinte forma:\n",
        "\n",
        "\n",
        "# $$Elemento_{Md} = \\frac{n}2$$\n",
        "\n",
        "4. Obter a mediana:\n",
        "\n",
        "> Quando $n$ for ímpar:\n",
        "\n",
        "\n",
        "# $$Md = X_{Elemento_{Md}}$$\n",
        "\n",
        "> Quando $n$ for par:\n",
        "\n",
        "\n",
        "# $$Md = \\frac{X_{Elemento_{Md}} + X_{Elemento_{Md}+1}}2$$\n",
        "***"
      ]
    },
    {
      "cell_type": "markdown",
      "metadata": {
        "id": "-mPi3wHZqN6k"
      },
      "source": [
        "### <font color=red>Documentações:\n",
        "\n",
        "- [**median**](https://www.rdocumentation.org/packages/stats/versions/3.6.1/topics/median)\n",
        "- [**set.seed**](https://www.rdocumentation.org/packages/simEd/versions/1.0.3/topics/set.seed)\n",
        "- [**sample**](https://www.rdocumentation.org/packages/base/versions/3.6.1/topics/sample)"
      ]
    },
    {
      "cell_type": "markdown",
      "metadata": {
        "id": "e0IuYdJFjQMT"
      },
      "source": [
        "### Exemplo 1 - n ímpar\n",
        "\n",
        "<img src='https://caelum-online-public.s3.amazonaws.com/1177-estatistica-parte1/01/img002.png' width='40%' style=\"float:left\">"
      ]
    },
    {
      "cell_type": "code",
      "execution_count": null,
      "metadata": {
        "id": "aqtF4D2ZqN6k",
        "colab": {
          "base_uri": "https://localhost:8080/",
          "height": 317
        },
        "outputId": "7027b536-39da-4941-852f-ce756ccfabf0"
      },
      "outputs": [
        {
          "output_type": "display_data",
          "data": {
            "text/html": [
              "<table class=\"dataframe\">\n",
              "<caption>A data.frame: 7 × 3</caption>\n",
              "<thead>\n",
              "\t<tr><th></th><th scope=col>Fulano</th><th scope=col>Beltrano</th><th scope=col>Sicrano</th></tr>\n",
              "\t<tr><th></th><th scope=col>&lt;dbl&gt;</th><th scope=col>&lt;dbl&gt;</th><th scope=col>&lt;dbl&gt;</th></tr>\n",
              "</thead>\n",
              "<tbody>\n",
              "\t<tr><th scope=row>Matemática</th><td> 8</td><td>10.0</td><td>7.5</td></tr>\n",
              "\t<tr><th scope=row>Português</th><td>10</td><td> 2.0</td><td>8.0</td></tr>\n",
              "\t<tr><th scope=row>Inglês</th><td> 4</td><td> 0.5</td><td>7.0</td></tr>\n",
              "\t<tr><th scope=row>Geografia</th><td> 8</td><td> 1.0</td><td>8.0</td></tr>\n",
              "\t<tr><th scope=row>História</th><td> 6</td><td> 3.0</td><td>8.0</td></tr>\n",
              "\t<tr><th scope=row>Física</th><td>10</td><td> 9.5</td><td>8.5</td></tr>\n",
              "\t<tr><th scope=row>Química</th><td> 8</td><td>10.0</td><td>7.0</td></tr>\n",
              "</tbody>\n",
              "</table>\n"
            ],
            "text/markdown": "\nA data.frame: 7 × 3\n\n| <!--/--> | Fulano &lt;dbl&gt; | Beltrano &lt;dbl&gt; | Sicrano &lt;dbl&gt; |\n|---|---|---|---|\n| Matemática |  8 | 10.0 | 7.5 |\n| Português | 10 |  2.0 | 8.0 |\n| Inglês |  4 |  0.5 | 7.0 |\n| Geografia |  8 |  1.0 | 8.0 |\n| História |  6 |  3.0 | 8.0 |\n| Física | 10 |  9.5 | 8.5 |\n| Química |  8 | 10.0 | 7.0 |\n\n",
            "text/latex": "A data.frame: 7 × 3\n\\begin{tabular}{r|lll}\n  & Fulano & Beltrano & Sicrano\\\\\n  & <dbl> & <dbl> & <dbl>\\\\\n\\hline\n\tMatemática &  8 & 10.0 & 7.5\\\\\n\tPortuguês & 10 &  2.0 & 8.0\\\\\n\tInglês &  4 &  0.5 & 7.0\\\\\n\tGeografia &  8 &  1.0 & 8.0\\\\\n\tHistória &  6 &  3.0 & 8.0\\\\\n\tFísica & 10 &  9.5 & 8.5\\\\\n\tQuímica &  8 & 10.0 & 7.0\\\\\n\\end{tabular}\n",
            "text/plain": [
              "           Fulano Beltrano Sicrano\n",
              "Matemática  8     10.0     7.5    \n",
              "Português  10      2.0     8.0    \n",
              "Inglês      4      0.5     7.0    \n",
              "Geografia   8      1.0     8.0    \n",
              "História    6      3.0     8.0    \n",
              "Física     10      9.5     8.5    \n",
              "Química     8     10.0     7.0    "
            ]
          },
          "metadata": {}
        }
      ],
      "source": [
        "df"
      ]
    },
    {
      "cell_type": "code",
      "execution_count": null,
      "metadata": {
        "id": "C9SdTSnwqN6k",
        "colab": {
          "base_uri": "https://localhost:8080/",
          "height": 317
        },
        "outputId": "e16fb6e4-b04b-4122-9e4f-a4fd4e2fd0a0"
      },
      "outputs": [
        {
          "output_type": "display_data",
          "data": {
            "text/html": [
              "<table class=\"dataframe\">\n",
              "<caption>A data.frame: 7 × 3</caption>\n",
              "<thead>\n",
              "\t<tr><th></th><th scope=col>Fulano</th><th scope=col>Beltrano</th><th scope=col>Sicrano</th></tr>\n",
              "\t<tr><th></th><th scope=col>&lt;dbl&gt;</th><th scope=col>&lt;dbl&gt;</th><th scope=col>&lt;dbl&gt;</th></tr>\n",
              "</thead>\n",
              "<tbody>\n",
              "\t<tr><th scope=row>Inglês</th><td> 4</td><td> 0.5</td><td>7.0</td></tr>\n",
              "\t<tr><th scope=row>História</th><td> 6</td><td> 3.0</td><td>8.0</td></tr>\n",
              "\t<tr><th scope=row>Matemática</th><td> 8</td><td>10.0</td><td>7.5</td></tr>\n",
              "\t<tr><th scope=row>Geografia</th><td> 8</td><td> 1.0</td><td>8.0</td></tr>\n",
              "\t<tr><th scope=row>Química</th><td> 8</td><td>10.0</td><td>7.0</td></tr>\n",
              "\t<tr><th scope=row>Português</th><td>10</td><td> 2.0</td><td>8.0</td></tr>\n",
              "\t<tr><th scope=row>Física</th><td>10</td><td> 9.5</td><td>8.5</td></tr>\n",
              "</tbody>\n",
              "</table>\n"
            ],
            "text/markdown": "\nA data.frame: 7 × 3\n\n| <!--/--> | Fulano &lt;dbl&gt; | Beltrano &lt;dbl&gt; | Sicrano &lt;dbl&gt; |\n|---|---|---|---|\n| Inglês |  4 |  0.5 | 7.0 |\n| História |  6 |  3.0 | 8.0 |\n| Matemática |  8 | 10.0 | 7.5 |\n| Geografia |  8 |  1.0 | 8.0 |\n| Química |  8 | 10.0 | 7.0 |\n| Português | 10 |  2.0 | 8.0 |\n| Física | 10 |  9.5 | 8.5 |\n\n",
            "text/latex": "A data.frame: 7 × 3\n\\begin{tabular}{r|lll}\n  & Fulano & Beltrano & Sicrano\\\\\n  & <dbl> & <dbl> & <dbl>\\\\\n\\hline\n\tInglês &  4 &  0.5 & 7.0\\\\\n\tHistória &  6 &  3.0 & 8.0\\\\\n\tMatemática &  8 & 10.0 & 7.5\\\\\n\tGeografia &  8 &  1.0 & 8.0\\\\\n\tQuímica &  8 & 10.0 & 7.0\\\\\n\tPortuguês & 10 &  2.0 & 8.0\\\\\n\tFísica & 10 &  9.5 & 8.5\\\\\n\\end{tabular}\n",
            "text/plain": [
              "           Fulano Beltrano Sicrano\n",
              "Inglês      4      0.5     7.0    \n",
              "História    6      3.0     8.0    \n",
              "Matemática  8     10.0     7.5    \n",
              "Geografia   8      1.0     8.0    \n",
              "Química     8     10.0     7.0    \n",
              "Português  10      2.0     8.0    \n",
              "Física     10      9.5     8.5    "
            ]
          },
          "metadata": {}
        }
      ],
      "source": [
        "df_fulano = df[order(df$Fulano), ]\n",
        "df_fulano"
      ]
    },
    {
      "cell_type": "code",
      "execution_count": null,
      "metadata": {
        "id": "fDZXVEsbqN6k",
        "colab": {
          "base_uri": "https://localhost:8080/",
          "height": 34
        },
        "outputId": "9d39c2d3-f922-4e0c-d8c0-eede31914378"
      },
      "outputs": [
        {
          "output_type": "display_data",
          "data": {
            "text/html": [
              "7"
            ],
            "text/markdown": "7",
            "text/latex": "7",
            "text/plain": [
              "[1] 7"
            ]
          },
          "metadata": {}
        }
      ],
      "source": [
        "n = nrow(df_fulano)\n",
        "n"
      ]
    },
    {
      "cell_type": "code",
      "execution_count": null,
      "metadata": {
        "id": "trC12MHxjQMY",
        "colab": {
          "base_uri": "https://localhost:8080/",
          "height": 34
        },
        "outputId": "e469e40b-5177-426a-f7c2-ef71bfeda26e"
      },
      "outputs": [
        {
          "output_type": "display_data",
          "data": {
            "text/html": [
              "4"
            ],
            "text/markdown": "4",
            "text/latex": "4",
            "text/plain": [
              "[1] 4"
            ]
          },
          "metadata": {}
        }
      ],
      "source": [
        "elemento_md = (n + 1) / 2\n",
        "elemento_md"
      ]
    },
    {
      "cell_type": "code",
      "execution_count": null,
      "metadata": {
        "id": "NKccffcLjQMZ",
        "colab": {
          "base_uri": "https://localhost:8080/",
          "height": 129
        },
        "outputId": "2381a161-dbf3-41b0-d138-3b6c136ce81e"
      },
      "outputs": [
        {
          "output_type": "display_data",
          "data": {
            "text/html": [
              "<table class=\"dataframe\">\n",
              "<caption>A data.frame: 1 × 3</caption>\n",
              "<thead>\n",
              "\t<tr><th></th><th scope=col>Fulano</th><th scope=col>Beltrano</th><th scope=col>Sicrano</th></tr>\n",
              "\t<tr><th></th><th scope=col>&lt;dbl&gt;</th><th scope=col>&lt;dbl&gt;</th><th scope=col>&lt;dbl&gt;</th></tr>\n",
              "</thead>\n",
              "<tbody>\n",
              "\t<tr><th scope=row>Geografia</th><td>8</td><td>1</td><td>8</td></tr>\n",
              "</tbody>\n",
              "</table>\n"
            ],
            "text/markdown": "\nA data.frame: 1 × 3\n\n| <!--/--> | Fulano &lt;dbl&gt; | Beltrano &lt;dbl&gt; | Sicrano &lt;dbl&gt; |\n|---|---|---|---|\n| Geografia | 8 | 1 | 8 |\n\n",
            "text/latex": "A data.frame: 1 × 3\n\\begin{tabular}{r|lll}\n  & Fulano & Beltrano & Sicrano\\\\\n  & <dbl> & <dbl> & <dbl>\\\\\n\\hline\n\tGeografia & 8 & 1 & 8\\\\\n\\end{tabular}\n",
            "text/plain": [
              "          Fulano Beltrano Sicrano\n",
              "Geografia 8      1        8      "
            ]
          },
          "metadata": {}
        }
      ],
      "source": [
        "df_fulano[elemento_md, ]"
      ]
    },
    {
      "cell_type": "code",
      "execution_count": null,
      "metadata": {
        "id": "ody5mfXLjQMb",
        "colab": {
          "base_uri": "https://localhost:8080/",
          "height": 34
        },
        "outputId": "fd45dcfb-49e3-4658-b6ef-ba6d7588904e"
      },
      "outputs": [
        {
          "output_type": "display_data",
          "data": {
            "text/html": [
              "8"
            ],
            "text/markdown": "8",
            "text/latex": "8",
            "text/plain": [
              "[1] 8"
            ]
          },
          "metadata": {}
        }
      ],
      "source": [
        "median(df$Fulano)"
      ]
    },
    {
      "cell_type": "markdown",
      "metadata": {
        "id": "hQHyjfLkjQMe"
      },
      "source": [
        "### Exemplo 2 - n par\n",
        "\n",
        "<img src='https://caelum-online-public.s3.amazonaws.com/1177-estatistica-parte1/01/img003.png' width='50%' style=\"float:left\">"
      ]
    },
    {
      "cell_type": "markdown",
      "metadata": {
        "id": "52z0rVfPqN6k"
      },
      "source": [
        "### Obtendo uma amostra aleatória dos dados"
      ]
    },
    {
      "cell_type": "code",
      "execution_count": null,
      "metadata": {
        "id": "NN1rl7mmqN6l",
        "colab": {
          "base_uri": "https://localhost:8080/",
          "height": 317
        },
        "outputId": "cfee21f7-67e6-440a-9188-4fc7ccf2b4a8"
      },
      "outputs": [
        {
          "output_type": "display_data",
          "data": {
            "text/html": [
              "<table class=\"dataframe\">\n",
              "<caption>A data.frame: 7 × 3</caption>\n",
              "<thead>\n",
              "\t<tr><th></th><th scope=col>Fulano</th><th scope=col>Beltrano</th><th scope=col>Sicrano</th></tr>\n",
              "\t<tr><th></th><th scope=col>&lt;dbl&gt;</th><th scope=col>&lt;dbl&gt;</th><th scope=col>&lt;dbl&gt;</th></tr>\n",
              "</thead>\n",
              "<tbody>\n",
              "\t<tr><th scope=row>Matemática</th><td> 8</td><td>10.0</td><td>7.5</td></tr>\n",
              "\t<tr><th scope=row>Português</th><td>10</td><td> 2.0</td><td>8.0</td></tr>\n",
              "\t<tr><th scope=row>Inglês</th><td> 4</td><td> 0.5</td><td>7.0</td></tr>\n",
              "\t<tr><th scope=row>Geografia</th><td> 8</td><td> 1.0</td><td>8.0</td></tr>\n",
              "\t<tr><th scope=row>História</th><td> 6</td><td> 3.0</td><td>8.0</td></tr>\n",
              "\t<tr><th scope=row>Física</th><td>10</td><td> 9.5</td><td>8.5</td></tr>\n",
              "\t<tr><th scope=row>Química</th><td> 8</td><td>10.0</td><td>7.0</td></tr>\n",
              "</tbody>\n",
              "</table>\n"
            ],
            "text/markdown": "\nA data.frame: 7 × 3\n\n| <!--/--> | Fulano &lt;dbl&gt; | Beltrano &lt;dbl&gt; | Sicrano &lt;dbl&gt; |\n|---|---|---|---|\n| Matemática |  8 | 10.0 | 7.5 |\n| Português | 10 |  2.0 | 8.0 |\n| Inglês |  4 |  0.5 | 7.0 |\n| Geografia |  8 |  1.0 | 8.0 |\n| História |  6 |  3.0 | 8.0 |\n| Física | 10 |  9.5 | 8.5 |\n| Química |  8 | 10.0 | 7.0 |\n\n",
            "text/latex": "A data.frame: 7 × 3\n\\begin{tabular}{r|lll}\n  & Fulano & Beltrano & Sicrano\\\\\n  & <dbl> & <dbl> & <dbl>\\\\\n\\hline\n\tMatemática &  8 & 10.0 & 7.5\\\\\n\tPortuguês & 10 &  2.0 & 8.0\\\\\n\tInglês &  4 &  0.5 & 7.0\\\\\n\tGeografia &  8 &  1.0 & 8.0\\\\\n\tHistória &  6 &  3.0 & 8.0\\\\\n\tFísica & 10 &  9.5 & 8.5\\\\\n\tQuímica &  8 & 10.0 & 7.0\\\\\n\\end{tabular}\n",
            "text/plain": [
              "           Fulano Beltrano Sicrano\n",
              "Matemática  8     10.0     7.5    \n",
              "Português  10      2.0     8.0    \n",
              "Inglês      4      0.5     7.0    \n",
              "Geografia   8      1.0     8.0    \n",
              "História    6      3.0     8.0    \n",
              "Física     10      9.5     8.5    \n",
              "Química     8     10.0     7.0    "
            ]
          },
          "metadata": {}
        }
      ],
      "source": [
        "df"
      ]
    },
    {
      "cell_type": "code",
      "execution_count": null,
      "metadata": {
        "id": "4SFRhh9AqN6l",
        "colab": {
          "base_uri": "https://localhost:8080/",
          "height": 34
        },
        "outputId": "4ee6508a-9f45-42dc-bc6f-f88292d24e95"
      },
      "outputs": [
        {
          "output_type": "display_data",
          "data": {
            "text/html": [
              "<style>\n",
              ".list-inline {list-style: none; margin:0; padding: 0}\n",
              ".list-inline>li {display: inline-block}\n",
              ".list-inline>li:not(:last-child)::after {content: \"\\00b7\"; padding: 0 .5ex}\n",
              "</style>\n",
              "<ol class=list-inline><li>1</li><li>7</li><li>6</li><li>2</li><li>3</li><li>5</li></ol>\n"
            ],
            "text/markdown": "1. 1\n2. 7\n3. 6\n4. 2\n5. 3\n6. 5\n\n\n",
            "text/latex": "\\begin{enumerate*}\n\\item 1\n\\item 7\n\\item 6\n\\item 2\n\\item 3\n\\item 5\n\\end{enumerate*}\n",
            "text/plain": [
              "[1] 1 7 6 2 3 5"
            ]
          },
          "metadata": {}
        }
      ],
      "source": [
        "set.seed(101)\n",
        "sample(nrow(df), 6)"
      ]
    },
    {
      "cell_type": "code",
      "execution_count": null,
      "metadata": {
        "id": "XuflrJSIqN6l",
        "colab": {
          "base_uri": "https://localhost:8080/",
          "height": 286
        },
        "outputId": "8ded30f4-f7d7-4c1c-f5cf-812e0ea02828"
      },
      "outputs": [
        {
          "output_type": "display_data",
          "data": {
            "text/html": [
              "<table class=\"dataframe\">\n",
              "<caption>A data.frame: 6 × 3</caption>\n",
              "<thead>\n",
              "\t<tr><th></th><th scope=col>Fulano</th><th scope=col>Beltrano</th><th scope=col>Sicrano</th></tr>\n",
              "\t<tr><th></th><th scope=col>&lt;dbl&gt;</th><th scope=col>&lt;dbl&gt;</th><th scope=col>&lt;dbl&gt;</th></tr>\n",
              "</thead>\n",
              "<tbody>\n",
              "\t<tr><th scope=row>Matemática</th><td> 8</td><td>10.0</td><td>7.5</td></tr>\n",
              "\t<tr><th scope=row>Química</th><td> 8</td><td>10.0</td><td>7.0</td></tr>\n",
              "\t<tr><th scope=row>Física</th><td>10</td><td> 9.5</td><td>8.5</td></tr>\n",
              "\t<tr><th scope=row>Português</th><td>10</td><td> 2.0</td><td>8.0</td></tr>\n",
              "\t<tr><th scope=row>Inglês</th><td> 4</td><td> 0.5</td><td>7.0</td></tr>\n",
              "\t<tr><th scope=row>História</th><td> 6</td><td> 3.0</td><td>8.0</td></tr>\n",
              "</tbody>\n",
              "</table>\n"
            ],
            "text/markdown": "\nA data.frame: 6 × 3\n\n| <!--/--> | Fulano &lt;dbl&gt; | Beltrano &lt;dbl&gt; | Sicrano &lt;dbl&gt; |\n|---|---|---|---|\n| Matemática |  8 | 10.0 | 7.5 |\n| Química |  8 | 10.0 | 7.0 |\n| Física | 10 |  9.5 | 8.5 |\n| Português | 10 |  2.0 | 8.0 |\n| Inglês |  4 |  0.5 | 7.0 |\n| História |  6 |  3.0 | 8.0 |\n\n",
            "text/latex": "A data.frame: 6 × 3\n\\begin{tabular}{r|lll}\n  & Fulano & Beltrano & Sicrano\\\\\n  & <dbl> & <dbl> & <dbl>\\\\\n\\hline\n\tMatemática &  8 & 10.0 & 7.5\\\\\n\tQuímica &  8 & 10.0 & 7.0\\\\\n\tFísica & 10 &  9.5 & 8.5\\\\\n\tPortuguês & 10 &  2.0 & 8.0\\\\\n\tInglês &  4 &  0.5 & 7.0\\\\\n\tHistória &  6 &  3.0 & 8.0\\\\\n\\end{tabular}\n",
            "text/plain": [
              "           Fulano Beltrano Sicrano\n",
              "Matemática  8     10.0     7.5    \n",
              "Química     8     10.0     7.0    \n",
              "Física     10      9.5     8.5    \n",
              "Português  10      2.0     8.0    \n",
              "Inglês      4      0.5     7.0    \n",
              "História    6      3.0     8.0    "
            ]
          },
          "metadata": {}
        }
      ],
      "source": [
        "set.seed(101)\n",
        "df_beltrano = df[sample(nrow(df), 6), ]\n",
        "df_beltrano"
      ]
    },
    {
      "cell_type": "code",
      "execution_count": null,
      "metadata": {
        "id": "ftS40b5RqN6l",
        "colab": {
          "base_uri": "https://localhost:8080/",
          "height": 34
        },
        "outputId": "98fb6cda-66f4-4326-f817-3fa567ffcac6"
      },
      "outputs": [
        {
          "output_type": "display_data",
          "data": {
            "text/html": [
              "6"
            ],
            "text/markdown": "6",
            "text/latex": "6",
            "text/plain": [
              "[1] 6"
            ]
          },
          "metadata": {}
        }
      ],
      "source": [
        "n = nrow(df_beltrano)\n",
        "n"
      ]
    },
    {
      "cell_type": "code",
      "execution_count": null,
      "metadata": {
        "id": "6wB1UztBjQMf",
        "colab": {
          "base_uri": "https://localhost:8080/",
          "height": 286
        },
        "outputId": "996360a3-3016-4385-a57a-1750e2566f16"
      },
      "outputs": [
        {
          "output_type": "display_data",
          "data": {
            "text/html": [
              "<table class=\"dataframe\">\n",
              "<caption>A data.frame: 6 × 3</caption>\n",
              "<thead>\n",
              "\t<tr><th></th><th scope=col>Fulano</th><th scope=col>Beltrano</th><th scope=col>Sicrano</th></tr>\n",
              "\t<tr><th></th><th scope=col>&lt;dbl&gt;</th><th scope=col>&lt;dbl&gt;</th><th scope=col>&lt;dbl&gt;</th></tr>\n",
              "</thead>\n",
              "<tbody>\n",
              "\t<tr><th scope=row>Inglês</th><td> 4</td><td> 0.5</td><td>7.0</td></tr>\n",
              "\t<tr><th scope=row>Português</th><td>10</td><td> 2.0</td><td>8.0</td></tr>\n",
              "\t<tr><th scope=row>História</th><td> 6</td><td> 3.0</td><td>8.0</td></tr>\n",
              "\t<tr><th scope=row>Física</th><td>10</td><td> 9.5</td><td>8.5</td></tr>\n",
              "\t<tr><th scope=row>Matemática</th><td> 8</td><td>10.0</td><td>7.5</td></tr>\n",
              "\t<tr><th scope=row>Química</th><td> 8</td><td>10.0</td><td>7.0</td></tr>\n",
              "</tbody>\n",
              "</table>\n"
            ],
            "text/markdown": "\nA data.frame: 6 × 3\n\n| <!--/--> | Fulano &lt;dbl&gt; | Beltrano &lt;dbl&gt; | Sicrano &lt;dbl&gt; |\n|---|---|---|---|\n| Inglês |  4 |  0.5 | 7.0 |\n| Português | 10 |  2.0 | 8.0 |\n| História |  6 |  3.0 | 8.0 |\n| Física | 10 |  9.5 | 8.5 |\n| Matemática |  8 | 10.0 | 7.5 |\n| Química |  8 | 10.0 | 7.0 |\n\n",
            "text/latex": "A data.frame: 6 × 3\n\\begin{tabular}{r|lll}\n  & Fulano & Beltrano & Sicrano\\\\\n  & <dbl> & <dbl> & <dbl>\\\\\n\\hline\n\tInglês &  4 &  0.5 & 7.0\\\\\n\tPortuguês & 10 &  2.0 & 8.0\\\\\n\tHistória &  6 &  3.0 & 8.0\\\\\n\tFísica & 10 &  9.5 & 8.5\\\\\n\tMatemática &  8 & 10.0 & 7.5\\\\\n\tQuímica &  8 & 10.0 & 7.0\\\\\n\\end{tabular}\n",
            "text/plain": [
              "           Fulano Beltrano Sicrano\n",
              "Inglês      4      0.5     7.0    \n",
              "Português  10      2.0     8.0    \n",
              "História    6      3.0     8.0    \n",
              "Física     10      9.5     8.5    \n",
              "Matemática  8     10.0     7.5    \n",
              "Química     8     10.0     7.0    "
            ]
          },
          "metadata": {}
        }
      ],
      "source": [
        "df_beltrano = df_beltrano[order(df_beltrano$Beltrano), ]\n",
        "df_beltrano"
      ]
    },
    {
      "cell_type": "code",
      "execution_count": null,
      "metadata": {
        "id": "tEBVXl7CjQMh",
        "colab": {
          "base_uri": "https://localhost:8080/",
          "height": 34
        },
        "outputId": "ec09e742-f571-43a7-d175-d783519e6085"
      },
      "outputs": [
        {
          "output_type": "display_data",
          "data": {
            "text/html": [
              "3"
            ],
            "text/markdown": "3",
            "text/latex": "3",
            "text/plain": [
              "[1] 3"
            ]
          },
          "metadata": {}
        }
      ],
      "source": [
        "elemento_md = n / 2\n",
        "elemento_md"
      ]
    },
    {
      "cell_type": "code",
      "execution_count": null,
      "metadata": {
        "id": "LJOwI4a3qN6l",
        "colab": {
          "base_uri": "https://localhost:8080/",
          "height": 34
        },
        "outputId": "11e3a0af-4e8b-4f15-f23d-efa50c20fe80"
      },
      "outputs": [
        {
          "output_type": "display_data",
          "data": {
            "text/html": [
              "6.25"
            ],
            "text/markdown": "6.25",
            "text/latex": "6.25",
            "text/plain": [
              "[1] 6.25"
            ]
          },
          "metadata": {}
        }
      ],
      "source": [
        "mean(df_beltrano[c(elemento_md, elemento_md + 1), ]$Beltrano)"
      ]
    },
    {
      "cell_type": "code",
      "execution_count": null,
      "metadata": {
        "id": "IevBBtrRjQMj",
        "colab": {
          "base_uri": "https://localhost:8080/",
          "height": 34
        },
        "outputId": "5588bdf4-c07a-4881-e16f-4e77280e1ec8"
      },
      "outputs": [
        {
          "output_type": "display_data",
          "data": {
            "text/html": [
              "6.25"
            ],
            "text/markdown": "6.25",
            "text/latex": "6.25",
            "text/plain": [
              "[1] 6.25"
            ]
          },
          "metadata": {}
        }
      ],
      "source": [
        "median(df_beltrano$Beltrano)"
      ]
    },
    {
      "cell_type": "markdown",
      "metadata": {
        "id": "nK27TxrkjQMl"
      },
      "source": [
        "### Obtendo a mediana em nosso dataset"
      ]
    },
    {
      "cell_type": "code",
      "execution_count": null,
      "metadata": {
        "id": "dJznpnjUjQMl",
        "colab": {
          "base_uri": "https://localhost:8080/",
          "height": 34
        },
        "outputId": "0ebf31b7-b756-40d4-c52b-31bba7eea07e"
      },
      "outputs": [
        {
          "output_type": "display_data",
          "data": {
            "text/html": [
              "&lt;NA&gt;"
            ],
            "text/markdown": "&lt;NA&gt;",
            "text/latex": "<NA>",
            "text/plain": [
              "[1] NA"
            ]
          },
          "metadata": {}
        }
      ],
      "source": [
        "median(dados$Renda)"
      ]
    },
    {
      "cell_type": "markdown",
      "metadata": {
        "id": "CmCu6BXQjQMo"
      },
      "source": [
        "## <font color=green>3.3 Moda</font>\n",
        "***\n",
        "\n",
        "Pode-se definir a moda como sendo o valor mais frequente de um conjunto de dados. A moda é bastante utilizada para dados qualitativos."
      ]
    },
    {
      "cell_type": "markdown",
      "metadata": {
        "id": "6figdzT9qN6m"
      },
      "source": [
        "### <font color=red>Documentações:\n",
        "\n",
        "- [**function**](https://www.rdocumentation.org/packages/base/versions/3.6.1/topics/function)"
      ]
    },
    {
      "cell_type": "code",
      "execution_count": null,
      "metadata": {
        "id": "BHibMzw8X7Id",
        "colab": {
          "base_uri": "https://localhost:8080/",
          "height": 317
        },
        "outputId": "e9e4ba18-306d-469a-c306-e9bb32bbd730"
      },
      "outputs": [
        {
          "output_type": "display_data",
          "data": {
            "text/html": [
              "<table class=\"dataframe\">\n",
              "<caption>A data.frame: 7 × 3</caption>\n",
              "<thead>\n",
              "\t<tr><th></th><th scope=col>Fulano</th><th scope=col>Beltrano</th><th scope=col>Sicrano</th></tr>\n",
              "\t<tr><th></th><th scope=col>&lt;dbl&gt;</th><th scope=col>&lt;dbl&gt;</th><th scope=col>&lt;dbl&gt;</th></tr>\n",
              "</thead>\n",
              "<tbody>\n",
              "\t<tr><th scope=row>Matemática</th><td> 8</td><td>10.0</td><td>7.5</td></tr>\n",
              "\t<tr><th scope=row>Português</th><td>10</td><td> 2.0</td><td>8.0</td></tr>\n",
              "\t<tr><th scope=row>Inglês</th><td> 4</td><td> 0.5</td><td>7.0</td></tr>\n",
              "\t<tr><th scope=row>Geografia</th><td> 8</td><td> 1.0</td><td>8.0</td></tr>\n",
              "\t<tr><th scope=row>História</th><td> 6</td><td> 3.0</td><td>8.0</td></tr>\n",
              "\t<tr><th scope=row>Física</th><td>10</td><td> 9.5</td><td>8.5</td></tr>\n",
              "\t<tr><th scope=row>Química</th><td> 8</td><td>10.0</td><td>7.0</td></tr>\n",
              "</tbody>\n",
              "</table>\n"
            ],
            "text/markdown": "\nA data.frame: 7 × 3\n\n| <!--/--> | Fulano &lt;dbl&gt; | Beltrano &lt;dbl&gt; | Sicrano &lt;dbl&gt; |\n|---|---|---|---|\n| Matemática |  8 | 10.0 | 7.5 |\n| Português | 10 |  2.0 | 8.0 |\n| Inglês |  4 |  0.5 | 7.0 |\n| Geografia |  8 |  1.0 | 8.0 |\n| História |  6 |  3.0 | 8.0 |\n| Física | 10 |  9.5 | 8.5 |\n| Química |  8 | 10.0 | 7.0 |\n\n",
            "text/latex": "A data.frame: 7 × 3\n\\begin{tabular}{r|lll}\n  & Fulano & Beltrano & Sicrano\\\\\n  & <dbl> & <dbl> & <dbl>\\\\\n\\hline\n\tMatemática &  8 & 10.0 & 7.5\\\\\n\tPortuguês & 10 &  2.0 & 8.0\\\\\n\tInglês &  4 &  0.5 & 7.0\\\\\n\tGeografia &  8 &  1.0 & 8.0\\\\\n\tHistória &  6 &  3.0 & 8.0\\\\\n\tFísica & 10 &  9.5 & 8.5\\\\\n\tQuímica &  8 & 10.0 & 7.0\\\\\n\\end{tabular}\n",
            "text/plain": [
              "           Fulano Beltrano Sicrano\n",
              "Matemática  8     10.0     7.5    \n",
              "Português  10      2.0     8.0    \n",
              "Inglês      4      0.5     7.0    \n",
              "Geografia   8      1.0     8.0    \n",
              "História    6      3.0     8.0    \n",
              "Física     10      9.5     8.5    \n",
              "Química     8     10.0     7.0    "
            ]
          },
          "metadata": {}
        }
      ],
      "source": [
        "# criando função para moda\n",
        "df"
      ]
    },
    {
      "cell_type": "code",
      "execution_count": null,
      "metadata": {
        "id": "79anODKTqN6m",
        "colab": {
          "base_uri": "https://localhost:8080/",
          "height": 34
        },
        "outputId": "d9ad05cb-6bea-44c6-fa78-7a8b2e378062"
      },
      "outputs": [
        {
          "output_type": "display_data",
          "data": {
            "text/html": [
              "<style>\n",
              ".list-inline {list-style: none; margin:0; padding: 0}\n",
              ".list-inline>li {display: inline-block}\n",
              ".list-inline>li:not(:last-child)::after {content: \"\\00b7\"; padding: 0 .5ex}\n",
              "</style>\n",
              "<ol class=list-inline><li>1</li><li>2</li><li>2</li><li>3</li><li>4</li><li>4</li><li>5</li><li>6</li><li>7</li><li>7</li></ol>\n"
            ],
            "text/markdown": "1. 1\n2. 2\n3. 2\n4. 3\n5. 4\n6. 4\n7. 5\n8. 6\n9. 7\n10. 7\n\n\n",
            "text/latex": "\\begin{enumerate*}\n\\item 1\n\\item 2\n\\item 2\n\\item 3\n\\item 4\n\\item 4\n\\item 5\n\\item 6\n\\item 7\n\\item 7\n\\end{enumerate*}\n",
            "text/plain": [
              " [1] 1 2 2 3 4 4 5 6 7 7"
            ]
          },
          "metadata": {}
        }
      ],
      "source": [
        "exemplo_moda = c(1, 2, 2, 3, 4, 4, 5, 6, 7, 7)\n",
        "exemplo_moda"
      ]
    },
    {
      "cell_type": "code",
      "execution_count": null,
      "metadata": {
        "id": "WYPfXXEzqN6m",
        "colab": {
          "base_uri": "https://localhost:8080/",
          "height": 72
        },
        "outputId": "9b9ae16c-6020-4900-c6a4-b45d516be9d2"
      },
      "outputs": [
        {
          "output_type": "display_data",
          "data": {
            "text/plain": [
              "exemplo_moda\n",
              "1 2 3 4 5 6 7 \n",
              "1 2 1 2 1 1 2 "
            ]
          },
          "metadata": {}
        }
      ],
      "source": [
        "freq = table(exemplo_moda)\n",
        "freq"
      ]
    },
    {
      "cell_type": "code",
      "execution_count": null,
      "metadata": {
        "id": "9sk2mwL7qN6m",
        "colab": {
          "base_uri": "https://localhost:8080/",
          "height": 72
        },
        "outputId": "c7352b47-205a-487b-dc08-0f2c9f58e23a"
      },
      "outputs": [
        {
          "output_type": "display_data",
          "data": {
            "text/plain": [
              "exemplo_moda\n",
              "2 4 7 \n",
              "2 2 2 "
            ]
          },
          "metadata": {}
        }
      ],
      "source": [
        "freq[freq == max(freq)]"
      ]
    },
    {
      "cell_type": "code",
      "execution_count": null,
      "metadata": {
        "id": "3RY0SWlVqN6m",
        "colab": {
          "base_uri": "https://localhost:8080/",
          "height": 34
        },
        "outputId": "fa29614f-d19e-40fe-d857-b64b2948a70f"
      },
      "outputs": [
        {
          "output_type": "display_data",
          "data": {
            "text/html": [
              "<style>\n",
              ".list-inline {list-style: none; margin:0; padding: 0}\n",
              ".list-inline>li {display: inline-block}\n",
              ".list-inline>li:not(:last-child)::after {content: \"\\00b7\"; padding: 0 .5ex}\n",
              "</style>\n",
              "<ol class=list-inline><li>'2'</li><li>'4'</li><li>'7'</li></ol>\n"
            ],
            "text/markdown": "1. '2'\n2. '4'\n3. '7'\n\n\n",
            "text/latex": "\\begin{enumerate*}\n\\item '2'\n\\item '4'\n\\item '7'\n\\end{enumerate*}\n",
            "text/plain": [
              "[1] \"2\" \"4\" \"7\""
            ]
          },
          "metadata": {}
        }
      ],
      "source": [
        "names(freq)[freq == max(freq)]"
      ]
    },
    {
      "cell_type": "code",
      "execution_count": null,
      "metadata": {
        "id": "Wxdcjm_MqN6m"
      },
      "outputs": [],
      "source": [
        "# função criada\n",
        "Moda = function(x) {\n",
        "  freq = table(x)\n",
        "  return(names(freq)[freq == max(freq)])\n",
        "}"
      ]
    },
    {
      "cell_type": "code",
      "execution_count": null,
      "metadata": {
        "id": "E8IrXUr9qN6m",
        "colab": {
          "base_uri": "https://localhost:8080/",
          "height": 34
        },
        "outputId": "e051d35d-d181-4d94-9541-76f61f88e5c8"
      },
      "outputs": [
        {
          "output_type": "display_data",
          "data": {
            "text/html": [
              "<style>\n",
              ".list-inline {list-style: none; margin:0; padding: 0}\n",
              ".list-inline>li {display: inline-block}\n",
              ".list-inline>li:not(:last-child)::after {content: \"\\00b7\"; padding: 0 .5ex}\n",
              "</style>\n",
              "<ol class=list-inline><li>'2'</li><li>'4'</li><li>'7'</li></ol>\n"
            ],
            "text/markdown": "1. '2'\n2. '4'\n3. '7'\n\n\n",
            "text/latex": "\\begin{enumerate*}\n\\item '2'\n\\item '4'\n\\item '7'\n\\end{enumerate*}\n",
            "text/plain": [
              "[1] \"2\" \"4\" \"7\""
            ]
          },
          "metadata": {}
        }
      ],
      "source": [
        "Moda(exemplo_moda)"
      ]
    },
    {
      "cell_type": "code",
      "execution_count": null,
      "metadata": {
        "id": "UiivGHoEqN6n",
        "colab": {
          "base_uri": "https://localhost:8080/",
          "height": 34
        },
        "outputId": "fd8bc595-64e3-4a53-9505-5946705463fc"
      },
      "outputs": [
        {
          "output_type": "display_data",
          "data": {
            "text/html": [
              "'8'"
            ],
            "text/markdown": "'8'",
            "text/latex": "'8'",
            "text/plain": [
              "[1] \"8\""
            ]
          },
          "metadata": {}
        }
      ],
      "source": [
        "Moda(df$Fulano)"
      ]
    },
    {
      "cell_type": "code",
      "execution_count": null,
      "metadata": {
        "id": "4qp1HwXhqN6n",
        "colab": {
          "base_uri": "https://localhost:8080/",
          "height": 34
        },
        "outputId": "27d9d115-3dab-43cd-e470-19ab0e9421c9"
      },
      "outputs": [
        {
          "output_type": "display_data",
          "data": {
            "text/html": [
              "'10'"
            ],
            "text/markdown": "'10'",
            "text/latex": "'10'",
            "text/plain": [
              "[1] \"10\""
            ]
          },
          "metadata": {}
        }
      ],
      "source": [
        "Moda(df$Beltrano)"
      ]
    },
    {
      "cell_type": "code",
      "execution_count": null,
      "metadata": {
        "id": "r17Gla3QqN6n",
        "colab": {
          "base_uri": "https://localhost:8080/",
          "height": 34
        },
        "outputId": "0553d262-5ebe-470d-c654-07f111d0ea8a"
      },
      "outputs": [
        {
          "output_type": "display_data",
          "data": {
            "text/html": [
              "'8'"
            ],
            "text/markdown": "'8'",
            "text/latex": "'8'",
            "text/plain": [
              "[1] \"8\""
            ]
          },
          "metadata": {}
        }
      ],
      "source": [
        "Moda(df$Sicrano)"
      ]
    },
    {
      "cell_type": "markdown",
      "metadata": {
        "id": "YwhBwz-JjQMr"
      },
      "source": [
        "### Obtendo a moda em nosso dataset"
      ]
    },
    {
      "cell_type": "code",
      "execution_count": null,
      "metadata": {
        "id": "ypJiItPcqN6n",
        "colab": {
          "base_uri": "https://localhost:8080/",
          "height": 34
        },
        "outputId": "4de20dbf-beb0-489f-aaf2-727bdcf8bb85"
      },
      "outputs": [
        {
          "output_type": "display_data",
          "data": {
            "text/html": [
              "'788'"
            ],
            "text/markdown": "'788'",
            "text/latex": "'788'",
            "text/plain": [
              "[1] \"788\""
            ]
          },
          "metadata": {}
        }
      ],
      "source": [
        "Moda(dados$Renda)"
      ]
    },
    {
      "cell_type": "code",
      "execution_count": null,
      "metadata": {
        "id": "BbwPo1NuqN6n",
        "colab": {
          "base_uri": "https://localhost:8080/",
          "height": 34
        },
        "outputId": "5b54876e-aa71-4307-efe9-51d6d92316a4"
      },
      "outputs": [
        {
          "output_type": "display_data",
          "data": {
            "text/html": [
              "<style>\n",
              ".list-inline {list-style: none; margin:0; padding: 0}\n",
              ".list-inline>li {display: inline-block}\n",
              ".list-inline>li:not(:last-child)::after {content: \"\\00b7\"; padding: 0 .5ex}\n",
              "</style>\n",
              "<ol class=list-inline><li>'1.708162716'</li><li>'1.708369705'</li><li>'1.753841591'</li></ol>\n"
            ],
            "text/markdown": "1. '1.708162716'\n2. '1.708369705'\n3. '1.753841591'\n\n\n",
            "text/latex": "\\begin{enumerate*}\n\\item '1.708162716'\n\\item '1.708369705'\n\\item '1.753841591'\n\\end{enumerate*}\n",
            "text/plain": [
              "[1] \"1.708162716\" \"1.708369705\" \"1.753841591\""
            ]
          },
          "metadata": {}
        }
      ],
      "source": [
        "Moda(dados$Altura)"
      ]
    },
    {
      "cell_type": "markdown",
      "metadata": {
        "id": "_-0gjQWFjQMu"
      },
      "source": [
        "## <font color=green>3.4 Relação entre média, mediana e moda</font>\n",
        "***"
      ]
    },
    {
      "cell_type": "markdown",
      "metadata": {
        "id": "0S7pa_jLjQMu"
      },
      "source": [
        "<img src='https://caelum-online-public.s3.amazonaws.com/1177-estatistica-parte1/01/img004.png' width='80%'>"
      ]
    },
    {
      "cell_type": "markdown",
      "metadata": {
        "id": "6IgQBnvJqN6n"
      },
      "source": [
        "### <font color=red>Documentações:\n",
        "    \n",
        "- [**as.numeric**](https://www.rdocumentation.org/packages/base/versions/3.6.1/topics/numeric)"
      ]
    },
    {
      "cell_type": "markdown",
      "metadata": {
        "id": "b7ZchyFsjQMu"
      },
      "source": [
        "### Avaliando a variável RENDA"
      ]
    },
    {
      "cell_type": "code",
      "execution_count": null,
      "metadata": {
        "id": "Va_cVti3qN6o",
        "colab": {
          "base_uri": "https://localhost:8080/",
          "height": 511
        },
        "outputId": "8818eb8b-95a7-4521-dad7-2bf28af3660d"
      },
      "outputs": [
        {
          "output_type": "stream",
          "name": "stderr",
          "text": [
            "Warning message:\n",
            "“Removed 1 rows containing non-finite values (stat_bin).”\n",
            "Warning message:\n",
            "“Removed 1 rows containing non-finite values (stat_density).”\n"
          ]
        },
        {
          "output_type": "display_data",
          "data": {
            "text/plain": [
              "plot without title"
            ],
            "image/png": "[encoded data removed]"
          },
          "metadata": {
            "image/png": {
              "width": 1200,
              "height": 420
            }
          }
        }
      ],
      "source": [
        "ggplot(dados[dados$Renda < 20000, ], aes(x = Renda, y = ..density..)) + \n",
        "    geom_histogram(binwidth = 500) + \n",
        "    geom_density(color = 'green')"
      ]
    },
    {
      "cell_type": "code",
      "execution_count": null,
      "metadata": {
        "id": "L__UqPP3qN6o",
        "colab": {
          "base_uri": "https://localhost:8080/",
          "height": 34
        },
        "outputId": "b0c4c430-149a-456d-ab9b-bcc634677279"
      },
      "outputs": [
        {
          "output_type": "display_data",
          "data": {
            "text/html": [
              "788"
            ],
            "text/markdown": "788",
            "text/latex": "788",
            "text/plain": [
              "[1] 788"
            ]
          },
          "metadata": {}
        }
      ],
      "source": [
        "moda = as.numeric(Moda(dados$Renda))\n",
        "moda"
      ]
    },
    {
      "cell_type": "code",
      "execution_count": null,
      "metadata": {
        "id": "BvMIzYz7qN6o",
        "colab": {
          "base_uri": "https://localhost:8080/",
          "height": 34
        },
        "outputId": "410375a4-093b-4774-a1ef-aec6ae91e544"
      },
      "outputs": [
        {
          "output_type": "display_data",
          "data": {
            "text/html": [
              "&lt;NA&gt;"
            ],
            "text/markdown": "&lt;NA&gt;",
            "text/latex": "<NA>",
            "text/plain": [
              "[1] NA"
            ]
          },
          "metadata": {}
        }
      ],
      "source": [
        "mediana = median(dados$Renda)\n",
        "mediana"
      ]
    },
    {
      "cell_type": "code",
      "execution_count": null,
      "metadata": {
        "id": "d7h3KIJjqN6o",
        "colab": {
          "base_uri": "https://localhost:8080/",
          "height": 34
        },
        "outputId": "4dc5cfaa-8ce1-46ba-e366-9abdb28eca0a"
      },
      "outputs": [
        {
          "output_type": "display_data",
          "data": {
            "text/html": [
              "&lt;NA&gt;"
            ],
            "text/markdown": "&lt;NA&gt;",
            "text/latex": "<NA>",
            "text/plain": [
              "[1] NA"
            ]
          },
          "metadata": {}
        }
      ],
      "source": [
        "media =  mean(dados$Renda)\n",
        "media"
      ]
    },
    {
      "cell_type": "code",
      "execution_count": null,
      "metadata": {
        "id": "nX6lnCBujQM0"
      },
      "outputs": [],
      "source": [
        ""
      ]
    },
    {
      "cell_type": "markdown",
      "metadata": {
        "id": "FnLQAxSijQM1"
      },
      "source": [
        "***"
      ]
    },
    {
      "cell_type": "markdown",
      "metadata": {
        "id": "WazchssNjQM1"
      },
      "source": [
        "### Avaliando a variável ALTURA"
      ]
    },
    {
      "cell_type": "code",
      "execution_count": null,
      "metadata": {
        "id": "41uJsCk9jQM2",
        "colab": {
          "base_uri": "https://localhost:8080/",
          "height": 548
        },
        "outputId": "e309371a-85ee-4f1f-8b55-a9ea74e06423"
      },
      "outputs": [
        {
          "output_type": "stream",
          "name": "stderr",
          "text": [
            "`stat_bin()` using `bins = 30`. Pick better value with `binwidth`.\n",
            "\n",
            "Warning message:\n",
            "“Removed 1 rows containing non-finite values (stat_bin).”\n",
            "Warning message:\n",
            "“Removed 1 rows containing non-finite values (stat_density).”\n"
          ]
        },
        {
          "output_type": "display_data",
          "data": {
            "text/plain": [
              "plot without title"
            ],
            "image/png": "[encoded data removed]"
          },
          "metadata": {
            "image/png": {
              "width": 1200,
              "height": 420
            }
          }
        }
      ],
      "source": [
        "ggplot(dados, aes(x = Altura, y = ..density..)) + \n",
        "    geom_histogram() + \n",
        "    geom_density(color = 'green')"
      ]
    },
    {
      "cell_type": "code",
      "execution_count": null,
      "metadata": {
        "id": "EkgerGuXjQM3",
        "colab": {
          "base_uri": "https://localhost:8080/",
          "height": 34
        },
        "outputId": "80ff6c97-9a98-4fa8-c1f0-4cdf4c972677"
      },
      "outputs": [
        {
          "output_type": "display_data",
          "data": {
            "text/html": [
              "<style>\n",
              ".list-inline {list-style: none; margin:0; padding: 0}\n",
              ".list-inline>li {display: inline-block}\n",
              ".list-inline>li:not(:last-child)::after {content: \"\\00b7\"; padding: 0 .5ex}\n",
              "</style>\n",
              "<ol class=list-inline><li>1.708162716</li><li>1.708369705</li><li>1.753841591</li></ol>\n"
            ],
            "text/markdown": "1. 1.708162716\n2. 1.708369705\n3. 1.753841591\n\n\n",
            "text/latex": "\\begin{enumerate*}\n\\item 1.708162716\n\\item 1.708369705\n\\item 1.753841591\n\\end{enumerate*}\n",
            "text/plain": [
              "[1] 1.708163 1.708370 1.753842"
            ]
          },
          "metadata": {}
        }
      ],
      "source": [
        "moda = as.numeric(Moda(dados$Altura))\n",
        "moda"
      ]
    },
    {
      "cell_type": "code",
      "execution_count": null,
      "metadata": {
        "id": "Jj6MFUXbjQM4",
        "colab": {
          "base_uri": "https://localhost:8080/",
          "height": 34
        },
        "outputId": "68323c13-c250-4dd1-ec43-61311086cc64"
      },
      "outputs": [
        {
          "output_type": "display_data",
          "data": {
            "text/html": [
              "&lt;NA&gt;"
            ],
            "text/markdown": "&lt;NA&gt;",
            "text/latex": "<NA>",
            "text/plain": [
              "[1] NA"
            ]
          },
          "metadata": {}
        }
      ],
      "source": [
        "mediana = median(dados$Renda)\n",
        "mediana"
      ]
    },
    {
      "cell_type": "code",
      "execution_count": null,
      "metadata": {
        "id": "84X-3AzvjQM5",
        "colab": {
          "base_uri": "https://localhost:8080/",
          "height": 34
        },
        "outputId": "8fa81cea-b5b8-48d5-ad08-49fc8b1c1586"
      },
      "outputs": [
        {
          "output_type": "display_data",
          "data": {
            "text/html": [
              "&lt;NA&gt;"
            ],
            "text/markdown": "&lt;NA&gt;",
            "text/latex": "<NA>",
            "text/plain": [
              "[1] NA"
            ]
          },
          "metadata": {}
        }
      ],
      "source": [
        "media = mean(dados$Altura)\n",
        "media"
      ]
    },
    {
      "cell_type": "markdown",
      "metadata": {
        "id": "PJIMB8i8jQM6"
      },
      "source": [
        "***"
      ]
    },
    {
      "cell_type": "markdown",
      "metadata": {
        "id": "eS4I2H7jjQM7"
      },
      "source": [
        "### Avaliando a variável ANOS DE ESTUDO"
      ]
    },
    {
      "cell_type": "code",
      "execution_count": null,
      "metadata": {
        "id": "NPCcjXqPjQM8",
        "colab": {
          "base_uri": "https://localhost:8080/",
          "height": 548
        },
        "outputId": "1fc81a0c-3731-414d-d943-c4e7d393629e"
      },
      "outputs": [
        {
          "output_type": "stream",
          "name": "stderr",
          "text": [
            "`stat_bin()` using `bins = 30`. Pick better value with `binwidth`.\n",
            "\n",
            "Warning message:\n",
            "“Removed 1 rows containing non-finite values (stat_bin).”\n",
            "Warning message:\n",
            "“Removed 1 rows containing non-finite values (stat_density).”\n"
          ]
        },
        {
          "output_type": "display_data",
          "data": {
            "text/plain": [
              "plot without title"
            ],
            "image/png": "[encoded data removed]"
          },
          "metadata": {
            "image/png": {
              "width": 1200,
              "height": 420
            }
          }
        }
      ],
      "source": [
        "ggplot(dados, aes(x = Anos.de.Estudo, y = ..density..)) + \n",
        "    geom_histogram() + \n",
        "    geom_density(color = 'green')"
      ]
    },
    {
      "cell_type": "code",
      "execution_count": null,
      "metadata": {
        "id": "PjfvPYUajQM9",
        "colab": {
          "base_uri": "https://localhost:8080/",
          "height": 34
        },
        "outputId": "ba84a06c-3d51-4dab-df98-57fdb34a2649"
      },
      "outputs": [
        {
          "output_type": "display_data",
          "data": {
            "text/html": [
              "12"
            ],
            "text/markdown": "12",
            "text/latex": "12",
            "text/plain": [
              "[1] 12"
            ]
          },
          "metadata": {}
        }
      ],
      "source": [
        "moda = as.numeric(Moda(dados$Anos.de.Estudo))\n",
        "moda"
      ]
    },
    {
      "cell_type": "code",
      "execution_count": null,
      "metadata": {
        "id": "VF_Bj8x2jQM-",
        "colab": {
          "base_uri": "https://localhost:8080/",
          "height": 34
        },
        "outputId": "d1bab351-89fe-431f-8125-4f510dab6e0e"
      },
      "outputs": [
        {
          "output_type": "display_data",
          "data": {
            "text/html": [
              "&lt;NA&gt;"
            ],
            "text/markdown": "&lt;NA&gt;",
            "text/latex": "<NA>",
            "text/plain": [
              "[1] NA"
            ]
          },
          "metadata": {}
        }
      ],
      "source": [
        "mediana = median(dados$Anos.de.Estudo)\n",
        "mediana"
      ]
    },
    {
      "cell_type": "code",
      "execution_count": null,
      "metadata": {
        "id": "ohqUZ5RsjQNA",
        "colab": {
          "base_uri": "https://localhost:8080/",
          "height": 34
        },
        "outputId": "94be18e7-9a6a-4b23-bfd7-bccc477ad795"
      },
      "outputs": [
        {
          "output_type": "display_data",
          "data": {
            "text/html": [
              "&lt;NA&gt;"
            ],
            "text/markdown": "&lt;NA&gt;",
            "text/latex": "<NA>",
            "text/plain": [
              "[1] NA"
            ]
          },
          "metadata": {}
        }
      ],
      "source": [
        "media = mean(dados$Anos.de.Estudo)\n",
        "media"
      ]
    },
    {
      "cell_type": "code",
      "execution_count": null,
      "metadata": {
        "id": "AwM8UvApjQNC",
        "colab": {
          "base_uri": "https://localhost:8080/",
          "height": 52
        },
        "outputId": "9fe0fe92-3d93-424f-8597-22dd9cf7e9a8"
      },
      "outputs": [
        {
          "output_type": "display_data",
          "data": {
            "text/html": [
              "&lt;NA&gt;"
            ],
            "text/markdown": "&lt;NA&gt;",
            "text/latex": "<NA>",
            "text/plain": [
              "[1] NA"
            ]
          },
          "metadata": {}
        },
        {
          "output_type": "display_data",
          "data": {
            "text/html": [
              "&lt;NA&gt;"
            ],
            "text/markdown": "&lt;NA&gt;",
            "text/latex": "<NA>",
            "text/plain": [
              "[1] NA"
            ]
          },
          "metadata": {}
        }
      ],
      "source": [
        "moda > mediana\n",
        "mediana > media"
      ]
    },
    {
      "cell_type": "markdown",
      "metadata": {
        "id": "vcaIo45UjQND"
      },
      "source": [
        "# <font color=green>4 MEDIDAS SEPARATRIZES</font>\n",
        "***"
      ]
    },
    {
      "cell_type": "markdown",
      "metadata": {
        "id": "f4XrApNxjQNE"
      },
      "source": [
        "## <font color=green>4.1 Quartis, decis e percentis</font>\n",
        "***\n",
        "\n",
        "Há uma série de medidas de posição semelhantes na sua concepção à mediana, embora não sejam medidas de tendência central. Como se sabe, a mediana divide a distribuição em duas partes iguais quanto ao número de elementos de cada parte. Já os quartis permitem dividir a distribuição em quatro partes iguais quanto ao número de elementos de cada uma; os decis em dez partes e os centis em cem partes iguais."
      ]
    },
    {
      "cell_type": "markdown",
      "metadata": {
        "id": "rprCAFzuqN6r"
      },
      "source": [
        "### <font color=red>Documentações:\n",
        "\n",
        "- [**quantile**](https://www.rdocumentation.org/packages/stats/versions/3.6.1/topics/quantile)\n",
        "- [**for**](https://www.rdocumentation.org/packages/base/versions/3.6.1/topics/Control)\n",
        "- [**length**](https://www.rdocumentation.org/packages/base/versions/3.6.1/topics/length)"
      ]
    },
    {
      "cell_type": "code",
      "execution_count": null,
      "metadata": {
        "id": "VmbdUO-ujQNE",
        "colab": {
          "base_uri": "https://localhost:8080/",
          "height": 172
        },
        "outputId": "02cb5541-4e0c-4728-a749-d339691143bf"
      },
      "outputs": [
        {
          "output_type": "error",
          "ename": "ERROR",
          "evalue": "ignored",
          "traceback": [
            "Error in quantile.default(dados$Renda, c(0.25, 0.5, 0.75)): missing values and NaN's not allowed if 'na.rm' is FALSE\nTraceback:\n",
            "1. quantile(dados$Renda, c(0.25, 0.5, 0.75))",
            "2. quantile.default(dados$Renda, c(0.25, 0.5, 0.75))",
            "3. stop(\"missing values and NaN's not allowed if 'na.rm' is FALSE\")"
          ]
        }
      ],
      "source": [
        "quantile(dados$Renda, c(0.25, 0.5, 0.75))"
      ]
    },
    {
      "cell_type": "code",
      "execution_count": null,
      "metadata": {
        "id": "VUGChZ9AqN6s"
      },
      "outputs": [],
      "source": [
        ""
      ]
    },
    {
      "cell_type": "code",
      "execution_count": null,
      "metadata": {
        "id": "EpRKboV5jQNG"
      },
      "outputs": [],
      "source": [
        ""
      ]
    },
    {
      "cell_type": "code",
      "execution_count": null,
      "metadata": {
        "id": "uesiR5PwqN6s"
      },
      "outputs": [],
      "source": [
        ""
      ]
    },
    {
      "cell_type": "code",
      "execution_count": null,
      "metadata": {
        "id": "9pXUBtD2qN6s"
      },
      "outputs": [],
      "source": [
        "ggplot(data = \"#\", aes(x = \"#\")) + \n",
        "    geom_histogram(\n",
        "        aes(y = \"#\"), \n",
        "        bins = 10\n",
        "    ) + \n",
        "    geom_freqpoly(\n",
        "        aes(y = \"#\"), \n",
        "        color = 'green'\n",
        "    )"
      ]
    },
    {
      "cell_type": "code",
      "execution_count": null,
      "metadata": {
        "id": "DhGJm1G9qN6s"
      },
      "outputs": [],
      "source": [
        ""
      ]
    },
    {
      "cell_type": "markdown",
      "metadata": {
        "id": "fnRpHM2HqN6s"
      },
      "source": [
        "### Classificação percentual"
      ]
    },
    {
      "cell_type": "code",
      "execution_count": null,
      "metadata": {
        "id": "btI1HNJJqN6s"
      },
      "outputs": [],
      "source": [
        ""
      ]
    },
    {
      "cell_type": "markdown",
      "metadata": {
        "id": "6gIeZO_CjQNJ"
      },
      "source": [
        "## <font color=green>4.2 Box-plot</font>\n",
        "***\n",
        "\n",
        "O box plot dá uma idéia da posição, dispersão, assimetria, caudas e dados discrepantes (outliers). A posição central é dada pela mediana e a dispersão por $IIQ$. As posições relativas de $Q1$, $Mediana$ e $Q3$ dão uma noção da simetria da distribuição. Os comprimentos das cauda são dados pelas linhas que vão do retângulo aos valores remotos e pelos valores atípicos."
      ]
    },
    {
      "cell_type": "markdown",
      "metadata": {
        "id": "iuybu-u0qN6t"
      },
      "source": [
        "#### <font color=red>Documentações:\n",
        "\n",
        "- [**geom_boxplot**](https://www.rdocumentation.org/packages/ggplot2/versions/3.2.1/topics/geom_boxplot)\n",
        "- [**factor**](https://www.rdocumentation.org/packages/base/versions/3.6.1/topics/factor)"
      ]
    },
    {
      "cell_type": "markdown",
      "metadata": {
        "id": "VeiTE_gvjQNK"
      },
      "source": [
        "<img src='https://caelum-online-public.s3.amazonaws.com/1177-estatistica-parte1/01/img005.png' width='65%'>"
      ]
    },
    {
      "cell_type": "code",
      "execution_count": null,
      "metadata": {
        "id": "9SAmFd-vqN6t"
      },
      "outputs": [],
      "source": [
        "sexo = c(\n",
        "    'Masculino', \n",
        "    'Feminino'\n",
        ")\n",
        "cor = c(\n",
        "    'Indígena', \n",
        "    'Branca', \n",
        "    'Preta', \n",
        "    'Amarela', \n",
        "    'Parda'\n",
        ")\n",
        "anos_de_estudo = c(\n",
        "    'Sem instrução e menos de 1 ano', \n",
        "    '1 ano', \n",
        "    '2 anos', \n",
        "    '3 anos', \n",
        "    '4 anos', \n",
        "    '5 anos', \n",
        "    '6 anos', \n",
        "    '7 anos', \n",
        "    '8 anos', \n",
        "    '9 anos', \n",
        "    '10 anos', \n",
        "    '11 anos', \n",
        "    '12 anos', \n",
        "    '13 anos', \n",
        "    '14 anos', \n",
        "    '15 anos ou mais', \n",
        "    'Não determinados'\n",
        ")"
      ]
    },
    {
      "cell_type": "code",
      "execution_count": null,
      "metadata": {
        "id": "Vvwv0PD2qN6t"
      },
      "outputs": [],
      "source": [
        "ggplot(data = \"#\", aes(x = \"#\", y = \"#\")) + \n",
        "    stat_boxplot(geom ='errorbar', width = 0.4) + \n",
        "    geom_boxplot(fill = '#3274A1') + \n",
        "    coord_flip() +\n",
        "    ylab(\"Metros\") + \n",
        "    xlab(\"\") + \n",
        "    ggtitle('Box-plot Alturas') +\n",
        "    formatos"
      ]
    },
    {
      "cell_type": "code",
      "execution_count": null,
      "metadata": {
        "id": "qF5WO2p2qN6t"
      },
      "outputs": [],
      "source": [
        "ggplot(data = \"#\", aes(x = \"#\", y = \"#\", group = \"#\")) + \n",
        "    stat_boxplot(geom ='errorbar', width = 0.4) + \n",
        "    geom_boxplot(fill = c('#3274A1', \"orange\")) + \n",
        "    coord_flip() +\n",
        "    ylab(\"Metros\") + \n",
        "    xlab(\"Sexo\") + \n",
        "    ggtitle('Box-plot Alturas X Sexo') +\n",
        "    formatos"
      ]
    },
    {
      "cell_type": "code",
      "execution_count": null,
      "metadata": {
        "id": "xbg6EyikqN6t"
      },
      "outputs": [],
      "source": [
        ""
      ]
    },
    {
      "cell_type": "code",
      "execution_count": null,
      "metadata": {
        "id": "tFLOw9CVqN6t"
      },
      "outputs": [],
      "source": [
        ""
      ]
    },
    {
      "cell_type": "code",
      "execution_count": null,
      "metadata": {
        "id": "quAFuCLMqN6t"
      },
      "outputs": [],
      "source": [
        "ggplot(data = \"#\", aes(x = \"#\", y = \"#\")) + \n",
        "    stat_boxplot(geom ='errorbar', width = 0.4) + \n",
        "    geom_boxplot(fill = c('#3274A1', \"orange\")) + \n",
        "    coord_flip() +\n",
        "    ylab(\"Metros\") + \n",
        "    xlab(\"Sexo\") + \n",
        "    ggtitle('Box-plot Alturas X Sexo') +\n",
        "    formatos"
      ]
    },
    {
      "cell_type": "code",
      "execution_count": null,
      "metadata": {
        "id": "OhU4sXrSqN6u"
      },
      "outputs": [],
      "source": [
        "ggplot(data = \"#\", aes(x = \"#\", y = \"#\")) + \n",
        "    stat_boxplot(geom ='errorbar', width = 0.4) + \n",
        "    geom_boxplot(fill = '#3274A1') + \n",
        "    coord_flip() +\n",
        "    ylab(\"R$\") + \n",
        "    xlab(\"\") + \n",
        "    ggtitle('Box-plot Renda') +\n",
        "    formatos"
      ]
    },
    {
      "cell_type": "code",
      "execution_count": null,
      "metadata": {
        "id": "hnTATC4BqN6u"
      },
      "outputs": [],
      "source": [
        "ggplot(data = \"#\", aes(x = \"#\", y = \"#\")) + \n",
        "    stat_boxplot(geom ='errorbar', width = 0.4) + \n",
        "    geom_boxplot(fill = c('#3274A1', \"orange\")) + \n",
        "    coord_flip() +\n",
        "    ylab(\"R$\") + \n",
        "    xlab(\"Sexo\") + \n",
        "    ggtitle('Box-plot Renda X Sexo') +\n",
        "    formatos"
      ]
    },
    {
      "cell_type": "code",
      "execution_count": null,
      "metadata": {
        "id": "3bIPu4C9qN6u"
      },
      "outputs": [],
      "source": [
        ""
      ]
    },
    {
      "cell_type": "code",
      "execution_count": null,
      "metadata": {
        "id": "JSxOgovOqN6u"
      },
      "outputs": [],
      "source": [
        ""
      ]
    },
    {
      "cell_type": "code",
      "execution_count": null,
      "metadata": {
        "id": "orZQKXeJqN6u"
      },
      "outputs": [],
      "source": [
        "ggplot(data = \"#\", aes(x = \"#\", y = \"#\")) + \n",
        "    stat_boxplot(geom ='errorbar', width = 0.4) + \n",
        "    geom_boxplot(fill = '#3274A1') + \n",
        "    coord_flip() +\n",
        "    ylab(\"Anos\") + \n",
        "    xlab(\"\") + \n",
        "    ggtitle('Box-plot Anos de Estudo') +\n",
        "    formatos"
      ]
    },
    {
      "cell_type": "code",
      "execution_count": null,
      "metadata": {
        "id": "_RR45o0EqN6u"
      },
      "outputs": [],
      "source": [
        "ggplot(data = \"#\", aes(x = \"#\", y = \"#\")) + \n",
        "    stat_boxplot(geom ='errorbar', width = 0.4) + \n",
        "    geom_boxplot(fill = c('#3274A1', \"orange\")) + \n",
        "    coord_flip() +\n",
        "    ylab(\"Anos\") + \n",
        "    xlab(\"Sexo\") + \n",
        "    ggtitle('Box-plot Anos de Estudo X Sexo') +\n",
        "    formatos"
      ]
    },
    {
      "cell_type": "markdown",
      "metadata": {
        "id": "amloMZwVjQNN"
      },
      "source": [
        "<img src='https://caelum-online-public.s3.amazonaws.com/1177-estatistica-parte1/01/img006.png' width='80%'>"
      ]
    },
    {
      "cell_type": "markdown",
      "metadata": {
        "id": "aJ6v_NI9jQNN"
      },
      "source": [
        "# <font color=green>5 MEDIDAS DE DISPERSÃO</font>\n",
        "***\n",
        "\n",
        "Embora as medidas de posição forneçam uma sumarização bastante importante dos dados, elas podem não ser suficientes para caracterizar conjuntos distintos, especialmente quando as observações de determinada distribuição apresentarem dados muito dispersos."
      ]
    },
    {
      "cell_type": "markdown",
      "metadata": {
        "id": "D6xVxAQ7jQNO"
      },
      "source": [
        "## <font color=green>5.1 Desvio médio absoluto</font>\n",
        "***\n",
        "\n",
        "\n",
        "# $$DM = \\frac 1n\\sum_{i=1}^{n}|X_i-\\bar{X}|$$"
      ]
    },
    {
      "cell_type": "markdown",
      "metadata": {
        "id": "CPs-csOiqN6v"
      },
      "source": [
        "### <font color=red>Documentações:\n",
        "\n",
        "- [**sum**](https://www.rdocumentation.org/packages/base/versions/3.6.1/topics/sum)\n",
        "- [**abs**](https://www.rdocumentation.org/packages/base/versions/3.6.1/topics/MathFun)\n",
        "- [**DescTools**](https://www.rdocumentation.org/packages/DescTools/versions/0.99.30)\n",
        "- [**MeanAD**](https://www.rdocumentation.org/packages/DescTools/versions/0.99.30/topics/MeanAD)"
      ]
    },
    {
      "cell_type": "code",
      "execution_count": null,
      "metadata": {
        "id": "0sL31blV7nz3"
      },
      "outputs": [],
      "source": [
        ""
      ]
    },
    {
      "cell_type": "code",
      "execution_count": null,
      "metadata": {
        "id": "FFPq7CFJqN6v"
      },
      "outputs": [],
      "source": [
        ""
      ]
    },
    {
      "cell_type": "code",
      "execution_count": null,
      "metadata": {
        "id": "8_Q2tOTmjQNO"
      },
      "outputs": [],
      "source": [
        ""
      ]
    },
    {
      "cell_type": "code",
      "execution_count": null,
      "metadata": {
        "id": "NAvCVYq1qN6v"
      },
      "outputs": [],
      "source": [
        ""
      ]
    },
    {
      "cell_type": "code",
      "execution_count": null,
      "metadata": {
        "id": "OiWDTw0ljQNQ"
      },
      "outputs": [],
      "source": [
        ""
      ]
    },
    {
      "cell_type": "code",
      "execution_count": null,
      "metadata": {
        "id": "qQbjktz5jQNR"
      },
      "outputs": [],
      "source": [
        ""
      ]
    },
    {
      "cell_type": "code",
      "execution_count": null,
      "metadata": {
        "id": "d0Rl_PjQqN6v"
      },
      "outputs": [],
      "source": [
        "ggplot(data = notas_fulano, aes(x = row.names(notas_fulano), y = Fulano)) + \n",
        "    geom_point() + \n",
        "    geom_hline(yintercept = mean(notas_fulano$Fulano), color = 'red') + \n",
        "    geom_segment(aes(x = 1, y = 10, xend = 1, yend = mean(notas_fulano$Fulano))) + \n",
        "    geom_segment(aes(x = 2, y = 8, xend = 2, yend = mean(notas_fulano$Fulano))) + \n",
        "    geom_segment(aes(x = 3, y = 6, xend = 3, yend = mean(notas_fulano$Fulano))) + \n",
        "    geom_segment(aes(x = 4, y = 4, xend = 4, yend = mean(notas_fulano$Fulano))) + \n",
        "    geom_segment(aes(x = 5, y = 8, xend = 5, yend = mean(notas_fulano$Fulano))) + \n",
        "    geom_segment(aes(x = 6, y = 10, xend = 6, yend = mean(notas_fulano$Fulano))) + \n",
        "    geom_segment(aes(x = 7, y = 8, xend = 7, yend = mean(notas_fulano$Fulano)))"
      ]
    },
    {
      "cell_type": "code",
      "execution_count": null,
      "metadata": {
        "id": "m4buiQWF01xt"
      },
      "outputs": [],
      "source": [
        ""
      ]
    },
    {
      "cell_type": "markdown",
      "metadata": {
        "id": "X58FHsM8qN6w"
      },
      "source": [
        "### Instalando o pacote DescTools"
      ]
    },
    {
      "cell_type": "code",
      "execution_count": null,
      "metadata": {
        "id": "UUuMNuXvqN6w"
      },
      "outputs": [],
      "source": [
        ""
      ]
    },
    {
      "cell_type": "code",
      "execution_count": null,
      "metadata": {
        "id": "Sj9UUpSeqN6w"
      },
      "outputs": [],
      "source": [
        ""
      ]
    },
    {
      "cell_type": "code",
      "execution_count": null,
      "metadata": {
        "id": "1PEJ_LUn01eV"
      },
      "outputs": [],
      "source": [
        ""
      ]
    },
    {
      "cell_type": "markdown",
      "metadata": {
        "id": "jSKfnKwEjQNW"
      },
      "source": [
        "## <font color=green>5.2 Variância</font>\n",
        "***"
      ]
    },
    {
      "cell_type": "markdown",
      "metadata": {
        "id": "tHD3yNqzjQNW"
      },
      "source": [
        "### Variância\n",
        "\n",
        "A variância é construída a partir das diferenças entre cada observação e a média dos dados, ou seja, o desvio em torno da média. No cálculo da variância, os desvios em torno da média são elevados ao quadrado."
      ]
    },
    {
      "cell_type": "markdown",
      "metadata": {
        "id": "WrCn9hw0jQNX"
      },
      "source": [
        "### Variância populacional\n",
        "\n",
        "# $$\\sigma^2 = \\frac 1n\\sum_{i=1}^{n}(X_i-\\mu)^2$$"
      ]
    },
    {
      "cell_type": "markdown",
      "metadata": {
        "id": "jV5mQT_djQNX"
      },
      "source": [
        "### Variância amostral\n",
        "\n",
        "# $$S^2 = \\frac 1{n-1}\\sum_{i=1}^{n}(X_i-\\bar{X})^2$$"
      ]
    },
    {
      "cell_type": "markdown",
      "metadata": {
        "id": "BjouxtlUqN6w"
      },
      "source": [
        "### <font color=red>Documentações:\n",
        "\n",
        "- [**var**](https://www.rdocumentation.org/packages/stats/versions/3.6.1/topics/cor)"
      ]
    },
    {
      "cell_type": "code",
      "execution_count": null,
      "metadata": {
        "id": "4tlbCQeujQNZ"
      },
      "outputs": [],
      "source": [
        ""
      ]
    },
    {
      "cell_type": "code",
      "execution_count": null,
      "metadata": {
        "id": "oCcAfoIOjQNa"
      },
      "outputs": [],
      "source": [
        ""
      ]
    },
    {
      "cell_type": "code",
      "execution_count": null,
      "metadata": {
        "id": "EyrfPHLtjQNb"
      },
      "outputs": [],
      "source": [
        ""
      ]
    },
    {
      "cell_type": "markdown",
      "metadata": {
        "id": "wQl_CsytjQNg"
      },
      "source": [
        "## <font color=green>5.3 Desvio padrão</font>\n",
        "***\n",
        "\n",
        "Uma das restrições da variância é o fato de fornecer medidas em quadrados das unidades originais - a variância de medidas de comprimento, por exemplo, é em unidades de área. Logo, o fato de as unidades serem diferentes dificulta a comparação da dispersão com as variáveis que a definem. Um modo de eliminar essa dificuldade é considerar sua raiz quadrada."
      ]
    },
    {
      "cell_type": "markdown",
      "metadata": {
        "id": "X9w1Iqt3jQNg"
      },
      "source": [
        "### Desvio padrão populacional\n",
        "\n",
        "# $$\\sigma = \\sqrt{\\frac 1n\\sum_{i=1}^{n}(X_i-\\mu)^2} \\Longrightarrow \\sigma = \\sqrt{\\sigma^2}$$"
      ]
    },
    {
      "cell_type": "markdown",
      "metadata": {
        "id": "D3J4MvMpjQNg"
      },
      "source": [
        "### Desvio padrão amostral\n",
        "\n",
        "# $$S = \\sqrt{\\frac 1{n-1}\\sum_{i=1}^{n}(X_i-\\bar{X})^2} \\Longrightarrow S = \\sqrt{S^2}$$"
      ]
    },
    {
      "cell_type": "markdown",
      "metadata": {
        "id": "DT84D7VeqN6x"
      },
      "source": [
        "### <font color=red>Documentações:\n",
        "\n",
        "- [**sd**](https://www.rdocumentation.org/packages/stats/versions/3.6.1/topics/sd)\n",
        "- [**summary**](https://www.rdocumentation.org/packages/base/versions/3.6.1/topics/summary)"
      ]
    },
    {
      "cell_type": "code",
      "execution_count": null,
      "metadata": {
        "id": "2di6iLFaSPda"
      },
      "outputs": [],
      "source": [
        ""
      ]
    },
    {
      "cell_type": "code",
      "execution_count": null,
      "metadata": {
        "id": "BMTx9yKHSPON"
      },
      "outputs": [],
      "source": [
        ""
      ]
    },
    {
      "cell_type": "code",
      "execution_count": null,
      "metadata": {
        "id": "_PeQtqbdjQNh"
      },
      "outputs": [],
      "source": [
        ""
      ]
    },
    {
      "cell_type": "code",
      "execution_count": null,
      "metadata": {
        "id": "5LYOKy25jQNi"
      },
      "outputs": [],
      "source": [
        ""
      ]
    },
    {
      "cell_type": "code",
      "execution_count": null,
      "metadata": {
        "id": "G8vorygCjQNk"
      },
      "outputs": [],
      "source": [
        ""
      ]
    },
    {
      "cell_type": "code",
      "execution_count": null,
      "metadata": {
        "id": "01op3BEvjQNl"
      },
      "outputs": [],
      "source": [
        ""
      ]
    },
    {
      "cell_type": "code",
      "execution_count": null,
      "metadata": {
        "id": "aiUvZluhUx-0"
      },
      "outputs": [],
      "source": [
        ""
      ]
    }
  ],
  "metadata": {
    "colab": {
      "name": "Curso_de_Estatística_Parte_1_R.ipynb",
      "provenance": []
    },
    "kernelspec": {
      "display_name": "R",
      "language": "R",
      "name": "ir"
    },
    "language_info": {
      "codemirror_mode": "r",
      "file_extension": ".r",
      "mimetype": "text/x-r-source",
      "name": "R",
      "pygments_lexer": "r",
      "version": "3.6.1"
    }
  },
  "nbformat": 4,
  "nbformat_minor": 0
}